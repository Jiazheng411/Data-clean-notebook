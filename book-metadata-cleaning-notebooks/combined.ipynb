{
 "cells": [
  {
   "cell_type": "code",
   "execution_count": 1,
   "metadata": {},
   "outputs": [
    {
     "data": {
      "text/html": [
       "Current session configs: <tt>{'conf': {'spark.pyspark.python': 'python3', 'spark.pyspark.virtualenv.enabled': 'true', 'spark.pyspark.virtualenv.type': 'native', 'spark.pyspark.virtualenv.bin.path': '/usr/bin/virtualenv'}, 'kind': 'pyspark'}</tt><br>"
      ],
      "text/plain": [
       "<IPython.core.display.HTML object>"
      ]
     },
     "metadata": {},
     "output_type": "display_data"
    },
    {
     "data": {
      "text/html": [
       "<table>\n",
       "<tr><th>ID</th><th>YARN Application ID</th><th>Kind</th><th>State</th><th>Spark UI</th><th>Driver log</th><th>Current session?</th></tr><tr><td>5</td><td>application_1603723084707_0006</td><td>pyspark</td><td>idle</td><td><a target=\"_blank\" href=\"http://ip-172-31-18-133.ec2.internal:20888/proxy/application_1603723084707_0006/\">Link</a></td><td><a target=\"_blank\" href=\"http://ip-172-31-29-254.ec2.internal:8042/node/containerlogs/container_1603723084707_0006_01_000001/livy\">Link</a></td><td></td></tr><tr><td>7</td><td>application_1603723084707_0008</td><td>pyspark</td><td>idle</td><td><a target=\"_blank\" href=\"http://ip-172-31-18-133.ec2.internal:20888/proxy/application_1603723084707_0008/\">Link</a></td><td><a target=\"_blank\" href=\"http://ip-172-31-22-5.ec2.internal:8042/node/containerlogs/container_1603723084707_0008_01_000001/livy\">Link</a></td><td></td></tr></table>"
      ],
      "text/plain": [
       "<IPython.core.display.HTML object>"
      ]
     },
     "metadata": {},
     "output_type": "display_data"
    }
   ],
   "source": [
    "%%info"
   ]
  },
  {
   "cell_type": "code",
   "execution_count": 2,
   "metadata": {},
   "outputs": [
    {
     "data": {
      "application/vnd.jupyter.widget-view+json": {
       "model_id": "a804ac2d7da348bba1be15371ee9aa73",
       "version_major": 2,
       "version_minor": 0
      },
      "text/plain": [
       "VBox()"
      ]
     },
     "metadata": {},
     "output_type": "display_data"
    },
    {
     "name": "stdout",
     "output_type": "stream",
     "text": [
      "Starting Spark application\n"
     ]
    },
    {
     "data": {
      "text/html": [
       "<table>\n",
       "<tr><th>ID</th><th>YARN Application ID</th><th>Kind</th><th>State</th><th>Spark UI</th><th>Driver log</th><th>Current session?</th></tr><tr><td>8</td><td>application_1603723084707_0009</td><td>pyspark</td><td>idle</td><td><a target=\"_blank\" href=\"http://ip-172-31-18-133.ec2.internal:20888/proxy/application_1603723084707_0009/\">Link</a></td><td><a target=\"_blank\" href=\"http://ip-172-31-29-254.ec2.internal:8042/node/containerlogs/container_1603723084707_0009_01_000001/livy\">Link</a></td><td>✔</td></tr></table>"
      ],
      "text/plain": [
       "<IPython.core.display.HTML object>"
      ]
     },
     "metadata": {},
     "output_type": "display_data"
    },
    {
     "data": {
      "application/vnd.jupyter.widget-view+json": {
       "model_id": "",
       "version_major": 2,
       "version_minor": 0
      },
      "text/plain": [
       "FloatProgress(value=0.0, bar_style='info', description='Progress:', layout=Layout(height='25px', width='50%'),…"
      ]
     },
     "metadata": {},
     "output_type": "display_data"
    },
    {
     "name": "stdout",
     "output_type": "stream",
     "text": [
      "SparkSession available as 'spark'.\n"
     ]
    },
    {
     "data": {
      "application/vnd.jupyter.widget-view+json": {
       "model_id": "",
       "version_major": 2,
       "version_minor": 0
      },
      "text/plain": [
       "FloatProgress(value=0.0, bar_style='info', description='Progress:', layout=Layout(height='25px', width='50%'),…"
      ]
     },
     "metadata": {},
     "output_type": "display_data"
    }
   ],
   "source": [
    "#importing necessary libaries\n",
    "from pyspark import SparkContext\n",
    "from pyspark.sql import SparkSession\n",
    "from pyspark.sql.functions import *\n",
    "from pyspark.sql.types import StringType\n",
    "from pyspark import SQLContext\n",
    "from itertools import islice\n",
    "from pyspark.sql.functions import col"
   ]
  },
  {
   "cell_type": "code",
   "execution_count": 3,
   "metadata": {},
   "outputs": [
    {
     "data": {
      "application/vnd.jupyter.widget-view+json": {
       "model_id": "2542185b334f426688e2016dc407870f",
       "version_major": 2,
       "version_minor": 0
      },
      "text/plain": [
       "VBox()"
      ]
     },
     "metadata": {},
     "output_type": "display_data"
    },
    {
     "data": {
      "application/vnd.jupyter.widget-view+json": {
       "model_id": "",
       "version_major": 2,
       "version_minor": 0
      },
      "text/plain": [
       "FloatProgress(value=0.0, bar_style='info', description='Progress:', layout=Layout(height='25px', width='50%'),…"
      ]
     },
     "metadata": {},
     "output_type": "display_data"
    }
   ],
   "source": [
    "import json"
   ]
  },
  {
   "cell_type": "code",
   "execution_count": 4,
   "metadata": {},
   "outputs": [
    {
     "data": {
      "application/vnd.jupyter.widget-view+json": {
       "model_id": "8c6f2108dbc7439293c892fea02a3632",
       "version_major": 2,
       "version_minor": 0
      },
      "text/plain": [
       "VBox()"
      ]
     },
     "metadata": {},
     "output_type": "display_data"
    },
    {
     "data": {
      "application/vnd.jupyter.widget-view+json": {
       "model_id": "",
       "version_major": 2,
       "version_minor": 0
      },
      "text/plain": [
       "FloatProgress(value=0.0, bar_style='info', description='Progress:', layout=Layout(height='25px', width='50%'),…"
      ]
     },
     "metadata": {},
     "output_type": "display_data"
    }
   ],
   "source": [
    "#creating the context\n",
    "sqlContext = SQLContext(sc)"
   ]
  },
  {
   "cell_type": "code",
   "execution_count": 17,
   "metadata": {},
   "outputs": [
    {
     "data": {
      "application/vnd.jupyter.widget-view+json": {
       "model_id": "0ca9bbf85da245a59080dda07bd6d461",
       "version_major": 2,
       "version_minor": 0
      },
      "text/plain": [
       "VBox()"
      ]
     },
     "metadata": {},
     "output_type": "display_data"
    },
    {
     "data": {
      "application/vnd.jupyter.widget-view+json": {
       "model_id": "",
       "version_major": 2,
       "version_minor": 0
      },
      "text/plain": [
       "FloatProgress(value=0.0, bar_style='info', description='Progress:', layout=Layout(height='25px', width='50%'),…"
      ]
     },
     "metadata": {},
     "output_type": "display_data"
    }
   ],
   "source": [
    "original_books = sc.textFile(\"s3n://analytics-50043/data/meta_Kindle_Store.json\").map(lambda line: eval(line))"
   ]
  },
  {
   "cell_type": "code",
   "execution_count": 18,
   "metadata": {},
   "outputs": [
    {
     "data": {
      "application/vnd.jupyter.widget-view+json": {
       "model_id": "c90e4843a7224bfc9be0d33ec31f2edf",
       "version_major": 2,
       "version_minor": 0
      },
      "text/plain": [
       "VBox()"
      ]
     },
     "metadata": {},
     "output_type": "display_data"
    },
    {
     "data": {
      "application/vnd.jupyter.widget-view+json": {
       "model_id": "",
       "version_major": 2,
       "version_minor": 0
      },
      "text/plain": [
       "FloatProgress(value=0.0, bar_style='info', description='Progress:', layout=Layout(height='25px', width='50%'),…"
      ]
     },
     "metadata": {},
     "output_type": "display_data"
    },
    {
     "name": "stdout",
     "output_type": "stream",
     "text": [
      "{'asin': '1603420304', 'description': \"In less time and for less money than it takes to order pizza, you can make it yourself!Three harried but heatlh-conscious college students compiled and tested this collection of more than 200 tasty, hearty, inexpensive recipes anyone can cook -- yes, anyone!Whether you're short on cash, fearful of fat, counting your calories, or just miss home cooking, The Healthy College Cookbook offers everything you need to make good food yourself.\", 'price': 7.69, 'imUrl': 'http://ecx.images-amazon.com/images/I/51IEqPrF%2B9L._BO2,204,203,200_PIsitb-sticker-v3-big,TopRight,0,-55_SX278_SY278_PIkin4,BottomRight,1,22_AA300_SH20_OU01_.jpg', 'related': {'also_viewed': ['B001OLRKLQ', 'B004J35JIC', 'B00505UP8M', 'B004GTLKEQ', 'B005KWMS8U', 'B00BS03TYU', 'B001MT5NXW', 'B00A86JE3K', 'B00D694Y9U', 'B00DSVUVXY', 'B008EN3W6Y', 'B00BS03W5Q', 'B008161J1O', 'B0089LOJH2', 'B00ENSBJYQ', 'B00C7C040U', 'B00DH410VY', 'B00CMVFW4O', 'B00C89GS1Q', 'B0035FZJ9Y', 'B004GTLFUK', 'B00H24WT2E', 'B00CVS44OW', 'B00C5W32QK', 'B00HY0KTPK', 'B00BJ8IPJU', 'B00JEOMV1E', 'B0041KKLNQ', 'B00CVS2JYY', 'B00CTVOVD0', 'B00ET594CC'], 'buy_after_viewing': ['B004J35JIC', 'B0089LOJH2']}, 'categories': [['Books', 'Cookbooks, Food & Wine', 'Quick & Easy'], ['Books', 'Cookbooks, Food & Wine', 'Special Diet'], ['Books', 'Cookbooks, Food & Wine', 'Vegetarian & Vegan', 'Non-Vegan Vegetarian'], ['Kindle Store', 'Kindle eBooks', 'Cookbooks, Food & Wine', 'Quick & Easy'], ['Kindle Store', 'Kindle eBooks', 'Cookbooks, Food & Wine', 'Special Diet', 'Healthy'], ['Kindle Store', 'Kindle eBooks', 'Cookbooks, Food & Wine', 'Vegetables & Vegetarian']]}"
     ]
    }
   ],
   "source": [
    "original_books.first()"
   ]
  },
  {
   "cell_type": "code",
   "execution_count": 19,
   "metadata": {},
   "outputs": [
    {
     "data": {
      "application/vnd.jupyter.widget-view+json": {
       "model_id": "bd9608a9a8c34d5bb93d6216c420025f",
       "version_major": 2,
       "version_minor": 0
      },
      "text/plain": [
       "VBox()"
      ]
     },
     "metadata": {},
     "output_type": "display_data"
    },
    {
     "data": {
      "application/vnd.jupyter.widget-view+json": {
       "model_id": "",
       "version_major": 2,
       "version_minor": 0
      },
      "text/plain": [
       "FloatProgress(value=0.0, bar_style='info', description='Progress:', layout=Layout(height='25px', width='50%'),…"
      ]
     },
     "metadata": {},
     "output_type": "display_data"
    },
    {
     "name": "stdout",
     "output_type": "stream",
     "text": [
      "434702"
     ]
    }
   ],
   "source": [
    "original_books.count()"
   ]
  },
  {
   "cell_type": "code",
   "execution_count": 20,
   "metadata": {},
   "outputs": [
    {
     "data": {
      "application/vnd.jupyter.widget-view+json": {
       "model_id": "0a4075d62d7e468fa9e507ad19b3da81",
       "version_major": 2,
       "version_minor": 0
      },
      "text/plain": [
       "VBox()"
      ]
     },
     "metadata": {},
     "output_type": "display_data"
    },
    {
     "data": {
      "application/vnd.jupyter.widget-view+json": {
       "model_id": "",
       "version_major": 2,
       "version_minor": 0
      },
      "text/plain": [
       "FloatProgress(value=0.0, bar_style='info', description='Progress:', layout=Layout(height='25px', width='50%'),…"
      ]
     },
     "metadata": {},
     "output_type": "display_data"
    },
    {
     "name": "stdout",
     "output_type": "stream",
     "text": [
      "'Biographies & Memoirs'"
     ]
    }
   ],
   "source": [
    "import re\n",
    "def clean_string(string):\n",
    "    if not isinstance(string, str):\n",
    "        return string\n",
    "    string = re.sub('<[^<]+?>', '', string)\n",
    "    return html.unescape(string).strip()\n",
    "\n",
    "def get_desc(dictionary):\n",
    "    listOfList = list(dictionary.values())\n",
    "    flatList = [ item for elem in listOfList for item in elem]\n",
    "    return list(set(flatList))\n",
    "\n",
    "\n",
    "def get_cat(cat_list):\n",
    "    flatList = [cate for subcate in cat_list for cate in subcate]\n",
    "    if len(cat_list) == 0 or len(cat_list[0]) == 0:\n",
    "        return \"\"\n",
    "    if \"Kindle eBooks\" in flatList:\n",
    "        kindle_ebook_index = flatList.index(\"Kindle eBooks\")\n",
    "        if kindle_ebook_index < len(flatList) - 1:\n",
    "            return clean_string(flatList[kindle_ebook_index + 1])\n",
    "    elif \"Books\" in flatList:\n",
    "        book_index = flatList.index(\"Books\")\n",
    "        if book_index < len(flatList) - 1:\n",
    "            return clean_string(flatList[book_index + 1])\n",
    "    return \"\"\n",
    "    \n",
    "get_desc({\"a\": [1,2,3,4,5], \"b\":[2,3,4,1,6,7,5]})\n",
    "get_cat([['Books', 'Biographies & Memoirs', 'Historical'], ['Books', 'Biographies & Memoirs', 'Leaders & Notable People', 'Presidents & Heads of State'], \n",
    "         ['Books', 'Biographies & Memoirs', 'Memoirs'], ['Books', 'Literature & Fiction', 'Classics'], ['Kindle Store', 'Kindle eBooks', 'Biographies & Memoirs', 'Historical'], \n",
    "         ['Kindle Store', 'Kindle eBooks', 'Biographies & Memoirs', 'Leaders & Notable People', 'Presidents & Heads of State'], \n",
    "         ['Kindle Store', 'Kindle eBooks', 'Biographies & Memoirs', 'Memoirs'], ['Kindle Store', 'Kindle eBooks', 'Literature & Fiction', 'Classics', 'Historical']])"
   ]
  },
  {
   "cell_type": "code",
   "execution_count": 21,
   "metadata": {},
   "outputs": [
    {
     "data": {
      "application/vnd.jupyter.widget-view+json": {
       "model_id": "97aa81ebb4b745cda151b01f1248415c",
       "version_major": 2,
       "version_minor": 0
      },
      "text/plain": [
       "VBox()"
      ]
     },
     "metadata": {},
     "output_type": "display_data"
    },
    {
     "data": {
      "application/vnd.jupyter.widget-view+json": {
       "model_id": "",
       "version_major": 2,
       "version_minor": 0
      },
      "text/plain": [
       "FloatProgress(value=0.0, bar_style='info', description='Progress:', layout=Layout(height='25px', width='50%'),…"
      ]
     },
     "metadata": {},
     "output_type": "display_data"
    },
    {
     "name": "stdout",
     "output_type": "stream",
     "text": [
      "[{'asin': '1603420304', 'price': 7.69, 'imUrl': 'http://ecx.images-amazon.com/images/I/51IEqPrF%2B9L._BO2,204,203,200_PIsitb-sticker-v3-big,TopRight,0,-55_SX278_SY278_PIkin4,BottomRight,1,22_AA300_SH20_OU01_.jpg', 'title_prof': '', 'author': '', 'cate': 'Cookbooks, Food & Wine', 'description': \"In less time and for less money than it takes to order pizza, you can make it yourself!Three harried but heatlh-conscious college students compiled and tested this collection of more than 200 tasty, hearty, inexpensive recipes anyone can cook -- yes, anyone!Whether you're short on cash, fearful of fat, counting your calories, or just miss home cooking, The Healthy College Cookbook offers everything you need to make good food yourself.\", 'related': ['B00JEOMV1E', 'B00A86JE3K', 'B004GTLKEQ', 'B00BS03W5Q', 'B008161J1O', 'B00DSVUVXY', 'B0089LOJH2', 'B001OLRKLQ', 'B00505UP8M', 'B00H24WT2E', 'B00DH410VY', 'B005KWMS8U', 'B00BS03TYU', 'B00CVS44OW', 'B004GTLFUK', 'B00C7C040U', 'B004J35JIC', 'B008EN3W6Y', 'B00CTVOVD0', 'B00ET594CC', 'B0041KKLNQ', 'B00CMVFW4O', 'B00HY0KTPK', 'B00BJ8IPJU', 'B00C89GS1Q', 'B00CVS2JYY', 'B0035FZJ9Y', 'B001MT5NXW', 'B00ENSBJYQ', 'B00C5W32QK', 'B00D694Y9U']}, {'asin': 'B0002IQ15S', 'price': 19.99, 'imUrl': 'http://ecx.images-amazon.com/images/I/21QFJM28NGL.jpg', 'title_prof': 'Mobility IGO AUTOPOWER 3000 SERIES ( PS0221-10 )', 'author': '', 'cate': '', 'description': \"This universal DC adapter powers/charges portable electronic devices such as mobile phones, handhelds/PDAs, digital cameras and MP3 players.  Utilizing interchangeable itips, iGo AutoPower powers/charges virtually all of your portable electronic devices from any standard auto power outlet eliminating the need to carry multiple power adapters when you're mobile.Main FeaturesManufacturer: Mobility Electronics, IncManufacturer Part Number: PS0221-10Manufacturer Website Address: www.mobilityelectronics.comProduct Type: Power AdapterInput Voltage: 11.5 V DC to 16 V DCOutput Power: 15WWeight: 3.6 ozStandard Warranty: 2 Year(s) Limited\", 'related': ['B00EOE6COQ', 'B00115PYGS', 'B000PI17MM', 'B006GWO5WK', 'B00EXIGQFS', 'B00BHJRYYS', 'B0012J52OC', 'B006BGZJJ4', 'B00F3HH2HY', 'B002GJQ7AU', 'B001007OUI', 'B001W1XT6I', 'B007HCCNJU', 'B001W1XT5O', 'B003YLMAC8', 'B0016L6OWK', 'B005DOKHLK', 'B00GA567M4', 'B002WCCQQA', 'B001W1TZTS', 'B001N2LHHO', 'B00CGIVV5C', 'B00511PS3C', 'B000QSPO3Y', 'B006GWO5NE']}, {'asin': 'B000F83SZQ', 'price': 0.0, 'imUrl': 'http://ecx.images-amazon.com/images/I/51yLqHe%2BFqL._BO2,204,203,200_PIsitb-sticker-v3-big,TopRight,0,-55_SX278_SY278_PIkin4,BottomRight,1,22_AA300_SH20_OU01_.jpg', 'title_prof': '', 'author': '', 'cate': 'Mystery, Thriller & Suspense', 'description': '', 'related': ['B00KL13WXK', 'B00LNLVQ9Y', 'B00CV9I2J4', 'B00FY54N72', 'B00D0IPCCK', 'B00HBGISE6', 'B005HAWAZG', 'B00DRLACCA', 'B00JRDGZN2', 'B00EZGSTD0', 'B00LG0HL00', 'B00LK4ZMYE', 'B006LABC8M', 'B0080H1C0W', 'B009PK83IC', 'B002G1ZY4S', 'B00J9SQW56', 'B00HF7J1P6', 'B00LDPMLVM', 'B00DVL2CVU', 'B00I9FJJWS', 'B00927CLFY', 'B00AL2AF8O', 'B009FZPMFO', 'B000FA5LAO', 'B00ITNWAVM', 'B0045UA6F0', 'B00ICXDRCU', 'B00H9WPHXM', 'B00H3J4L4M', 'B00FN9G0KM', 'B00JXRCPNG', 'B00IVC9IQG', 'B008GNGKIO', 'B008R8FPFW', 'B00K5V449C', 'B008AD8TFW', 'B00CEL5530', 'B00K39Q7ZK', 'B00K00LEOG', 'B00EH3R7WK', 'B00LK30NEY', 'B006HCTWVS', 'B00KUF0KCI', 'B00IJKQH96', 'B00A3N25HK', 'B0084MZWPO', 'B00H92XFA4', 'B00BEOZCJU', 'B00K6YZ4CY', 'B00JL62F48', 'B00EZVS8H2', 'B00H876DYU', 'B008RZQYN2', 'B00KBK4USC', 'B00HD5XVY2', 'B00E6EHFN6', 'B00KVMWJRY', 'B00F1MU458', 'B00L22GJVO', 'B00JZDM9CA', 'B00D1CPG5I', 'B00LK4ZKOG', 'B00L1HYMJQ', 'B00GZR2NZC', 'B0087KGSNI', 'B00IOYDAEW', 'B007GG9XEU', 'B00KCA0I96', 'B003XVYGWQ', 'B00K6H2D5W', 'B006LAAUHG', 'B00J16SQFU', 'B00H9ZM782', 'B00J7X007E', 'B00DDW57NW', 'B003XVYGVC', 'B00H4K59DW', 'B0036B955G', 'B00F1I0C40', 'B00KOYAQFG', 'B00DPBNP2Q', 'B00KBGI38E', 'B00AJ1VLOY', 'B003YDXMYG', 'B008CJ1R5S', 'B00ICP5JLK', 'B00KVOC68O', 'B000FA5PUK', 'B00JPFAXTY', 'B00DXO6HR0', 'B00KFOTI72', 'B006BE4OUG', 'B006GRNYFE', 'B00JX7UVFU', 'B00JZD2PU6', 'B004GXB2DG', 'B00EI3E0T2']}, {'asin': 'B000F83TEQ', 'price': '', 'imUrl': 'http://ecx.images-amazon.com/images/I/2136NBNV5FL._BO2,204,203,200_PIsitb-sticker-v3-xsmall,TopRight,2,-18_SX278_SY278_PIkin4,BottomRight,1,22_AA300_SH20_OU01_.jpg', 'title_prof': '', 'author': '', 'cate': 'Mystery, Thriller & Suspense', 'description': '', 'related': ['B00IS80K60', 'B00DIANILC', 'B004SOQ1XY', 'B00IS885V2', 'B00AQP7DLS', 'B00IS81LFO', 'B00B1MSJ4A', 'B00IS80K9W', 'B0044XVC8S', 'B00IS888QO', 'B008H76674', 'B000FA5L7M', 'B00IS885A8', 'B003V4BPSI', 'B005QBMQSC', 'B00IS887XI', 'B00IS811W2', 'B00IS7ZOG2', 'B004SOQ11G', 'B00IS823GA', 'B00IS81QVS', 'B00IS8824M', 'B00BMVVW4E', 'B008H767FK', 'B00F0QWBNS', 'B005QBMG8W', 'B00IS881AC', 'B003V4BPOC', 'B008H766TM', 'B00H8Y5EVG', 'B003V4BPG0', 'B00AQP7IVS', 'B00CQETPRM', 'B00AQP7IDQ', 'B000FA5T6A', 'B00IS88N1Y', 'B00IS819E2', 'B00IS80150', 'B00AB6BMTQ', 'B004SOQ0A8', 'B00B1MSINM', 'B005QBMQ1E', 'B005QBMS3A', 'B005QBMJUC', 'B00B1MSI2I', 'B00B1MSIY6', 'B00BVC1SSE', 'B00IS814T2', 'B00IS81UIM', 'B0085OTF4A']}, {'asin': 'B000F83STC', 'price': '', 'imUrl': 'http://g-ecx.images-amazon.com/images/G/01/x-site/icons/no-img-sm._V192198896_.gif', 'title_prof': '', 'author': '', 'cate': 'Literature & Fiction', 'description': '', 'related': []}]"
     ]
    }
   ],
   "source": [
    "books = original_books.map(lambda line: {\"asin\": line['asin'], \"price\": line.get(\"price\", \"\"), \"imUrl\": line.get(\"imUrl\"), \n",
    "                                         \"title_prof\": clean_string(line.get(\"title\", \"\")), \"author\": clean_string(line.get(\"brand\", \"\")), \"cate\": get_cat(line.get(\"categories\", [[]])),\n",
    "                                         \"description\": clean_string(line.get(\"description\", \"\")), \"related\": get_desc(line.get(\"related\", {}))})\n",
    "books.count()\n",
    "books.take(5)"
   ]
  },
  {
   "cell_type": "code",
   "execution_count": 26,
   "metadata": {},
   "outputs": [
    {
     "data": {
      "application/vnd.jupyter.widget-view+json": {
       "model_id": "2014455a537c4e68bcd08f1d3fbbbc69",
       "version_major": 2,
       "version_minor": 0
      },
      "text/plain": [
       "VBox()"
      ]
     },
     "metadata": {},
     "output_type": "display_data"
    },
    {
     "data": {
      "application/vnd.jupyter.widget-view+json": {
       "model_id": "",
       "version_major": 2,
       "version_minor": 0
      },
      "text/plain": [
       "FloatProgress(value=0.0, bar_style='info', description='Progress:', layout=Layout(height='25px', width='50%'),…"
      ]
     },
     "metadata": {},
     "output_type": "display_data"
    },
    {
     "name": "stdout",
     "output_type": "stream",
     "text": [
      "+----------+-----+--------------------+--------------------+------+--------------------+--------------------+--------------------+\n",
      "|      asin|price|               imUrl|          title_prof|author|                cate|         description|             related|\n",
      "+----------+-----+--------------------+--------------------+------+--------------------+--------------------+--------------------+\n",
      "|1603420304| 7.69|http://ecx.images...|                    |      |Cookbooks, Food &...|In less time and ...|[B00JEOMV1E, B00A...|\n",
      "|B0002IQ15S|19.99|http://ecx.images...|Mobility IGO AUTO...|      |                    |This universal DC...|[B00EOE6COQ, B001...|\n",
      "|B000F83SZQ|  0.0|http://ecx.images...|                    |      |Mystery, Thriller...|                    |[B00KL13WXK, B00L...|\n",
      "|B000F83TEQ|     |http://ecx.images...|                    |      |Mystery, Thriller...|                    |[B00IS80K60, B00D...|\n",
      "|B000F83STC|     |http://g-ecx.imag...|                    |      |Literature & Fiction|                    |                  []|\n",
      "|B000FA5RE4| 1.99|http://ecx.images...|                    |      |           Reference|Updated 2003 vers...|[B000SEGJ5S, B005...|\n",
      "|B000FA5NSO|     |http://ecx.images...|                    |      |Science Fiction &...|                    |[B000FBF81K, B000...|\n",
      "|B000FA5UXC|     |http://ecx.images...|                    |      |Science Fiction &...|Madoc Tamlin is a...|[B00942QL3K, B004...|\n",
      "|B000FA5T4W|12.46|http://ecx.images...|                    |      |    Business & Money|                    |[B007JCNNGK, B004...|\n",
      "|B000FA5SHK|     |http://ecx.images...|                    |      |Health, Fitness &...|                    |                  []|\n",
      "|B000FA66LM| 0.99|http://ecx.images...|                    |      |Literature & Fiction|                    |[B004GNFV0Q, B004...|\n",
      "|B000FA5M6M|10.95|http://ecx.images...|                    |      |    Business & Money|Powerful Strategi...|[B00HT59IWA, B007...|\n",
      "|B000FA64QO| 5.99|http://ecx.images...|                    |      |Literature & Fiction|                    |[B00513D47M, B000...|\n",
      "|B000FA5PV4| 3.99|http://ecx.images...|                    |      |Literature & Fiction|                    |[B000FCK0H6, B000...|\n",
      "|B000FA5S98| 2.99|http://ecx.images...|                    |      |Mystery, Thriller...|Retired physicist...|[B003K154TS, B00I...|\n",
      "|B000FA5MQ2| 2.99|http://ecx.images...|                    |      |Professional & Te...|PreTest® is the m...|[B00B98WIOI, B005...|\n",
      "|B000FA5RY4|11.99|http://ecx.images...|                    |      |Health, Fitness &...|                    |[B004UH1FN0, B00F...|\n",
      "|B000FA5KJQ|     |http://g-ecx.imag...|                    |      |Biographies & Mem...|                    |                  []|\n",
      "|B000FA5M3K| 16.5|http://ecx.images...|                    |      |Professional & Te...|The only segment ...|[B00COKLT18, B00A...|\n",
      "|B000FA66XU| 0.99|http://ecx.images...|                    |      |Literature & Fiction|                    |[B004GNFV0Q, B004...|\n",
      "+----------+-----+--------------------+--------------------+------+--------------------+--------------------+--------------------+\n",
      "only showing top 20 rows"
     ]
    }
   ],
   "source": [
    "fields =['asin','price','imUrl',\"title_prof\",\"author\",\"cate\",'description','related']\n",
    "\n",
    "schema = StructType([\n",
    "StructField(field,StringType(),True) for field in fields\n",
    "])\n",
    "\n",
    "\n",
    "#rdd = sc.parallelize(js)\n",
    "profDF = spark.createDataFrame(books,schema)\n",
    "\n",
    "profDF.show()"
   ]
  },
  {
   "cell_type": "code",
   "execution_count": 27,
   "metadata": {},
   "outputs": [
    {
     "data": {
      "application/vnd.jupyter.widget-view+json": {
       "model_id": "028b282ba7df4da2acb68760c32ffbed",
       "version_major": 2,
       "version_minor": 0
      },
      "text/plain": [
       "VBox()"
      ]
     },
     "metadata": {},
     "output_type": "display_data"
    },
    {
     "data": {
      "application/vnd.jupyter.widget-view+json": {
       "model_id": "",
       "version_major": 2,
       "version_minor": 0
      },
      "text/plain": [
       "FloatProgress(value=0.0, bar_style='info', description='Progress:', layout=Layout(height='25px', width='50%'),…"
      ]
     },
     "metadata": {},
     "output_type": "display_data"
    },
    {
     "name": "stdout",
     "output_type": "stream",
     "text": [
      "+----------------------------+\n",
      "|cate                        |\n",
      "+----------------------------+\n",
      "|Parenting & Relationships   |\n",
      "|Politics & Social Sciences  |\n",
      "|Biographies & Memoirs       |\n",
      "|Gay & Lesbian               |\n",
      "|Cookbooks, Food & Wine      |\n",
      "|Romance                     |\n",
      "|Nonfiction                  |\n",
      "|Education & Teaching        |\n",
      "|History                     |\n",
      "|Self-Help                   |\n",
      "|                            |\n",
      "|Health, Fitness & Dieting   |\n",
      "|Comics & Graphic Novels     |\n",
      "|Travel                      |\n",
      "|Teen & Young Adult          |\n",
      "|Sports & Outdoors           |\n",
      "|Foreign Languages           |\n",
      "|Science & Math              |\n",
      "|Reference                   |\n",
      "|Science Fiction & Fantasy   |\n",
      "|Business & Money            |\n",
      "|Crafts, Hobbies & Home      |\n",
      "|Literature & Fiction        |\n",
      "|Computers & Technology      |\n",
      "|Children's eBooks           |\n",
      "|Mystery, Thriller & Suspense|\n",
      "|Professional & Technical    |\n",
      "|Religion & Spirituality     |\n",
      "|Arts & Photography          |\n",
      "|Humor & Entertainment       |\n",
      "+----------------------------+\n",
      "\n",
      "30"
     ]
    }
   ],
   "source": [
    "categories = profDF.select('cate').distinct()\n",
    "categories.show(150, False)\n",
    "categories.count()"
   ]
  },
  {
   "cell_type": "code",
   "execution_count": null,
   "metadata": {},
   "outputs": [],
   "source": []
  },
  {
   "cell_type": "code",
   "execution_count": null,
   "metadata": {},
   "outputs": [],
   "source": []
  },
  {
   "cell_type": "code",
   "execution_count": null,
   "metadata": {},
   "outputs": [],
   "source": []
  },
  {
   "cell_type": "code",
   "execution_count": 5,
   "metadata": {},
   "outputs": [
    {
     "data": {
      "application/vnd.jupyter.widget-view+json": {
       "model_id": "243bb5f75e014230ac059324e2d5a31b",
       "version_major": 2,
       "version_minor": 0
      },
      "text/plain": [
       "VBox()"
      ]
     },
     "metadata": {},
     "output_type": "display_data"
    },
    {
     "data": {
      "application/vnd.jupyter.widget-view+json": {
       "model_id": "",
       "version_major": 2,
       "version_minor": 0
      },
      "text/plain": [
       "FloatProgress(value=0.0, bar_style='info', description='Progress:', layout=Layout(height='25px', width='50%'),…"
      ]
     },
     "metadata": {},
     "output_type": "display_data"
    }
   ],
   "source": [
    "original_books_ori = sc.textFile(\"s3n://analytics-50043/data/meta_Kindle_Store_original.json\")\\\n",
    "                    .map(lambda line: json.loads(line)).filter(lambda line: line['title'] != '')"
   ]
  },
  {
   "cell_type": "code",
   "execution_count": null,
   "metadata": {},
   "outputs": [],
   "source": []
  },
  {
   "cell_type": "code",
   "execution_count": 6,
   "metadata": {},
   "outputs": [
    {
     "data": {
      "application/vnd.jupyter.widget-view+json": {
       "model_id": "d01075dc42a446f3b9e90c4e739f4aba",
       "version_major": 2,
       "version_minor": 0
      },
      "text/plain": [
       "VBox()"
      ]
     },
     "metadata": {},
     "output_type": "display_data"
    },
    {
     "data": {
      "application/vnd.jupyter.widget-view+json": {
       "model_id": "",
       "version_major": 2,
       "version_minor": 0
      },
      "text/plain": [
       "FloatProgress(value=0.0, bar_style='info', description='Progress:', layout=Layout(height='25px', width='50%'),…"
      ]
     },
     "metadata": {},
     "output_type": "display_data"
    },
    {
     "name": "stdout",
     "output_type": "stream",
     "text": [
      "By Force of Instinct: A Pride & Prejudice Variation\n",
      "1716849\n",
      "Paul A. Craig\n",
      "['1', '3', '5', 7, 8, '8']\n",
      "i am a title & I am mom's good boy"
     ]
    }
   ],
   "source": [
    "\n",
    "import re\n",
    "import html\n",
    "\n",
    "def clean_string(string):\n",
    "    string = re.sub('<[^<]+?>', '', string)\n",
    "    return html.unescape(string).strip()\n",
    "\n",
    "def clean_rank(rank_string):\n",
    "    if not isinstance(rank_string, str):\n",
    "        return rank_string\n",
    "    return clean_string(rank_string.split(' ')[0].replace(',', ''))\n",
    "\n",
    "def clean_author(brand_string):\n",
    "    if not isinstance(brand_string, str):\n",
    "        return \"\"\n",
    "    if (len(brand_string) > 20 and brand_string[:14].lower() == \"visit amazon's\" and brand_string[-4:].lower() == 'page'):\n",
    "        return clean_string(brand_string[15: -5])\n",
    "    return clean_string(brand_string)\n",
    "    \n",
    "def merge_two_list(list1, list2):\n",
    "    list1.extend(x for x in list2 if x not in list1)\n",
    "    return list1\n",
    "\n",
    "def get_single_cate(cate_list):\n",
    "    return '' if len(cate_list) < 3 else clean_string(cate_list[2])\n",
    "\n",
    "def clean_title(string):\n",
    "    # not seperated\n",
    "    if len(string) >= 250 and len(string.split(',')) >= 4:\n",
    "        string = string.split(',')[2]\n",
    "    return clean_string(string.replace(' - Kindle edition', ''))\n",
    "\n",
    "print(clean_title('By Force of Instinct: A Pride &amp; Prejudice Variation - Kindle edition'))\n",
    "\n",
    "print(clean_rank('1,716,849 Paid in Kindle Store ('))\n",
    "print(clean_author(\"Visit Amazon's Paul A. Craig Page\"))\n",
    "(print(merge_two_list(['1','3','5'],['5','3', 7,8,'8'])))\n",
    "print(clean_string('<html>i am a title &amp; I am mom&#39;s good boy</html>'))"
   ]
  },
  {
   "cell_type": "code",
   "execution_count": null,
   "metadata": {},
   "outputs": [],
   "source": []
  },
  {
   "cell_type": "code",
   "execution_count": 7,
   "metadata": {},
   "outputs": [
    {
     "data": {
      "application/vnd.jupyter.widget-view+json": {
       "model_id": "4a768b18414c4212a6b7a69cb1e0b8f3",
       "version_major": 2,
       "version_minor": 0
      },
      "text/plain": [
       "VBox()"
      ]
     },
     "metadata": {},
     "output_type": "display_data"
    },
    {
     "data": {
      "application/vnd.jupyter.widget-view+json": {
       "model_id": "",
       "version_major": 2,
       "version_minor": 0
      },
      "text/plain": [
       "FloatProgress(value=0.0, bar_style='info', description='Progress:', layout=Layout(height='25px', width='50%'),…"
      ]
     },
     "metadata": {},
     "output_type": "display_data"
    }
   ],
   "source": [
    "books_ori = original_books_ori.map(lambda line: {'asin': line['asin'], 'category': get_single_cate(line['category']), 'title': clean_title(line['title']), \n",
    "                                         'author': clean_author(line['brand']), 'rank': clean_rank(line['rank']),\n",
    "                                      'recommendation': line['also_view']})"
   ]
  },
  {
   "cell_type": "code",
   "execution_count": 8,
   "metadata": {},
   "outputs": [
    {
     "data": {
      "application/vnd.jupyter.widget-view+json": {
       "model_id": "26ca97462b3d44e8bb57ff4d29808371",
       "version_major": 2,
       "version_minor": 0
      },
      "text/plain": [
       "VBox()"
      ]
     },
     "metadata": {},
     "output_type": "display_data"
    },
    {
     "data": {
      "application/vnd.jupyter.widget-view+json": {
       "model_id": "",
       "version_major": 2,
       "version_minor": 0
      },
      "text/plain": [
       "FloatProgress(value=0.0, bar_style='info', description='Progress:', layout=Layout(height='25px', width='50%'),…"
      ]
     },
     "metadata": {},
     "output_type": "display_data"
    },
    {
     "name": "stdout",
     "output_type": "stream",
     "text": [
      "488910"
     ]
    }
   ],
   "source": [
    "books_ori.count()"
   ]
  },
  {
   "cell_type": "code",
   "execution_count": 12,
   "metadata": {},
   "outputs": [
    {
     "data": {
      "application/vnd.jupyter.widget-view+json": {
       "model_id": "e4126d92b2644bfa9b8b18c00c61611f",
       "version_major": 2,
       "version_minor": 0
      },
      "text/plain": [
       "VBox()"
      ]
     },
     "metadata": {},
     "output_type": "display_data"
    },
    {
     "data": {
      "application/vnd.jupyter.widget-view+json": {
       "model_id": "",
       "version_major": 2,
       "version_minor": 0
      },
      "text/plain": [
       "FloatProgress(value=0.0, bar_style='info', description='Progress:', layout=Layout(height='25px', width='50%'),…"
      ]
     },
     "metadata": {},
     "output_type": "display_data"
    },
    {
     "name": "stdout",
     "output_type": "stream",
     "text": [
      "{'asin': 'B00128EFK0', 'category': 'Religion & Spirituality', 'title': \"Approaching the Holy-A Season in God's House\", 'author': 'Dennis G. Crump', 'rank': '4646191', 'recommendation': []}"
     ]
    }
   ],
   "source": [
    "books_ori.first()"
   ]
  },
  {
   "cell_type": "code",
   "execution_count": 13,
   "metadata": {},
   "outputs": [
    {
     "data": {
      "application/vnd.jupyter.widget-view+json": {
       "model_id": "284fc11cfaf546278163214fb0ed166e",
       "version_major": 2,
       "version_minor": 0
      },
      "text/plain": [
       "VBox()"
      ]
     },
     "metadata": {},
     "output_type": "display_data"
    },
    {
     "data": {
      "application/vnd.jupyter.widget-view+json": {
       "model_id": "",
       "version_major": 2,
       "version_minor": 0
      },
      "text/plain": [
       "FloatProgress(value=0.0, bar_style='info', description='Progress:', layout=Layout(height='25px', width='50%'),…"
      ]
     },
     "metadata": {},
     "output_type": "display_data"
    }
   ],
   "source": [
    "books_list = books_ori.take(10)\n"
   ]
  },
  {
   "cell_type": "code",
   "execution_count": 14,
   "metadata": {},
   "outputs": [
    {
     "data": {
      "application/vnd.jupyter.widget-view+json": {
       "model_id": "f5412946e39b4d7faded431bff23ab15",
       "version_major": 2,
       "version_minor": 0
      },
      "text/plain": [
       "VBox()"
      ]
     },
     "metadata": {},
     "output_type": "display_data"
    },
    {
     "data": {
      "application/vnd.jupyter.widget-view+json": {
       "model_id": "",
       "version_major": 2,
       "version_minor": 0
      },
      "text/plain": [
       "FloatProgress(value=0.0, bar_style='info', description='Progress:', layout=Layout(height='25px', width='50%'),…"
      ]
     },
     "metadata": {},
     "output_type": "display_data"
    },
    {
     "name": "stdout",
     "output_type": "stream",
     "text": [
      "{'asin': 'B00128EFK0', 'category': 'Religion & Spirituality', 'title': \"Approaching the Holy-A Season in God's House\", 'author': 'Dennis G. Crump', 'rank': '4646191', 'recommendation': []}\n",
      "{'asin': 'B00129LKMK', 'category': 'Arts & Photography', 'title': \"Bellini's I PURITANI Opera Journeys Mini Guide (Opera Journeys Mini Guide Series) eBook\", 'author': 'Burton D. Fisher', 'rank': '3489361', 'recommendation': []}\n",
      "{'asin': 'B0012AXRXO', 'category': 'Mystery, Thriller & Suspense', 'title': 'Snowman', 'author': 'Dave Saari', 'rank': '2283726', 'recommendation': []}\n",
      "{'asin': 'B0012BKPEW', 'category': 'Literature & Fiction', 'title': 'Crumbs and Crutons', 'author': 'David Greer', 'rank': '4741892', 'recommendation': []}\n",
      "{'asin': 'B0012BS7UQ', 'category': 'Religion & Spirituality', 'title': 'Fast Track to Victory, A Christian Guidebook', 'author': 'Cheryl Rogers', 'rank': '3182718', 'recommendation': []}\n",
      "{'asin': 'B0012BRQNK', 'category': 'Arts & Photography', 'title': 'To Roma! To Roma! (Italian Art Theft Adventures Book 1)', 'author': 'John Galavan', 'rank': '1853702', 'recommendation': []}\n",
      "{'asin': 'B0012BTXPE', 'category': \"Children's eBooks\", 'title': 'How to Study Smarter Not Harder', 'author': 'Dr. Charlotte Garman', 'rank': '843165', 'recommendation': ['B00I3QS1XQ']}\n",
      "{'asin': 'B0012BTFVQ', 'category': 'Parenting & Relationships', 'title': 'Building Self-Esteem in Childhood & Adolescence: A Guide for Parents, Teachers, Coaches & Youth Workers (Child Psychology & Mental Health Book 5)', 'author': 'Amy R. Vigilante', 'rank': '4429495', 'recommendation': []}\n",
      "{'asin': 'B0012D4EJW', 'category': 'Sports & Outdoors', 'title': 'Hunting Gear You Can Build and Much More! eBook', 'author': 'Vernon A. Blackledge', 'rank': '2905868', 'recommendation': []}\n",
      "{'asin': 'B0012DDSFS', 'category': 'Health, Fitness & Dieting', 'title': 'Anxiety Disorders in Childhood & Adolescence', 'author': 'Cyma J. Siegel', 'rank': '1005620', 'recommendation': []}"
     ]
    }
   ],
   "source": [
    "for i in books_list:\n",
    "    print(i)"
   ]
  },
  {
   "cell_type": "code",
   "execution_count": 15,
   "metadata": {},
   "outputs": [
    {
     "data": {
      "application/vnd.jupyter.widget-view+json": {
       "model_id": "06738ff05da744cdb1dfe7be7cfcb234",
       "version_major": 2,
       "version_minor": 0
      },
      "text/plain": [
       "VBox()"
      ]
     },
     "metadata": {},
     "output_type": "display_data"
    },
    {
     "data": {
      "application/vnd.jupyter.widget-view+json": {
       "model_id": "",
       "version_major": 2,
       "version_minor": 0
      },
      "text/plain": [
       "FloatProgress(value=0.0, bar_style='info', description='Progress:', layout=Layout(height='25px', width='50%'),…"
      ]
     },
     "metadata": {},
     "output_type": "display_data"
    },
    {
     "name": "stdout",
     "output_type": "stream",
     "text": [
      "+----------+--------------------+--------------------+--------------------+-------+--------------------+\n",
      "|      asin|            category|               title|              author|   rank|      recommendation|\n",
      "+----------+--------------------+--------------------+--------------------+-------+--------------------+\n",
      "|B00128EFK0|Religion & Spirit...|Approaching the H...|     Dennis G. Crump|4646191|                  []|\n",
      "|B00129LKMK|  Arts & Photography|Bellini's I PURIT...|    Burton D. Fisher|3489361|                  []|\n",
      "|B0012AXRXO|Mystery, Thriller...|             Snowman|          Dave Saari|2283726|                  []|\n",
      "|B0012BKPEW|Literature & Fiction|  Crumbs and Crutons|         David Greer|4741892|                  []|\n",
      "|B0012BS7UQ|Religion & Spirit...|Fast Track to Vic...|       Cheryl Rogers|3182718|                  []|\n",
      "|B0012BRQNK|  Arts & Photography|To Roma! To Roma!...|        John Galavan|1853702|                  []|\n",
      "|B0012BTXPE|   Children's eBooks|How to Study Smar...|Dr. Charlotte Garman| 843165|        [B00I3QS1XQ]|\n",
      "|B0012BTFVQ|Parenting & Relat...|Building Self-Est...|    Amy R. Vigilante|4429495|                  []|\n",
      "|B0012D4EJW|   Sports & Outdoors|Hunting Gear You ...|Vernon A. Blackledge|2905868|                  []|\n",
      "|B0012DDSFS|Health, Fitness &...|Anxiety Disorders...|      Cyma J. Siegel|1005620|                  []|\n",
      "|B0012DHDVS|Biographies & Mem...|    Brother One Cell|       Cullen Thomas| 803943|                  []|\n",
      "|B0012DHDUO|Literature & Fiction|Longarm 352: Long...|         Tabor Evans| 965853|                  []|\n",
      "|B0012DHDPY|   Foreign Languages|Dictionnaire Argo...|     Napoleon Hayard|5197120|                  []|\n",
      "|B0012DK2CK|Health, Fitness &...|Juvenile Sex Offe...|      Cynthia Godbey|1840052|                  []|\n",
      "|B0012E3JCO|Literature & Fiction|Bang Crunch (Vint...|          Neil Smith|1963136|                  []|\n",
      "|B0012FN0XG|Internet & Techno...|            Mashable|                    | 824089|                  []|\n",
      "|B0012FORDI|Education & Teaching|Developmentally D...|       Waln K. Brown|1783758|        [B0082Q498I]|\n",
      "|B0012G857G|Biographies & Mem...|     Steal This Hero|   Jack Preston King|4205866|                  []|\n",
      "|B0012GTZCK|             History|God in the White ...|      Randall Balmer| 730369|[B0166JZZ0S, B009...|\n",
      "|B0012GU704|Religion & Spirit...|Understanding Rev...|Pastor Jerry L Ma...|2976046|                  []|\n",
      "+----------+--------------------+--------------------+--------------------+-------+--------------------+\n",
      "only showing top 20 rows"
     ]
    }
   ],
   "source": [
    "from pyspark.sql.types import StructType,StructField,StringType\n",
    "fields =['asin','category','title','author','rank','recommendation']\n",
    "\n",
    "schema = StructType([StructField(field,StringType(),True) for field in fields])\n",
    "\n",
    "jsDF = spark.createDataFrame(books_ori,schema)\n",
    "\n",
    "jsDF.show()"
   ]
  },
  {
   "cell_type": "code",
   "execution_count": 16,
   "metadata": {},
   "outputs": [
    {
     "data": {
      "application/vnd.jupyter.widget-view+json": {
       "model_id": "aa7afe703e444f9e8477d4d12f72f479",
       "version_major": 2,
       "version_minor": 0
      },
      "text/plain": [
       "VBox()"
      ]
     },
     "metadata": {},
     "output_type": "display_data"
    },
    {
     "data": {
      "application/vnd.jupyter.widget-view+json": {
       "model_id": "",
       "version_major": 2,
       "version_minor": 0
      },
      "text/plain": [
       "FloatProgress(value=0.0, bar_style='info', description='Progress:', layout=Layout(height='25px', width='50%'),…"
      ]
     },
     "metadata": {},
     "output_type": "display_data"
    },
    {
     "name": "stdout",
     "output_type": "stream",
     "text": [
      "+-------------------------------------------+\n",
      "|category                                   |\n",
      "+-------------------------------------------+\n",
      "|Lesbian, Gay, Bisexual & Transgender eBooks|\n",
      "|Sports                                     |\n",
      "|Parenting & Relationships                  |\n",
      "|Politics & Social Sciences                 |\n",
      "|Biographies & Memoirs                      |\n",
      "|Engineering & Transportation               |\n",
      "|Romance                                    |\n",
      "|Cookbooks, Food & Wine                     |\n",
      "|45 minutes (22-32 pages)                   |\n",
      "|Nonfiction                                 |\n",
      "|30 minutes (12-21 pages)                   |\n",
      "|Education & Teaching                       |\n",
      "|History                                    |\n",
      "|Kindle Keyboard                            |\n",
      "|Self-Help                                  |\n",
      "|Industry Focus                             |\n",
      "|Kindle (5th Generation)                    |\n",
      "|                                           |\n",
      "|Health, Fitness & Dieting                  |\n",
      "|One hour (33-43 pages)                     |\n",
      "|Science                                    |\n",
      "|Medical eBooks                             |\n",
      "|Travel                                     |\n",
      "|Teen & Young Adult                         |\n",
      "|Sports & Outdoors                          |\n",
      "|Foreign Languages                          |\n",
      "|Science & Math                             |\n",
      "|Reference                                  |\n",
      "|Science Fiction & Fantasy                  |\n",
      "|News, Politics & Opinion                   |\n",
      "|Regional & Travel                          |\n",
      "|90 minutes (44-64 pages)                   |\n",
      "|Business & Money                           |\n",
      "|Crafts, Hobbies & Home                     |\n",
      "|15 minutes (1-11 pages)                    |\n",
      "|Literature & Fiction                       |\n",
      "|Computers & Technology                     |\n",
      "|Law                                        |\n",
      "|Internet & Technology                      |\n",
      "|Two hours or more (65-100 pages)           |\n",
      "|Children's eBooks                          |\n",
      "|Mystery, Thriller & Suspense               |\n",
      "|Arts & Entertainment                       |\n",
      "|Religion & Spirituality                    |\n",
      "|Arts & Photography                         |\n",
      "|Humor & Entertainment                      |\n",
      "|Lifestyle & Culture                        |\n",
      "|Comics, Manga & Graphic Novels             |\n",
      "|Humor & Satire                             |\n",
      "|Business & Investing                       |\n",
      "+-------------------------------------------+\n",
      "\n",
      "50"
     ]
    }
   ],
   "source": [
    "categories = jsDF.select('category').distinct()\n",
    "categories.show(150, False)\n",
    "categories.count()"
   ]
  },
  {
   "cell_type": "code",
   "execution_count": null,
   "metadata": {},
   "outputs": [],
   "source": []
  },
  {
   "cell_type": "code",
   "execution_count": 33,
   "metadata": {},
   "outputs": [
    {
     "data": {
      "application/vnd.jupyter.widget-view+json": {
       "model_id": "278fde09e6d244b2ad20bdd8380e9404",
       "version_major": 2,
       "version_minor": 0
      },
      "text/plain": [
       "VBox()"
      ]
     },
     "metadata": {},
     "output_type": "display_data"
    },
    {
     "data": {
      "application/vnd.jupyter.widget-view+json": {
       "model_id": "",
       "version_major": 2,
       "version_minor": 0
      },
      "text/plain": [
       "FloatProgress(value=0.0, bar_style='info', description='Progress:', layout=Layout(height='25px', width='50%'),…"
      ]
     },
     "metadata": {},
     "output_type": "display_data"
    },
    {
     "name": "stdout",
     "output_type": "stream",
     "text": [
      "[Row(asin='B0064BV1YI', price='', imUrl='http://ecx.images-amazon.com/images/I/41cWEO1MXjL._BO2,204,203,200_PIsitb-sticker-v3-big,TopRight,0,-55_SX278_SY278_PIkin4,BottomRight,1,22_AA300_SH20_OU01_.jpg', title_prof='', author='', cate='Foreign Languages', description='', related='[B006NPCZ5Y, B0089CD3JQ, B006U44AU6, B005JHHS90, B004NIFXBG, B00IS8RYI2, B00C44CFI0, B009DSD3GI, B009DS1VNA, B00E8FNB9K]')]"
     ]
    }
   ],
   "source": [
    "profDF.filter(\"asin == 'B0064BV1YI'\").collect(False)"
   ]
  },
  {
   "cell_type": "code",
   "execution_count": null,
   "metadata": {},
   "outputs": [],
   "source": []
  },
  {
   "cell_type": "code",
   "execution_count": null,
   "metadata": {},
   "outputs": [],
   "source": []
  },
  {
   "cell_type": "code",
   "execution_count": 39,
   "metadata": {},
   "outputs": [
    {
     "data": {
      "application/vnd.jupyter.widget-view+json": {
       "model_id": "f1a6bb1e49884c9199ad280224b7f3be",
       "version_major": 2,
       "version_minor": 0
      },
      "text/plain": [
       "VBox()"
      ]
     },
     "metadata": {},
     "output_type": "display_data"
    },
    {
     "data": {
      "application/vnd.jupyter.widget-view+json": {
       "model_id": "",
       "version_major": 2,
       "version_minor": 0
      },
      "text/plain": [
       "FloatProgress(value=0.0, bar_style='info', description='Progress:', layout=Layout(height='25px', width='50%'),…"
      ]
     },
     "metadata": {},
     "output_type": "display_data"
    },
    {
     "name": "stdout",
     "output_type": "stream",
     "text": [
      "+----------+-----+--------------------+----------+-----------+--------------------+--------------------+--------------------+----------+--------------------+--------------------+--------------------+-------+--------------------+\n",
      "|      asin|price|               imUrl|title_prof|author_prof|                cate|         description|             related|     asin2|            category|               title|              author|   rank|           recommend|\n",
      "+----------+-----+--------------------+----------+-----------+--------------------+--------------------+--------------------+----------+--------------------+--------------------+--------------------+-------+--------------------+\n",
      "|B000F83STC|     |http://g-ecx.imag...|          |           |Literature & Fiction|                    |                  []|      null|                null|                null|                null|   null|                null|\n",
      "|B000FBFL4E|     |http://ecx.images...|          |           |Professional & Te...|The terms and inf...|                  []|      null|                null|                null|                null|   null|                null|\n",
      "|B000FBFP5O| 1.95|http://ecx.images...|          |           |Science Fiction &...|                    |                  []|      null|                null|                null|                null|   null|                null|\n",
      "|B000FC0YZO| 9.99|http://ecx.images...|          |           |Literature & Fiction|                    |[B007BZC13G, B001...|      null|                null|                null|                null|   null|                null|\n",
      "|B000FC132C| 3.99|http://ecx.images...|          |           |   Children's eBooks|R.L. Stine began ...|[B002JXB8B6, B004...|      null|                null|                null|                null|   null|                null|\n",
      "|B000FC1AGQ|17.95|http://ecx.images...|          |           |Literature & Fiction|One of the partic...|[B000FC1L56, B000...|      null|                null|                null|                null|   null|                null|\n",
      "|B000FC1EA8| 1.99|http://ecx.images...|          |           |Literature & Fiction|                    |[B00F8FXE8M, B00C...|      null|                null|                null|                null|   null|                null|\n",
      "|B000FC1FES|  0.0|http://ecx.images...|          |           |Literature & Fiction|                    |[B00G6O0JLE, B008...|      null|                null|                null|                null|   null|                null|\n",
      "|B000FC1RXC| 8.89|http://ecx.images...|          |           |Literature & Fiction|A road trip turns...|[B005467CA6, B00I...|      null|                null|                null|                null|   null|                null|\n",
      "|B000FC1W3M| 2.99|http://ecx.images...|          |           |Science Fiction &...|                    |[B00I344DMQ, B006...|      null|                null|                null|                null|   null|                null|\n",
      "|B000FC2006|     |http://ecx.images...|          |           |  Arts & Photography|                    |                  []|      null|                null|                null|                null|   null|                null|\n",
      "|B000FC206U| 9.19|http://ecx.images...|          |           |Literature & Fiction|                    |[B007X509V0, B008...|      null|                null|                null|                null|   null|                null|\n",
      "|B000FC22WC|     |http://ecx.images...|          |           |Literature & Fiction|                    |        [B008NG22FY]|      null|                null|                null|                null|   null|                null|\n",
      "|B000FC26RI| 9.99|http://ecx.images...|          |           |Literature & Fiction|The third install...|[B00G4GK20W, B006...|      null|                null|                null|                null|   null|                null|\n",
      "|B000FCKH6A| 5.99|http://ecx.images...|          |           |Literature & Fiction|As in Santlofer's...|[B00GWOF83W, B00J...|      null|                null|                null|                null|   null|                null|\n",
      "|B000IMVMXE|     |                null|          |           |                    |Reuters is a lead...|                  []|      null|                null|                null|                null|   null|                null|\n",
      "|B000JML2YW| 0.99|http://ecx.images...|          |           |Literature & Fiction|                    |[B00H1ZWGJU, B00I...|      null|                null|                null|                null|   null|                null|\n",
      "|B000JMLIY6| 0.99|http://ecx.images...|          |           |Literature & Fiction|                    |[B007L4T4UA, B00I...|      null|                null|                null|                null|   null|                null|\n",
      "|B000JQUCDA| 9.99|http://ecx.images...|          |           |             History|                    |[B003XVYLH6, B003...|      null|                null|                null|                null|   null|                null|\n",
      "|B000JQUJ6U| 0.99|http://ecx.images...|          |           |  Arts & Photography|                    |[B0093M15D2, B005...|      null|                null|                null|                null|   null|                null|\n",
      "|B000JQUXBQ| 0.99|http://ecx.images...|          |           |Literature & Fiction|                    |[B00K31USUS, B00C...|      null|                null|                null|                null|   null|                null|\n",
      "|B000JQV1K8| 5.99|http://ecx.images...|          |           |   Children's eBooks|                    |[B00A9IM452, B00A...|      null|                null|                null|                null|   null|                null|\n",
      "|B000JQV1W6| 0.99|http://ecx.images...|          |           |Science Fiction &...|                    |[B002HMCIBI, B00B...|      null|                null|                null|                null|   null|                null|\n",
      "|B000MAH920| 3.25|http://ecx.images...|          |           |Literature & Fiction|                    |[B003Z6QOVU, B00A...|      null|                null|                null|                null|   null|                null|\n",
      "|B000MAHAOC|  3.1|http://ecx.images...|          |           |Literature & Fiction|                    |[B001E28M2Q, B003...|      null|                null|                null|                null|   null|                null|\n",
      "|B000MAHAZ6| 3.25|http://ecx.images...|          |           |Literature & Fiction|                    |[B001E28M2Q, B003...|      null|                null|                null|                null|   null|                null|\n",
      "|B000N8V2EW|     |                null|          |           |                    |The Associated Pr...|[B002MAP9X4, B001...|      null|                null|                null|                null|   null|                null|\n",
      "|B000NJL7NC| 2.99|http://ecx.images...|          |           |Literature & Fiction|“Breathtaking.......|[B001RS8L7S, B00I...|      null|                null|                null|                null|   null|                null|\n",
      "|B000OI0PF8|13.04|http://ecx.images...|          |           |   Sports & Outdoors|                    |[B0060HWP1O, B000...|      null|                null|                null|                null|   null|                null|\n",
      "|B000OI0TTK|18.96|http://ecx.images...|          |           |Politics & Social...|'An important and...|                  []|      null|                null|                null|                null|   null|                null|\n",
      "|B000OI0Y1S|11.38|http://ecx.images...|          |           |Literature & Fiction|Byron Lee Grigsby...|                  []|      null|                null|                null|                null|   null|                null|\n",
      "|B000OI0ZXU|14.52|http://g-ecx.imag...|          |           |Professional & Te...|The book is writt...|[B00AFS6LSC, B009...|      null|                null|                null|                null|   null|                null|\n",
      "|B000OI1656| 6.45|http://ecx.images...|          |           |             History|'A comprehensive ...|                  []|      null|                null|                null|                null|   null|                null|\n",
      "|B000OT81IK|11.38|http://ecx.images...|          |           |Literature & Fiction|Joe Braylectures ...|                  []|      null|                null|                null|                null|   null|                null|\n",
      "|B000OT8DIS| 8.61|http://ecx.images...|          |           |             History|There are few boo...|        [B00EKSZM1K]|      null|                null|                null|                null|   null|                null|\n",
      "|B000P0JO9I| 3.79|http://ecx.images...|          |           |Literature & Fiction|\"Apodaca writes a...|[B004P8K2HY, B006...|      null|                null|                null|                null|   null|                null|\n",
      "|B000P2XHEO| 9.55|http://ecx.images...|          |           |             History|'This work weaves...|[B00H6UOG70, B006...|      null|                null|                null|                null|   null|                null|\n",
      "|B000PC6CSC|     |http://ecx.images...|          |           |Biographies & Mem...|From the reviews:...|                  []|      null|                null|                null|                null|   null|                null|\n",
      "|B000PLXD3A| 9.14|http://ecx.images...|          |           |  Arts & Photography|An extremely infl...|[B00A208TMY, B007...|      null|                null|                null|                null|   null|                null|\n",
      "|B000PSJ8PK| 12.0|http://ecx.images...|          |           |Health, Fitness &...|Woltager; Michael...|                  []|      null|                null|                null|                null|   null|                null|\n",
      "|B000PSJ9RW|     |http://ecx.images...|          |           |    Business & Money|Henry R. Neavespe...|                  []|      null|                null|                null|                null|   null|                null|\n",
      "|B000PY3I50|  0.0|http://ecx.images...|          |           |             History|?[E]xceptionally ...|[B001NIZW5Q, B003...|      null|                null|                null|                null|   null|                null|\n",
      "|B000PY3MVA|     |http://ecx.images...|          |           |Health, Fitness &...|                    |[B00CD3O5WG, B006...|      null|                null|                null|                null|   null|                null|\n",
      "|B000PY4EZI|     |http://ecx.images...|          |           |Professional & Te...|                    |                  []|      null|                null|                null|                null|   null|                null|\n",
      "|B000PY4F8E|     |http://ecx.images...|          |           |    Business & Money|                    |                  []|      null|                null|                null|                null|   null|                null|\n",
      "|B000Q9J0BU|     |http://ecx.images...|          |           |Literature & Fiction|4 Angels: \"Fantas...|                  []|      null|                null|                null|                null|   null|                null|\n",
      "|B000QCTP0S| 1.99|http://ecx.images...|          |           |Literature & Fiction|                    |[B00D5BFDKI, B007...|      null|                null|                null|                null|   null|                null|\n",
      "|B000QED002|     |http://ecx.images...|          |           |    Business & Money|                    |                  []|      null|                null|                null|                null|   null|                null|\n",
      "|B000R93D30| 0.99|http://ecx.images...|          |           |             Romance|                    |[B003MC5AT4, B005...|      null|                null|                null|                null|   null|                null|\n",
      "|B000R93DZS| 3.99|http://ecx.images...|          |           |             Romance|Reflections of Be...|[B001DUGORY, B00F...|      null|                null|                null|                null|   null|                null|\n",
      "|B000RGUOBM|     |http://ecx.images...|          |           |Health, Fitness &...|Cindy Dell Clark ...|[B00C0ALGKQ, B004...|      null|                null|                null|                null|   null|                null|\n",
      "|B000S1LVDQ| 4.37|http://ecx.images...|          |           |  Teen & Young Adult|Catherine Clark i...|[B002ASFPP0, B001...|      null|                null|                null|                null|   null|                null|\n",
      "|B000SBH11C|     |http://ecx.images...|          |           |Politics & Social...|\"Haley, drawing o...|[B00C4UT1B8, B006...|      null|                null|                null|                null|   null|                null|\n",
      "|B000SBK44I|     |http://ecx.images...|          |           |             History|\"It should be req...|[B00DMKS0H0, B00E...|      null|                null|                null|                null|   null|                null|\n",
      "|B000SBZ3EO|     |http://ecx.images...|          |           |Health, Fitness &...|                    |                  []|      null|                null|                null|                null|   null|                null|\n",
      "|B000SEF3A0|     |http://ecx.images...|          |           |Literature & Fiction|The 1998 publicat...|                  []|      null|                null|                null|                null|   null|                null|\n",
      "|B000SEGFRK|     |http://ecx.images...|          |           |Literature & Fiction|                    |                  []|      null|                null|                null|                null|   null|                null|\n",
      "|B000SEGH0A|19.34|http://ecx.images...|          |           |Politics & Social...|Jamie S. Davidson...|                  []|      null|                null|                null|                null|   null|                null|\n",
      "|B000SEGUGG| 8.26|http://ecx.images...|          |           |   Sports & Outdoors|The perfect read ...|[B00GSDQWG4, B007...|      null|                null|                null|                null|   null|                null|\n",
      "|B000SEP8WS|11.95|http://ecx.images...|          |           |   Children's eBooks|Grade 4-6.  Chris...|[B00C0WUSTY, B004...|      null|                null|                null|                null|   null|                null|\n",
      "|B000SEVHC8| 2.99|http://g-ecx.imag...|          |           |  Arts & Photography|Medieval architec...|[B005FLM7H8, B00E...|      null|                null|                null|                null|   null|                null|\n",
      "|B000SH2F76|     |http://ecx.images...|          |           |   Children's eBooks|                    |[B00BHGV46K, B000...|      null|                null|                null|                null|   null|                null|\n",
      "|B000SHGC3O| 8.09|http://ecx.images...|          |           |Religion & Spirit...|Bill Hybels, foun...|[B000SH4L1O, B003...|      null|                null|                null|                null|   null|                null|\n",
      "|B000SIEHVM|13.18|http://ecx.images...|          |           |Biographies & Mem...|'Brackman has don...|                  []|      null|                null|                null|                null|   null|                null|\n",
      "|B000SM7Z8A|     |http://ecx.images...|          |           |   Children's eBooks|Crystal Bowman lo...|[B003JH83B4, B002...|      null|                null|                null|                null|   null|                null|\n",
      "|B000T6D47G| 3.99|http://ecx.images...|          |           |             Romance|                    |[B001DUGORY, B008...|      null|                null|                null|                null|   null|                null|\n",
      "|B000UMZMK6| 2.66|http://ecx.images...|          |           |             Romance|                    |[B00ITF9OFA, B004...|      null|                null|                null|                null|   null|                null|\n",
      "|B000V50752|10.99|http://ecx.images...|          |           |Literature & Fiction|\"Elegantly concei...|[B00BCFZLJ2, B007...|      null|                null|                null|                null|   null|                null|\n",
      "|B000VWBQCI|  2.1|http://ecx.images...|          |           |Literature & Fiction|                    |[B008VSS9IS, B00A...|      null|                null|                null|                null|   null|                null|\n",
      "|B000VYX8ZE| 3.99|http://ecx.images...|          |           |Literature & Fiction|                    |[B009OUDVSU, B005...|      null|                null|                null|                null|   null|                null|\n",
      "|B000VZSQ78|     |http://ecx.images...|          |           |  Teen & Young Adult|Barbara Ellen Hil...|                  []|      null|                null|                null|                null|   null|                null|\n",
      "|B000W277TS|     |http://ecx.images...|          |           |Parenting & Relat...|A new series of c...|                  []|      null|                null|                null|                null|   null|                null|\n",
      "|B000W7KNC6| 6.64|http://ecx.images...|          |           |Science Fiction &...|                    |[B000OVLKOA, B001...|      null|                null|                null|                null|   null|                null|\n",
      "|B000WLLWEU|     |http://ecx.images...|          |           |Health, Fitness &...|One of America's ...|[B004C43IIG, B006...|      null|                null|                null|                null|   null|                null|\n",
      "|B000X138ZA| 0.99|http://ecx.images...|          |           |Mystery, Thriller...|UPDATED!!! THE MO...|[B005HJU7HA, B00D...|      null|                null|                null|                null|   null|                null|\n",
      "|B000XU4TQS| 8.54|http://ecx.images...|          |           |   Children's eBooks|Did Mandie lose h...|[B006T46PY6, B001...|      null|                null|                null|                null|   null|                null|\n",
      "|B000XU4TXQ| 5.99|http://ecx.images...|          |           |Mystery, Thriller...|“Hart is a master...|[B004GNFF5M, B00C...|      null|                null|                null|                null|   null|                null|\n",
      "|B000YHHTHQ|12.64|http://ecx.images...|          |           |Computers & Techn...|\"This is an excel...|[B004X1D1Q2, B009...|      null|                null|                null|                null|   null|                null|\n",
      "|B000YJ5480| 6.99|http://ecx.images...|          |           |Literature & Fiction|Praise for Doroth...|[B000Q9IMXC, B000...|      null|                null|                null|                null|   null|                null|\n",
      "|B000ZLMD5O| 3.03|http://ecx.images...|          |           |Literature & Fiction|                    |[B001E70ROM, B000...|      null|                null|                null|                null|   null|                null|\n",
      "|B000ZLMD68| 2.66|http://ecx.images...|          |           |Literature & Fiction|4.5 Stars:\"Emma W...|[B001E70ROM, B000...|      null|                null|                null|                null|   null|                null|\n",
      "|B0010YXM78|     |http://ecx.images...|          |           |Literature & Fiction|                    |[B008QNVC14, B00H...|      null|                null|                null|                null|   null|                null|\n",
      "|B001190ZMW|     |http://ecx.images...|          |           |Literature & Fiction|                    |                  []|      null|                null|                null|                null|   null|                null|\n",
      "|B0011GJLDY|     |http://ecx.images...|          |           |Literature & Fiction|                    |[B009W77SXO, B002...|      null|                null|                null|                null|   null|                null|\n",
      "|B0011LRDYI|     |http://ecx.images...|          |           |Literature & Fiction|                    |                  []|      null|                null|                null|                null|   null|                null|\n",
      "|B0011UCOHK|15.39|http://ecx.images...|          |           |Computers & Techn...|                    |[B003U890NW, B009...|      null|                null|                null|                null|   null|                null|\n",
      "|B0012094GI| 4.39|http://ecx.images...|          |           |             Romance|                    |[B00B0A70Z2, B004...|      null|                null|                null|                null|   null|                null|\n",
      "|B00120XUTA| 3.99|http://ecx.images...|          |           |    Business & Money|\"This is a great ...|        [B007FKM222]|      null|                null|                null|                null|   null|                null|\n",
      "|B001281LC0|     |http://ecx.images...|          |           |Humor & Entertain...|                    |                  []|      null|                null|                null|                null|   null|                null|\n",
      "|B0012DNMAO|     |http://ecx.images...|          |           |Literature & Fiction|Mark Dubbin has a...|[B00FAEUZHE, B00J...|      null|                null|                null|                null|   null|                null|\n",
      "|B0012DOX2U|     |http://ecx.images...|          |           |Mystery, Thriller...|                    |[B00BAJY0VK, B00K...|      null|                null|                null|                null|   null|                null|\n",
      "|B00132S72C| 0.99|http://ecx.images...|          |           |Computers & Techn...|                    |        [B007CD3SOI]|      null|                null|                null|                null|   null|                null|\n",
      "|B00134D6QC| 3.79|http://ecx.images...|          |           |Literature & Fiction|                    |[B00ESMUSYO, B009...|      null|                null|                null|                null|   null|                null|\n",
      "|B0013MT2OY|     |http://ecx.images...|          |           |Literature & Fiction|                    |                  []|      null|                null|                null|                null|   null|                null|\n",
      "|B0013N882K| 6.15|http://ecx.images...|          |           |Literature & Fiction|                    |[B003GDI8NY, B007...|B0013N882K|Literature & Fiction|East of the Sun a...|        Nancy Madore|1786354|[B007SNDYKU, B007...|\n",
      "|B0013OOWHY|32.87|http://ecx.images...|          |           |Literature & Fiction|\"In Reading the Z...|[B004TRXOTY, B004...|      null|                null|                null|                null|   null|                null|\n",
      "|B0013V9YFC|     |http://ecx.images...|          |           |Literature & Fiction|                    |                  []|      null|                null|                null|                null|   null|                null|\n",
      "|B0013XXN70|     |http://ecx.images...|          |           |Literature & Fiction|                    |                  []|      null|                null|                null|                null|   null|                null|\n",
      "|B00147GGL0| 6.15|http://ecx.images...|          |           |Literature & Fiction|                    |[B00CF10SUE, B003...|      null|                null|                null|                null|   null|                null|\n",
      "|B00147TPCC|     |http://ecx.images...|          |           |  Teen & Young Adult|                    |                  []|      null|                null|                null|                null|   null|                null|\n",
      "|B00149ZWWM|     |http://ecx.images...|          |           |Literature & Fiction|\"* \"If you're loo...|[B0031W1EEA, B001...|      null|                null|                null|                null|   null|                null|\n",
      "|B0014BRN40| 3.79|http://ecx.images...|          |           |Literature & Fiction|                    |[B001BM2ZI6, B00B...|B0014BRN40|Religion & Spirit...|      Broken Lullaby|        Pamela Tracy|1792545|                  []|\n",
      "|B0014SCVMM|     |http://ecx.images...|          |           |  Arts & Photography|                    |[B0056J62HA, B009...|      null|                null|                null|                null|   null|                null|\n",
      "|B00153NBV6|     |http://ecx.images...|          |           |             Romance|                    |[B0061DH5QM, B009...|      null|                null|                null|                null|   null|                null|\n",
      "|B0015ACGQ0| 0.99|http://ecx.images...|          |           |Literature & Fiction|Painting an entic...|[B005DKRFPU, B008...|      null|                null|                null|                null|   null|                null|\n",
      "|B0015DRPV8| 5.12|http://ecx.images...|          |           |   Children's eBooks|Franklin W. Dixon...|[B007QUUJFI, B007...|      null|                null|                null|                null|   null|                null|\n",
      "|B0015KGWC4| 3.82|http://ecx.images...|          |           |             Romance|                    |[B0015DWL8K, B00J...|      null|                null|                null|                null|   null|                null|\n",
      "|B0015KLIF0|     |http://ecx.images...|          |           |             History|\"Unquestionably t...|                  []|B0015KLIF0|             History|Jewish Life in Sm...|  Lee Shai Weissbach|2458644|                  []|\n",
      "|B0015MLPBU|     |http://ecx.images...|          |           |Mystery, Thriller...|There is a large ...|                  []|      null|                null|                null|                null|   null|                null|\n",
      "|B0015V9DF6| 3.79|http://ecx.images...|          |           |Literature & Fiction|                    |[B00835W3R2, B002...|      null|                null|                null|                null|   null|                null|\n",
      "|B0015YEQHS| 4.24|http://ecx.images...|          |           |             Romance|                    |[B0042P5I9M, B008...|      null|                null|                null|                null|   null|                null|\n",
      "|B0015ZFUD6|     |http://ecx.images...|          |           |Education & Teaching|                    |                  []|B0015ZFUD6|Education & Teaching|Pass Your Bar Exa...|       Gary L. Brown|4323875|                  []|\n",
      "|B0016ALQ4C|     |http://ecx.images...|          |           |Literature & Fiction|Christopher Andre...|[B001MS7T1M, B001...|B0016ALQ4C|Literature & Fiction|The Darkness With...| Christopher Andrews|2397688|                  []|\n",
      "|B0016IXM96| 3.44|http://ecx.images...|          |           |             Romance|                    |[B00K9NWRHW, B001...|      null|                null|                null|                null|   null|                null|\n",
      "|B0016MX89G|     |http://ecx.images...|          |           |    Business & Money|Cum laude and Phi...|                  []|B0016MX89G|Politics & Social...|The Nazi Paradigm...|        Mark Jarmuth|2357715|                  []|\n",
      "|B0016RS9F4|     |http://ecx.images...|          |           |Health, Fitness &...|                    |[B0016RQ4UG, B001...|B0016RS9F4|Religion & Spirit...|Think Again about...|Bruce C. E. Flemi...|2536617|                  []|\n",
      "|B00171ELWO| 0.99|http://ecx.images...|          |           |Professional & Te...|                    |        [B007PM4ZZW]|      null|                null|                null|                null|   null|                null|\n",
      "|B00174RBFK| 4.49|http://ecx.images...|          |           |Literature & Fiction|Dante Alighieri (...|[B0045U9RDC, B004...|B00174RBFK|Literature & Fiction|The Divine Comedy...|     Dante Alighieri|1401294|[B072KN9G8N, B00A...|\n",
      "|B0017OO55Y|  0.0|http://ecx.images...|          |           |  Arts & Photography|                    |[B00AECHQBK, B004...|      null|                null|                null|                null|   null|                null|\n",
      "|B0017QNMEW|     |http://ecx.images...|          |           |Religion & Spirit...|                    |                  []|      null|                null|                null|                null|   null|                null|\n",
      "|B0017SUZCM| 3.82|http://ecx.images...|          |           |Literature & Fiction|                    |[B0041KLERS, B004...|      null|                null|                null|                null|   null|                null|\n",
      "|B00183NL7M| 9.95|http://ecx.images...|          |           |  Arts & Photography|Jane Austen, Engl...|[B00BERUNZ0, B00D...|      null|                null|                null|                null|   null|                null|\n",
      "|B00186A6HW|     |http://ecx.images...|          |           |Literature & Fiction|                    |[B00124T2AC, B005...|      null|                null|                null|                null|   null|                null|\n",
      "|B00186Z0VO| 2.99|http://ecx.images...|          |           |Literature & Fiction|Bestselling\n",
      "autho...|[B00D1WWGT2, B004...|B00186Z0VO|Literature & Fiction|The Family Next D...|  Jacqueline Diamond|1897531|                  []|\n",
      "|B00186Z0WI|     |http://ecx.images...|          |           |Literature & Fiction|                    |[B004BLK2X4, B007...|B00186Z0WI|Literature & Fiction|A Sexy Time of It...|        Cara Summers|2347321|                  []|\n",
      "|B001873ROU| 2.99|http://ecx.images...|          |           |Literature & Fiction|                    |[B00I66BOSC, B005...|B001873ROU|Literature & Fiction|His Pregnant Hous...|   Caroline Anderson| 743860|[B001R4GNB8, B005...|\n",
      "|B0018BU55A|     |http://ecx.images...|          |           |Literature & Fiction|Jinxed is a very ...|        [B002CQ28DW]|      null|                null|                null|                null|   null|                null|\n",
      "|B0018BY2H2|     |http://ecx.images...|          |           |Politics & Social...|                    |                  []|B0018BY2H2|Religion & Spirit...|Ego. Is It Runnin...|         J.D. Rhodes|2795384|                  []|\n",
      "|B0018GY5QU| 3.99|http://ecx.images...|          |           |Science Fiction &...|Kathy lives in Ca...|[B009MQDIV6, B008...|      null|                null|                null|                null|   null|                null|\n",
      "|B0018O4PZS|     |http://ecx.images...|          |           |             History|                    |                  []|B0018O4PZS|             History|       Andersonville|       John  McElroy|3062303|                  []|\n",
      "|B0018TVY4I|     |http://ecx.images...|          |           |    Business & Money|Jean Yatesteaches...|[B00195THPE, B004...|      null|                null|                null|                null|   null|                null|\n",
      "|B00194CY1E|     |http://ecx.images...|          |           |    Business & Money|Get your career b...|                  []|      null|                null|                null|                null|   null|                null|\n",
      "|B001974DE2|     |http://ecx.images...|          |           |             Romance|Kathleen Dantehas...|                  []|      null|                null|                null|                null|   null|                null|\n",
      "|B00198R1IQ| 2.99|http://ecx.images...|          |           |Literature & Fiction|\"The ambivalence ...|[B00DYWG898, B005...|      null|                null|                null|                null|   null|                null|\n",
      "|B0019AMSCS|     |http://ecx.images...|          |           |Professional & Te...|                    |                  []|B0019AMSCS|      Science & Math|Advanced Problems...|            McKillop|4544199|                  []|\n",
      "|B0019RVYNK|  8.1|http://ecx.images...|          |           |Health, Fitness &...|Transformation fo...|[B001QPHNZS, B008...|      null|                null|                null|                null|   null|                null|\n",
      "|B001A06VJ8| 7.99|http://ecx.images...|          |           |Education & Teaching|                    |[B0031BVJ7I, B00F...|B001A06VJ8|Religion & Spirit...|The Old Testament...|     David J. Ridges| 649708|[B00JGZIGM4, B00J...|\n",
      "|B001AAWPK2|     |http://ecx.images...|          |           |           Reference|                    |[B003WUYQC8, B00C...|      null|                null|                null|                null|   null|                null|\n",
      "|B001AOEDKI|     |http://ecx.images...|          |           |Education & Teaching|Mention \"special ...|[B005CKKEZE, B009...|B001AOEDKI|Education & Teaching|Handbook of Gifte...|Steven I. Pfeiffe...|2423704|                  []|\n",
      "|B001AOVWPC| 8.68|http://ecx.images...|          |           |Professional & Te...|\"This book is ful...|        [B0036ZBVH2]|B001AOVWPC|                 Law|The Making of Mod...|        Brad Sherman|2755445|                  []|\n",
      "|B001AQ99UA|     |http://ecx.images...|          |           |Literature & Fiction|\"As Duttlinger co...|                  []|B001AQ99UA|Literature & Fiction|Kafka and Photogr...|  Carolin Duttlinger|3385758|                  []|\n",
      "|B001AUAXII|     |http://ecx.images...|          |           |Health, Fitness &...|                    |                  []|      null|                null|                null|                null|   null|                null|\n",
      "|B001AVG3ZY|     |http://ecx.images...|          |           |   Children's eBooks|                    |                  []|B001AVG3ZY|              Travel|Welcome to Califo...|          Colin Zhao|4777081|                  []|\n",
      "|B001BRD238| 6.79|http://ecx.images...|          |           |             Romance|Five StarsRainbow...|[B002TG4P8G, B002...|B001BRD238|             Romance|Secrets: a PsyCop...|Jordan Castillo P...|4250754|                  []|\n",
      "|B001BS7PEE|     |http://ecx.images...|          |           |    Business & Money|                    |                  []|B001BS7PEE|    Business & Money|Your First Two Ye...|       Lilly Walters|4591321|                  []|\n",
      "|B001BYU51I|     |http://ecx.images...|          |           |             History|                    |[B00JYSQ5CG, B00B...|      null|                null|                null|                null|   null|                null|\n",
      "|B001C6J1AG|     |http://ecx.images...|          |           |Professional & Te...|                    |                  []|      null|                null|                null|                null|   null|                null|\n",
      "|B001CCUQJ0|10.49|http://ecx.images...|          |           |Health, Fitness &...|\"Umberson has min...|[B00ESQAL42, B006...|      null|                null|                null|                null|   null|                null|\n",
      "|B001CDA3BA| 3.44|http://ecx.images...|          |           |Literature & Fiction|                    |[B000VYX8HC, B008...|      null|                null|                null|                null|   null|                null|\n",
      "|B001CKJW6K|38.69|http://ecx.images...|          |           |Professional & Te...|                    |[B001MWRTF4, B00H...|      null|                null|                null|                null|   null|                null|\n",
      "|B001CMQ6JY| 3.44|http://ecx.images...|          |           |             Romance|                    |[B00JM1HPUQ, B006...|      null|                null|                null|                null|   null|                null|\n",
      "|B001CMQ6NA| 4.24|http://ecx.images...|          |           |             Romance|                    |[B00GQE9CXA, B00C...|      null|                null|                null|                null|   null|                null|\n",
      "|B001CMQ6P8| 1.49|http://ecx.images...|          |           |             Romance|90/100 & A Keeper...|[B00K5E9T8U, B00I...|      null|                null|                null|                null|   null|                null|\n",
      "|B001CPV5AG|57.98|http://ecx.images...|          |           |Professional & Te...|'a comprehensive ...|                  []|      null|                null|                null|                null|   null|                null|\n",
      "|B001CXLBIO|     |http://ecx.images...|          |           |Health, Fitness &...|                    |                  []|      null|                null|                null|                null|   null|                null|\n",
      "|B001D0JDAY|     |http://ecx.images...|          |           |Health, Fitness &...|Sally Downham Mil...|[B003GIRTJ8, B002...|      null|                null|                null|                null|   null|                null|\n",
      "|B001D3CQZU| 3.25|http://ecx.images...|          |           |Literature & Fiction|Perfect.Absolutel...|[B00186Z0XW, B001...|B001D3CQZU|Literature & Fiction|One Night, One Ba...|          Kate Hardy| 123197|[B003VYBXGC, B004...|\n",
      "|B001D49M06|27.49|http://ecx.images...|          |           |             Romance|                    |[B00CJPYF8C, B001...|      null|                null|                null|                null|   null|                null|\n",
      "|B001DC89T8| 2.99|http://ecx.images...|          |           |Crafts, Hobbies &...|                    |[B007RIMU2O, B00C...|      null|                null|                null|                null|   null|                null|\n",
      "|B001DIN7IA|     |http://ecx.images...|          |           |    Business & Money|                    |        [B00AUJBX16]|      null|                null|                null|                null|   null|                null|\n",
      "|B001E2IPSM|  0.0|http://ecx.images...|          |           |Literature & Fiction|                    |[B004N62LCW, B008...|B001E2IPSM|Literature & Fiction|The Essential Fan...|        Lord Dunsany|3550037|                  []|\n",
      "|B001E2XMOE|14.72|http://ecx.images...|          |           |Humor & Entertain...|                    |[B002XQ2AG6, B004...|B001E2XMOE|Humor & Entertain...|The No B.S. Guide...|        Chris Wilcox|1967090|                  []|\n",
      "|B001E3LOES| 4.84|http://ecx.images...|          |           |           Reference|                    |[B0075WJK8Y, B00I...|B001E3LOES|   Sports & Outdoors|Learn Spearfishin...|          Rob Parker|1422645|                  []|\n",
      "|B001E5E93O| 2.99|http://ecx.images...|          |           |    Business & Money|                    |[B006IH6EL8, B005...|      null|                null|                null|                null|   null|                null|\n",
      "|B001E6V2FQ|     |http://ecx.images...|          |           |Literature & Fiction|John Warnock earn...|                  []|B001E6V2FQ|Literature & Fiction|             Reunion|     John W. Warnock|4791912|                  []|\n",
      "|B001ECQLDI| 2.99|http://ecx.images...|          |           |    Business & Money|After I saw so ma...|[B00AIEU990, B00C...|      null|                null|                null|                null|   null|                null|\n",
      "|B001EGPV6W|     |http://ecx.images...|          |           |Literature & Fiction|                    |[B00CE7B32G, B00A...|      null|                null|                null|                null|   null|                null|\n",
      "|B001ET6C80|     |http://ecx.images...|          |           |  Arts & Photography|                    |                  []|B001ET6C80|Literature & Fiction| Expect Nothing Less|    Warren Strickler|3342968|                  []|\n",
      "|B001EYUVAK| 7.01|http://ecx.images...|          |           |      Science & Math|                    |                  []|      null|                null|                null|                null|   null|                null|\n",
      "|B001F0RUNY| 3.99|http://ecx.images...|          |           |Literature & Fiction|                    |[B0098IILBU, B00J...|B001F0RUNY|Literature & Fiction|Queen's Own FBI T...|       Mark Phillips|1490001|                  []|\n",
      "|B001F509GE|  0.0|http://ecx.images...|          |           |Humor & Entertain...|                    |[B004O4C074, B00D...|B001F509GE|Literature & Fiction|    Everyday Madness|      Matthew Malone|2172267|                  []|\n",
      "|B001F7AI68|     |http://ecx.images...|          |           |Literature & Fiction|As a boy, Don pla...|[B0094JIY7E, B001...|      null|                null|                null|                null|   null|                null|\n",
      "|B001F7B9KW|11.49|http://ecx.images...|          |           |Politics & Social...|Elizabeth Ann Dan...|[B00COSOS7W, B00B...|      null|                null|                null|                null|   null|                null|\n",
      "|B001F9C88M|  0.0|http://ecx.images...|          |           |Science Fiction &...|                    |[B00GK50EYG, B008...|      null|                null|                null|                null|   null|                null|\n",
      "|B001FSKH5O|     |http://ecx.images...|          |           |Literature & Fiction|                    |                  []|      null|                null|                null|                null|   null|                null|\n",
      "|B001G0NSC0| 0.99|http://ecx.images...|          |           |Health, Fitness &...|                    |[B001G0N6CC, B003...|      null|                null|                null|                null|   null|                null|\n",
      "|B001GDJ682|     |http://ecx.images...|          |           |  Teen & Young Adult|Grade 7–10—In thi...|                  []|B001GDJ682|   Children's eBooks|Zoe and Chloe on ...|            Sue Limb|3222852|                  []|\n",
      "|B001GFKJ4U| 3.25|http://ecx.images...|          |           |Literature & Fiction|Maddy Green was f...|[B004IATBCQ, B002...|      null|                null|                null|                null|   null|                null|\n",
      "|B001GNBM5W|     |http://ecx.images...|          |           |Humor & Entertain...|This gem of a tal...|                  []|      null|                null|                null|                null|   null|                null|\n",
      "|B001GNBZP4|     |http://ecx.images...|          |           |    Business & Money|                    |                  []|      null|                null|                null|                null|   null|                null|\n",
      "|B001GNC2X8|13.49|http://ecx.images...|          |           |             History|                    |[B00ASEDPFA, B003...|      null|                null|                null|                null|   null|                null|\n",
      "|B001GPOO64| 0.99|http://ecx.images...|          |           |             Romance|                    |[B0084J7KK2, B001...|B001GPOO64|Literature & Fiction|My Lady Compelled...|        Shirl Anders|  15536|[B00TSR8KGC, B07D...|\n",
      "|B001GUXJP6|     |http://ecx.images...|          |           |Literature & Fiction|In this adroitly ...|                  []|B001GUXJP6|Literature & Fiction|Friends for Life ...|         Carol Smith|3240172|                  []|\n",
      "|B001HQHCBQ|11.99|http://ecx.images...|          |           |Literature & Fiction|                    |[B003RWSJ06, B00H...|      null|                null|                null|                null|   null|                null|\n",
      "|B001HX35S8| 1.99|http://ecx.images...|          |           |   Children's eBooks|                    |[B002VWLL9O, B001...|      null|                null|                null|                null|   null|                null|\n",
      "|B001I2V5K8|     |http://ecx.images...|          |           |Politics & Social...|                    |                  []|      null|                null|                null|                null|   null|                null|\n",
      "|B001I45WPK|     |                null|          |           |                    |NARRATIVE Magazin...|[B001AHPAX4, B001...|      null|                null|                null|                null|   null|                null|\n",
      "|B001I460AG| 8.99|http://ecx.images...|          |           |Health, Fitness &...|                    |[B0050OH5HC, B006...|      null|                null|                null|                null|   null|                null|\n",
      "|B001I90EF8| 3.99|http://ecx.images...|          |           |    Business & Money|                    |[B006K3HIYC, B006...|      null|                null|                null|                null|   null|                null|\n",
      "|B001IP0URY| 0.99|http://ecx.images...|          |           |             Romance|                    |[B00ACBN29I, B001...|      null|                null|                null|                null|   null|                null|\n",
      "|B001IZC3UG| 9.99|http://ecx.images...|          |           |Religion & Spirit...|                    |[B001JK9BGY, B001...|      null|                null|                null|                null|   null|                null|\n",
      "|B001J1S7DQ| 3.82|http://ecx.images...|          |           |             Romance|                    |[B00ADI0RA2, B00B...|B001J1S7DQ|             Romance|Shipwrecked and S...|       Amanda McCabe|1285583|[B01EHAD9O2, B078...|\n",
      "|B001J1S7JA| 3.44|http://ecx.images...|          |           |Literature & Fiction|Unknown number.De...|[B00ADI0RU2, B00A...|      null|                null|                null|                null|   null|                null|\n",
      "|B001J1S7W2| 5.28|http://ecx.images...|          |           |Literature & Fiction|Dominique couldn'...|[B00JGABO14, B002...|      null|                null|                null|                null|   null|                null|\n",
      "|B001J2DAZ0|19.49|http://ecx.images...|          |           |Computers & Techn...|The book covers X...|[B0043D2DVO, B00B...|      null|                null|                null|                null|   null|                null|\n",
      "|B001J531WO|     |http://ecx.images...|          |           |Cookbooks, Food &...|                    |                  []|B001J531WO|Cookbooks, Food &...|Wholesome Potatoe...|       Vanessa Myers|3415490|                  []|\n",
      "|B001J6NB00| 2.99|http://ecx.images...|          |           |Humor & Entertain...|This is an old ve...|[B00IKWGM8O, B00G...|      null|                null|                null|                null|   null|                null|\n",
      "|B001J6ORH6| 9.99|http://ecx.images...|          |           |Religion & Spirit...|F. Belton Joyner ...|[B005EGSSIQ, B00D...|      null|                null|                null|                null|   null|                null|\n",
      "|B001J6OUZK|     |http://ecx.images...|          |           |             History|\"In this sober, t...|                  []|B001J6OUZK|             History|Black and White M...|  Thelma Wills Foote|3588281|                  []|\n",
      "|B001JEOVB0|     |http://ecx.images...|          |           |Politics & Social...|                    |                  []|      null|                null|                null|                null|   null|                null|\n",
      "+----------+-----+--------------------+----------+-----------+--------------------+--------------------+--------------------+----------+--------------------+--------------------+--------------------+-------+--------------------+\n",
      "only showing top 200 rows"
     ]
    }
   ],
   "source": [
    "left_join = profDF.join(jsDF, profDF.asin == jsDF.asin,how='left') # Could also use 'left_outer'\n",
    "left_join = left_join.toDF('asin', 'price', 'imUrl', 'title_prof', 'author_prof', 'cate', 'description', 'related', 'asin2', 'category', 'title', 'author', 'rank', 'recommend')\n"
   ]
  },
  {
   "cell_type": "code",
   "execution_count": 41,
   "metadata": {},
   "outputs": [
    {
     "data": {
      "application/vnd.jupyter.widget-view+json": {
       "model_id": "a61fd26a632342e5a133b2921941ff9b",
       "version_major": 2,
       "version_minor": 0
      },
      "text/plain": [
       "VBox()"
      ]
     },
     "metadata": {},
     "output_type": "display_data"
    },
    {
     "data": {
      "application/vnd.jupyter.widget-view+json": {
       "model_id": "",
       "version_major": 2,
       "version_minor": 0
      },
      "text/plain": [
       "FloatProgress(value=0.0, bar_style='info', description='Progress:', layout=Layout(height='25px', width='50%'),…"
      ]
     },
     "metadata": {},
     "output_type": "display_data"
    },
    {
     "name": "stdout",
     "output_type": "stream",
     "text": [
      "+----------+-----+--------------------+----------+-----------+--------------------+--------------------+--------------------+----------+--------------------+--------------------+--------------------+-------+--------------------+\n",
      "|      asin|price|               imUrl|title_prof|author_prof|                cate|         description|             related|     asin2|            category|               title|              author|   rank|           recommend|\n",
      "+----------+-----+--------------------+----------+-----------+--------------------+--------------------+--------------------+----------+--------------------+--------------------+--------------------+-------+--------------------+\n",
      "|B000F83STC|     |http://g-ecx.imag...|          |           |Literature & Fiction|                    |                  []|          |                    |                    |                    |       |                    |\n",
      "|B000FBFL4E|     |http://ecx.images...|          |           |Professional & Te...|The terms and inf...|                  []|          |                    |                    |                    |       |                    |\n",
      "|B000FBFP5O| 1.95|http://ecx.images...|          |           |Science Fiction &...|                    |                  []|          |                    |                    |                    |       |                    |\n",
      "|B000FC0YZO| 9.99|http://ecx.images...|          |           |Literature & Fiction|                    |[B007BZC13G, B001...|          |                    |                    |                    |       |                    |\n",
      "|B000FC132C| 3.99|http://ecx.images...|          |           |   Children's eBooks|R.L. Stine began ...|[B002JXB8B6, B004...|          |                    |                    |                    |       |                    |\n",
      "|B000FC1AGQ|17.95|http://ecx.images...|          |           |Literature & Fiction|One of the partic...|[B000FC1L56, B000...|          |                    |                    |                    |       |                    |\n",
      "|B000FC1EA8| 1.99|http://ecx.images...|          |           |Literature & Fiction|                    |[B00F8FXE8M, B00C...|          |                    |                    |                    |       |                    |\n",
      "|B000FC1FES|  0.0|http://ecx.images...|          |           |Literature & Fiction|                    |[B00G6O0JLE, B008...|          |                    |                    |                    |       |                    |\n",
      "|B000FC1RXC| 8.89|http://ecx.images...|          |           |Literature & Fiction|A road trip turns...|[B005467CA6, B00I...|          |                    |                    |                    |       |                    |\n",
      "|B000FC1W3M| 2.99|http://ecx.images...|          |           |Science Fiction &...|                    |[B00I344DMQ, B006...|          |                    |                    |                    |       |                    |\n",
      "|B000FC2006|     |http://ecx.images...|          |           |  Arts & Photography|                    |                  []|          |                    |                    |                    |       |                    |\n",
      "|B000FC206U| 9.19|http://ecx.images...|          |           |Literature & Fiction|                    |[B007X509V0, B008...|          |                    |                    |                    |       |                    |\n",
      "|B000FC22WC|     |http://ecx.images...|          |           |Literature & Fiction|                    |        [B008NG22FY]|          |                    |                    |                    |       |                    |\n",
      "|B000FC26RI| 9.99|http://ecx.images...|          |           |Literature & Fiction|The third install...|[B00G4GK20W, B006...|          |                    |                    |                    |       |                    |\n",
      "|B000FCKH6A| 5.99|http://ecx.images...|          |           |Literature & Fiction|As in Santlofer's...|[B00GWOF83W, B00J...|          |                    |                    |                    |       |                    |\n",
      "|B000IMVMXE|     |                    |          |           |                    |Reuters is a lead...|                  []|          |                    |                    |                    |       |                    |\n",
      "|B000JML2YW| 0.99|http://ecx.images...|          |           |Literature & Fiction|                    |[B00H1ZWGJU, B00I...|          |                    |                    |                    |       |                    |\n",
      "|B000JMLIY6| 0.99|http://ecx.images...|          |           |Literature & Fiction|                    |[B007L4T4UA, B00I...|          |                    |                    |                    |       |                    |\n",
      "|B000JQUCDA| 9.99|http://ecx.images...|          |           |             History|                    |[B003XVYLH6, B003...|          |                    |                    |                    |       |                    |\n",
      "|B000JQUJ6U| 0.99|http://ecx.images...|          |           |  Arts & Photography|                    |[B0093M15D2, B005...|          |                    |                    |                    |       |                    |\n",
      "|B000JQUXBQ| 0.99|http://ecx.images...|          |           |Literature & Fiction|                    |[B00K31USUS, B00C...|          |                    |                    |                    |       |                    |\n",
      "|B000JQV1K8| 5.99|http://ecx.images...|          |           |   Children's eBooks|                    |[B00A9IM452, B00A...|          |                    |                    |                    |       |                    |\n",
      "|B000JQV1W6| 0.99|http://ecx.images...|          |           |Science Fiction &...|                    |[B002HMCIBI, B00B...|          |                    |                    |                    |       |                    |\n",
      "|B000MAH920| 3.25|http://ecx.images...|          |           |Literature & Fiction|                    |[B003Z6QOVU, B00A...|          |                    |                    |                    |       |                    |\n",
      "|B000MAHAOC|  3.1|http://ecx.images...|          |           |Literature & Fiction|                    |[B001E28M2Q, B003...|          |                    |                    |                    |       |                    |\n",
      "|B000MAHAZ6| 3.25|http://ecx.images...|          |           |Literature & Fiction|                    |[B001E28M2Q, B003...|          |                    |                    |                    |       |                    |\n",
      "|B000N8V2EW|     |                    |          |           |                    |The Associated Pr...|[B002MAP9X4, B001...|          |                    |                    |                    |       |                    |\n",
      "|B000NJL7NC| 2.99|http://ecx.images...|          |           |Literature & Fiction|“Breathtaking.......|[B001RS8L7S, B00I...|          |                    |                    |                    |       |                    |\n",
      "|B000OI0PF8|13.04|http://ecx.images...|          |           |   Sports & Outdoors|                    |[B0060HWP1O, B000...|          |                    |                    |                    |       |                    |\n",
      "|B000OI0TTK|18.96|http://ecx.images...|          |           |Politics & Social...|'An important and...|                  []|          |                    |                    |                    |       |                    |\n",
      "|B000OI0Y1S|11.38|http://ecx.images...|          |           |Literature & Fiction|Byron Lee Grigsby...|                  []|          |                    |                    |                    |       |                    |\n",
      "|B000OI0ZXU|14.52|http://g-ecx.imag...|          |           |Professional & Te...|The book is writt...|[B00AFS6LSC, B009...|          |                    |                    |                    |       |                    |\n",
      "|B000OI1656| 6.45|http://ecx.images...|          |           |             History|'A comprehensive ...|                  []|          |                    |                    |                    |       |                    |\n",
      "|B000OT81IK|11.38|http://ecx.images...|          |           |Literature & Fiction|Joe Braylectures ...|                  []|          |                    |                    |                    |       |                    |\n",
      "|B000OT8DIS| 8.61|http://ecx.images...|          |           |             History|There are few boo...|        [B00EKSZM1K]|          |                    |                    |                    |       |                    |\n",
      "|B000P0JO9I| 3.79|http://ecx.images...|          |           |Literature & Fiction|\"Apodaca writes a...|[B004P8K2HY, B006...|          |                    |                    |                    |       |                    |\n",
      "|B000P2XHEO| 9.55|http://ecx.images...|          |           |             History|'This work weaves...|[B00H6UOG70, B006...|          |                    |                    |                    |       |                    |\n",
      "|B000PC6CSC|     |http://ecx.images...|          |           |Biographies & Mem...|From the reviews:...|                  []|          |                    |                    |                    |       |                    |\n",
      "|B000PLXD3A| 9.14|http://ecx.images...|          |           |  Arts & Photography|An extremely infl...|[B00A208TMY, B007...|          |                    |                    |                    |       |                    |\n",
      "|B000PSJ8PK| 12.0|http://ecx.images...|          |           |Health, Fitness &...|Woltager; Michael...|                  []|          |                    |                    |                    |       |                    |\n",
      "|B000PSJ9RW|     |http://ecx.images...|          |           |    Business & Money|Henry R. Neavespe...|                  []|          |                    |                    |                    |       |                    |\n",
      "|B000PY3I50|  0.0|http://ecx.images...|          |           |             History|?[E]xceptionally ...|[B001NIZW5Q, B003...|          |                    |                    |                    |       |                    |\n",
      "|B000PY3MVA|     |http://ecx.images...|          |           |Health, Fitness &...|                    |[B00CD3O5WG, B006...|          |                    |                    |                    |       |                    |\n",
      "|B000PY4EZI|     |http://ecx.images...|          |           |Professional & Te...|                    |                  []|          |                    |                    |                    |       |                    |\n",
      "|B000PY4F8E|     |http://ecx.images...|          |           |    Business & Money|                    |                  []|          |                    |                    |                    |       |                    |\n",
      "|B000Q9J0BU|     |http://ecx.images...|          |           |Literature & Fiction|4 Angels: \"Fantas...|                  []|          |                    |                    |                    |       |                    |\n",
      "|B000QCTP0S| 1.99|http://ecx.images...|          |           |Literature & Fiction|                    |[B00D5BFDKI, B007...|          |                    |                    |                    |       |                    |\n",
      "|B000QED002|     |http://ecx.images...|          |           |    Business & Money|                    |                  []|          |                    |                    |                    |       |                    |\n",
      "|B000R93D30| 0.99|http://ecx.images...|          |           |             Romance|                    |[B003MC5AT4, B005...|          |                    |                    |                    |       |                    |\n",
      "|B000R93DZS| 3.99|http://ecx.images...|          |           |             Romance|Reflections of Be...|[B001DUGORY, B00F...|          |                    |                    |                    |       |                    |\n",
      "|B000RGUOBM|     |http://ecx.images...|          |           |Health, Fitness &...|Cindy Dell Clark ...|[B00C0ALGKQ, B004...|          |                    |                    |                    |       |                    |\n",
      "|B000S1LVDQ| 4.37|http://ecx.images...|          |           |  Teen & Young Adult|Catherine Clark i...|[B002ASFPP0, B001...|          |                    |                    |                    |       |                    |\n",
      "|B000SBH11C|     |http://ecx.images...|          |           |Politics & Social...|\"Haley, drawing o...|[B00C4UT1B8, B006...|          |                    |                    |                    |       |                    |\n",
      "|B000SBK44I|     |http://ecx.images...|          |           |             History|\"It should be req...|[B00DMKS0H0, B00E...|          |                    |                    |                    |       |                    |\n",
      "|B000SBZ3EO|     |http://ecx.images...|          |           |Health, Fitness &...|                    |                  []|          |                    |                    |                    |       |                    |\n",
      "|B000SEF3A0|     |http://ecx.images...|          |           |Literature & Fiction|The 1998 publicat...|                  []|          |                    |                    |                    |       |                    |\n",
      "|B000SEGFRK|     |http://ecx.images...|          |           |Literature & Fiction|                    |                  []|          |                    |                    |                    |       |                    |\n",
      "|B000SEGH0A|19.34|http://ecx.images...|          |           |Politics & Social...|Jamie S. Davidson...|                  []|          |                    |                    |                    |       |                    |\n",
      "|B000SEGUGG| 8.26|http://ecx.images...|          |           |   Sports & Outdoors|The perfect read ...|[B00GSDQWG4, B007...|          |                    |                    |                    |       |                    |\n",
      "|B000SEP8WS|11.95|http://ecx.images...|          |           |   Children's eBooks|Grade 4-6.  Chris...|[B00C0WUSTY, B004...|          |                    |                    |                    |       |                    |\n",
      "|B000SEVHC8| 2.99|http://g-ecx.imag...|          |           |  Arts & Photography|Medieval architec...|[B005FLM7H8, B00E...|          |                    |                    |                    |       |                    |\n",
      "|B000SH2F76|     |http://ecx.images...|          |           |   Children's eBooks|                    |[B00BHGV46K, B000...|          |                    |                    |                    |       |                    |\n",
      "|B000SHGC3O| 8.09|http://ecx.images...|          |           |Religion & Spirit...|Bill Hybels, foun...|[B000SH4L1O, B003...|          |                    |                    |                    |       |                    |\n",
      "|B000SIEHVM|13.18|http://ecx.images...|          |           |Biographies & Mem...|'Brackman has don...|                  []|          |                    |                    |                    |       |                    |\n",
      "|B000SM7Z8A|     |http://ecx.images...|          |           |   Children's eBooks|Crystal Bowman lo...|[B003JH83B4, B002...|          |                    |                    |                    |       |                    |\n",
      "|B000T6D47G| 3.99|http://ecx.images...|          |           |             Romance|                    |[B001DUGORY, B008...|          |                    |                    |                    |       |                    |\n",
      "|B000UMZMK6| 2.66|http://ecx.images...|          |           |             Romance|                    |[B00ITF9OFA, B004...|          |                    |                    |                    |       |                    |\n",
      "|B000V50752|10.99|http://ecx.images...|          |           |Literature & Fiction|\"Elegantly concei...|[B00BCFZLJ2, B007...|          |                    |                    |                    |       |                    |\n",
      "|B000VWBQCI|  2.1|http://ecx.images...|          |           |Literature & Fiction|                    |[B008VSS9IS, B00A...|          |                    |                    |                    |       |                    |\n",
      "|B000VYX8ZE| 3.99|http://ecx.images...|          |           |Literature & Fiction|                    |[B009OUDVSU, B005...|          |                    |                    |                    |       |                    |\n",
      "|B000VZSQ78|     |http://ecx.images...|          |           |  Teen & Young Adult|Barbara Ellen Hil...|                  []|          |                    |                    |                    |       |                    |\n",
      "|B000W277TS|     |http://ecx.images...|          |           |Parenting & Relat...|A new series of c...|                  []|          |                    |                    |                    |       |                    |\n",
      "|B000W7KNC6| 6.64|http://ecx.images...|          |           |Science Fiction &...|                    |[B000OVLKOA, B001...|          |                    |                    |                    |       |                    |\n",
      "|B000WLLWEU|     |http://ecx.images...|          |           |Health, Fitness &...|One of America's ...|[B004C43IIG, B006...|          |                    |                    |                    |       |                    |\n",
      "|B000X138ZA| 0.99|http://ecx.images...|          |           |Mystery, Thriller...|UPDATED!!! THE MO...|[B005HJU7HA, B00D...|          |                    |                    |                    |       |                    |\n",
      "|B000XU4TQS| 8.54|http://ecx.images...|          |           |   Children's eBooks|Did Mandie lose h...|[B006T46PY6, B001...|          |                    |                    |                    |       |                    |\n",
      "|B000XU4TXQ| 5.99|http://ecx.images...|          |           |Mystery, Thriller...|“Hart is a master...|[B004GNFF5M, B00C...|          |                    |                    |                    |       |                    |\n",
      "|B000YHHTHQ|12.64|http://ecx.images...|          |           |Computers & Techn...|\"This is an excel...|[B004X1D1Q2, B009...|          |                    |                    |                    |       |                    |\n",
      "|B000YJ5480| 6.99|http://ecx.images...|          |           |Literature & Fiction|Praise for Doroth...|[B000Q9IMXC, B000...|          |                    |                    |                    |       |                    |\n",
      "|B000ZLMD5O| 3.03|http://ecx.images...|          |           |Literature & Fiction|                    |[B001E70ROM, B000...|          |                    |                    |                    |       |                    |\n",
      "|B000ZLMD68| 2.66|http://ecx.images...|          |           |Literature & Fiction|4.5 Stars:\"Emma W...|[B001E70ROM, B000...|          |                    |                    |                    |       |                    |\n",
      "|B0010YXM78|     |http://ecx.images...|          |           |Literature & Fiction|                    |[B008QNVC14, B00H...|          |                    |                    |                    |       |                    |\n",
      "|B001190ZMW|     |http://ecx.images...|          |           |Literature & Fiction|                    |                  []|          |                    |                    |                    |       |                    |\n",
      "|B0011GJLDY|     |http://ecx.images...|          |           |Literature & Fiction|                    |[B009W77SXO, B002...|          |                    |                    |                    |       |                    |\n",
      "|B0011LRDYI|     |http://ecx.images...|          |           |Literature & Fiction|                    |                  []|          |                    |                    |                    |       |                    |\n",
      "|B0011UCOHK|15.39|http://ecx.images...|          |           |Computers & Techn...|                    |[B003U890NW, B009...|          |                    |                    |                    |       |                    |\n",
      "|B0012094GI| 4.39|http://ecx.images...|          |           |             Romance|                    |[B00B0A70Z2, B004...|          |                    |                    |                    |       |                    |\n",
      "|B00120XUTA| 3.99|http://ecx.images...|          |           |    Business & Money|\"This is a great ...|        [B007FKM222]|          |                    |                    |                    |       |                    |\n",
      "|B001281LC0|     |http://ecx.images...|          |           |Humor & Entertain...|                    |                  []|          |                    |                    |                    |       |                    |\n",
      "|B0012DNMAO|     |http://ecx.images...|          |           |Literature & Fiction|Mark Dubbin has a...|[B00FAEUZHE, B00J...|          |                    |                    |                    |       |                    |\n",
      "|B0012DOX2U|     |http://ecx.images...|          |           |Mystery, Thriller...|                    |[B00BAJY0VK, B00K...|          |                    |                    |                    |       |                    |\n",
      "|B00132S72C| 0.99|http://ecx.images...|          |           |Computers & Techn...|                    |        [B007CD3SOI]|          |                    |                    |                    |       |                    |\n",
      "|B00134D6QC| 3.79|http://ecx.images...|          |           |Literature & Fiction|                    |[B00ESMUSYO, B009...|          |                    |                    |                    |       |                    |\n",
      "|B0013MT2OY|     |http://ecx.images...|          |           |Literature & Fiction|                    |                  []|          |                    |                    |                    |       |                    |\n",
      "|B0013N882K| 6.15|http://ecx.images...|          |           |Literature & Fiction|                    |[B003GDI8NY, B007...|B0013N882K|Literature & Fiction|East of the Sun a...|        Nancy Madore|1786354|[B007SNDYKU, B007...|\n",
      "|B0013OOWHY|32.87|http://ecx.images...|          |           |Literature & Fiction|\"In Reading the Z...|[B004TRXOTY, B004...|          |                    |                    |                    |       |                    |\n",
      "|B0013V9YFC|     |http://ecx.images...|          |           |Literature & Fiction|                    |                  []|          |                    |                    |                    |       |                    |\n",
      "|B0013XXN70|     |http://ecx.images...|          |           |Literature & Fiction|                    |                  []|          |                    |                    |                    |       |                    |\n",
      "|B00147GGL0| 6.15|http://ecx.images...|          |           |Literature & Fiction|                    |[B00CF10SUE, B003...|          |                    |                    |                    |       |                    |\n",
      "|B00147TPCC|     |http://ecx.images...|          |           |  Teen & Young Adult|                    |                  []|          |                    |                    |                    |       |                    |\n",
      "|B00149ZWWM|     |http://ecx.images...|          |           |Literature & Fiction|\"* \"If you're loo...|[B0031W1EEA, B001...|          |                    |                    |                    |       |                    |\n",
      "|B0014BRN40| 3.79|http://ecx.images...|          |           |Literature & Fiction|                    |[B001BM2ZI6, B00B...|B0014BRN40|Religion & Spirit...|      Broken Lullaby|        Pamela Tracy|1792545|                  []|\n",
      "|B0014SCVMM|     |http://ecx.images...|          |           |  Arts & Photography|                    |[B0056J62HA, B009...|          |                    |                    |                    |       |                    |\n",
      "|B00153NBV6|     |http://ecx.images...|          |           |             Romance|                    |[B0061DH5QM, B009...|          |                    |                    |                    |       |                    |\n",
      "|B0015ACGQ0| 0.99|http://ecx.images...|          |           |Literature & Fiction|Painting an entic...|[B005DKRFPU, B008...|          |                    |                    |                    |       |                    |\n",
      "|B0015DRPV8| 5.12|http://ecx.images...|          |           |   Children's eBooks|Franklin W. Dixon...|[B007QUUJFI, B007...|          |                    |                    |                    |       |                    |\n",
      "|B0015KGWC4| 3.82|http://ecx.images...|          |           |             Romance|                    |[B0015DWL8K, B00J...|          |                    |                    |                    |       |                    |\n",
      "|B0015KLIF0|     |http://ecx.images...|          |           |             History|\"Unquestionably t...|                  []|B0015KLIF0|             History|Jewish Life in Sm...|  Lee Shai Weissbach|2458644|                  []|\n",
      "|B0015MLPBU|     |http://ecx.images...|          |           |Mystery, Thriller...|There is a large ...|                  []|          |                    |                    |                    |       |                    |\n",
      "|B0015V9DF6| 3.79|http://ecx.images...|          |           |Literature & Fiction|                    |[B00835W3R2, B002...|          |                    |                    |                    |       |                    |\n",
      "|B0015YEQHS| 4.24|http://ecx.images...|          |           |             Romance|                    |[B0042P5I9M, B008...|          |                    |                    |                    |       |                    |\n",
      "|B0015ZFUD6|     |http://ecx.images...|          |           |Education & Teaching|                    |                  []|B0015ZFUD6|Education & Teaching|Pass Your Bar Exa...|       Gary L. Brown|4323875|                  []|\n",
      "|B0016ALQ4C|     |http://ecx.images...|          |           |Literature & Fiction|Christopher Andre...|[B001MS7T1M, B001...|B0016ALQ4C|Literature & Fiction|The Darkness With...| Christopher Andrews|2397688|                  []|\n",
      "|B0016IXM96| 3.44|http://ecx.images...|          |           |             Romance|                    |[B00K9NWRHW, B001...|          |                    |                    |                    |       |                    |\n",
      "|B0016MX89G|     |http://ecx.images...|          |           |    Business & Money|Cum laude and Phi...|                  []|B0016MX89G|Politics & Social...|The Nazi Paradigm...|        Mark Jarmuth|2357715|                  []|\n",
      "|B0016RS9F4|     |http://ecx.images...|          |           |Health, Fitness &...|                    |[B0016RQ4UG, B001...|B0016RS9F4|Religion & Spirit...|Think Again about...|Bruce C. E. Flemi...|2536617|                  []|\n",
      "|B00171ELWO| 0.99|http://ecx.images...|          |           |Professional & Te...|                    |        [B007PM4ZZW]|          |                    |                    |                    |       |                    |\n",
      "|B00174RBFK| 4.49|http://ecx.images...|          |           |Literature & Fiction|Dante Alighieri (...|[B0045U9RDC, B004...|B00174RBFK|Literature & Fiction|The Divine Comedy...|     Dante Alighieri|1401294|[B072KN9G8N, B00A...|\n",
      "|B0017OO55Y|  0.0|http://ecx.images...|          |           |  Arts & Photography|                    |[B00AECHQBK, B004...|          |                    |                    |                    |       |                    |\n",
      "|B0017QNMEW|     |http://ecx.images...|          |           |Religion & Spirit...|                    |                  []|          |                    |                    |                    |       |                    |\n",
      "|B0017SUZCM| 3.82|http://ecx.images...|          |           |Literature & Fiction|                    |[B0041KLERS, B004...|          |                    |                    |                    |       |                    |\n",
      "|B00183NL7M| 9.95|http://ecx.images...|          |           |  Arts & Photography|Jane Austen, Engl...|[B00BERUNZ0, B00D...|          |                    |                    |                    |       |                    |\n",
      "|B00186A6HW|     |http://ecx.images...|          |           |Literature & Fiction|                    |[B00124T2AC, B005...|          |                    |                    |                    |       |                    |\n",
      "|B00186Z0VO| 2.99|http://ecx.images...|          |           |Literature & Fiction|Bestselling\n",
      "autho...|[B00D1WWGT2, B004...|B00186Z0VO|Literature & Fiction|The Family Next D...|  Jacqueline Diamond|1897531|                  []|\n",
      "|B00186Z0WI|     |http://ecx.images...|          |           |Literature & Fiction|                    |[B004BLK2X4, B007...|B00186Z0WI|Literature & Fiction|A Sexy Time of It...|        Cara Summers|2347321|                  []|\n",
      "|B001873ROU| 2.99|http://ecx.images...|          |           |Literature & Fiction|                    |[B00I66BOSC, B005...|B001873ROU|Literature & Fiction|His Pregnant Hous...|   Caroline Anderson| 743860|[B001R4GNB8, B005...|\n",
      "|B0018BU55A|     |http://ecx.images...|          |           |Literature & Fiction|Jinxed is a very ...|        [B002CQ28DW]|          |                    |                    |                    |       |                    |\n",
      "|B0018BY2H2|     |http://ecx.images...|          |           |Politics & Social...|                    |                  []|B0018BY2H2|Religion & Spirit...|Ego. Is It Runnin...|         J.D. Rhodes|2795384|                  []|\n",
      "|B0018GY5QU| 3.99|http://ecx.images...|          |           |Science Fiction &...|Kathy lives in Ca...|[B009MQDIV6, B008...|          |                    |                    |                    |       |                    |\n",
      "|B0018O4PZS|     |http://ecx.images...|          |           |             History|                    |                  []|B0018O4PZS|             History|       Andersonville|       John  McElroy|3062303|                  []|\n",
      "|B0018TVY4I|     |http://ecx.images...|          |           |    Business & Money|Jean Yatesteaches...|[B00195THPE, B004...|          |                    |                    |                    |       |                    |\n",
      "|B00194CY1E|     |http://ecx.images...|          |           |    Business & Money|Get your career b...|                  []|          |                    |                    |                    |       |                    |\n",
      "|B001974DE2|     |http://ecx.images...|          |           |             Romance|Kathleen Dantehas...|                  []|          |                    |                    |                    |       |                    |\n",
      "|B00198R1IQ| 2.99|http://ecx.images...|          |           |Literature & Fiction|\"The ambivalence ...|[B00DYWG898, B005...|          |                    |                    |                    |       |                    |\n",
      "|B0019AMSCS|     |http://ecx.images...|          |           |Professional & Te...|                    |                  []|B0019AMSCS|      Science & Math|Advanced Problems...|            McKillop|4544199|                  []|\n",
      "|B0019RVYNK|  8.1|http://ecx.images...|          |           |Health, Fitness &...|Transformation fo...|[B001QPHNZS, B008...|          |                    |                    |                    |       |                    |\n",
      "|B001A06VJ8| 7.99|http://ecx.images...|          |           |Education & Teaching|                    |[B0031BVJ7I, B00F...|B001A06VJ8|Religion & Spirit...|The Old Testament...|     David J. Ridges| 649708|[B00JGZIGM4, B00J...|\n",
      "|B001AAWPK2|     |http://ecx.images...|          |           |           Reference|                    |[B003WUYQC8, B00C...|          |                    |                    |                    |       |                    |\n",
      "|B001AOEDKI|     |http://ecx.images...|          |           |Education & Teaching|Mention \"special ...|[B005CKKEZE, B009...|B001AOEDKI|Education & Teaching|Handbook of Gifte...|Steven I. Pfeiffe...|2423704|                  []|\n",
      "|B001AOVWPC| 8.68|http://ecx.images...|          |           |Professional & Te...|\"This book is ful...|        [B0036ZBVH2]|B001AOVWPC|                 Law|The Making of Mod...|        Brad Sherman|2755445|                  []|\n",
      "|B001AQ99UA|     |http://ecx.images...|          |           |Literature & Fiction|\"As Duttlinger co...|                  []|B001AQ99UA|Literature & Fiction|Kafka and Photogr...|  Carolin Duttlinger|3385758|                  []|\n",
      "|B001AUAXII|     |http://ecx.images...|          |           |Health, Fitness &...|                    |                  []|          |                    |                    |                    |       |                    |\n",
      "|B001AVG3ZY|     |http://ecx.images...|          |           |   Children's eBooks|                    |                  []|B001AVG3ZY|              Travel|Welcome to Califo...|          Colin Zhao|4777081|                  []|\n",
      "|B001BRD238| 6.79|http://ecx.images...|          |           |             Romance|Five StarsRainbow...|[B002TG4P8G, B002...|B001BRD238|             Romance|Secrets: a PsyCop...|Jordan Castillo P...|4250754|                  []|\n",
      "|B001BS7PEE|     |http://ecx.images...|          |           |    Business & Money|                    |                  []|B001BS7PEE|    Business & Money|Your First Two Ye...|       Lilly Walters|4591321|                  []|\n",
      "|B001BYU51I|     |http://ecx.images...|          |           |             History|                    |[B00JYSQ5CG, B00B...|          |                    |                    |                    |       |                    |\n",
      "|B001C6J1AG|     |http://ecx.images...|          |           |Professional & Te...|                    |                  []|          |                    |                    |                    |       |                    |\n",
      "|B001CCUQJ0|10.49|http://ecx.images...|          |           |Health, Fitness &...|\"Umberson has min...|[B00ESQAL42, B006...|          |                    |                    |                    |       |                    |\n",
      "|B001CDA3BA| 3.44|http://ecx.images...|          |           |Literature & Fiction|                    |[B000VYX8HC, B008...|          |                    |                    |                    |       |                    |\n",
      "|B001CKJW6K|38.69|http://ecx.images...|          |           |Professional & Te...|                    |[B001MWRTF4, B00H...|          |                    |                    |                    |       |                    |\n",
      "|B001CMQ6JY| 3.44|http://ecx.images...|          |           |             Romance|                    |[B00JM1HPUQ, B006...|          |                    |                    |                    |       |                    |\n",
      "|B001CMQ6NA| 4.24|http://ecx.images...|          |           |             Romance|                    |[B00GQE9CXA, B00C...|          |                    |                    |                    |       |                    |\n",
      "|B001CMQ6P8| 1.49|http://ecx.images...|          |           |             Romance|90/100 & A Keeper...|[B00K5E9T8U, B00I...|          |                    |                    |                    |       |                    |\n",
      "|B001CPV5AG|57.98|http://ecx.images...|          |           |Professional & Te...|'a comprehensive ...|                  []|          |                    |                    |                    |       |                    |\n",
      "|B001CXLBIO|     |http://ecx.images...|          |           |Health, Fitness &...|                    |                  []|          |                    |                    |                    |       |                    |\n",
      "|B001D0JDAY|     |http://ecx.images...|          |           |Health, Fitness &...|Sally Downham Mil...|[B003GIRTJ8, B002...|          |                    |                    |                    |       |                    |\n",
      "|B001D3CQZU| 3.25|http://ecx.images...|          |           |Literature & Fiction|Perfect.Absolutel...|[B00186Z0XW, B001...|B001D3CQZU|Literature & Fiction|One Night, One Ba...|          Kate Hardy| 123197|[B003VYBXGC, B004...|\n",
      "|B001D49M06|27.49|http://ecx.images...|          |           |             Romance|                    |[B00CJPYF8C, B001...|          |                    |                    |                    |       |                    |\n",
      "|B001DC89T8| 2.99|http://ecx.images...|          |           |Crafts, Hobbies &...|                    |[B007RIMU2O, B00C...|          |                    |                    |                    |       |                    |\n",
      "|B001DIN7IA|     |http://ecx.images...|          |           |    Business & Money|                    |        [B00AUJBX16]|          |                    |                    |                    |       |                    |\n",
      "|B001E2IPSM|  0.0|http://ecx.images...|          |           |Literature & Fiction|                    |[B004N62LCW, B008...|B001E2IPSM|Literature & Fiction|The Essential Fan...|        Lord Dunsany|3550037|                  []|\n",
      "|B001E2XMOE|14.72|http://ecx.images...|          |           |Humor & Entertain...|                    |[B002XQ2AG6, B004...|B001E2XMOE|Humor & Entertain...|The No B.S. Guide...|        Chris Wilcox|1967090|                  []|\n",
      "|B001E3LOES| 4.84|http://ecx.images...|          |           |           Reference|                    |[B0075WJK8Y, B00I...|B001E3LOES|   Sports & Outdoors|Learn Spearfishin...|          Rob Parker|1422645|                  []|\n",
      "|B001E5E93O| 2.99|http://ecx.images...|          |           |    Business & Money|                    |[B006IH6EL8, B005...|          |                    |                    |                    |       |                    |\n",
      "|B001E6V2FQ|     |http://ecx.images...|          |           |Literature & Fiction|John Warnock earn...|                  []|B001E6V2FQ|Literature & Fiction|             Reunion|     John W. Warnock|4791912|                  []|\n",
      "|B001ECQLDI| 2.99|http://ecx.images...|          |           |    Business & Money|After I saw so ma...|[B00AIEU990, B00C...|          |                    |                    |                    |       |                    |\n",
      "|B001EGPV6W|     |http://ecx.images...|          |           |Literature & Fiction|                    |[B00CE7B32G, B00A...|          |                    |                    |                    |       |                    |\n",
      "|B001ET6C80|     |http://ecx.images...|          |           |  Arts & Photography|                    |                  []|B001ET6C80|Literature & Fiction| Expect Nothing Less|    Warren Strickler|3342968|                  []|\n",
      "|B001EYUVAK| 7.01|http://ecx.images...|          |           |      Science & Math|                    |                  []|          |                    |                    |                    |       |                    |\n",
      "|B001F0RUNY| 3.99|http://ecx.images...|          |           |Literature & Fiction|                    |[B0098IILBU, B00J...|B001F0RUNY|Literature & Fiction|Queen's Own FBI T...|       Mark Phillips|1490001|                  []|\n",
      "|B001F509GE|  0.0|http://ecx.images...|          |           |Humor & Entertain...|                    |[B004O4C074, B00D...|B001F509GE|Literature & Fiction|    Everyday Madness|      Matthew Malone|2172267|                  []|\n",
      "|B001F7AI68|     |http://ecx.images...|          |           |Literature & Fiction|As a boy, Don pla...|[B0094JIY7E, B001...|          |                    |                    |                    |       |                    |\n",
      "|B001F7B9KW|11.49|http://ecx.images...|          |           |Politics & Social...|Elizabeth Ann Dan...|[B00COSOS7W, B00B...|          |                    |                    |                    |       |                    |\n",
      "|B001F9C88M|  0.0|http://ecx.images...|          |           |Science Fiction &...|                    |[B00GK50EYG, B008...|          |                    |                    |                    |       |                    |\n",
      "|B001FSKH5O|     |http://ecx.images...|          |           |Literature & Fiction|                    |                  []|          |                    |                    |                    |       |                    |\n",
      "|B001G0NSC0| 0.99|http://ecx.images...|          |           |Health, Fitness &...|                    |[B001G0N6CC, B003...|          |                    |                    |                    |       |                    |\n",
      "|B001GDJ682|     |http://ecx.images...|          |           |  Teen & Young Adult|Grade 7–10—In thi...|                  []|B001GDJ682|   Children's eBooks|Zoe and Chloe on ...|            Sue Limb|3222852|                  []|\n",
      "|B001GFKJ4U| 3.25|http://ecx.images...|          |           |Literature & Fiction|Maddy Green was f...|[B004IATBCQ, B002...|          |                    |                    |                    |       |                    |\n",
      "|B001GNBM5W|     |http://ecx.images...|          |           |Humor & Entertain...|This gem of a tal...|                  []|          |                    |                    |                    |       |                    |\n",
      "|B001GNBZP4|     |http://ecx.images...|          |           |    Business & Money|                    |                  []|          |                    |                    |                    |       |                    |\n",
      "|B001GNC2X8|13.49|http://ecx.images...|          |           |             History|                    |[B00ASEDPFA, B003...|          |                    |                    |                    |       |                    |\n",
      "|B001GPOO64| 0.99|http://ecx.images...|          |           |             Romance|                    |[B0084J7KK2, B001...|B001GPOO64|Literature & Fiction|My Lady Compelled...|        Shirl Anders|  15536|[B00TSR8KGC, B07D...|\n",
      "|B001GUXJP6|     |http://ecx.images...|          |           |Literature & Fiction|In this adroitly ...|                  []|B001GUXJP6|Literature & Fiction|Friends for Life ...|         Carol Smith|3240172|                  []|\n",
      "|B001HQHCBQ|11.99|http://ecx.images...|          |           |Literature & Fiction|                    |[B003RWSJ06, B00H...|          |                    |                    |                    |       |                    |\n",
      "|B001HX35S8| 1.99|http://ecx.images...|          |           |   Children's eBooks|                    |[B002VWLL9O, B001...|          |                    |                    |                    |       |                    |\n",
      "|B001I2V5K8|     |http://ecx.images...|          |           |Politics & Social...|                    |                  []|          |                    |                    |                    |       |                    |\n",
      "|B001I45WPK|     |                    |          |           |                    |NARRATIVE Magazin...|[B001AHPAX4, B001...|          |                    |                    |                    |       |                    |\n",
      "|B001I460AG| 8.99|http://ecx.images...|          |           |Health, Fitness &...|                    |[B0050OH5HC, B006...|          |                    |                    |                    |       |                    |\n",
      "|B001I90EF8| 3.99|http://ecx.images...|          |           |    Business & Money|                    |[B006K3HIYC, B006...|          |                    |                    |                    |       |                    |\n",
      "|B001IP0URY| 0.99|http://ecx.images...|          |           |             Romance|                    |[B00ACBN29I, B001...|          |                    |                    |                    |       |                    |\n",
      "|B001IZC3UG| 9.99|http://ecx.images...|          |           |Religion & Spirit...|                    |[B001JK9BGY, B001...|          |                    |                    |                    |       |                    |\n",
      "|B001J1S7DQ| 3.82|http://ecx.images...|          |           |             Romance|                    |[B00ADI0RA2, B00B...|B001J1S7DQ|             Romance|Shipwrecked and S...|       Amanda McCabe|1285583|[B01EHAD9O2, B078...|\n",
      "|B001J1S7JA| 3.44|http://ecx.images...|          |           |Literature & Fiction|Unknown number.De...|[B00ADI0RU2, B00A...|          |                    |                    |                    |       |                    |\n",
      "|B001J1S7W2| 5.28|http://ecx.images...|          |           |Literature & Fiction|Dominique couldn'...|[B00JGABO14, B002...|          |                    |                    |                    |       |                    |\n",
      "|B001J2DAZ0|19.49|http://ecx.images...|          |           |Computers & Techn...|The book covers X...|[B0043D2DVO, B00B...|          |                    |                    |                    |       |                    |\n",
      "|B001J531WO|     |http://ecx.images...|          |           |Cookbooks, Food &...|                    |                  []|B001J531WO|Cookbooks, Food &...|Wholesome Potatoe...|       Vanessa Myers|3415490|                  []|\n",
      "|B001J6NB00| 2.99|http://ecx.images...|          |           |Humor & Entertain...|This is an old ve...|[B00IKWGM8O, B00G...|          |                    |                    |                    |       |                    |\n",
      "|B001J6ORH6| 9.99|http://ecx.images...|          |           |Religion & Spirit...|F. Belton Joyner ...|[B005EGSSIQ, B00D...|          |                    |                    |                    |       |                    |\n",
      "|B001J6OUZK|     |http://ecx.images...|          |           |             History|\"In this sober, t...|                  []|B001J6OUZK|             History|Black and White M...|  Thelma Wills Foote|3588281|                  []|\n",
      "|B001JEOVB0|     |http://ecx.images...|          |           |Politics & Social...|                    |                  []|          |                    |                    |                    |       |                    |\n",
      "+----------+-----+--------------------+----------+-----------+--------------------+--------------------+--------------------+----------+--------------------+--------------------+--------------------+-------+--------------------+\n",
      "only showing top 200 rows"
     ]
    }
   ],
   "source": [
    "left_join = left_join.na.fill(\"\")\n",
    "left_join.show(200)"
   ]
  },
  {
   "cell_type": "code",
   "execution_count": 40,
   "metadata": {},
   "outputs": [
    {
     "data": {
      "application/vnd.jupyter.widget-view+json": {
       "model_id": "e5071fd3bb1440dbb3283b4c4d3cbf03",
       "version_major": 2,
       "version_minor": 0
      },
      "text/plain": [
       "VBox()"
      ]
     },
     "metadata": {},
     "output_type": "display_data"
    },
    {
     "data": {
      "application/vnd.jupyter.widget-view+json": {
       "model_id": "",
       "version_major": 2,
       "version_minor": 0
      },
      "text/plain": [
       "FloatProgress(value=0.0, bar_style='info', description='Progress:', layout=Layout(height='25px', width='50%'),…"
      ]
     },
     "metadata": {},
     "output_type": "display_data"
    },
    {
     "name": "stdout",
     "output_type": "stream",
     "text": [
      "434702"
     ]
    }
   ],
   "source": [
    "left_join.count()"
   ]
  },
  {
   "cell_type": "code",
   "execution_count": 44,
   "metadata": {},
   "outputs": [
    {
     "data": {
      "application/vnd.jupyter.widget-view+json": {
       "model_id": "cebdcf402cf04eadb538e8d0514503b5",
       "version_major": 2,
       "version_minor": 0
      },
      "text/plain": [
       "VBox()"
      ]
     },
     "metadata": {},
     "output_type": "display_data"
    },
    {
     "data": {
      "application/vnd.jupyter.widget-view+json": {
       "model_id": "",
       "version_major": 2,
       "version_minor": 0
      },
      "text/plain": [
       "FloatProgress(value=0.0, bar_style='info', description='Progress:', layout=Layout(height='25px', width='50%'),…"
      ]
     },
     "metadata": {},
     "output_type": "display_data"
    }
   ],
   "source": [
    "from pyspark.sql import functions as f\n",
    "left_join = left_join.withColumn('title_final', f.when(f.col('title_prof') != \"\", f.col('title_prof')).otherwise(f.col('title')))"
   ]
  },
  {
   "cell_type": "code",
   "execution_count": 46,
   "metadata": {},
   "outputs": [
    {
     "data": {
      "application/vnd.jupyter.widget-view+json": {
       "model_id": "4b4bcc0cda7742da972a596cc009b4f4",
       "version_major": 2,
       "version_minor": 0
      },
      "text/plain": [
       "VBox()"
      ]
     },
     "metadata": {},
     "output_type": "display_data"
    },
    {
     "data": {
      "application/vnd.jupyter.widget-view+json": {
       "model_id": "",
       "version_major": 2,
       "version_minor": 0
      },
      "text/plain": [
       "FloatProgress(value=0.0, bar_style='info', description='Progress:', layout=Layout(height='25px', width='50%'),…"
      ]
     },
     "metadata": {},
     "output_type": "display_data"
    }
   ],
   "source": [
    "left_join = left_join.withColumn('author_final', f.when(f.col('author_prof') != \"\", f.col('author_prof')).otherwise(f.col('author')))\n",
    "left_join = left_join.withColumn('category_final', f.when(f.col('cate') != \"\", f.col('cate')).otherwise(f.col('category')))"
   ]
  },
  {
   "cell_type": "code",
   "execution_count": 51,
   "metadata": {},
   "outputs": [
    {
     "data": {
      "application/vnd.jupyter.widget-view+json": {
       "model_id": "785a9aeb63c4443bac8f99f7e6526e51",
       "version_major": 2,
       "version_minor": 0
      },
      "text/plain": [
       "VBox()"
      ]
     },
     "metadata": {},
     "output_type": "display_data"
    },
    {
     "data": {
      "application/vnd.jupyter.widget-view+json": {
       "model_id": "",
       "version_major": 2,
       "version_minor": 0
      },
      "text/plain": [
       "FloatProgress(value=0.0, bar_style='info', description='Progress:', layout=Layout(height='25px', width='50%'),…"
      ]
     },
     "metadata": {},
     "output_type": "display_data"
    }
   ],
   "source": [
    "left_join = left_join.drop('title_prof', 'author_prof', 'cate', 'asin2', 'category', 'title', 'author', 'recommend')\n",
    "left_join = left_join.toDF('asin','price', 'imUrl', 'description', 'related','rank','title','author', 'category')"
   ]
  },
  {
   "cell_type": "code",
   "execution_count": 52,
   "metadata": {},
   "outputs": [
    {
     "data": {
      "application/vnd.jupyter.widget-view+json": {
       "model_id": "a552782e804f4559ab1fa2e390b5ebf0",
       "version_major": 2,
       "version_minor": 0
      },
      "text/plain": [
       "VBox()"
      ]
     },
     "metadata": {},
     "output_type": "display_data"
    },
    {
     "data": {
      "application/vnd.jupyter.widget-view+json": {
       "model_id": "",
       "version_major": 2,
       "version_minor": 0
      },
      "text/plain": [
       "FloatProgress(value=0.0, bar_style='info', description='Progress:', layout=Layout(height='25px', width='50%'),…"
      ]
     },
     "metadata": {},
     "output_type": "display_data"
    },
    {
     "name": "stdout",
     "output_type": "stream",
     "text": [
      "+----------+-----+--------------------+--------------------+--------------------+-------+--------------------+--------------------+--------------------+\n",
      "|      asin|price|               imUrl|         description|             related|   rank|               title|              author|            category|\n",
      "+----------+-----+--------------------+--------------------+--------------------+-------+--------------------+--------------------+--------------------+\n",
      "|B000F83STC|     |http://g-ecx.imag...|                    |                  []|       |                    |                    |Literature & Fiction|\n",
      "|B000FBFL4E|     |http://ecx.images...|The terms and inf...|                  []|       |                    |                    |Professional & Te...|\n",
      "|B000FBFP5O| 1.95|http://ecx.images...|                    |                  []|       |                    |                    |Science Fiction &...|\n",
      "|B000FC0YZO| 9.99|http://ecx.images...|                    |[B007BZC13G, B001...|       |                    |                    |Literature & Fiction|\n",
      "|B000FC132C| 3.99|http://ecx.images...|R.L. Stine began ...|[B002JXB8B6, B004...|       |                    |                    |   Children's eBooks|\n",
      "|B000FC1AGQ|17.95|http://ecx.images...|One of the partic...|[B000FC1L56, B000...|       |                    |                    |Literature & Fiction|\n",
      "|B000FC1EA8| 1.99|http://ecx.images...|                    |[B00F8FXE8M, B00C...|       |                    |                    |Literature & Fiction|\n",
      "|B000FC1FES|  0.0|http://ecx.images...|                    |[B00G6O0JLE, B008...|       |                    |                    |Literature & Fiction|\n",
      "|B000FC1RXC| 8.89|http://ecx.images...|A road trip turns...|[B005467CA6, B00I...|       |                    |                    |Literature & Fiction|\n",
      "|B000FC1W3M| 2.99|http://ecx.images...|                    |[B00I344DMQ, B006...|       |                    |                    |Science Fiction &...|\n",
      "|B000FC2006|     |http://ecx.images...|                    |                  []|       |                    |                    |  Arts & Photography|\n",
      "|B000FC206U| 9.19|http://ecx.images...|                    |[B007X509V0, B008...|       |                    |                    |Literature & Fiction|\n",
      "|B000FC22WC|     |http://ecx.images...|                    |        [B008NG22FY]|       |                    |                    |Literature & Fiction|\n",
      "|B000FC26RI| 9.99|http://ecx.images...|The third install...|[B00G4GK20W, B006...|       |                    |                    |Literature & Fiction|\n",
      "|B000FCKH6A| 5.99|http://ecx.images...|As in Santlofer's...|[B00GWOF83W, B00J...|       |                    |                    |Literature & Fiction|\n",
      "|B000IMVMXE|     |                    |Reuters is a lead...|                  []|       |                    |                    |                    |\n",
      "|B000JML2YW| 0.99|http://ecx.images...|                    |[B00H1ZWGJU, B00I...|       |                    |                    |Literature & Fiction|\n",
      "|B000JMLIY6| 0.99|http://ecx.images...|                    |[B007L4T4UA, B00I...|       |                    |                    |Literature & Fiction|\n",
      "|B000JQUCDA| 9.99|http://ecx.images...|                    |[B003XVYLH6, B003...|       |                    |                    |             History|\n",
      "|B000JQUJ6U| 0.99|http://ecx.images...|                    |[B0093M15D2, B005...|       |                    |                    |  Arts & Photography|\n",
      "|B000JQUXBQ| 0.99|http://ecx.images...|                    |[B00K31USUS, B00C...|       |                    |                    |Literature & Fiction|\n",
      "|B000JQV1K8| 5.99|http://ecx.images...|                    |[B00A9IM452, B00A...|       |                    |                    |   Children's eBooks|\n",
      "|B000JQV1W6| 0.99|http://ecx.images...|                    |[B002HMCIBI, B00B...|       |                    |                    |Science Fiction &...|\n",
      "|B000MAH920| 3.25|http://ecx.images...|                    |[B003Z6QOVU, B00A...|       |                    |                    |Literature & Fiction|\n",
      "|B000MAHAOC|  3.1|http://ecx.images...|                    |[B001E28M2Q, B003...|       |                    |                    |Literature & Fiction|\n",
      "|B000MAHAZ6| 3.25|http://ecx.images...|                    |[B001E28M2Q, B003...|       |                    |                    |Literature & Fiction|\n",
      "|B000N8V2EW|     |                    |The Associated Pr...|[B002MAP9X4, B001...|       |                    |                    |                    |\n",
      "|B000NJL7NC| 2.99|http://ecx.images...|“Breathtaking.......|[B001RS8L7S, B00I...|       |                    |                    |Literature & Fiction|\n",
      "|B000OI0PF8|13.04|http://ecx.images...|                    |[B0060HWP1O, B000...|       |                    |                    |   Sports & Outdoors|\n",
      "|B000OI0TTK|18.96|http://ecx.images...|'An important and...|                  []|       |                    |                    |Politics & Social...|\n",
      "|B000OI0Y1S|11.38|http://ecx.images...|Byron Lee Grigsby...|                  []|       |                    |                    |Literature & Fiction|\n",
      "|B000OI0ZXU|14.52|http://g-ecx.imag...|The book is writt...|[B00AFS6LSC, B009...|       |                    |                    |Professional & Te...|\n",
      "|B000OI1656| 6.45|http://ecx.images...|'A comprehensive ...|                  []|       |                    |                    |             History|\n",
      "|B000OT81IK|11.38|http://ecx.images...|Joe Braylectures ...|                  []|       |                    |                    |Literature & Fiction|\n",
      "|B000OT8DIS| 8.61|http://ecx.images...|There are few boo...|        [B00EKSZM1K]|       |                    |                    |             History|\n",
      "|B000P0JO9I| 3.79|http://ecx.images...|\"Apodaca writes a...|[B004P8K2HY, B006...|       |                    |                    |Literature & Fiction|\n",
      "|B000P2XHEO| 9.55|http://ecx.images...|'This work weaves...|[B00H6UOG70, B006...|       |                    |                    |             History|\n",
      "|B000PC6CSC|     |http://ecx.images...|From the reviews:...|                  []|       |                    |                    |Biographies & Mem...|\n",
      "|B000PLXD3A| 9.14|http://ecx.images...|An extremely infl...|[B00A208TMY, B007...|       |                    |                    |  Arts & Photography|\n",
      "|B000PSJ8PK| 12.0|http://ecx.images...|Woltager; Michael...|                  []|       |                    |                    |Health, Fitness &...|\n",
      "|B000PSJ9RW|     |http://ecx.images...|Henry R. Neavespe...|                  []|       |                    |                    |    Business & Money|\n",
      "|B000PY3I50|  0.0|http://ecx.images...|?[E]xceptionally ...|[B001NIZW5Q, B003...|       |                    |                    |             History|\n",
      "|B000PY3MVA|     |http://ecx.images...|                    |[B00CD3O5WG, B006...|       |                    |                    |Health, Fitness &...|\n",
      "|B000PY4EZI|     |http://ecx.images...|                    |                  []|       |                    |                    |Professional & Te...|\n",
      "|B000PY4F8E|     |http://ecx.images...|                    |                  []|       |                    |                    |    Business & Money|\n",
      "|B000Q9J0BU|     |http://ecx.images...|4 Angels: \"Fantas...|                  []|       |                    |                    |Literature & Fiction|\n",
      "|B000QCTP0S| 1.99|http://ecx.images...|                    |[B00D5BFDKI, B007...|       |                    |                    |Literature & Fiction|\n",
      "|B000QED002|     |http://ecx.images...|                    |                  []|       |                    |                    |    Business & Money|\n",
      "|B000R93D30| 0.99|http://ecx.images...|                    |[B003MC5AT4, B005...|       |                    |                    |             Romance|\n",
      "|B000R93DZS| 3.99|http://ecx.images...|Reflections of Be...|[B001DUGORY, B00F...|       |                    |                    |             Romance|\n",
      "|B000RGUOBM|     |http://ecx.images...|Cindy Dell Clark ...|[B00C0ALGKQ, B004...|       |                    |                    |Health, Fitness &...|\n",
      "|B000S1LVDQ| 4.37|http://ecx.images...|Catherine Clark i...|[B002ASFPP0, B001...|       |                    |                    |  Teen & Young Adult|\n",
      "|B000SBH11C|     |http://ecx.images...|\"Haley, drawing o...|[B00C4UT1B8, B006...|       |                    |                    |Politics & Social...|\n",
      "|B000SBK44I|     |http://ecx.images...|\"It should be req...|[B00DMKS0H0, B00E...|       |                    |                    |             History|\n",
      "|B000SBZ3EO|     |http://ecx.images...|                    |                  []|       |                    |                    |Health, Fitness &...|\n",
      "|B000SEF3A0|     |http://ecx.images...|The 1998 publicat...|                  []|       |                    |                    |Literature & Fiction|\n",
      "|B000SEGFRK|     |http://ecx.images...|                    |                  []|       |                    |                    |Literature & Fiction|\n",
      "|B000SEGH0A|19.34|http://ecx.images...|Jamie S. Davidson...|                  []|       |                    |                    |Politics & Social...|\n",
      "|B000SEGUGG| 8.26|http://ecx.images...|The perfect read ...|[B00GSDQWG4, B007...|       |                    |                    |   Sports & Outdoors|\n",
      "|B000SEP8WS|11.95|http://ecx.images...|Grade 4-6.  Chris...|[B00C0WUSTY, B004...|       |                    |                    |   Children's eBooks|\n",
      "|B000SEVHC8| 2.99|http://g-ecx.imag...|Medieval architec...|[B005FLM7H8, B00E...|       |                    |                    |  Arts & Photography|\n",
      "|B000SH2F76|     |http://ecx.images...|                    |[B00BHGV46K, B000...|       |                    |                    |   Children's eBooks|\n",
      "|B000SHGC3O| 8.09|http://ecx.images...|Bill Hybels, foun...|[B000SH4L1O, B003...|       |                    |                    |Religion & Spirit...|\n",
      "|B000SIEHVM|13.18|http://ecx.images...|'Brackman has don...|                  []|       |                    |                    |Biographies & Mem...|\n",
      "|B000SM7Z8A|     |http://ecx.images...|Crystal Bowman lo...|[B003JH83B4, B002...|       |                    |                    |   Children's eBooks|\n",
      "|B000T6D47G| 3.99|http://ecx.images...|                    |[B001DUGORY, B008...|       |                    |                    |             Romance|\n",
      "|B000UMZMK6| 2.66|http://ecx.images...|                    |[B00ITF9OFA, B004...|       |                    |                    |             Romance|\n",
      "|B000V50752|10.99|http://ecx.images...|\"Elegantly concei...|[B00BCFZLJ2, B007...|       |                    |                    |Literature & Fiction|\n",
      "|B000VWBQCI|  2.1|http://ecx.images...|                    |[B008VSS9IS, B00A...|       |                    |                    |Literature & Fiction|\n",
      "|B000VYX8ZE| 3.99|http://ecx.images...|                    |[B009OUDVSU, B005...|       |                    |                    |Literature & Fiction|\n",
      "|B000VZSQ78|     |http://ecx.images...|Barbara Ellen Hil...|                  []|       |                    |                    |  Teen & Young Adult|\n",
      "|B000W277TS|     |http://ecx.images...|A new series of c...|                  []|       |                    |                    |Parenting & Relat...|\n",
      "|B000W7KNC6| 6.64|http://ecx.images...|                    |[B000OVLKOA, B001...|       |                    |                    |Science Fiction &...|\n",
      "|B000WLLWEU|     |http://ecx.images...|One of America's ...|[B004C43IIG, B006...|       |                    |                    |Health, Fitness &...|\n",
      "|B000X138ZA| 0.99|http://ecx.images...|UPDATED!!! THE MO...|[B005HJU7HA, B00D...|       |                    |                    |Mystery, Thriller...|\n",
      "|B000XU4TQS| 8.54|http://ecx.images...|Did Mandie lose h...|[B006T46PY6, B001...|       |                    |                    |   Children's eBooks|\n",
      "|B000XU4TXQ| 5.99|http://ecx.images...|“Hart is a master...|[B004GNFF5M, B00C...|       |                    |                    |Mystery, Thriller...|\n",
      "|B000YHHTHQ|12.64|http://ecx.images...|\"This is an excel...|[B004X1D1Q2, B009...|       |                    |                    |Computers & Techn...|\n",
      "|B000YJ5480| 6.99|http://ecx.images...|Praise for Doroth...|[B000Q9IMXC, B000...|       |                    |                    |Literature & Fiction|\n",
      "|B000ZLMD5O| 3.03|http://ecx.images...|                    |[B001E70ROM, B000...|       |                    |                    |Literature & Fiction|\n",
      "|B000ZLMD68| 2.66|http://ecx.images...|4.5 Stars:\"Emma W...|[B001E70ROM, B000...|       |                    |                    |Literature & Fiction|\n",
      "|B0010YXM78|     |http://ecx.images...|                    |[B008QNVC14, B00H...|       |                    |                    |Literature & Fiction|\n",
      "|B001190ZMW|     |http://ecx.images...|                    |                  []|       |                    |                    |Literature & Fiction|\n",
      "|B0011GJLDY|     |http://ecx.images...|                    |[B009W77SXO, B002...|       |                    |                    |Literature & Fiction|\n",
      "|B0011LRDYI|     |http://ecx.images...|                    |                  []|       |                    |                    |Literature & Fiction|\n",
      "|B0011UCOHK|15.39|http://ecx.images...|                    |[B003U890NW, B009...|       |                    |                    |Computers & Techn...|\n",
      "|B0012094GI| 4.39|http://ecx.images...|                    |[B00B0A70Z2, B004...|       |                    |                    |             Romance|\n",
      "|B00120XUTA| 3.99|http://ecx.images...|\"This is a great ...|        [B007FKM222]|       |                    |                    |    Business & Money|\n",
      "|B001281LC0|     |http://ecx.images...|                    |                  []|       |                    |                    |Humor & Entertain...|\n",
      "|B0012DNMAO|     |http://ecx.images...|Mark Dubbin has a...|[B00FAEUZHE, B00J...|       |                    |                    |Literature & Fiction|\n",
      "|B0012DOX2U|     |http://ecx.images...|                    |[B00BAJY0VK, B00K...|       |                    |                    |Mystery, Thriller...|\n",
      "|B00132S72C| 0.99|http://ecx.images...|                    |        [B007CD3SOI]|       |                    |                    |Computers & Techn...|\n",
      "|B00134D6QC| 3.79|http://ecx.images...|                    |[B00ESMUSYO, B009...|       |                    |                    |Literature & Fiction|\n",
      "|B0013MT2OY|     |http://ecx.images...|                    |                  []|       |                    |                    |Literature & Fiction|\n",
      "|B0013N882K| 6.15|http://ecx.images...|                    |[B003GDI8NY, B007...|1786354|East of the Sun a...|        Nancy Madore|Literature & Fiction|\n",
      "|B0013OOWHY|32.87|http://ecx.images...|\"In Reading the Z...|[B004TRXOTY, B004...|       |                    |                    |Literature & Fiction|\n",
      "|B0013V9YFC|     |http://ecx.images...|                    |                  []|       |                    |                    |Literature & Fiction|\n",
      "|B0013XXN70|     |http://ecx.images...|                    |                  []|       |                    |                    |Literature & Fiction|\n",
      "|B00147GGL0| 6.15|http://ecx.images...|                    |[B00CF10SUE, B003...|       |                    |                    |Literature & Fiction|\n",
      "|B00147TPCC|     |http://ecx.images...|                    |                  []|       |                    |                    |  Teen & Young Adult|\n",
      "|B00149ZWWM|     |http://ecx.images...|\"* \"If you're loo...|[B0031W1EEA, B001...|       |                    |                    |Literature & Fiction|\n",
      "|B0014BRN40| 3.79|http://ecx.images...|                    |[B001BM2ZI6, B00B...|1792545|      Broken Lullaby|        Pamela Tracy|Literature & Fiction|\n",
      "|B0014SCVMM|     |http://ecx.images...|                    |[B0056J62HA, B009...|       |                    |                    |  Arts & Photography|\n",
      "|B00153NBV6|     |http://ecx.images...|                    |[B0061DH5QM, B009...|       |                    |                    |             Romance|\n",
      "|B0015ACGQ0| 0.99|http://ecx.images...|Painting an entic...|[B005DKRFPU, B008...|       |                    |                    |Literature & Fiction|\n",
      "|B0015DRPV8| 5.12|http://ecx.images...|Franklin W. Dixon...|[B007QUUJFI, B007...|       |                    |                    |   Children's eBooks|\n",
      "|B0015KGWC4| 3.82|http://ecx.images...|                    |[B0015DWL8K, B00J...|       |                    |                    |             Romance|\n",
      "|B0015KLIF0|     |http://ecx.images...|\"Unquestionably t...|                  []|2458644|Jewish Life in Sm...|  Lee Shai Weissbach|             History|\n",
      "|B0015MLPBU|     |http://ecx.images...|There is a large ...|                  []|       |                    |                    |Mystery, Thriller...|\n",
      "|B0015V9DF6| 3.79|http://ecx.images...|                    |[B00835W3R2, B002...|       |                    |                    |Literature & Fiction|\n",
      "|B0015YEQHS| 4.24|http://ecx.images...|                    |[B0042P5I9M, B008...|       |                    |                    |             Romance|\n",
      "|B0015ZFUD6|     |http://ecx.images...|                    |                  []|4323875|Pass Your Bar Exa...|       Gary L. Brown|Education & Teaching|\n",
      "|B0016ALQ4C|     |http://ecx.images...|Christopher Andre...|[B001MS7T1M, B001...|2397688|The Darkness With...| Christopher Andrews|Literature & Fiction|\n",
      "|B0016IXM96| 3.44|http://ecx.images...|                    |[B00K9NWRHW, B001...|       |                    |                    |             Romance|\n",
      "|B0016MX89G|     |http://ecx.images...|Cum laude and Phi...|                  []|2357715|The Nazi Paradigm...|        Mark Jarmuth|    Business & Money|\n",
      "|B0016RS9F4|     |http://ecx.images...|                    |[B0016RQ4UG, B001...|2536617|Think Again about...|Bruce C. E. Flemi...|Health, Fitness &...|\n",
      "|B00171ELWO| 0.99|http://ecx.images...|                    |        [B007PM4ZZW]|       |                    |                    |Professional & Te...|\n",
      "|B00174RBFK| 4.49|http://ecx.images...|Dante Alighieri (...|[B0045U9RDC, B004...|1401294|The Divine Comedy...|     Dante Alighieri|Literature & Fiction|\n",
      "|B0017OO55Y|  0.0|http://ecx.images...|                    |[B00AECHQBK, B004...|       |                    |                    |  Arts & Photography|\n",
      "|B0017QNMEW|     |http://ecx.images...|                    |                  []|       |                    |                    |Religion & Spirit...|\n",
      "|B0017SUZCM| 3.82|http://ecx.images...|                    |[B0041KLERS, B004...|       |                    |                    |Literature & Fiction|\n",
      "|B00183NL7M| 9.95|http://ecx.images...|Jane Austen, Engl...|[B00BERUNZ0, B00D...|       |                    |                    |  Arts & Photography|\n",
      "|B00186A6HW|     |http://ecx.images...|                    |[B00124T2AC, B005...|       |                    |                    |Literature & Fiction|\n",
      "|B00186Z0VO| 2.99|http://ecx.images...|Bestselling\n",
      "autho...|[B00D1WWGT2, B004...|1897531|The Family Next D...|  Jacqueline Diamond|Literature & Fiction|\n",
      "|B00186Z0WI|     |http://ecx.images...|                    |[B004BLK2X4, B007...|2347321|A Sexy Time of It...|        Cara Summers|Literature & Fiction|\n",
      "|B001873ROU| 2.99|http://ecx.images...|                    |[B00I66BOSC, B005...| 743860|His Pregnant Hous...|   Caroline Anderson|Literature & Fiction|\n",
      "|B0018BU55A|     |http://ecx.images...|Jinxed is a very ...|        [B002CQ28DW]|       |                    |                    |Literature & Fiction|\n",
      "|B0018BY2H2|     |http://ecx.images...|                    |                  []|2795384|Ego. Is It Runnin...|         J.D. Rhodes|Politics & Social...|\n",
      "|B0018GY5QU| 3.99|http://ecx.images...|Kathy lives in Ca...|[B009MQDIV6, B008...|       |                    |                    |Science Fiction &...|\n",
      "|B0018O4PZS|     |http://ecx.images...|                    |                  []|3062303|       Andersonville|       John  McElroy|             History|\n",
      "|B0018TVY4I|     |http://ecx.images...|Jean Yatesteaches...|[B00195THPE, B004...|       |                    |                    |    Business & Money|\n",
      "|B00194CY1E|     |http://ecx.images...|Get your career b...|                  []|       |                    |                    |    Business & Money|\n",
      "|B001974DE2|     |http://ecx.images...|Kathleen Dantehas...|                  []|       |                    |                    |             Romance|\n",
      "|B00198R1IQ| 2.99|http://ecx.images...|\"The ambivalence ...|[B00DYWG898, B005...|       |                    |                    |Literature & Fiction|\n",
      "|B0019AMSCS|     |http://ecx.images...|                    |                  []|4544199|Advanced Problems...|            McKillop|Professional & Te...|\n",
      "|B0019RVYNK|  8.1|http://ecx.images...|Transformation fo...|[B001QPHNZS, B008...|       |                    |                    |Health, Fitness &...|\n",
      "|B001A06VJ8| 7.99|http://ecx.images...|                    |[B0031BVJ7I, B00F...| 649708|The Old Testament...|     David J. Ridges|Education & Teaching|\n",
      "|B001AAWPK2|     |http://ecx.images...|                    |[B003WUYQC8, B00C...|       |                    |                    |           Reference|\n",
      "|B001AOEDKI|     |http://ecx.images...|Mention \"special ...|[B005CKKEZE, B009...|2423704|Handbook of Gifte...|Steven I. Pfeiffe...|Education & Teaching|\n",
      "|B001AOVWPC| 8.68|http://ecx.images...|\"This book is ful...|        [B0036ZBVH2]|2755445|The Making of Mod...|        Brad Sherman|Professional & Te...|\n",
      "|B001AQ99UA|     |http://ecx.images...|\"As Duttlinger co...|                  []|3385758|Kafka and Photogr...|  Carolin Duttlinger|Literature & Fiction|\n",
      "|B001AUAXII|     |http://ecx.images...|                    |                  []|       |                    |                    |Health, Fitness &...|\n",
      "|B001AVG3ZY|     |http://ecx.images...|                    |                  []|4777081|Welcome to Califo...|          Colin Zhao|   Children's eBooks|\n",
      "|B001BRD238| 6.79|http://ecx.images...|Five StarsRainbow...|[B002TG4P8G, B002...|4250754|Secrets: a PsyCop...|Jordan Castillo P...|             Romance|\n",
      "|B001BS7PEE|     |http://ecx.images...|                    |                  []|4591321|Your First Two Ye...|       Lilly Walters|    Business & Money|\n",
      "|B001BYU51I|     |http://ecx.images...|                    |[B00JYSQ5CG, B00B...|       |                    |                    |             History|\n",
      "|B001C6J1AG|     |http://ecx.images...|                    |                  []|       |                    |                    |Professional & Te...|\n",
      "|B001CCUQJ0|10.49|http://ecx.images...|\"Umberson has min...|[B00ESQAL42, B006...|       |                    |                    |Health, Fitness &...|\n",
      "|B001CDA3BA| 3.44|http://ecx.images...|                    |[B000VYX8HC, B008...|       |                    |                    |Literature & Fiction|\n",
      "|B001CKJW6K|38.69|http://ecx.images...|                    |[B001MWRTF4, B00H...|       |                    |                    |Professional & Te...|\n",
      "|B001CMQ6JY| 3.44|http://ecx.images...|                    |[B00JM1HPUQ, B006...|       |                    |                    |             Romance|\n",
      "|B001CMQ6NA| 4.24|http://ecx.images...|                    |[B00GQE9CXA, B00C...|       |                    |                    |             Romance|\n",
      "|B001CMQ6P8| 1.49|http://ecx.images...|90/100 & A Keeper...|[B00K5E9T8U, B00I...|       |                    |                    |             Romance|\n",
      "|B001CPV5AG|57.98|http://ecx.images...|'a comprehensive ...|                  []|       |                    |                    |Professional & Te...|\n",
      "|B001CXLBIO|     |http://ecx.images...|                    |                  []|       |                    |                    |Health, Fitness &...|\n",
      "|B001D0JDAY|     |http://ecx.images...|Sally Downham Mil...|[B003GIRTJ8, B002...|       |                    |                    |Health, Fitness &...|\n",
      "|B001D3CQZU| 3.25|http://ecx.images...|Perfect.Absolutel...|[B00186Z0XW, B001...| 123197|One Night, One Ba...|          Kate Hardy|Literature & Fiction|\n",
      "|B001D49M06|27.49|http://ecx.images...|                    |[B00CJPYF8C, B001...|       |                    |                    |             Romance|\n",
      "|B001DC89T8| 2.99|http://ecx.images...|                    |[B007RIMU2O, B00C...|       |                    |                    |Crafts, Hobbies &...|\n",
      "|B001DIN7IA|     |http://ecx.images...|                    |        [B00AUJBX16]|       |                    |                    |    Business & Money|\n",
      "|B001E2IPSM|  0.0|http://ecx.images...|                    |[B004N62LCW, B008...|3550037|The Essential Fan...|        Lord Dunsany|Literature & Fiction|\n",
      "|B001E2XMOE|14.72|http://ecx.images...|                    |[B002XQ2AG6, B004...|1967090|The No B.S. Guide...|        Chris Wilcox|Humor & Entertain...|\n",
      "|B001E3LOES| 4.84|http://ecx.images...|                    |[B0075WJK8Y, B00I...|1422645|Learn Spearfishin...|          Rob Parker|           Reference|\n",
      "|B001E5E93O| 2.99|http://ecx.images...|                    |[B006IH6EL8, B005...|       |                    |                    |    Business & Money|\n",
      "|B001E6V2FQ|     |http://ecx.images...|John Warnock earn...|                  []|4791912|             Reunion|     John W. Warnock|Literature & Fiction|\n",
      "|B001ECQLDI| 2.99|http://ecx.images...|After I saw so ma...|[B00AIEU990, B00C...|       |                    |                    |    Business & Money|\n",
      "|B001EGPV6W|     |http://ecx.images...|                    |[B00CE7B32G, B00A...|       |                    |                    |Literature & Fiction|\n",
      "|B001ET6C80|     |http://ecx.images...|                    |                  []|3342968| Expect Nothing Less|    Warren Strickler|  Arts & Photography|\n",
      "|B001EYUVAK| 7.01|http://ecx.images...|                    |                  []|       |                    |                    |      Science & Math|\n",
      "|B001F0RUNY| 3.99|http://ecx.images...|                    |[B0098IILBU, B00J...|1490001|Queen's Own FBI T...|       Mark Phillips|Literature & Fiction|\n",
      "|B001F509GE|  0.0|http://ecx.images...|                    |[B004O4C074, B00D...|2172267|    Everyday Madness|      Matthew Malone|Humor & Entertain...|\n",
      "|B001F7AI68|     |http://ecx.images...|As a boy, Don pla...|[B0094JIY7E, B001...|       |                    |                    |Literature & Fiction|\n",
      "|B001F7B9KW|11.49|http://ecx.images...|Elizabeth Ann Dan...|[B00COSOS7W, B00B...|       |                    |                    |Politics & Social...|\n",
      "|B001F9C88M|  0.0|http://ecx.images...|                    |[B00GK50EYG, B008...|       |                    |                    |Science Fiction &...|\n",
      "|B001FSKH5O|     |http://ecx.images...|                    |                  []|       |                    |                    |Literature & Fiction|\n",
      "|B001G0NSC0| 0.99|http://ecx.images...|                    |[B001G0N6CC, B003...|       |                    |                    |Health, Fitness &...|\n",
      "|B001GDJ682|     |http://ecx.images...|Grade 7–10—In thi...|                  []|3222852|Zoe and Chloe on ...|            Sue Limb|  Teen & Young Adult|\n",
      "|B001GFKJ4U| 3.25|http://ecx.images...|Maddy Green was f...|[B004IATBCQ, B002...|       |                    |                    |Literature & Fiction|\n",
      "|B001GNBM5W|     |http://ecx.images...|This gem of a tal...|                  []|       |                    |                    |Humor & Entertain...|\n",
      "|B001GNBZP4|     |http://ecx.images...|                    |                  []|       |                    |                    |    Business & Money|\n",
      "|B001GNC2X8|13.49|http://ecx.images...|                    |[B00ASEDPFA, B003...|       |                    |                    |             History|\n",
      "|B001GPOO64| 0.99|http://ecx.images...|                    |[B0084J7KK2, B001...|  15536|My Lady Compelled...|        Shirl Anders|             Romance|\n",
      "|B001GUXJP6|     |http://ecx.images...|In this adroitly ...|                  []|3240172|Friends for Life ...|         Carol Smith|Literature & Fiction|\n",
      "|B001HQHCBQ|11.99|http://ecx.images...|                    |[B003RWSJ06, B00H...|       |                    |                    |Literature & Fiction|\n",
      "|B001HX35S8| 1.99|http://ecx.images...|                    |[B002VWLL9O, B001...|       |                    |                    |   Children's eBooks|\n",
      "|B001I2V5K8|     |http://ecx.images...|                    |                  []|       |                    |                    |Politics & Social...|\n",
      "|B001I45WPK|     |                    |NARRATIVE Magazin...|[B001AHPAX4, B001...|       |                    |                    |                    |\n",
      "|B001I460AG| 8.99|http://ecx.images...|                    |[B0050OH5HC, B006...|       |                    |                    |Health, Fitness &...|\n",
      "|B001I90EF8| 3.99|http://ecx.images...|                    |[B006K3HIYC, B006...|       |                    |                    |    Business & Money|\n",
      "|B001IP0URY| 0.99|http://ecx.images...|                    |[B00ACBN29I, B001...|       |                    |                    |             Romance|\n",
      "|B001IZC3UG| 9.99|http://ecx.images...|                    |[B001JK9BGY, B001...|       |                    |                    |Religion & Spirit...|\n",
      "|B001J1S7DQ| 3.82|http://ecx.images...|                    |[B00ADI0RA2, B00B...|1285583|Shipwrecked and S...|       Amanda McCabe|             Romance|\n",
      "|B001J1S7JA| 3.44|http://ecx.images...|Unknown number.De...|[B00ADI0RU2, B00A...|       |                    |                    |Literature & Fiction|\n",
      "|B001J1S7W2| 5.28|http://ecx.images...|Dominique couldn'...|[B00JGABO14, B002...|       |                    |                    |Literature & Fiction|\n",
      "|B001J2DAZ0|19.49|http://ecx.images...|The book covers X...|[B0043D2DVO, B00B...|       |                    |                    |Computers & Techn...|\n",
      "|B001J531WO|     |http://ecx.images...|                    |                  []|3415490|Wholesome Potatoe...|       Vanessa Myers|Cookbooks, Food &...|\n",
      "|B001J6NB00| 2.99|http://ecx.images...|This is an old ve...|[B00IKWGM8O, B00G...|       |                    |                    |Humor & Entertain...|\n",
      "|B001J6ORH6| 9.99|http://ecx.images...|F. Belton Joyner ...|[B005EGSSIQ, B00D...|       |                    |                    |Religion & Spirit...|\n",
      "|B001J6OUZK|     |http://ecx.images...|\"In this sober, t...|                  []|3588281|Black and White M...|  Thelma Wills Foote|             History|\n",
      "|B001JEOVB0|     |http://ecx.images...|                    |                  []|       |                    |                    |Politics & Social...|\n",
      "+----------+-----+--------------------+--------------------+--------------------+-------+--------------------+--------------------+--------------------+\n",
      "only showing top 200 rows"
     ]
    }
   ],
   "source": [
    "left_join.show(200)"
   ]
  },
  {
   "cell_type": "code",
   "execution_count": 55,
   "metadata": {},
   "outputs": [
    {
     "data": {
      "application/vnd.jupyter.widget-view+json": {
       "model_id": "b7dca0ad06574ba9ac83a1b7847198ca",
       "version_major": 2,
       "version_minor": 0
      },
      "text/plain": [
       "VBox()"
      ]
     },
     "metadata": {},
     "output_type": "display_data"
    },
    {
     "data": {
      "application/vnd.jupyter.widget-view+json": {
       "model_id": "",
       "version_major": 2,
       "version_minor": 0
      },
      "text/plain": [
       "FloatProgress(value=0.0, bar_style='info', description='Progress:', layout=Layout(height='25px', width='50%'),…"
      ]
     },
     "metadata": {},
     "output_type": "display_data"
    },
    {
     "name": "stdout",
     "output_type": "stream",
     "text": [
      "190899"
     ]
    }
   ],
   "source": [
    "left_join.filter(\"title != ''\").count()"
   ]
  },
  {
   "cell_type": "code",
   "execution_count": null,
   "metadata": {},
   "outputs": [],
   "source": []
  },
  {
   "cell_type": "code",
   "execution_count": 56,
   "metadata": {},
   "outputs": [
    {
     "data": {
      "application/vnd.jupyter.widget-view+json": {
       "model_id": "717b01a0feb6415caefa46d719d1d75f",
       "version_major": 2,
       "version_minor": 0
      },
      "text/plain": [
       "VBox()"
      ]
     },
     "metadata": {},
     "output_type": "display_data"
    },
    {
     "data": {
      "application/vnd.jupyter.widget-view+json": {
       "model_id": "",
       "version_major": 2,
       "version_minor": 0
      },
      "text/plain": [
       "FloatProgress(value=0.0, bar_style='info', description='Progress:', layout=Layout(height='25px', width='50%'),…"
      ]
     },
     "metadata": {},
     "output_type": "display_data"
    }
   ],
   "source": [
    "df_json = left_join.toJSON()"
   ]
  },
  {
   "cell_type": "code",
   "execution_count": 57,
   "metadata": {},
   "outputs": [
    {
     "data": {
      "application/vnd.jupyter.widget-view+json": {
       "model_id": "a1e01a4f9a70488fa8e19701bf0d26de",
       "version_major": 2,
       "version_minor": 0
      },
      "text/plain": [
       "VBox()"
      ]
     },
     "metadata": {},
     "output_type": "display_data"
    },
    {
     "data": {
      "application/vnd.jupyter.widget-view+json": {
       "model_id": "",
       "version_major": 2,
       "version_minor": 0
      },
      "text/plain": [
       "FloatProgress(value=0.0, bar_style='info', description='Progress:', layout=Layout(height='25px', width='50%'),…"
      ]
     },
     "metadata": {},
     "output_type": "display_data"
    },
    {
     "name": "stdout",
     "output_type": "stream",
     "text": [
      "['{\"asin\":\"B000JMKMZM\",\"price\":\"\",\"imUrl\":\"http://ecx.images-amazon.com/images/I/41foZmhNNrL._BO2,204,203,200_PIsitb-sticker-v3-big,TopRight,0,-55_SX278_SY278_PIkin4,BottomRight,1,22_AA300_SH20_OU01_.jpg\",\"description\":\"\\\\\"Steroids has nothing on these guys!Place a bunch of villains in a cellblock and you may have a riot. Now place a bunch of villains with super powers, plus one mighty pissed off innocent hero in the pot and you get Terry L. Vinson\\'sDesolation Island.The book begins with our main and lovable character Ben Thomason reminiscing with an old friend about the good ol\\' days when ass kicking and chasing villains was an \\'honorable\\' job to have. As the conversation progresses, you experience his views on how the system has changed...but more than that you find out Ben is hiding out, framed for a murder he didn\\'t commit.Immediately within several pages, a reader is thrust into a super fight...and I mean super strength fight with an unsuspecting foe for Ben.Defeated, enraged, and yet framed for another murder, he is now facing life at Desolation Island, the government\\'s top secret \\'Alcatrez\\' for super villains. This enclosure meets every single possible counter measure to fight the gifts these prisoners possess...but does it?Desolation Island was built on a secret plan to host a very mysterious entity, which only a few handpicked were privy to. Determined to unravel and discover the secret of this entity, a small squad of specialists enter this fortress. In a strange turn of events, Ben will be thrust for the fight of his life alongside some of his past friends and foes but more importantly, beside the gal he shunned not long ago.Terry bringsDesolation Islandto life with his individual character profiles, and one can\\'t help but fall in love with Ben\\'s egotistical, macho and sarcastic personae. The whole book was a \\'Marvel\\' delight to read and very easy to visualize as a movie. For those who loveX-men, you\\'ll truly enjoy this great read.\\\\\"Lea Schizas - Founder ofMuse Book Reviews\",\"related\":\"[]\",\"rank\":\"\",\"title\":\"\",\"author\":\"\",\"category\":\"Mystery, Thriller & Suspense\"}', '{\"asin\":\"B000OI19AI\",\"price\":\"8.07\",\"imUrl\":\"http://ecx.images-amazon.com/images/I/41tIDgGgQjL._BO2,204,203,200_PIsitb-sticker-v3-big,TopRight,0,-55_SX278_SY278_PIkin4,BottomRight,1,22_AA300_SH20_OU01_.jpg\",\"description\":\"A scholar in ecology and social theory, Redclift traveled the Yucatan to research this in-depth, richly detailed history. \\\\\"The story of chewing gum is very much a Mexican-American affair,\\\\\" he notes, beginning with Mexico’s 75-year-old General Santa Anna on Staten Island in 1869. Believing Yucatan chicle’s rubber-like qualities could launch a rubber tire industry, the ambitious Santa Anna struck a deal with inventor Thomas Adams. Failing to concoct a rubber substitute from the springy sap, Adams instead succeeded with his licorice-flavored Black Jack gum. Consumers went wild, and other entrepreneurs leaped in, including, in 1893, William Wrigley. With free gum samples mailed to millions, Wrigley’s innovative ad campaigns made him one of America’s 10 wealthiest men. His factories produced 280 million sticks of gum weekly, which had far-reaching implications in the Yucatan jungles: \\\\\"The production and sale of chicle on the part of rebel Mayas Indians... was allowing them to buy arms to fight the Mexican government.\\\\\" American gum manufacturers were dependent on supplies from land controlled by the Mayan rebels, and since \\\\\"the geopolitics of hemispheric relations lies at the heart of the story of chewing gum,\\\\\" the book has 75 pages on military conflicts, impoverished forest workers, the chicle economy and international harvesting and production methods. With gum added to WWII service rations, 150 billion sticks were shipped overseas, but bubble gum synthetics brought the era of Mayan-harvested chicle to a close. While some readers may be interested in the book’s concluding chapters (which cover abandoned chicle camps, tourism possibilities and renewed interest in chicle for natural organic products), the omission of Bazooka’s contribution to the chewing gum world, as well as the book’s overall dry tone, take away from this book’s general appeal. B&w; illus.Copyright © Reed Business Information, a division of Reed Elsevier Inc. All rights reserved.\",\"related\":\"[B0068T28A2]\",\"rank\":\"\",\"title\":\"\",\"author\":\"\",\"category\":\"Cookbooks, Food & Wine\"}', '{\"asin\":\"B000PSJ8PK\",\"price\":\"12.0\",\"imUrl\":\"http://ecx.images-amazon.com/images/I/412B5iF2PzL._BO2,204,203,200_PIsitb-sticker-v3-big,TopRight,0,-55_SX278_SY278_PIkin4,BottomRight,1,22_AA300_SH20_OU01_.jpg\",\"description\":\"Woltager; Michael S.  North Carolina State University, Raleigh, North Carolina, US,DeJoy; Dave  University of Georgia, Athens, Georgia, USa,Laughery; Kenneth R.  Micro Analysis & Design, Inc., Boulder, Colorado, USA,\",\"related\":\"[]\",\"rank\":\"\",\"title\":\"\",\"author\":\"\",\"category\":\"Health, Fitness & Dieting\"}', '{\"asin\":\"B000QCQ9GG\",\"price\":\"0.99\",\"imUrl\":\"http://ecx.images-amazon.com/images/I/51KEn-I%2B1AL._BO2,204,203,200_PIsitb-sticker-v3-big,TopRight,0,-55_SX278_SY278_PIkin4,BottomRight,1,22_AA300_SH20_OU01_.jpg\",\"description\":\"Genell Dellin is a native Oklahoman who, except for some college years in Texas, has never lived in any other state. Her present home is not far from the long-ago border between the Cherokee Nation and the Cherokee Strip.\",\"related\":\"[B00ERBW21S, B00IA9TY4Q, B00CHW9DM0, B004IK92PM, B00HCID3NO, B00K2NLK9K, B005UQHZH0, B00EW40F3M, B00IS4VJE6, B00IWD73WU, B00FAY1HEY, B00ENJW2E6, B00G4DA3MC, B00EW4060E, B00G4DA3CW, B00EW40L4U, B0057Q3TPK, B00JBRD0Z0, B000QUCOB2, B00G2CCF5I, B00JW1WLLY, B000QCQ9GQ, B00FGFPA8Q, B00KACSSFW, B00E6BROF8, B00HCIRH0Y, B00CH1P35C, B00EW403G6, B00IJ1EMYM, B002B549NG, B00EW40FBY, B00GM3JRZS, B008TW1G7W, B00EW40BWW, B00HSOHSNS, B00LBMGL1I, B00EW40KQY, B00G4U6OHI, B00JDN00UA, B00EW406K4, B00FAY1QZ4, B00J4XJXHK, B00FRW7UY0, B00HGV37VA, B00I1GZAU0, B00KACDK4Q, B00JCJBM7U, B00HCIQ1J2, B00K21NSMY, B00KACL5L6, B0084QSDCO, B00EPPVJM4, B00KXFTOWM, B00KMEFMLG, B00F2DAK8W, B00KTIGOLW, B0090S3YS8, B00EY1XZMG, B00KTIGODK, B00J4X2G4M, B00EW40I2A, B00EW4068Q, B00G9GYFYQ, B00IKW3PYS, B00EW402UI, B0090S3WG2, B00EW409JC, B00JHG1PMK, B00G4DA7BE, B00J7RWX3E, B00E6BROCQ, B006N0LXYS, B00JC6DOLK, B007Q0T73I, B00IRNC5FK, B005UQI542, B00LA2QDBM, B0088QYB5S, B00EW4062M, B0027KRROS, B00EF51J10, B00IMU43TY, B00FQOAQQ8, B007KSTVVY, B00EW405YQ, B00K2I2JRM, B00EW40GAO, B009NG3BJ4, B00CO5EMTY, B00GUMN018, B00JTAFTPS, B00JYPL8BW, B00DTTW8VI, B00J4XJYCY, B00HBZ6LMS]\",\"rank\":\"\",\"title\":\"\",\"author\":\"\",\"category\":\"Romance\"}', '{\"asin\":\"B000UZJQ9G\",\"price\":\"7.99\",\"imUrl\":\"http://ecx.images-amazon.com/images/I/51boJyIGi%2BL._BO2,204,203,200_PIsitb-sticker-v3-big,TopRight,0,-55_SX278_SY278_PIkin4,BottomRight,1,22_AA300_SH20_OU01_.jpg\",\"description\":\"In Dunn\\'s cunning 16th Daisy Dalrymple mystery (after 2007\\'sGunpowder Plot), the charming Daisy stumbles over the corpse of the Chief Yeoman Warder at the Tower of London. Daisy and her husband, Scotland Yard\\'s DCI Alec Fletcher, team up to unmask the killer. Daisy does all the really clever sleuthing, but she kindly allows her hubby to think he\\'s putting things together himself. Things get tricky when one of the chief suspects, who may also be a blackmailer, disappears. And then there\\'s the curious matter of the manner of death: the autopsy concludes that the Yeoman Warder died of a broken neck, so why was there also a partizan, or Yeoman Warder\\'s halberd, sticking out of his back? Appropriate historical detail and witty dialogue are the finishing touches on this engaging 1920s period piece.(Sept.)Copyright © Reed Business Information, a division of Reed Elsevier Inc. All rights reserved.\",\"related\":\"[B00AFZ3NKE, B006WAN2U2, B006WBRL7Q, B004Z2D38A, B006ZBKENG, B006WOOWJS, B004ZM06YO, B003E74A8O, B004A90G24, B004YESH44, B0046ZSMQO, B0085WUBTK, B004XJ5MNO, B00H6JBEVW, B006WOEVIA, B00BVC1SSE, B006ZBXEEW, B006ZCQVAU, B00EXRFLBO, B006ZCQPLA, B0046ZSN0E, B0052RDJVI, B00JD7TX4A, B003E4CYJ4, B00823ZSU4, B00AY7OUBO, B007H9F066, B0047DX1K2, B00486UG0Q, B0047GMEGG, B00IJYGJHM, B00J5OU43U, B00K939NII, B00457VK8U, B0044UHWA8, B003GY0K0M, B007H9DSYW, B004A90G60, B009RYKP82, B006ZBN1MW, B00L0LZDN2, B006WAZXSQ, B00DA735GQ, B005287Q2U, B00JJ5EYOK, B006ZCGKE2, B00JCCKRSW, B007H9DSME, B008RLW5AW, B005QNL1BS, B006ZCULCY, B00GWTWW5O, B006WAD0H2, B00FX7R4UO, B008FQMNBA, B006WP4BBG, B00IX3UT3E, B008V9YG3O, B004WPH2DC, B00JKPZOCU, B00J6TV0LE, B004YERXXU, B00HGUQDEO, B00IQOC2GW, B00KWANBZY, B00KVOBZEU, B00846WWLW, B00FCQQ2IG, B006ZCGJA2, B00457X84O, B004YEMKO2, B007H9DVJ4, B007H9DPN6, B005XMMNQY, B00FH1IBUS, B00466HZNE, B006ZCR9QK, B000OCXJKW, B00G3L7X9Q, B00JG4U4M0, B004YEP6N4, B006WO6MU0, B00AD6P4T8, B00JJ84N52, B008EXJZHE, B00BKIW13K, B004A90G5G, B002LA0AUM, B0047O2RIS, B004XJ5L7Q, B0080K3H0C, B00KFRH6U0, B003JTHYN0, B00G3L15FE, B00H1QCYWS, B007H9JU3K, B00KVOC68O, B00H6EOJ1Y, B00AFZTN5I, B006ZCCAM8]\",\"rank\":\"\",\"title\":\"\",\"author\":\"\",\"category\":\"Mystery, Thriller & Suspense\"}', '{\"asin\":\"B000VZSQ78\",\"price\":\"\",\"imUrl\":\"http://ecx.images-amazon.com/images/I/513ppuaNvpL._BO2,204,203,200_PIsitb-sticker-v3-big,TopRight,0,-55_SX278_SY278_PIkin4,BottomRight,1,22_AA300_SH20_OU01_.jpg\",\"description\":\"Barbara Ellen Hill is a writer who lives in the Upper Peninsula of Michigan; orignally from Barrington, Illinois.\",\"related\":\"[]\",\"rank\":\"\",\"title\":\"\",\"author\":\"\",\"category\":\"Teen & Young Adult\"}', '{\"asin\":\"B000W25HUY\",\"price\":\"\",\"imUrl\":\"http://ecx.images-amazon.com/images/I/41Cr5nU4ajL._BO2,204,203,200_PIsitb-sticker-v3-big,TopRight,0,-55_SX278_SY278_PIkin4,BottomRight,1,22_AA300_SH20_OU01_.jpg\",\"description\":\"This survey of art theory in the context of Western visual art consists of 41 original essays written by experts in the field. Following an extensive introduction on the formation of modern art theory, the Companion is organized chronologically so that readers can trace developments of visual art theory, from Classical and Medieval sources and modern conceptions of art as they have been theorized since the Renaissance, through to some current theoretical preoccupations.  In addition to outlining and describing various theoretical positions, the book\\'s chapters articulate some assumptions that underpin them and raise more general questions about the nature of theorizing about art. In this way the Companion provides both an introduction to main themes of Western art theory and a source for critical enquiry into the purposes, possibilities and limitations of theory in the context of artistic practice.  The work can also be used alongside the three Art in Theory anthologies published by Blackwell, as a further art theory resource.\",\"related\":\"[]\",\"rank\":\"\",\"title\":\"\",\"author\":\"\",\"category\":\"Arts & Photography\"}', '{\"asin\":\"B000YJ5480\",\"price\":\"6.99\",\"imUrl\":\"http://ecx.images-amazon.com/images/I/51ZlNLsjbyL._BO2,204,203,200_PIsitb-sticker-v3-big,TopRight,0,-55_SX278_SY278_PIkin4,BottomRight,1,22_AA300_SH20_OU01_.jpg\",\"description\":\"Praise for Dorothy Garlock: \\'The premier writer of Americana romance.\\' Booklist \\'Garlock\\'s characters that keep bringing readers back\\' - Publishers Weekly\",\"related\":\"[B000Q9IMXC, B000FA5QA4, B009KUX96I, B000Q9IMXW, B001J2UVES, B001J2UVMU, B00AIPZNHC, B002CMP93C, B001ILBE7S, B002OH0OBM, B000UZQHTI, B00JBRD0Z0, B000Q67J7A, B001J2UVOS, B0035II984, B005SCRWH4, B001GXF2YE, B00A2DWQ9S, B001J2UVH0, B00KACSSFW, B000Q9IN04, B000Q9IN0O, B00134O03K, B0017QW62G, B00GG0H420, B008X4BKQS, B001GXP7OE, B00JYEQYIA, B001GXP7SU, B000QCSAFO, B00AFXC34S, B000Q67J5C, B001I3BQSI, B00KC3OVKU, B001JJWI74, B000Q9J07Y, B00I4PEHKC, B00IZJLZOI, B0074VTH7U, B000Q9EWZE, B0013380XC, B001JK9BP0, B00J4XJXHK, B001GXF2Y4, B004QZ9QUA, B00KACDK4Q, B00ADUGGWS, B002SME1MG, B00KPLKT9Q, B001GXF2TE, B00KACL5L6, B000Q9IN3G, B004GEAR90, B00KMEFMLG, B001GXP7OO, B0028T82NI, B00IPDVHI8, B00K61YCMK, B00BC2Z8HK, B004GEARMW, B00J2R99EA, B000Q9IN1S, B000SEGEG2, B000Q9IN0Y, B00KC91VDE, B002OFVO4K, B00BDQ39CG, B000QCS9OQ, B0081KZ7RC, B001JK9BIM, B00L8BXOW6, B0047Y16YO, B00KACT54K, B007KGA5WU, B000Q9IN54, B00JCG6T94, B00BG1ZLL0, B001GXP7PI, B00K5C0PDA, B00J9YQAC0, B00J0DPVXE, B00BTMLKEI, B002O0Q70G, B00JC6DOLK, B00L26ZCPE, B000QRIGNA, B000QCTOL8, B003WEAI44, B002OFVOF4, B00J98RD4A, B00JYPJPW6, B000QCS9XM, B002EBDOVU, B001J2UVIO, B000Q9INK4, B000PC71QO, B00K15M5Z2, B00JPPUBM8, B001J2UVMA, B0090UOKAM]\",\"rank\":\"\",\"title\":\"\",\"author\":\"\",\"category\":\"Literature & Fiction\"}', '{\"asin\":\"B0012094AO\",\"price\":\"\",\"imUrl\":\"http://ecx.images-amazon.com/images/I/51-awec9vNL._BO2,204,203,200_PIsitb-sticker-v3-big,TopRight,0,-55_SX278_SY278_PIkin4,BottomRight,1,22_AA300_SH20_OU01_.jpg\",\"description\":\"\",\"related\":\"[B0055POZBA, B00186Z0XW, B00CF13III, B0012094PY, B008EMXY54, B00BNRHL10, B001A4E2XG, B006Y9YKIO, B002QX43RK, B00IWAATKG, B002HJ1WYA, B00DPANPBI, B004JF689E, B00BK0RHK0, B00B0A5VTY, B00DPANNRE, B004U73UCY, B001J1S7TA, B00BNRHLQU, B000W94DIY, B000OT7TZ6, B005EHFIP6, B000W9144K, B00E6IY5Z8, B00D64QVZ0, B00GPDST22, B004XDVXZ6, B00D4MVIO8, B001R4GNI6, B00A6ROZ12, B00BZPIEJI, B002HJ1WTU, B00BZPICCM, B002PKBLVA, B0014BRN0O, B00BK0RJ2G, B005HRT6S8, B00BZPIE2K, B0046ZRR7E, B0092MTA7Q, B00835TN3E, B00A9V1AUY, B000VXM7Z2, B008X4BC16, B000OT7U64, B004P5NY2C, B00E1UY4AW, B0092MTJBS]\",\"rank\":\"\",\"title\":\"\",\"author\":\"\",\"category\":\"Literature & Fiction\"}', '{\"asin\":\"B0012094GI\",\"price\":\"4.39\",\"imUrl\":\"http://ecx.images-amazon.com/images/I/41NKyPsrgvL._BO2,204,203,200_PIsitb-sticker-v3-big,TopRight,0,-55_SX278_SY278_PIkin4,BottomRight,1,22_AA300_SH20_OU01_.jpg\",\"description\":\"\",\"related\":\"[B00B0A70Z2, B0042JSQF6, B0057H07CW, B004U73UF6, B002ZF0KEE, B004MME22O, B0018QQQK8, B00BOTU42A, B008EO3FEC, B0042JSR8C, B000FCKH9W, B006846YXE, B0042JSQEC, B0063Y2OCE, B0077T2BHM, B000FBJAEQ, B004JF6DLM, B00HAZ6B5G, B005Q07FX4, B005IGVS6Q, B000Q9INB8, B001FA0U3G, B0096OBJ9W, B002HJ1XB2, B000ZBTYZ6, B0089NUSMK, B00H6JHV8W, B0042JSRB4, B00AQ3K8IU, B00GJ201UW, B003JTHBWE, B006MKUQWO, B0042JSQN8, B00CFX466Y, B007Z37Q52, B0042JSQLK, B006PJ7Z6W, B009UBAPAK, B00D4MVHN0, B000OT8GCQ, B00ALTVLHQ, B0042JSRKA, B00A6BRG6E, B0052E7HAU, B002PKBL92, B000FA670W, B0062OCNX0, B000FA5QD6, B007QPU5UC, B000SEI230, B002UD5PK0, B00BZPLJZO, B000UZJQXM, B00BUPMC8C, B008X4BD56, B0042JSQTM, B0042JSRGY, B000FA5TQK, B00GPDST22, B001R4GNI6, B000FCK3BE, B006QZJ4BO, B002F00C8I, B009YEXR1C, B004DNWIEG, B0056HF3RM, B000OT7U64, B005QRPFKM, B0078TE2I2, B004DNWRLA, B004QZ9PLU, B006Y9YQUQ, B004PYDR02, B008ADQLZ2, B008SFRMV4, B00EFPXULM, B006P3B9MO, B000FC1L5Q, B003JTHXOK, B001GXF2S0, B000Q67J66, B000W9144K, B0071PO6NE, B002M2AT0K, B005ENK1L6, B00BZPIE2A, B003T0G750, B00HAZ6B4C, B006SINI2A, B00FTQIA1G, B003U89RYE, B0042JSR1E, B00E1UY4AW, B00AP2VTJE]\",\"rank\":\"\",\"title\":\"\",\"author\":\"\",\"category\":\"Romance\"}']"
     ]
    }
   ],
   "source": [
    "df_json.take(10)"
   ]
  },
  {
   "cell_type": "code",
   "execution_count": 61,
   "metadata": {},
   "outputs": [
    {
     "data": {
      "application/vnd.jupyter.widget-view+json": {
       "model_id": "f1959d65a114490f8ca00189ec2989f2",
       "version_major": 2,
       "version_minor": 0
      },
      "text/plain": [
       "VBox()"
      ]
     },
     "metadata": {},
     "output_type": "display_data"
    },
    {
     "data": {
      "application/vnd.jupyter.widget-view+json": {
       "model_id": "",
       "version_major": 2,
       "version_minor": 0
      },
      "text/plain": [
       "FloatProgress(value=0.0, bar_style='info', description='Progress:', layout=Layout(height='25px', width='50%'),…"
      ]
     },
     "metadata": {},
     "output_type": "display_data"
    }
   ],
   "source": [
    "df_json.saveAsTextFile(\"s3n://analytics-50043/output/kindle_metadata_cleaned.json\")"
   ]
  },
  {
   "cell_type": "code",
   "execution_count": null,
   "metadata": {},
   "outputs": [],
   "source": []
  }
 ],
 "metadata": {
  "kernelspec": {
   "display_name": "PySpark",
   "language": "",
   "name": "pysparkkernel"
  },
  "language_info": {
   "codemirror_mode": {
    "name": "python",
    "version": 2
   },
   "mimetype": "text/x-python",
   "name": "pyspark",
   "pygments_lexer": "python2"
  }
 },
 "nbformat": 4,
 "nbformat_minor": 4
}
