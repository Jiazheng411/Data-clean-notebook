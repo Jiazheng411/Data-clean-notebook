{
 "cells": [
  {
   "cell_type": "code",
   "execution_count": 1,
   "metadata": {},
   "outputs": [
    {
     "data": {
      "text/html": [
       "Current session configs: <tt>{'conf': {'spark.pyspark.python': 'python3', 'spark.pyspark.virtualenv.enabled': 'true', 'spark.pyspark.virtualenv.type': 'native', 'spark.pyspark.virtualenv.bin.path': '/usr/bin/virtualenv'}, 'kind': 'pyspark'}</tt><br>"
      ],
      "text/plain": [
       "<IPython.core.display.HTML object>"
      ]
     },
     "metadata": {},
     "output_type": "display_data"
    },
    {
     "data": {
      "text/html": [
       "No active sessions."
      ],
      "text/plain": [
       "<IPython.core.display.HTML object>"
      ]
     },
     "metadata": {},
     "output_type": "display_data"
    }
   ],
   "source": [
    "%%info"
   ]
  },
  {
   "cell_type": "code",
   "execution_count": 2,
   "metadata": {},
   "outputs": [
    {
     "data": {
      "application/vnd.jupyter.widget-view+json": {
       "model_id": "6a426b07acfd4396a62410da6980da0b",
       "version_major": 2,
       "version_minor": 0
      },
      "text/plain": [
       "VBox()"
      ]
     },
     "metadata": {},
     "output_type": "display_data"
    },
    {
     "name": "stdout",
     "output_type": "stream",
     "text": [
      "Starting Spark application\n"
     ]
    },
    {
     "data": {
      "text/html": [
       "<table>\n",
       "<tr><th>ID</th><th>YARN Application ID</th><th>Kind</th><th>State</th><th>Spark UI</th><th>Driver log</th><th>Current session?</th></tr><tr><td>5</td><td>application_1603723084707_0006</td><td>pyspark</td><td>idle</td><td><a target=\"_blank\" href=\"http://ip-172-31-18-133.ec2.internal:20888/proxy/application_1603723084707_0006/\">Link</a></td><td><a target=\"_blank\" href=\"http://ip-172-31-29-254.ec2.internal:8042/node/containerlogs/container_1603723084707_0006_01_000001/livy\">Link</a></td><td>✔</td></tr></table>"
      ],
      "text/plain": [
       "<IPython.core.display.HTML object>"
      ]
     },
     "metadata": {},
     "output_type": "display_data"
    },
    {
     "data": {
      "application/vnd.jupyter.widget-view+json": {
       "model_id": "",
       "version_major": 2,
       "version_minor": 0
      },
      "text/plain": [
       "FloatProgress(value=0.0, bar_style='info', description='Progress:', layout=Layout(height='25px', width='50%'),…"
      ]
     },
     "metadata": {},
     "output_type": "display_data"
    },
    {
     "name": "stdout",
     "output_type": "stream",
     "text": [
      "SparkSession available as 'spark'.\n"
     ]
    },
    {
     "data": {
      "application/vnd.jupyter.widget-view+json": {
       "model_id": "",
       "version_major": 2,
       "version_minor": 0
      },
      "text/plain": [
       "FloatProgress(value=0.0, bar_style='info', description='Progress:', layout=Layout(height='25px', width='50%'),…"
      ]
     },
     "metadata": {},
     "output_type": "display_data"
    }
   ],
   "source": [
    "#importing necessary libaries\n",
    "from pyspark import SparkContext\n",
    "from pyspark.sql import SparkSession\n",
    "from pyspark.sql.functions import *\n",
    "from pyspark.sql.types import StringType\n",
    "from pyspark import SQLContext\n",
    "from itertools import islice\n",
    "from pyspark.sql.functions import col"
   ]
  },
  {
   "cell_type": "code",
   "execution_count": 3,
   "metadata": {},
   "outputs": [
    {
     "data": {
      "application/vnd.jupyter.widget-view+json": {
       "model_id": "97da392179244c899339525ec04c0ecb",
       "version_major": 2,
       "version_minor": 0
      },
      "text/plain": [
       "VBox()"
      ]
     },
     "metadata": {},
     "output_type": "display_data"
    },
    {
     "data": {
      "application/vnd.jupyter.widget-view+json": {
       "model_id": "",
       "version_major": 2,
       "version_minor": 0
      },
      "text/plain": [
       "FloatProgress(value=0.0, bar_style='info', description='Progress:', layout=Layout(height='25px', width='50%'),…"
      ]
     },
     "metadata": {},
     "output_type": "display_data"
    }
   ],
   "source": [
    "import json\n",
    "import demjson"
   ]
  },
  {
   "cell_type": "code",
   "execution_count": 4,
   "metadata": {},
   "outputs": [
    {
     "data": {
      "application/vnd.jupyter.widget-view+json": {
       "model_id": "f87cdd60453c49cb97677dc078ed9a19",
       "version_major": 2,
       "version_minor": 0
      },
      "text/plain": [
       "VBox()"
      ]
     },
     "metadata": {},
     "output_type": "display_data"
    },
    {
     "data": {
      "application/vnd.jupyter.widget-view+json": {
       "model_id": "",
       "version_major": 2,
       "version_minor": 0
      },
      "text/plain": [
       "FloatProgress(value=0.0, bar_style='info', description='Progress:', layout=Layout(height='25px', width='50%'),…"
      ]
     },
     "metadata": {},
     "output_type": "display_data"
    }
   ],
   "source": [
    "#creating the context\n",
    "sqlContext = SQLContext(sc)"
   ]
  },
  {
   "cell_type": "code",
   "execution_count": 5,
   "metadata": {},
   "outputs": [
    {
     "data": {
      "application/vnd.jupyter.widget-view+json": {
       "model_id": "201778787ffc4ee69a71a9f8415a8a5e",
       "version_major": 2,
       "version_minor": 0
      },
      "text/plain": [
       "VBox()"
      ]
     },
     "metadata": {},
     "output_type": "display_data"
    },
    {
     "data": {
      "application/vnd.jupyter.widget-view+json": {
       "model_id": "",
       "version_major": 2,
       "version_minor": 0
      },
      "text/plain": [
       "FloatProgress(value=0.0, bar_style='info', description='Progress:', layout=Layout(height='25px', width='50%'),…"
      ]
     },
     "metadata": {},
     "output_type": "display_data"
    },
    {
     "name": "stdout",
     "output_type": "stream",
     "text": [
      "Package                    Version  \n",
      "-------------------------- ---------\n",
      "beautifulsoup4             4.9.1    \n",
      "boto                       2.49.0   \n",
      "click                      7.1.2    \n",
      "demjson                    2.2.4    \n",
      "jmespath                   0.10.0   \n",
      "joblib                     0.16.0   \n",
      "lxml                       4.5.2    \n",
      "mysqlclient                1.4.2    \n",
      "nltk                       3.5      \n",
      "nose                       1.3.4    \n",
      "numpy                      1.16.5   \n",
      "pip                        9.0.1    \n",
      "py-dateutil                2.2      \n",
      "python37-sagemaker-pyspark 1.4.0    \n",
      "pytz                       2020.1   \n",
      "PyYAML                     5.3.1    \n",
      "regex                      2020.7.14\n",
      "setuptools                 28.8.0   \n",
      "six                        1.13.0   \n",
      "soupsieve                  1.9.5    \n",
      "tqdm                       4.48.2   \n",
      "wheel                      0.29.0   \n",
      "windmill                   1.6"
     ]
    }
   ],
   "source": [
    "sc.list_packages()"
   ]
  },
  {
   "cell_type": "code",
   "execution_count": 6,
   "metadata": {},
   "outputs": [
    {
     "data": {
      "application/vnd.jupyter.widget-view+json": {
       "model_id": "abbe24fdb596417883ce2de0c2d96108",
       "version_major": 2,
       "version_minor": 0
      },
      "text/plain": [
       "VBox()"
      ]
     },
     "metadata": {},
     "output_type": "display_data"
    },
    {
     "data": {
      "application/vnd.jupyter.widget-view+json": {
       "model_id": "",
       "version_major": 2,
       "version_minor": 0
      },
      "text/plain": [
       "FloatProgress(value=0.0, bar_style='info', description='Progress:', layout=Layout(height='25px', width='50%'),…"
      ]
     },
     "metadata": {},
     "output_type": "display_data"
    }
   ],
   "source": [
    "original_books = sc.textFile(\"s3n://analytics-50043/data/meta_Kindle_Store.json\").map(lambda line: eval(line))"
   ]
  },
  {
   "cell_type": "code",
   "execution_count": 7,
   "metadata": {},
   "outputs": [
    {
     "data": {
      "application/vnd.jupyter.widget-view+json": {
       "model_id": "a0b3d3e8dc1241bba90438fcd919723a",
       "version_major": 2,
       "version_minor": 0
      },
      "text/plain": [
       "VBox()"
      ]
     },
     "metadata": {},
     "output_type": "display_data"
    },
    {
     "data": {
      "application/vnd.jupyter.widget-view+json": {
       "model_id": "",
       "version_major": 2,
       "version_minor": 0
      },
      "text/plain": [
       "FloatProgress(value=0.0, bar_style='info', description='Progress:', layout=Layout(height='25px', width='50%'),…"
      ]
     },
     "metadata": {},
     "output_type": "display_data"
    },
    {
     "name": "stdout",
     "output_type": "stream",
     "text": [
      "{'asin': '1603420304', 'description': \"In less time and for less money than it takes to order pizza, you can make it yourself!Three harried but heatlh-conscious college students compiled and tested this collection of more than 200 tasty, hearty, inexpensive recipes anyone can cook -- yes, anyone!Whether you're short on cash, fearful of fat, counting your calories, or just miss home cooking, The Healthy College Cookbook offers everything you need to make good food yourself.\", 'price': 7.69, 'imUrl': 'http://ecx.images-amazon.com/images/I/51IEqPrF%2B9L._BO2,204,203,200_PIsitb-sticker-v3-big,TopRight,0,-55_SX278_SY278_PIkin4,BottomRight,1,22_AA300_SH20_OU01_.jpg', 'related': {'also_viewed': ['B001OLRKLQ', 'B004J35JIC', 'B00505UP8M', 'B004GTLKEQ', 'B005KWMS8U', 'B00BS03TYU', 'B001MT5NXW', 'B00A86JE3K', 'B00D694Y9U', 'B00DSVUVXY', 'B008EN3W6Y', 'B00BS03W5Q', 'B008161J1O', 'B0089LOJH2', 'B00ENSBJYQ', 'B00C7C040U', 'B00DH410VY', 'B00CMVFW4O', 'B00C89GS1Q', 'B0035FZJ9Y', 'B004GTLFUK', 'B00H24WT2E', 'B00CVS44OW', 'B00C5W32QK', 'B00HY0KTPK', 'B00BJ8IPJU', 'B00JEOMV1E', 'B0041KKLNQ', 'B00CVS2JYY', 'B00CTVOVD0', 'B00ET594CC'], 'buy_after_viewing': ['B004J35JIC', 'B0089LOJH2']}, 'categories': [['Books', 'Cookbooks, Food & Wine', 'Quick & Easy'], ['Books', 'Cookbooks, Food & Wine', 'Special Diet'], ['Books', 'Cookbooks, Food & Wine', 'Vegetarian & Vegan', 'Non-Vegan Vegetarian'], ['Kindle Store', 'Kindle eBooks', 'Cookbooks, Food & Wine', 'Quick & Easy'], ['Kindle Store', 'Kindle eBooks', 'Cookbooks, Food & Wine', 'Special Diet', 'Healthy'], ['Kindle Store', 'Kindle eBooks', 'Cookbooks, Food & Wine', 'Vegetables & Vegetarian']]}"
     ]
    }
   ],
   "source": [
    "original_books.first()"
   ]
  },
  {
   "cell_type": "code",
   "execution_count": 8,
   "metadata": {},
   "outputs": [
    {
     "data": {
      "application/vnd.jupyter.widget-view+json": {
       "model_id": "b438432734644b029fca53b2968c649c",
       "version_major": 2,
       "version_minor": 0
      },
      "text/plain": [
       "VBox()"
      ]
     },
     "metadata": {},
     "output_type": "display_data"
    },
    {
     "data": {
      "application/vnd.jupyter.widget-view+json": {
       "model_id": "",
       "version_major": 2,
       "version_minor": 0
      },
      "text/plain": [
       "FloatProgress(value=0.0, bar_style='info', description='Progress:', layout=Layout(height='25px', width='50%'),…"
      ]
     },
     "metadata": {},
     "output_type": "display_data"
    },
    {
     "name": "stdout",
     "output_type": "stream",
     "text": [
      "{'asin': '1603420304', 'description': \"In less time and for less money than it takes to order pizza, you can make it yourself!Three harried but heatlh-conscious college students compiled and tested this collection of more than 200 tasty, hearty, inexpensive recipes anyone can cook -- yes, anyone!Whether you're short on cash, fearful of fat, counting your calories, or just miss home cooking, The Healthy College Cookbook offers everything you need to make good food yourself.\", 'price': 7.69, 'imUrl': 'http://ecx.images-amazon.com/images/I/51IEqPrF%2B9L._BO2,204,203,200_PIsitb-sticker-v3-big,TopRight,0,-55_SX278_SY278_PIkin4,BottomRight,1,22_AA300_SH20_OU01_.jpg', 'related': {'also_viewed': ['B001OLRKLQ', 'B004J35JIC', 'B00505UP8M', 'B004GTLKEQ', 'B005KWMS8U', 'B00BS03TYU', 'B001MT5NXW', 'B00A86JE3K', 'B00D694Y9U', 'B00DSVUVXY', 'B008EN3W6Y', 'B00BS03W5Q', 'B008161J1O', 'B0089LOJH2', 'B00ENSBJYQ', 'B00C7C040U', 'B00DH410VY', 'B00CMVFW4O', 'B00C89GS1Q', 'B0035FZJ9Y', 'B004GTLFUK', 'B00H24WT2E', 'B00CVS44OW', 'B00C5W32QK', 'B00HY0KTPK', 'B00BJ8IPJU', 'B00JEOMV1E', 'B0041KKLNQ', 'B00CVS2JYY', 'B00CTVOVD0', 'B00ET594CC'], 'buy_after_viewing': ['B004J35JIC', 'B0089LOJH2']}, 'categories': [['Books', 'Cookbooks, Food & Wine', 'Quick & Easy'], ['Books', 'Cookbooks, Food & Wine', 'Special Diet'], ['Books', 'Cookbooks, Food & Wine', 'Vegetarian & Vegan', 'Non-Vegan Vegetarian'], ['Kindle Store', 'Kindle eBooks', 'Cookbooks, Food & Wine', 'Quick & Easy'], ['Kindle Store', 'Kindle eBooks', 'Cookbooks, Food & Wine', 'Special Diet', 'Healthy'], ['Kindle Store', 'Kindle eBooks', 'Cookbooks, Food & Wine', 'Vegetables & Vegetarian']]}\n",
      "{'asin': 'B0002IQ15S', 'categories': [['Kindle Store', 'Kindle Accessories', 'Power Adapters', 'Kindle (1st Generation) Adapters']], 'description': \"This universal DC adapter powers/charges portable electronic devices such as mobile phones, handhelds/PDAs, digital cameras and MP3 players.  Utilizing interchangeable itips, iGo AutoPower powers/charges virtually all of your portable electronic devices from any standard auto power outlet eliminating the need to carry multiple power adapters when you're mobile.Main FeaturesManufacturer: Mobility Electronics, IncManufacturer Part Number: PS0221-10Manufacturer Website Address: www.mobilityelectronics.comProduct Type: Power AdapterInput Voltage: 11.5 V DC to 16 V DCOutput Power: 15WWeight: 3.6 ozStandard Warranty: 2 Year(s) Limited\", 'title': 'Mobility IGO AUTOPOWER 3000 SERIES ( PS0221-10 )', 'price': 19.99, 'salesRank': {}, 'imUrl': 'http://ecx.images-amazon.com/images/I/21QFJM28NGL.jpg', 'related': {'also_viewed': ['B00511PS3C', 'B000PI17MM', 'B0016L6OWK', 'B006BGZJJ4', 'B005DOKHLK', 'B001W1XT6I', 'B003YLMAC8', 'B00EXIGQFS', 'B000QSPO3Y', 'B001W1TZTS', 'B00115PYGS', 'B001W1XT5O', 'B002GJQ7AU', 'B00EOE6COQ', 'B0012J52OC', 'B001007OUI', 'B00F3HH2HY', 'B00CGIVV5C', 'B00GA567M4', 'B002WCCQQA', 'B006GWO5NE', 'B006GWO5WK', 'B007HCCNJU', 'B00BHJRYYS'], 'buy_after_viewing': ['B006GWO5WK', 'B001N2LHHO', 'B006GWO5NE', 'B0012J52OC']}}\n",
      "{'asin': 'B000F83SZQ', 'price': 0.0, 'imUrl': 'http://ecx.images-amazon.com/images/I/51yLqHe%2BFqL._BO2,204,203,200_PIsitb-sticker-v3-big,TopRight,0,-55_SX278_SY278_PIkin4,BottomRight,1,22_AA300_SH20_OU01_.jpg', 'related': {'also_bought': ['B0080H1C0W', 'B00LK4ZKOG', 'B00JZD2PU6', 'B00JPFAXTY', 'B00LK4ZMYE', 'B00LK30NEY', 'B006LABC8M', 'B00L1HYMJQ', 'B00J7X007E', 'B00LG0HL00', 'B00CEL5530', 'B000FA5PUK', 'B00LNLVQ9Y', 'B00KBGI38E', 'B00LDPMLVM', 'B00KVOC68O', 'B00A3N25HK', 'B00K5V449C', 'B006BE4OUG', 'B00H9WPHXM', 'B00D1CPG5I', 'B0084MZWPO', 'B00KL13WXK', 'B00H9ZM782', 'B00AL2AF8O', 'B00D0IPCCK', 'B00JZDM9CA', 'B000FA5LAO', 'B00DDW57NW', 'B00H876DYU', 'B00EI3E0T2', 'B00FN9G0KM', 'B006LAAUHG', 'B00JX7UVFU', 'B00K6H2D5W', 'B00KCA0I96', 'B00JXRCPNG', 'B00CV9I2J4', 'B00L22GJVO', 'B00EZVS8H2', 'B00IVC9IQG', 'B00KOYAQFG', 'B008AD8TFW', 'B0036B955G', 'B00EH3R7WK', 'B004GXB2DG', 'B005HAWAZG', 'B00KVMWJRY', 'B00K6YZ4CY', 'B008CJ1R5S', 'B00ITNWAVM', 'B009PK83IC', 'B00F1MU458', 'B00KUF0KCI', 'B00DRLACCA', 'B002G1ZY4S', 'B00DXO6HR0', 'B0087KGSNI', 'B00HD5XVY2', 'B00ICXDRCU', 'B003XVYGVC', 'B00FY54N72', 'B00HBGISE6', 'B00KBK4USC', 'B007GG9XEU', 'B00AJ1VLOY', 'B00E6EHFN6', 'B00IOYDAEW', 'B00KFOTI72', 'B008RZQYN2', 'B00JRDGZN2', 'B008R8FPFW', 'B00JL62F48', 'B006GRNYFE', 'B00DVL2CVU', 'B00H92XFA4', 'B00IJKQH96', 'B008GNGKIO', 'B00K39Q7ZK', 'B00K00LEOG', 'B00I9FJJWS', 'B00J9SQW56', 'B00BEOZCJU', 'B00EZGSTD0', 'B003YDXMYG', 'B00GZR2NZC', 'B0045UA6F0', 'B00J16SQFU', 'B00DPBNP2Q', 'B00927CLFY', 'B00H3J4L4M', 'B00ICP5JLK', 'B00H4K59DW', 'B003XVYGWQ', 'B00HF7J1P6'], 'buy_after_viewing': ['B006HCTWVS', 'B009FZPMFO', 'B00F1I0C40', 'B00IVC9IQG']}, 'categories': [['Books', 'Literature & Fiction'], ['Books', 'Mystery, Thriller & Suspense', 'Thrillers & Suspense', 'Suspense'], ['Kindle Store', 'Kindle eBooks', 'Mystery, Thriller & Suspense', 'Suspense']]}\n",
      "{'asin': 'B000F83TEQ', 'imUrl': 'http://ecx.images-amazon.com/images/I/2136NBNV5FL._BO2,204,203,200_PIsitb-sticker-v3-xsmall,TopRight,2,-18_SX278_SY278_PIkin4,BottomRight,1,22_AA300_SH20_OU01_.jpg', 'related': {'also_bought': ['B00IS81LFO', 'B000FA5T6A', 'B00IS823GA', 'B00IS81QVS', 'B00IS80K60', 'B00IS887XI', 'B00H8Y5EVG', 'B00IS8824M', 'B000FA5L7M', 'B00IS888QO', 'B00IS7ZOG2', 'B00IS881AC', 'B00IS811W2', 'B00IS80150', 'B00IS819E2', 'B00AQP7DLS', 'B00IS885V2', 'B00B1MSJ4A', 'B00IS885A8', 'B00IS88N1Y', 'B00IS81UIM', 'B00IS814T2', 'B00IS80K9W', 'B00AQP7IDQ', 'B0044XVC8S', 'B003V4BPG0', 'B003V4BPSI', 'B005QBMS3A', 'B004SOQ1XY', 'B00AQP7IVS', 'B0085OTF4A', 'B005QBMJUC', 'B003V4BPOC', 'B005QBMQSC', 'B008H766TM', 'B004SOQ11G', 'B00AB6BMTQ', 'B008H767FK', 'B00DIANILC', 'B00B1MSI2I', 'B00BVC1SSE', 'B004SOQ0A8', 'B00BMVVW4E', 'B00CQETPRM', 'B00F0QWBNS', 'B008H76674', 'B005QBMQ1E', 'B00B1MSINM', 'B005QBMG8W', 'B00B1MSIY6']}, 'categories': [['Books', 'Literature & Fiction'], ['Books', 'Mystery, Thriller & Suspense', 'Thrillers & Suspense', 'Suspense'], ['Kindle Store', 'Kindle eBooks', 'Mystery, Thriller & Suspense', 'Suspense']]}\n",
      "{'asin': 'B000F83STC', 'imUrl': 'http://g-ecx.images-amazon.com/images/G/01/x-site/icons/no-img-sm._V192198896_.gif', 'categories': [['Books', 'Literature & Fiction', 'Erotica'], ['Kindle Store', 'Kindle eBooks', 'Literature & Fiction', 'Erotica']]}\n",
      "{'asin': 'B000FA5RE4', 'description': 'Updated 2003 version with corrections', 'price': 1.99, 'imUrl': 'http://ecx.images-amazon.com/images/I/21XTM6V09AL._BO2,204,203,200_PIsitb-sticker-v3-xsmall,TopRight,2,-18_SX278_SY278_PIkin4,BottomRight,1,22_AA300_SH20_OU01_.jpg', 'related': {'also_viewed': ['B001GX3ZWA', 'B009GI3S1A', 'B000SEGJ5S', 'B002ROKQUG', 'B00BVTMIDQ', 'B000SF9O22', 'B002Z13UUO', 'B004OBYTZI', 'B008EGEPPI', 'B004TIJJBK', 'B0052ZQL9W', 'B00IP84VGS', 'B000N2HBYS', 'B0097ROXQ4', 'B00BS03V7U'], 'buy_after_viewing': ['B005NJRGK0', 'B001GX3ZWA', 'B009GI3S1A', 'B000SEGJ5S']}, 'categories': [['Books', 'Reference', 'Dictionaries & Thesauruses', 'Dictionaries'], ['Kindle Store', 'Kindle eBooks', 'Reference', 'Dictionaries & Thesauruses', 'Kindle Default Dictionaries']]}\n",
      "{'asin': 'B000FA5NSO', 'imUrl': 'http://ecx.images-amazon.com/images/I/51N45B6jq8L._BO2,204,203,200_PIsitb-sticker-v3-big,TopRight,0,-55_SX278_SY278_PIkin4,BottomRight,1,22_AA300_SH20_OU01_.jpg', 'related': {'also_viewed': ['B000FBF81K', 'B000FA5KKA']}, 'categories': [['Books', 'Literature & Fiction'], ['Books', 'Science Fiction & Fantasy', 'Science Fiction'], ['Kindle Store', 'Kindle eBooks', 'Science Fiction & Fantasy', 'Science Fiction']]}\n",
      "{'asin': 'B000FA5UXC', 'imUrl': 'http://ecx.images-amazon.com/images/I/51q4iur5ukL._BO2,204,203,200_PIsitb-sticker-v3-big,TopRight,0,-55_SX278_SY278_PIkin4,BottomRight,1,22_AA300_SH20_OU01_.jpg', 'related': {'also_bought': ['B004SPL1I8', 'B00942QL3K', 'B000FA5Q8Q', 'B003E4CYVW', 'B003P9XMEE']}, 'categories': [['Books', 'Literature & Fiction'], ['Books', 'Science Fiction & Fantasy', 'Science Fiction', 'High Tech'], ['Kindle Store', 'Kindle eBooks', 'Science Fiction & Fantasy', 'Science Fiction', 'Hard Science Fiction']], 'description': \"Madoc Tamlin is a man with an unusual problem. He wakes to find himself a thousand years in the future, in a space station on the far side of the sun. Or so he is told by the mysterious, sexless human who greets him. Madoc assures himself that he's still in his own time, trapped in advanced virtual reality by one of his foes, because if he isn't, he has no idea why he was cryogenically frozen--which would mean that he was a dangerous criminal. And he doesn't remember that either! Plus, the notorious serial killer Christine Caine has been defrosted to join him, and they, along with their strange rescuer, have just been captured in an impossible space battle by an unknown enemy.The Omega Expeditionis the sixth and concluding volume of Brian Stableford's grand future history, which explores the possibilities and perils of emortality  (near-immortality). This is one of the most thoughtful, complex, and ambitious series ever produced in science fiction, and its final novel, a standalone work, masterfully orchestrates the numerous characters, themes, plot lines, and ideas to a bold conclusion. But newcomers to the series really shouldn't start withThe Omega Expedition. Read the novels of this future history in the author's intended order, detailed in his informative introduction toThe Omega Expedition. Start withThe Cassandra Complex.--Cynthia Ward\"}\n",
      "{'asin': 'B000FA5T4W', 'price': 12.46, 'imUrl': 'http://ecx.images-amazon.com/images/I/51eWyBr8A3L._BO2,204,203,200_PIsitb-sticker-v3-big,TopRight,0,-55_SX278_SY278_PIkin4,BottomRight,1,22_AA300_SH20_OU01_.jpg', 'related': {'also_bought': ['B004RKXHGS', 'B004ULMJH2', 'B00BI37JDY', 'B00FN4NN3Y', 'B007IUGLYO', 'B007JCNNGK', 'B0044KLPOW'], 'buy_after_viewing': ['B004RKXHGS', 'B00BI37JDY', 'B00710A0V6', 'B004478AMA']}, 'categories': [['Books', 'Business & Money', 'Accounting'], ['Books', 'Business & Money', 'Personal Finance', 'Budgeting & Money Management'], ['Kindle Store', 'Kindle eBooks', 'Business & Money', 'Accounting'], ['Kindle Store', 'Kindle eBooks', 'Business & Money', 'Personal Finance', 'Budgeting & Money Management'], ['Kindle Store', 'Kindle eBooks', 'Professional & Technical', 'Accounting & Finance', 'Accounting']]}\n",
      "{'asin': 'B000FA5SHK', 'imUrl': 'http://ecx.images-amazon.com/images/I/51c7mqORjsL._BO2,204,203,200_PIsitb-sticker-v3-big,TopRight,0,-55_SX278_SY278_PIkin4,BottomRight,1,22_AA300_SH20_OU01_.jpg', 'categories': [['Books', 'Science & Math', 'Behavioral Sciences'], ['Books', 'Self-Help', 'Relationships', 'Love & Romance'], ['Books', 'Self-Help', 'Sex'], ['Kindle Store', 'Kindle eBooks', 'Health, Fitness & Dieting', 'Relationships', 'Love & Romance'], ['Kindle Store', 'Kindle eBooks', 'Health, Fitness & Dieting', 'Sex']]}"
     ]
    }
   ],
   "source": [
    "book_list = original_books.take(10)\n",
    "for i in book_list:\n",
    "    print(i)"
   ]
  },
  {
   "cell_type": "code",
   "execution_count": 9,
   "metadata": {},
   "outputs": [
    {
     "data": {
      "application/vnd.jupyter.widget-view+json": {
       "model_id": "851a43f9cb72440389810c34a84178d1",
       "version_major": 2,
       "version_minor": 0
      },
      "text/plain": [
       "VBox()"
      ]
     },
     "metadata": {},
     "output_type": "display_data"
    },
    {
     "data": {
      "application/vnd.jupyter.widget-view+json": {
       "model_id": "",
       "version_major": 2,
       "version_minor": 0
      },
      "text/plain": [
       "FloatProgress(value=0.0, bar_style='info', description='Progress:', layout=Layout(height='25px', width='50%'),…"
      ]
     },
     "metadata": {},
     "output_type": "display_data"
    },
    {
     "name": "stdout",
     "output_type": "stream",
     "text": [
      "434702"
     ]
    }
   ],
   "source": [
    "original_books.count()"
   ]
  },
  {
   "cell_type": "code",
   "execution_count": 10,
   "metadata": {},
   "outputs": [
    {
     "data": {
      "application/vnd.jupyter.widget-view+json": {
       "model_id": "2ecf41e742ad41589efb96a77eafd97a",
       "version_major": 2,
       "version_minor": 0
      },
      "text/plain": [
       "VBox()"
      ]
     },
     "metadata": {},
     "output_type": "display_data"
    },
    {
     "data": {
      "application/vnd.jupyter.widget-view+json": {
       "model_id": "",
       "version_major": 2,
       "version_minor": 0
      },
      "text/plain": [
       "FloatProgress(value=0.0, bar_style='info', description='Progress:', layout=Layout(height='25px', width='50%'),…"
      ]
     },
     "metadata": {},
     "output_type": "display_data"
    }
   ],
   "source": [
    "categories = original_books.map(lambda line: line['categories'])"
   ]
  },
  {
   "cell_type": "code",
   "execution_count": 11,
   "metadata": {},
   "outputs": [
    {
     "data": {
      "application/vnd.jupyter.widget-view+json": {
       "model_id": "544bb05f9f2b4a27be6105eee19ae3b6",
       "version_major": 2,
       "version_minor": 0
      },
      "text/plain": [
       "VBox()"
      ]
     },
     "metadata": {},
     "output_type": "display_data"
    },
    {
     "data": {
      "application/vnd.jupyter.widget-view+json": {
       "model_id": "",
       "version_major": 2,
       "version_minor": 0
      },
      "text/plain": [
       "FloatProgress(value=0.0, bar_style='info', description='Progress:', layout=Layout(height='25px', width='50%'),…"
      ]
     },
     "metadata": {},
     "output_type": "display_data"
    },
    {
     "name": "stdout",
     "output_type": "stream",
     "text": [
      "[['Books', 'Cookbooks, Food & Wine', 'Quick & Easy'], ['Books', 'Cookbooks, Food & Wine', 'Special Diet'], ['Books', 'Cookbooks, Food & Wine', 'Vegetarian & Vegan', 'Non-Vegan Vegetarian'], ['Kindle Store', 'Kindle eBooks', 'Cookbooks, Food & Wine', 'Quick & Easy'], ['Kindle Store', 'Kindle eBooks', 'Cookbooks, Food & Wine', 'Special Diet', 'Healthy'], ['Kindle Store', 'Kindle eBooks', 'Cookbooks, Food & Wine', 'Vegetables & Vegetarian']]\n",
      "[['Kindle Store', 'Kindle Accessories', 'Power Adapters', 'Kindle (1st Generation) Adapters']]\n",
      "[['Books', 'Literature & Fiction'], ['Books', 'Mystery, Thriller & Suspense', 'Thrillers & Suspense', 'Suspense'], ['Kindle Store', 'Kindle eBooks', 'Mystery, Thriller & Suspense', 'Suspense']]\n",
      "[['Books', 'Literature & Fiction'], ['Books', 'Mystery, Thriller & Suspense', 'Thrillers & Suspense', 'Suspense'], ['Kindle Store', 'Kindle eBooks', 'Mystery, Thriller & Suspense', 'Suspense']]\n",
      "[['Books', 'Literature & Fiction', 'Erotica'], ['Kindle Store', 'Kindle eBooks', 'Literature & Fiction', 'Erotica']]\n",
      "[['Books', 'Reference', 'Dictionaries & Thesauruses', 'Dictionaries'], ['Kindle Store', 'Kindle eBooks', 'Reference', 'Dictionaries & Thesauruses', 'Kindle Default Dictionaries']]\n",
      "[['Books', 'Literature & Fiction'], ['Books', 'Science Fiction & Fantasy', 'Science Fiction'], ['Kindle Store', 'Kindle eBooks', 'Science Fiction & Fantasy', 'Science Fiction']]\n",
      "[['Books', 'Literature & Fiction'], ['Books', 'Science Fiction & Fantasy', 'Science Fiction', 'High Tech'], ['Kindle Store', 'Kindle eBooks', 'Science Fiction & Fantasy', 'Science Fiction', 'Hard Science Fiction']]\n",
      "[['Books', 'Business & Money', 'Accounting'], ['Books', 'Business & Money', 'Personal Finance', 'Budgeting & Money Management'], ['Kindle Store', 'Kindle eBooks', 'Business & Money', 'Accounting'], ['Kindle Store', 'Kindle eBooks', 'Business & Money', 'Personal Finance', 'Budgeting & Money Management'], ['Kindle Store', 'Kindle eBooks', 'Professional & Technical', 'Accounting & Finance', 'Accounting']]\n",
      "[['Books', 'Science & Math', 'Behavioral Sciences'], ['Books', 'Self-Help', 'Relationships', 'Love & Romance'], ['Books', 'Self-Help', 'Sex'], ['Kindle Store', 'Kindle eBooks', 'Health, Fitness & Dieting', 'Relationships', 'Love & Romance'], ['Kindle Store', 'Kindle eBooks', 'Health, Fitness & Dieting', 'Sex']]\n",
      "[['Books', 'Literature & Fiction', 'Genre Fiction', 'Action & Adventure'], ['Kindle Store', 'Kindle eBooks', 'Literature & Fiction', 'Action & Adventure']]\n",
      "[['Books', 'Business & Money', 'Investing', 'Introduction'], ['Books', 'Literature & Fiction', 'Contemporary'], ['Kindle Store', 'Kindle eBooks', 'Business & Money', 'Investing', 'Investing Basics'], ['Kindle Store', 'Kindle eBooks', 'Literature & Fiction', 'Contemporary Fiction']]\n",
      "[['Books', 'Literature & Fiction', 'Genre Fiction', 'Movie Tie-Ins'], ['Books', 'Science Fiction & Fantasy', 'Science Fiction', 'Space Opera'], ['Kindle Store', 'Kindle eBooks', 'Literature & Fiction', 'Genre Fiction', 'Movie Tie-Ins'], ['Kindle Store', 'Kindle eBooks', 'Science Fiction & Fantasy', 'Science Fiction', 'Space Opera'], ['Kindle Store', 'Kindle eBooks', 'Science Fiction & Fantasy', 'Science Fiction', 'TV, Movie, Video Game Adaptations', 'Star Wars']]\n",
      "[['Books', 'Literature & Fiction'], ['Books', 'Mystery, Thriller & Suspense', 'Thrillers & Suspense', 'Suspense'], ['Kindle Store', 'Kindle eBooks', 'Literature & Fiction', 'Genre Fiction', 'Westerns', \"Louis L'Amour\"], ['Kindle Store', 'Kindle eBooks', 'Mystery, Thriller & Suspense', 'Suspense']]\n",
      "[['Books', 'Literature & Fiction', 'United States'], ['Books', 'Mystery, Thriller & Suspense', 'Mystery', 'Women Sleuths'], ['Kindle Store', 'Kindle eBooks', 'Mystery, Thriller & Suspense', 'Mystery', 'Series'], ['Kindle Store', 'Kindle eBooks', 'Mystery, Thriller & Suspense', 'Mystery', 'Women Sleuths']]\n",
      "[['Books', 'Medical Books', 'Medicine', 'Internal Medicine', 'Epidemiology'], ['Books', 'Medical Books', 'Medicine', 'Preventive Medicine'], ['Books', 'Medical Books', 'Medicine', 'Test Preparation & Review'], ['Kindle Store', 'Kindle eBooks', 'Professional & Technical', 'Medical eBooks', 'Administration & Policy', 'Public Health'], ['Kindle Store', 'Kindle eBooks', 'Professional & Technical', 'Medical eBooks', 'Education & Training'], ['Kindle Store', 'Kindle eBooks', 'Professional & Technical', 'Medical eBooks', 'Internal Medicine', 'Infectious Disease', 'Epidemiology'], ['Kindle Store', 'Kindle eBooks', 'Professional & Technical', 'Medical eBooks', 'Specialties', 'Preventive Medicine']]\n",
      "[['Books', 'Self-Help'], ['Kindle Store', 'Kindle eBooks', 'Health, Fitness & Dieting'], ['Kindle Store', 'Kindle eBooks', 'Self-Help']]\n",
      "[['Books', 'Biographies & Memoirs'], ['Kindle Store', 'Kindle eBooks', 'Biographies & Memoirs']]\n",
      "[['Books', 'Engineering & Transportation', 'Transportation', 'Aviation', 'Piloting & Flight Instruction'], ['Books', 'Reference'], ['Books', 'Science & Math'], ['Kindle Store', 'Kindle eBooks', 'Professional & Technical', 'Transportation', 'Aviation', 'Piloting & Flight Instruction'], ['Kindle Store', 'Kindle eBooks', 'Science & Math']]\n",
      "[['Books', 'Literature & Fiction', 'Genre Fiction', 'Action & Adventure'], ['Kindle Store', 'Kindle eBooks', 'Literature & Fiction', 'Action & Adventure']]\n",
      "[['Books', 'Literature & Fiction', 'Genre Fiction', 'Historical', 'Cultural Heritage'], ['Books', 'Mystery, Thriller & Suspense', 'Mystery', 'Supernatural', 'Psychics'], ['Books', 'Mystery, Thriller & Suspense', 'Mystery', 'Women Sleuths'], ['Kindle Store', 'Kindle eBooks', 'Literature & Fiction', 'Historical Fiction', 'Mystery, Thriller & Suspense'], ['Kindle Store', 'Kindle eBooks', 'Mystery, Thriller & Suspense', 'Mystery', 'Women Sleuths']]\n",
      "[['Books', 'History', 'Europe', 'Great Britain', 'England'], ['Books', 'Politics & Social Sciences', 'Politics & Government', 'International & World Politics', 'European'], ['Books', 'Politics & Social Sciences', 'Politics & Government', 'Political Science', 'History & Theory'], ['Kindle Store', 'Kindle eBooks', 'History', 'Europe', 'England']]\n",
      "[['Books', 'Christian Books & Bibles', 'Catholicism'], ['Books', 'Christian Books & Bibles', 'Churches & Church Leadership', 'Church Institutions & Organizations'], ['Books', 'Christian Books & Bibles', 'Worship & Devotion', 'Monasticism & Asceticism'], ['Books', 'Gay & Lesbian', 'History'], ['Books', 'History', 'Ancient Civilizations'], ['Books', 'Politics & Social Sciences', 'Archaeology'], ['Books', 'Reference', 'Encyclopedias & Subject Guides', 'Religion'], ['Books', 'Religion & Spirituality'], ['Kindle Store', 'Kindle eBooks', 'Politics & Social Sciences', 'Social Sciences', 'Archaeology'], ['Kindle Store', 'Kindle eBooks', 'Religion & Spirituality', 'Christian Books & Bibles', 'Churches & Church Leadership', 'Church Institutions & Organizations'], ['Kindle Store', 'Kindle eBooks', 'Religion & Spirituality', 'Christian Books & Bibles', 'Worship & Devotion', 'Monasticism & Asceticism'], ['Kindle Store', 'Kindle eBooks', 'Religion & Spirituality', 'Religious Studies & Reference', 'Antiquities & Archaeology'], ['Kindle Store', 'Kindle eBooks', 'Religion & Spirituality', 'Religious Studies & Reference', 'Reference']]\n",
      "[['Books', 'Literature & Fiction', 'Contemporary'], ['Books', 'Mystery, Thriller & Suspense', 'Thrillers & Suspense', 'Suspense'], ['Kindle Store', 'Kindle eBooks', 'Literature & Fiction', 'Contemporary Fiction'], ['Kindle Store', 'Kindle eBooks', 'Mystery, Thriller & Suspense', 'Suspense'], ['Kindle Store', 'Kindle eBooks', 'Mystery, Thriller & Suspense', 'Thrillers']]\n",
      "[['Books', 'Health, Fitness & Dieting', 'Mental Health'], ['Books', 'Health, Fitness & Dieting', 'Psychology & Counseling', 'Psychoanalysis'], ['Books', 'Medical Books', 'Psychology', 'General'], ['Books', 'Medical Books', 'Psychology', 'Psychoanalysis'], ['Kindle Store', 'Kindle eBooks', 'Health, Fitness & Dieting', 'Mental Health'], ['Kindle Store', 'Kindle eBooks', 'Health, Fitness & Dieting', 'Psychology & Counseling', 'Mental Illness'], ['Kindle Store', 'Kindle eBooks', 'Health, Fitness & Dieting', 'Psychology & Counseling', 'Psychoanalysis']]\n",
      "[['Books', 'Literature & Fiction', 'Anthologies & Literary Collections', 'General'], ['Books', 'Literature & Fiction', 'Erotica'], ['Books', 'Literature & Fiction', 'Short Stories', 'Anthologies'], ['Books', 'Literature & Fiction', 'Short Stories', 'Single Author'], ['Kindle Store', 'Kindle eBooks', 'Literature & Fiction', 'Erotica', 'BDSM'], ['Kindle Store', 'Kindle eBooks', 'Literature & Fiction', 'Genre Fiction', 'Anthologies'], ['Kindle Store', 'Kindle eBooks', 'Literature & Fiction', 'Short Stories', 'Anthologies & Collections'], ['Kindle Store', 'Kindle eBooks', 'Literature & Fiction', 'Short Stories', 'Single Authors']]\n",
      "[['Books', 'Comics & Graphic Novels'], ['Books', 'Science Fiction & Fantasy', 'Science Fiction'], ['Books', 'Teen & Young Adult'], ['Kindle Store', 'Kindle eBooks', 'Science Fiction & Fantasy', 'Science Fiction', 'TV, Movie, Video Game Adaptations', 'Star Wars'], ['Kindle Store', 'Kindle eBooks', 'Teen & Young Adult', 'Literature & Fiction', 'Comics & Graphic Novels']]\n",
      "[['Books', 'History', 'Europe'], ['Books', 'History', 'Military'], ['Kindle Store', 'Kindle eBooks', 'History', 'Europe'], ['Kindle Store', 'Kindle eBooks', 'History', 'Military']]\n",
      "[['Books', 'Health, Fitness & Dieting', 'Psychology & Counseling', 'Counseling'], ['Books', 'Medical Books', 'Psychology', 'Counseling'], ['Books', 'Medical Books', 'Psychology', 'General'], ['Kindle Store', 'Kindle eBooks', 'Health, Fitness & Dieting', 'Psychology & Counseling', 'Counseling']]\n",
      "[['Books', 'History', 'Europe'], ['Books', 'History', 'Military'], ['Books', 'Reference'], ['Kindle Store', 'Kindle eBooks', 'History', 'Europe']]\n",
      "[['Books', 'History', 'Asia', 'Japan'], ['Books', 'Politics & Social Sciences', 'Philosophy', 'Eastern'], ['Books', 'Politics & Social Sciences', 'Philosophy', 'Political'], ['Books', 'Politics & Social Sciences', 'Politics & Government', 'International & World Politics', 'Asian'], ['Books', 'Politics & Social Sciences', 'Politics & Government', 'Political Science', 'History & Theory'], ['Kindle Store', 'Kindle eBooks', 'History', 'Asia', 'Japan'], ['Kindle Store', 'Kindle eBooks', 'Politics & Social Sciences', 'Philosophy', 'Eastern'], ['Kindle Store', 'Kindle eBooks', 'Politics & Social Sciences', 'Philosophy', 'Political'], ['Kindle Store', 'Kindle eBooks', 'Politics & Social Sciences', 'Politics & Government', 'Political Science', 'History & Theory'], ['Kindle Store', 'Kindle eBooks', 'Religion & Spirituality', 'Other Eastern Religions & Sacred Texts', 'Eastern Philosophy']]\n",
      "[['Books', 'Education & Teaching', 'Schools & Teaching', 'Education Theory', 'Philosophy & Social Aspects'], ['Books', 'History'], ['Books', 'Politics & Social Sciences', 'Social Sciences', 'Popular Culture'], ['Kindle Store', 'Kindle eBooks', 'Education & Teaching', 'Teacher Resources'], ['Kindle Store', 'Kindle eBooks', 'Politics & Social Sciences', 'Social Sciences', 'Popular Culture']]\n",
      "[['Books', 'Medical Books', 'Nursing', 'Fundamentals & Skills'], ['Books', 'Medical Books', 'Nursing', 'Issues, Trends & Roles'], ['Kindle Store', 'Kindle eBooks', 'Professional & Technical', 'Medical eBooks', 'Nursing', 'Fundamentals & Skills'], ['Kindle Store', 'Kindle eBooks', 'Professional & Technical', 'Medical eBooks', 'Nursing', 'Issues, Trends & Roles']]\n",
      "[['Books', 'Comics & Graphic Novels', 'Graphic Novels', 'Science Fiction'], ['Books', 'Literature & Fiction', 'Genre Fiction', 'Action & Adventure'], ['Books', 'Science Fiction & Fantasy', 'Science Fiction', 'Adventure'], ['Books', 'Science Fiction & Fantasy', 'Science Fiction', 'Space Opera'], ['Books', 'Teen & Young Adult'], ['Kindle Store', 'Kindle eBooks', 'Comics & Graphic Novels', 'Graphic Novels', 'Action & Adventure'], ['Kindle Store', 'Kindle eBooks', 'Comics & Graphic Novels', 'Graphic Novels', 'Science Fiction'], ['Kindle Store', 'Kindle eBooks', 'Literature & Fiction', 'Action & Adventure', 'Fantasy'], ['Kindle Store', 'Kindle eBooks', 'Science Fiction & Fantasy', 'Science Fiction', 'Adventure'], ['Kindle Store', 'Kindle eBooks', 'Science Fiction & Fantasy', 'Science Fiction', 'Space Opera'], ['Kindle Store', 'Kindle eBooks', 'Science Fiction & Fantasy', 'Science Fiction', 'TV, Movie, Video Game Adaptations', 'Star Wars'], ['Kindle Store', 'Kindle eBooks', 'Teen & Young Adult', 'Literature & Fiction', 'Comics & Graphic Novels']]\n",
      "[['Books', 'Education & Teaching', 'Schools & Teaching', 'Education Theory', 'Administration'], ['Books', 'Education & Teaching', 'Schools & Teaching', 'Education Theory', 'Educational Psychology'], ['Books', 'Health, Fitness & Dieting', 'Psychology & Counseling'], ['Books', 'Medical Books', 'Psychology', 'General'], ['Books', 'Reference'], ['Books', 'Science & Math', 'Behavioral Sciences', 'Cognitive Psychology'], ['Kindle Store', 'Kindle eBooks', 'Education & Teaching', 'Teacher Resources', 'Education Theory', 'Administration'], ['Kindle Store', 'Kindle eBooks', 'Health, Fitness & Dieting', 'Psychology & Counseling']]\n",
      "[['Books', 'Business & Money', 'Economics', 'Environmental Economics'], ['Books', 'Business & Money', 'Industries & Professions', 'Hospitality, Travel & Tourism'], ['Books', 'Business & Money', 'Industries & Professions', 'Information Management'], ['Books', 'Science & Math', 'Earth Sciences', 'Geography'], ['Books', 'Science & Math', 'Nature & Ecology', 'Natural Resources'], ['Books', 'Travel', 'Specialty Travel', 'Ecotourism'], ['Kindle Store', 'Kindle eBooks', 'Business & Money', 'Industries', 'Hospitality, Travel & Tourism'], ['Kindle Store', 'Kindle eBooks', 'Science & Math', 'Earth Sciences', 'Geography'], ['Kindle Store', 'Kindle eBooks', 'Science & Math', 'Nature & Ecology', 'Natural Resources']]\n",
      "[['Books', 'Christian Books & Bibles', 'Churches & Church Leadership', 'Church History'], ['Books', 'Christian Books & Bibles', 'History'], ['Books', 'History', 'Europe', 'Germany'], ['Books', 'History', 'Europe', 'Great Britain', 'England'], ['Books', 'History', 'Military'], ['Books', 'History', 'World', 'Religious', 'Christianity'], ['Books', 'History', 'World', 'Religious', 'General'], ['Books', 'Reference'], ['Books', 'Religion & Spirituality', 'Religious Studies', 'History'], ['Kindle Store', 'Kindle Short Reads', 'Two hours or more (65-100 pages)', 'History'], ['Kindle Store', 'Kindle Short Reads', 'Two hours or more (65-100 pages)', 'Religion & Spirituality'], ['Kindle Store', 'Kindle eBooks', 'History'], ['Kindle Store', 'Kindle eBooks', 'Religion & Spirituality', 'Christian Books & Bibles', 'Churches & Church Leadership'], ['Kindle Store', 'Kindle eBooks', 'Religion & Spirituality', 'Christian Books & Bibles', 'History'], ['Kindle Store', 'Kindle eBooks', 'Religion & Spirituality', 'Religious Studies & Reference', 'History']]\n",
      "[['Books', 'Literature & Fiction', 'Classics'], ['Books', 'Romance'], ['Kindle Store', 'Kindle eBooks', 'Romance']]\n",
      "[['Books', 'Health, Fitness & Dieting'], ['Books', 'Medical Books', 'Administration & Medicine Economics', 'Health Care Delivery'], ['Books', 'Medical Books', 'Allied Health Professions'], ['Books', 'Politics & Social Sciences', 'Social Sciences', 'Research'], ['Books', 'Politics & Social Sciences', 'Social Sciences', 'Social Work'], ['Books', 'Politics & Social Sciences', 'Sociology'], ['Kindle Store', 'Kindle eBooks', 'Health, Fitness & Dieting'], ['Kindle Store', 'Kindle eBooks', 'Politics & Social Sciences', 'Social Sciences', 'Research'], ['Kindle Store', 'Kindle eBooks', 'Politics & Social Sciences', 'Social Sciences', 'Social Work'], ['Kindle Store', 'Kindle eBooks', 'Politics & Social Sciences', 'Social Sciences', 'Sociology'], ['Kindle Store', 'Kindle eBooks', 'Professional & Technical', 'Medical eBooks', 'Administration & Policy', 'Health Care Delivery'], ['Kindle Store', 'Kindle eBooks', 'Professional & Technical', 'Medical eBooks', 'Allied Health Professions']]\n",
      "[['Books', 'Education & Teaching', 'Schools & Teaching', 'Instruction Methods', 'Reading & Phonics'], ['Books', 'Literature & Fiction'], ['Books', 'Science Fiction & Fantasy', 'Science Fiction', 'History & Criticism'], ['Books', 'Teen & Young Adult'], ['Kindle Store', 'Kindle eBooks', 'Education & Teaching', 'Childhood Education', 'Elementary School'], ['Kindle Store', 'Kindle eBooks', 'Education & Teaching', 'Teacher Resources', 'Pedagogy'], ['Kindle Store', 'Kindle eBooks', 'Education & Teaching', 'Teacher Resources', 'Reading'], ['Kindle Store', 'Kindle eBooks', 'Literature & Fiction', 'History & Criticism', 'Criticism & Theory'], ['Kindle Store', 'Kindle eBooks', 'Parenting & Relationships', 'Literature Guides'], ['Kindle Store', 'Kindle eBooks', 'Teen & Young Adult']]\n",
      "[['Books', 'Arts & Photography', 'Other Media', 'Video Games'], ['Books', 'Computers & Technology', 'Games & Strategy Guides', 'Video Games'], ['Books', 'Computers & Technology', 'Graphic Design'], ['Books', 'Humor & Entertainment', 'Pop Culture', 'Art'], ['Books', 'Politics & Social Sciences', 'Social Sciences', 'Communication & Media Studies'], ['Books', 'Politics & Social Sciences', 'Social Sciences', 'Popular Culture'], ['Books', 'Reference'], ['Kindle Store', 'Kindle eBooks', 'Arts & Photography', 'Graphic Design', 'Pop Culture'], ['Kindle Store', 'Kindle eBooks', 'Humor & Entertainment', 'Pop Culture'], ['Kindle Store', 'Kindle eBooks', 'Politics & Social Sciences', 'Social Sciences', 'Media Studies'], ['Kindle Store', 'Kindle eBooks', 'Politics & Social Sciences', 'Social Sciences', 'Popular Culture']]\n",
      "[['Books', 'Christian Books & Bibles', 'Bible Study & Reference', 'Bible Study'], ['Books', 'Christian Books & Bibles', 'Biographies'], ['Books', 'History', 'Ancient Civilizations'], ['Books', 'Politics & Social Sciences', 'Archaeology'], ['Books', 'Religion & Spirituality'], ['Kindle Store', 'Kindle eBooks', 'History', 'Ancient'], ['Kindle Store', 'Kindle eBooks', 'Religion & Spirituality', 'Christian Books & Bibles', 'Bible Study & Reference', 'Bible Study'], ['Kindle Store', 'Kindle eBooks', 'Religion & Spirituality', 'Christian Books & Bibles', 'Bible Study & Reference', 'Biographies'], ['Kindle Store', 'Kindle eBooks', 'Religion & Spirituality', 'Religious Studies & Reference', 'Antiquities & Archaeology']]\n",
      "[['Books', 'Literature & Fiction', 'Genre Fiction', 'Action & Adventure'], ['Kindle Store', 'Kindle eBooks', 'Literature & Fiction', 'Action & Adventure'], ['Kindle Store', 'Kindle eBooks', 'Literature & Fiction', 'Genre Fiction', 'Westerns', \"Louis L'Amour\"]]\n",
      "[['Books', 'History', 'Asia', 'India'], ['Books', 'History', 'Historical Study & Educational Resources'], ['Books', 'Politics & Social Sciences', 'Social Sciences', 'Popular Culture'], ['Books', 'Politics & Social Sciences', 'Sociology'], ['Books', 'Travel', 'Asia', 'India', 'General'], ['Kindle Store', 'Kindle eBooks', 'History', 'Asia', 'India'], ['Kindle Store', 'Kindle eBooks', 'Politics & Social Sciences', 'Social Sciences', 'Sociology'], ['Kindle Store', 'Kindle eBooks', 'Travel', 'Asia', 'India']]\n",
      "[['Books', 'Literature & Fiction', 'Contemporary'], ['Books', 'Science Fiction & Fantasy', 'Science Fiction'], ['Kindle Store', 'Kindle eBooks', 'Literature & Fiction', 'Contemporary Fiction', 'Literary'], ['Kindle Store', 'Kindle eBooks', 'Science Fiction & Fantasy', 'Science Fiction']]\n",
      "[['Books', 'Literature & Fiction', 'History & Criticism', 'Movements & Periods'], ['Books', 'Science Fiction & Fantasy', 'Science Fiction', 'History & Criticism'], ['Kindle Store', 'Kindle eBooks', 'Literature & Fiction', 'History & Criticism', 'Criticism & Theory']]\n",
      "[['Books', 'Business & Money', 'Reference'], ['Books', 'Reference', 'Writing, Research & Publishing Guides', 'Research'], ['Books', 'Science & Math', 'Reference'], ['Books', 'Science & Math', 'Research'], ['Kindle Store', 'Kindle eBooks', 'Business & Money', 'Education & Reference', 'Education'], ['Kindle Store', 'Kindle eBooks', 'Education & Teaching', 'Teacher Resources', 'Reference'], ['Kindle Store', 'Kindle eBooks', 'Reference'], ['Kindle Store', 'Kindle eBooks', 'Science & Math', 'Education', 'Research'], ['Kindle Store', 'Kindle eBooks', 'Science & Math', 'Experiments, Instruments & Measurement', 'Methodology & Statistics'], ['Kindle Store', 'Kindle eBooks', 'Science & Math', 'Reference']]\n",
      "[['Books', 'Literature & Fiction'], ['Books', 'Science Fiction & Fantasy', 'Science Fiction'], ['Kindle Store', 'Kindle eBooks', 'Science Fiction & Fantasy', 'Science Fiction']]\n",
      "[['Books', 'History', 'Asia', 'China'], ['Books', 'History', 'World'], ['Books', 'Politics & Social Sciences', 'Politics & Government', 'Ideologies & Doctrines', 'Communism & Socialism'], ['Books', 'Politics & Social Sciences', 'Politics & Government', 'International & World Politics', 'Asian'], ['Kindle Store', 'Kindle eBooks', 'History', 'Asia', 'China'], ['Kindle Store', 'Kindle eBooks', 'Politics & Social Sciences', 'Politics & Government', 'Ideologies & Doctrines', 'Communism & Socialism']]\n",
      "[['Books', 'Arts & Photography', 'Performing Arts'], ['Books', 'Education & Teaching', 'Schools & Teaching', 'Curriculum & Lesson Plans', 'Curricula'], ['Books', 'Politics & Social Sciences', 'Social Sciences', 'Communication & Media Studies'], ['Books', 'Reference', 'Words, Language & Grammar', 'Communication'], ['Kindle Store', 'Kindle eBooks', 'Arts & Photography', 'Performing Arts'], ['Kindle Store', 'Kindle eBooks', 'Education & Teaching'], ['Kindle Store', 'Kindle eBooks', 'Politics & Social Sciences', 'Social Sciences', 'Media Studies'], ['Kindle Store', 'Kindle eBooks', 'Reference', 'Words, Language & Grammar', 'Communication'], ['Kindle Store', 'Kindle eBooks', 'Reference', 'Writing, Research & Publishing Guides', 'Academic & Commercial']]\n",
      "[['Books', 'Literature & Fiction', 'Erotica'], ['Kindle Store', 'Kindle eBooks', 'Literature & Fiction', 'Erotica', 'BDSM'], ['Kindle Store', 'Kindle eBooks', 'Literature & Fiction', 'Erotica', 'Victorian']]\n",
      "[['Books', 'Literature & Fiction', 'Erotica'], ['Kindle Store', 'Kindle eBooks', 'Literature & Fiction', 'Erotica']]\n",
      "[['Books', 'Literature & Fiction', 'Erotica'], ['Kindle Store', 'Kindle eBooks', 'Literature & Fiction', 'Erotica', 'BDSM']]\n",
      "[['Books', 'Literature & Fiction', 'Erotica'], ['Kindle Store', 'Kindle eBooks', 'Literature & Fiction', 'Erotica']]\n",
      "[['Books', 'Literature & Fiction'], ['Books', 'Science Fiction & Fantasy', 'Science Fiction'], ['Kindle Store', 'Kindle eBooks', 'Science Fiction & Fantasy', 'Science Fiction']]\n",
      "[['Books', 'Medical Books'], ['Books', 'Reference'], ['Kindle Store', 'Kindle eBooks', 'Professional & Technical', 'Medical eBooks']]\n",
      "[['Books', 'Literature & Fiction'], ['Books', 'Mystery, Thriller & Suspense', 'Thrillers & Suspense', 'Suspense'], ['Kindle Store', 'Kindle eBooks', 'Mystery, Thriller & Suspense', 'Suspense']]\n",
      "[['Books', 'Business & Money', 'Business Life', 'Etiquette'], ['Books', 'Business & Money', 'International'], ['Books', 'Travel', 'Central America', 'General'], ['Books', 'Travel', 'Mexico', 'General'], ['Kindle Store', 'Kindle eBooks', 'Business & Money', 'Business Life', 'Etiquette'], ['Kindle Store', 'Kindle eBooks', 'Business & Money', 'International'], ['Kindle Store', 'Kindle eBooks', 'Travel', 'Latin America', 'Central America'], ['Kindle Store', 'Kindle eBooks', 'Travel', 'Latin America', 'Mexico']]\n",
      "[['Books', 'Literature & Fiction', 'British'], ['Books', 'Literature & Fiction', 'Drama', 'British & Irish'], ['Books', 'Literature & Fiction', 'History & Criticism', 'Criticism & Theory'], ['Kindle Store', 'Kindle eBooks', 'Literature & Fiction', 'Drama & Plays', 'British & Irish'], ['Kindle Store', 'Kindle eBooks', 'Literature & Fiction', 'History & Criticism', 'Criticism & Theory'], ['Kindle Store', 'Kindle eBooks', 'Politics & Social Sciences', 'Politics & Government', 'Political Science']]\n",
      "[['Books', 'Arts & Photography', 'Architecture', 'Drafting & Presentation'], ['Books', 'Engineering & Transportation', 'Engineering', 'Civil & Environmental', 'Structural'], ['Books', 'Science & Math', 'Technology'], ['Kindle Store', 'Kindle eBooks', 'Arts & Photography', 'Architecture'], ['Kindle Store', 'Kindle eBooks', 'Science & Math', 'Technology', 'General & Reference']]\n",
      "[['Books', 'Biographies & Memoirs', 'Ethnic & National', 'Chinese'], ['Books', 'History', 'Asia', 'China'], ['Books', 'Politics & Social Sciences', 'Social Sciences', 'Specific Demographics', 'Ethnic Studies'], ['Kindle Store', 'Kindle eBooks', 'Biographies & Memoirs'], ['Kindle Store', 'Kindle eBooks', 'Politics & Social Sciences', 'Social Sciences', 'Special Groups', 'Ethnic Studies']]\n",
      "[['Books', 'Literature & Fiction', 'Classics'], ['Books', 'Literature & Fiction', 'Poetry', 'Ancient, Classical & Medieval'], ['Books', 'Reference'], ['Kindle Store', 'Kindle eBooks', 'Literature & Fiction', 'Classics', 'Historical'], ['Kindle Store', 'Kindle eBooks', 'Literature & Fiction', 'Poetry', 'Ancient, Classical & Medieval']]\n",
      "[['Books', 'Literature & Fiction', 'Erotica'], ['Kindle Store', 'Kindle eBooks', 'Literature & Fiction', 'Erotica', 'BDSM'], ['Kindle Store', 'Kindle eBooks', 'Literature & Fiction', 'Erotica', 'LGBT', 'Lesbian']]\n",
      "[['Books', 'History', 'Europe', 'Great Britain', 'England'], ['Books', 'Politics & Social Sciences', 'Archaeology'], ['Books', 'Reference'], ['Kindle Store', 'Kindle eBooks', 'History', 'Europe', 'England'], ['Kindle Store', 'Kindle eBooks', 'Politics & Social Sciences', 'Social Sciences', 'Archaeology']]\n",
      "[['Books', 'Literature & Fiction'], ['Books', 'Science Fiction & Fantasy', 'Science Fiction'], ['Kindle Store', 'Kindle Short Reads', 'Two hours or more (65-100 pages)', 'Literature & Fiction'], ['Kindle Store', 'Kindle Short Reads', 'Two hours or more (65-100 pages)', 'Science Fiction & Fantasy'], ['Kindle Store', 'Kindle eBooks', 'Science Fiction & Fantasy', 'Science Fiction']]\n",
      "[['Books', 'Humor & Entertainment', 'Humor', 'Satire'], ['Books', 'Literature & Fiction', 'Essays & Correspondence', 'Letters & Correspondence'], ['Books', 'Literature & Fiction', 'United States', 'Humor'], ['Kindle Store', 'Kindle eBooks', 'Humor & Entertainment', 'Humor'], ['Kindle Store', 'Kindle eBooks', 'Literature & Fiction', 'Essays & Correspondence', 'Letters & Correspondence'], ['Kindle Store', 'Kindle eBooks', 'Nonfiction']]\n",
      "[['Books', 'Education & Teaching', 'Schools & Teaching', 'Education Theory', 'Administration'], ['Books', 'Politics & Social Sciences', 'Social Sciences', 'Popular Culture'], ['Books', 'Politics & Social Sciences', 'Sociology'], ['Kindle Store', 'Kindle eBooks', 'Education & Teaching', 'Teacher Resources', 'Education Theory', 'Administration'], ['Kindle Store', 'Kindle eBooks', 'Politics & Social Sciences', 'Social Sciences', 'Popular Culture'], ['Kindle Store', 'Kindle eBooks', 'Politics & Social Sciences', 'Social Sciences', 'Sociology']]\n",
      "[['Books', 'Christian Books & Bibles', 'Bible Study & Reference', 'Bible Study', 'New Testament'], ['Books', 'Christian Books & Bibles', 'Bible Study & Reference', 'New Testament', \"Paul's Letters\"], ['Books', 'Christian Books & Bibles', 'Churches & Church Leadership', 'Church History'], ['Books', 'History', 'Ancient Civilizations'], ['Books', 'History', 'Europe', 'France'], ['Books', 'History', 'World', 'Religious', 'Christianity'], ['Kindle Store', 'Kindle eBooks', 'History', 'Ancient'], ['Kindle Store', 'Kindle eBooks', 'Religion & Spirituality', 'Christian Books & Bibles', 'Bible Study & Reference', 'New Testament Study', 'Bible Study']]\n",
      "[['Books', 'History', 'Americas', 'United States'], ['Books', 'History', 'Military'], ['Books', 'History', 'World'], ['Books', 'Politics & Social Sciences', 'Politics & Government', 'International & World Politics'], ['Books', 'Politics & Social Sciences', 'Politics & Government', 'Political Science', 'History & Theory'], ['Kindle Store', 'Kindle eBooks', 'History', 'Americas', 'United States', '20th Century'], ['Kindle Store', 'Kindle eBooks', 'Politics & Social Sciences', 'Politics & Government', 'International & World Politics', 'Relations']]\n",
      "[['Books', 'History', 'Americas', 'United States', 'State & Local'], ['Books', 'Sports & Outdoors', 'Basketball'], ['Kindle Store', 'Kindle eBooks', 'Sports & Outdoors', 'Basketball']]\n",
      "[['Books', 'Politics & Social Sciences', 'Philosophy'], ['Books', 'Reference'], ['Books', 'Science & Math', 'History & Philosophy'], ['Kindle Store', 'Kindle eBooks', 'Politics & Social Sciences', 'Philosophy'], ['Kindle Store', 'Kindle eBooks', 'Science & Math', 'History & Philosophy']]\n",
      "[['Books', 'Literature & Fiction', 'United States'], ['Books', 'Mystery, Thriller & Suspense', 'Mystery', 'Hard-Boiled'], ['Kindle Store', 'Kindle eBooks', 'Mystery, Thriller & Suspense', 'Mystery', 'Hard-Boiled'], ['Kindle Store', 'Kindle eBooks', 'Mystery, Thriller & Suspense', 'Mystery', 'Private Investigators']]\n",
      "[['Books', 'History'], ['Books', 'Politics & Social Sciences', 'Philosophy', 'Medieval Thought'], ['Kindle Store', 'Kindle eBooks', 'History'], ['Kindle Store', 'Kindle eBooks', 'Politics & Social Sciences', 'Philosophy', 'Medieval Thought']]\n",
      "[['Books', 'Business & Money', 'Management & Leadership', 'Management'], ['Books', 'Business & Money', 'Management & Leadership', 'Management Science'], ['Books', 'Business & Money', 'Reference'], ['Books', 'Business & Money', 'Small Business & Entrepreneurship', 'Entrepreneurship'], ['Books', 'Reference', 'Dictionaries & Thesauruses'], ['Books', 'Reference', 'Encyclopedias & Subject Guides', 'Business'], ['Kindle Store', 'Kindle eBooks', 'Business & Money', 'Education & Reference'], ['Kindle Store', 'Kindle eBooks', 'Business & Money', 'Entrepreneurship & Small Business', 'Entrepreneurship', 'Management'], ['Kindle Store', 'Kindle eBooks', 'Business & Money', 'Management & Leadership', 'Management'], ['Kindle Store', 'Kindle eBooks', 'Business & Money', 'Management & Leadership', 'Management Science']]\n",
      "[['Books', 'History', 'Europe', 'Great Britain', 'England'], ['Books', 'History', 'World'], ['Kindle Store', 'Kindle eBooks', 'History', 'Europe', 'England'], ['Kindle Store', 'Kindle eBooks', 'History', 'Europe', 'Western'], ['Kindle Store', 'Kindle eBooks', 'History', 'World', 'Medieval']]\n",
      "[['Books', 'History', 'Europe', 'Great Britain', 'Scotland'], ['Books', 'History', 'World'], ['Kindle Store', 'Kindle eBooks', 'History', 'Europe', 'England']]\n",
      "[['Books', 'Politics & Social Sciences', 'Philosophy', 'Ethics & Morality'], ['Kindle Store', 'Kindle eBooks', 'Politics & Social Sciences', 'Philosophy', 'Ethics & Morality']]\n",
      "[['Books', 'Literature & Fiction'], ['Books', 'Science Fiction & Fantasy', 'Science Fiction'], ['Kindle Store', 'Kindle eBooks', 'Science Fiction & Fantasy', 'Science Fiction']]\n",
      "[['Books', 'Literature & Fiction'], ['Books', 'Mystery, Thriller & Suspense', 'Thrillers & Suspense', 'Suspense'], ['Kindle Store', 'Kindle eBooks', 'Mystery, Thriller & Suspense', 'Suspense']]\n",
      "[['Books', 'Literature & Fiction', 'History & Criticism', 'Criticism & Theory'], ['Books', 'Politics & Social Sciences', 'Philosophy'], ['Kindle Store', 'Kindle eBooks', 'Literature & Fiction', 'History & Criticism', 'Criticism & Theory'], ['Kindle Store', 'Kindle eBooks', 'Politics & Social Sciences', 'Philosophy']]\n",
      "[['Books', 'Health, Fitness & Dieting', 'Psychology & Counseling', 'Child Psychology'], ['Books', 'Medical Books', 'Psychology', 'Child Psychology'], ['Books', 'Reference', 'Words, Language & Grammar', 'Linguistics'], ['Kindle Store', 'Kindle eBooks', 'Health, Fitness & Dieting', 'Psychology & Counseling', 'Child Psychology', 'Development'], ['Kindle Store', 'Kindle eBooks', 'Reference', 'Words, Language & Grammar', 'Linguistics'], ['Kindle Store', 'Kindle eBooks', 'Reference', 'Words, Language & Grammar', 'Literacy']]\n",
      "[['Books', 'Literature & Fiction', 'Genre Fiction', 'Action & Adventure'], ['Books', 'Literature & Fiction', 'Genre Fiction', 'Movie Tie-Ins'], ['Books', 'Science Fiction & Fantasy', 'Science Fiction', 'Adventure'], ['Books', 'Science Fiction & Fantasy', 'Science Fiction', 'Space Opera'], ['Kindle Store', 'Kindle Short Reads', 'Two hours or more (65-100 pages)', 'Literature & Fiction'], ['Kindle Store', 'Kindle Short Reads', 'Two hours or more (65-100 pages)', 'Science Fiction & Fantasy'], ['Kindle Store', 'Kindle eBooks', 'Literature & Fiction', 'Genre Fiction', 'Movie Tie-Ins'], ['Kindle Store', 'Kindle eBooks', 'Science Fiction & Fantasy', 'Science Fiction', 'Adventure'], ['Kindle Store', 'Kindle eBooks', 'Science Fiction & Fantasy', 'Science Fiction', 'Space Opera'], ['Kindle Store', 'Kindle eBooks', 'Science Fiction & Fantasy', 'Science Fiction', 'TV, Movie, Video Game Adaptations', 'Star Wars']]\n",
      "[['Books', 'Literature & Fiction', 'Genre Fiction', 'Action & Adventure'], ['Books', 'Literature & Fiction', 'Genre Fiction', 'Movie Tie-Ins'], ['Books', 'Science Fiction & Fantasy', 'Fantasy', 'Epic'], ['Books', 'Science Fiction & Fantasy', 'Science Fiction', 'Adventure'], ['Kindle Store', 'Kindle eBooks', 'Literature & Fiction', 'Action & Adventure', 'Fantasy'], ['Kindle Store', 'Kindle eBooks', 'Science Fiction & Fantasy', 'Fantasy', 'Epic'], ['Kindle Store', 'Kindle eBooks', 'Science Fiction & Fantasy', 'Fantasy', 'TV, Movie, Video Game Adaptations'], ['Kindle Store', 'Kindle eBooks', 'Science Fiction & Fantasy', 'Science Fiction', 'Adventure'], ['Kindle Store', 'Kindle eBooks', 'Science Fiction & Fantasy', 'Science Fiction', 'TV, Movie, Video Game Adaptations']]\n",
      "[['Books', 'Literature & Fiction', 'Classics'], ['Books', 'Reference'], ['Books', 'Science Fiction & Fantasy', 'Science Fiction'], ['Kindle Store', 'Kindle eBooks', 'Literature & Fiction', 'Classics'], ['Kindle Store', 'Kindle eBooks', 'Science Fiction & Fantasy', 'Science Fiction', 'Classics']]\n",
      "[['Books', 'Health, Fitness & Dieting', \"Children's Health\", 'Special Needs Children'], ['Books', 'Health, Fitness & Dieting', 'Psychology & Counseling'], ['Books', 'Medical Books', 'Allied Health Professions', 'Occupational Therapy'], ['Books', 'Medical Books', 'Psychology', 'Child Psychology'], ['Books', 'Medical Books', 'Psychology', 'General'], ['Books', 'Medical Books', 'Psychology', 'Pathologies'], ['Kindle Store', 'Kindle eBooks', 'Health, Fitness & Dieting', 'Psychology & Counseling'], ['Kindle Store', 'Kindle eBooks', 'Professional & Technical', 'Medical eBooks', 'Allied Health Professions', 'Occupational Therapy']]\n",
      "[['Books', 'Literature & Fiction'], ['Books', 'Science Fiction & Fantasy', 'Science Fiction'], ['Kindle Store', 'Kindle Short Reads', '30 minutes (12-21 pages)', 'Literature & Fiction'], ['Kindle Store', 'Kindle Short Reads', '30 minutes (12-21 pages)', 'Science Fiction & Fantasy'], ['Kindle Store', 'Kindle eBooks', 'Science Fiction & Fantasy', 'Science Fiction']]\n",
      "[['Books', 'Literature & Fiction', 'Genre Fiction', 'Horror'], ['Books', 'Literature & Fiction', 'Short Stories', 'Anthologies'], ['Books', 'Literature & Fiction', 'Short Stories', 'Single Author'], ['Books', 'Science Fiction & Fantasy', 'Fantasy'], ['Kindle Store', 'Kindle eBooks', 'Literature & Fiction', 'Horror', 'Short Stories'], ['Kindle Store', 'Kindle eBooks', 'Literature & Fiction', 'Short Stories', 'Single Authors'], ['Kindle Store', 'Kindle eBooks', 'Science Fiction & Fantasy', 'Fantasy', 'Anthologies & Short Stories']]\n",
      "[['Books', 'Business & Money', 'Economics', 'Microeconomics'], ['Books', 'Business & Money', 'Economics', 'Theory'], ['Books', 'Business & Money', 'Popular Economics'], ['Kindle Store', 'Kindle eBooks', 'Business & Money', 'Economics', 'Microeconomics'], ['Kindle Store', 'Kindle eBooks', 'Business & Money', 'Economics', 'Theory']]\n",
      "[['Books', 'Literature & Fiction', 'Anthologies & Literary Collections', 'General'], ['Books', 'Literature & Fiction', 'Contemporary'], ['Books', 'Literature & Fiction', 'Literary'], ['Books', 'Literature & Fiction', 'Short Stories', 'Anthologies'], ['Books', 'Mystery, Thriller & Suspense', 'Thrillers & Suspense', 'Spies & Politics', 'Espionage'], ['Kindle Store', 'Kindle eBooks', 'Literature & Fiction', 'Anthologies & Literature Collections'], ['Kindle Store', 'Kindle eBooks', 'Literature & Fiction', 'Contemporary Fiction'], ['Kindle Store', 'Kindle eBooks', 'Literature & Fiction', 'Genre Fiction', 'Anthologies'], ['Kindle Store', 'Kindle eBooks', 'Literature & Fiction', 'Literary Fiction', 'Classics'], ['Kindle Store', 'Kindle eBooks', 'Literature & Fiction', 'Literary Fiction', 'Mystery, Thriller & Suspense'], ['Kindle Store', 'Kindle eBooks', 'Literature & Fiction', 'Literary Fiction', 'Short Stories'], ['Kindle Store', 'Kindle eBooks', 'Literature & Fiction', 'Short Stories'], ['Kindle Store', 'Kindle eBooks', 'Mystery, Thriller & Suspense', 'Thrillers', 'Espionage']]\n",
      "[['Books', 'Literature & Fiction', 'Drama', 'Continental European'], ['Books', 'Literature & Fiction', 'History & Criticism', 'Criticism & Theory'], ['Books', 'Literature & Fiction', 'History & Criticism', 'Movements & Periods'], ['Books', 'Literature & Fiction', 'World Literature'], ['Kindle Store', 'Kindle eBooks', 'Arts & Photography', 'Theater'], ['Kindle Store', 'Kindle eBooks', 'Literature & Fiction', 'Drama & Plays', 'Continental European']]\n",
      "[['Books', 'Literature & Fiction', 'Contemporary'], ['Books', 'Mystery, Thriller & Suspense', 'Thrillers & Suspense', 'Suspense'], ['Books', 'Mystery, Thriller & Suspense', 'Thrillers & Suspense', 'Technothrillers'], ['Books', 'Science Fiction & Fantasy', 'Science Fiction', 'Genetic Engineering'], ['Kindle Store', 'Kindle eBooks', 'Literature & Fiction', 'Contemporary Fiction'], ['Kindle Store', 'Kindle eBooks', 'Mystery, Thriller & Suspense', 'Suspense'], ['Kindle Store', 'Kindle eBooks', 'Mystery, Thriller & Suspense', 'Thrillers', 'Technothrillers'], ['Kindle Store', 'Kindle eBooks', 'Science Fiction & Fantasy', 'Science Fiction', 'Genetic Engineering']]\n",
      "[['Books', 'Literature & Fiction', 'Contemporary'], ['Books', 'Literature & Fiction', 'Genre Fiction', 'Movie Tie-Ins'], ['Books', 'Literature & Fiction', 'United States'], ['Books', 'Science Fiction & Fantasy', 'Science Fiction', 'Adventure'], ['Books', 'Science Fiction & Fantasy', 'Science Fiction', 'High Tech'], ['Books', 'Science Fiction & Fantasy', 'Science Fiction', 'Space Opera'], ['Kindle Store', 'Kindle eBooks', 'Literature & Fiction', 'Contemporary Fiction'], ['Kindle Store', 'Kindle eBooks', 'Science Fiction & Fantasy', 'Science Fiction', 'Adventure'], ['Kindle Store', 'Kindle eBooks', 'Science Fiction & Fantasy', 'Science Fiction', 'Hard Science Fiction'], ['Kindle Store', 'Kindle eBooks', 'Science Fiction & Fantasy', 'Science Fiction', 'Space Opera'], ['Kindle Store', 'Kindle eBooks', 'Science Fiction & Fantasy', 'Science Fiction', 'TV, Movie, Video Game Adaptations', 'Star Trek']]\n",
      "[['Books', 'Literature & Fiction', 'Erotica'], ['Kindle Store', 'Kindle eBooks', 'Literature & Fiction', 'Erotica', 'LGBT', 'Bisexual']]\n",
      "[['Books', 'Literature & Fiction', 'Genre Fiction', 'Historical'], ['Books', 'Literature & Fiction', 'Genre Fiction', 'Westerns'], ['Books', 'Literature & Fiction', 'United States'], ['Books', 'Mystery, Thriller & Suspense', 'Thrillers & Suspense', 'Suspense'], ['Kindle Store', 'Kindle eBooks', 'Literature & Fiction', 'Historical Fiction', 'British'], ['Kindle Store', 'Kindle eBooks', 'Literature & Fiction', 'Historical Fiction', 'Mystery, Thriller & Suspense'], ['Kindle Store', 'Kindle eBooks', 'Literature & Fiction', 'Historical Fiction', 'United States'], ['Kindle Store', 'Kindle eBooks', 'Mystery, Thriller & Suspense', 'Suspense']]\n",
      "[['Books', 'Literature & Fiction'], ['Books', 'Science Fiction & Fantasy', 'Science Fiction'], ['Kindle Store', 'Kindle Short Reads', '30 minutes (12-21 pages)', 'Literature & Fiction'], ['Kindle Store', 'Kindle Short Reads', '30 minutes (12-21 pages)', 'Science Fiction & Fantasy'], ['Kindle Store', 'Kindle eBooks', 'Science Fiction & Fantasy', 'Science Fiction']]\n",
      "[['Books', 'Literature & Fiction'], ['Books', 'Science Fiction & Fantasy', 'Science Fiction', 'Adventure'], ['Books', 'Science Fiction & Fantasy', 'Science Fiction', 'Space Opera'], ['Kindle Store', 'Kindle Short Reads', '45 minutes (22-32 pages)', 'Literature & Fiction'], ['Kindle Store', 'Kindle Short Reads', '45 minutes (22-32 pages)', 'Science Fiction & Fantasy'], ['Kindle Store', 'Kindle eBooks', 'Science Fiction & Fantasy', 'Science Fiction', 'Adventure'], ['Kindle Store', 'Kindle eBooks', 'Science Fiction & Fantasy', 'Science Fiction', 'Space Opera'], ['Kindle Store', 'Kindle eBooks', 'Science Fiction & Fantasy', 'Science Fiction', 'TV, Movie, Video Game Adaptations', 'Star Trek']]\n",
      "[['Books', 'Literature & Fiction', 'Erotica'], ['Kindle Store', 'Kindle eBooks', 'Literature & Fiction', 'Erotica']]\n",
      "[['Books', \"Children's Books\", 'Growing Up & Facts of Life', 'Friendship, Social Skills & School Life', 'Girls & Women'], ['Books', \"Children's Books\", 'Mysteries & Detectives'], ['Kindle Store', 'Kindle eBooks', \"Children's eBooks\", 'Growing Up & Facts of Life', 'Friendship, Social Skills & School Life', 'Girls & Women'], ['Kindle Store', 'Kindle eBooks', \"Children's eBooks\", 'Literature & Fiction'], ['Kindle Store', 'Kindle eBooks', \"Children's eBooks\", 'Mysteries & Detectives', 'Detectives']]\n",
      "[['Books', 'Literature & Fiction'], ['Books', 'Science Fiction & Fantasy', 'Fantasy'], ['Books', 'Science Fiction & Fantasy', 'Science Fiction', 'Adventure'], ['Books', 'Science Fiction & Fantasy', 'Science Fiction', 'Space Opera'], ['Kindle Store', 'Kindle eBooks', 'Science Fiction & Fantasy', 'Science Fiction', 'Adventure'], ['Kindle Store', 'Kindle eBooks', 'Science Fiction & Fantasy', 'Science Fiction', 'Space Opera']]\n",
      "[['Books', 'Literature & Fiction', 'Contemporary'], ['Books', 'Literature & Fiction', 'United States'], ['Books', 'Mystery, Thriller & Suspense', 'Mystery', 'Women Sleuths'], ['Books', 'Mystery, Thriller & Suspense', 'Thrillers & Suspense', 'Suspense'], ['Kindle Store', 'Kindle eBooks', 'Literature & Fiction', 'Contemporary Fiction'], ['Kindle Store', 'Kindle eBooks', 'Mystery, Thriller & Suspense', 'Mystery'], ['Kindle Store', 'Kindle eBooks', 'Mystery, Thriller & Suspense', 'Suspense']]\n",
      "[['Books', 'Literature & Fiction'], ['Books', 'Science Fiction & Fantasy', 'Science Fiction'], ['Kindle Store', 'Kindle Short Reads', '90 minutes (44-64 pages)', 'Literature & Fiction'], ['Kindle Store', 'Kindle Short Reads', '90 minutes (44-64 pages)', 'Science Fiction & Fantasy'], ['Kindle Store', 'Kindle eBooks', 'Science Fiction & Fantasy', 'Science Fiction']]\n",
      "[['Books', 'Literature & Fiction'], ['Books', 'Science Fiction & Fantasy', 'Fantasy'], ['Kindle Store', 'Kindle Short Reads', '30 minutes (12-21 pages)', 'Literature & Fiction'], ['Kindle Store', 'Kindle Short Reads', '30 minutes (12-21 pages)', 'Science Fiction & Fantasy'], ['Kindle Store', 'Kindle eBooks', 'Science Fiction & Fantasy', 'Fantasy']]\n",
      "[['Books', 'Literature & Fiction'], ['Books', 'Science Fiction & Fantasy', 'Science Fiction'], ['Kindle Store', 'Kindle Short Reads', '30 minutes (12-21 pages)', 'Literature & Fiction'], ['Kindle Store', 'Kindle Short Reads', '30 minutes (12-21 pages)', 'Science Fiction & Fantasy'], ['Kindle Store', 'Kindle eBooks', 'Science Fiction & Fantasy', 'Science Fiction']]\n",
      "[['Books', 'Literature & Fiction'], ['Books', 'Science Fiction & Fantasy', 'Science Fiction'], ['Kindle Store', 'Kindle Short Reads', '30 minutes (12-21 pages)', 'Literature & Fiction'], ['Kindle Store', 'Kindle Short Reads', '30 minutes (12-21 pages)', 'Science Fiction & Fantasy'], ['Kindle Store', 'Kindle eBooks', 'Science Fiction & Fantasy', 'Science Fiction']]\n",
      "[['Books', 'Literature & Fiction'], ['Books', 'Science Fiction & Fantasy', 'Science Fiction'], ['Kindle Store', 'Kindle Short Reads', '30 minutes (12-21 pages)', 'Literature & Fiction'], ['Kindle Store', 'Kindle Short Reads', '30 minutes (12-21 pages)', 'Science Fiction & Fantasy'], ['Kindle Store', 'Kindle eBooks', 'Science Fiction & Fantasy', 'Science Fiction']]\n",
      "[['Books', 'Literature & Fiction'], ['Books', 'Science Fiction & Fantasy', 'Science Fiction'], ['Kindle Store', 'Kindle Short Reads', '15 minutes (1-11 pages)', 'Literature & Fiction'], ['Kindle Store', 'Kindle Short Reads', '15 minutes (1-11 pages)', 'Science Fiction & Fantasy'], ['Kindle Store', 'Kindle eBooks', 'Science Fiction & Fantasy', 'Science Fiction']]\n",
      "[['Books', 'Literature & Fiction', 'Erotica'], ['Kindle Store', 'Kindle eBooks', 'Literature & Fiction', 'Erotica', 'BDSM']]\n",
      "[['Books', 'Literature & Fiction'], ['Books', 'Science Fiction & Fantasy', 'Science Fiction'], ['Kindle Store', 'Kindle eBooks', 'Science Fiction & Fantasy', 'Science Fiction']]\n",
      "[['Books', 'Literature & Fiction', 'Contemporary'], ['Books', 'Mystery, Thriller & Suspense', 'Mystery', 'Police Procedurals'], ['Books', 'Mystery, Thriller & Suspense', 'Thrillers & Suspense', 'Psychological Thrillers'], ['Books', 'Mystery, Thriller & Suspense', 'Thrillers & Suspense', 'Suspense'], ['Kindle Store', 'Kindle eBooks', 'Literature & Fiction', 'Contemporary Fiction'], ['Kindle Store', 'Kindle eBooks', 'Mystery, Thriller & Suspense', 'Mystery', 'Police Procedurals'], ['Kindle Store', 'Kindle eBooks', 'Mystery, Thriller & Suspense', 'Suspense'], ['Kindle Store', 'Kindle eBooks', 'Mystery, Thriller & Suspense', 'Thrillers', 'Psychological']]\n",
      "[['Books', 'Literature & Fiction'], ['Books', 'Science Fiction & Fantasy', 'Science Fiction', 'Adventure'], ['Books', 'Science Fiction & Fantasy', 'Science Fiction', 'Space Opera'], ['Kindle Store', 'Kindle Short Reads', '90 minutes (44-64 pages)', 'Literature & Fiction'], ['Kindle Store', 'Kindle Short Reads', '90 minutes (44-64 pages)', 'Science Fiction & Fantasy'], ['Kindle Store', 'Kindle eBooks', 'Science Fiction & Fantasy', 'Science Fiction', 'Adventure'], ['Kindle Store', 'Kindle eBooks', 'Science Fiction & Fantasy', 'Science Fiction', 'Space Opera'], ['Kindle Store', 'Kindle eBooks', 'Science Fiction & Fantasy', 'Science Fiction', 'TV, Movie, Video Game Adaptations', 'Star Trek']]\n",
      "[['Books', 'Literature & Fiction', 'Short Stories', 'Anthologies'], ['Books', 'Literature & Fiction', 'United States'], ['Books', 'Science Fiction & Fantasy', 'Fantasy'], ['Books', 'Science Fiction & Fantasy', 'Science Fiction', 'Anthologies'], ['Kindle Store', 'Kindle Short Reads', '15 minutes (1-11 pages)', 'Literature & Fiction'], ['Kindle Store', 'Kindle Short Reads', '15 minutes (1-11 pages)', 'Science Fiction & Fantasy'], ['Kindle Store', 'Kindle eBooks', 'Science Fiction & Fantasy', 'Fantasy', 'Anthologies & Short Stories'], ['Kindle Store', 'Kindle eBooks', 'Science Fiction & Fantasy', 'Science Fiction', 'Anthologies & Short Stories']]\n",
      "[['Books', 'Literature & Fiction'], ['Books', 'Science Fiction & Fantasy', 'Science Fiction'], ['Kindle Store', 'Kindle Short Reads', '45 minutes (22-32 pages)', 'Literature & Fiction'], ['Kindle Store', 'Kindle Short Reads', '45 minutes (22-32 pages)', 'Science Fiction & Fantasy'], ['Kindle Store', 'Kindle eBooks', 'Science Fiction & Fantasy', 'Science Fiction']]\n",
      "[['Books', 'Literature & Fiction'], ['Books', 'Science Fiction & Fantasy', 'Science Fiction'], ['Kindle Store', 'Kindle Short Reads', '45 minutes (22-32 pages)', 'Literature & Fiction'], ['Kindle Store', 'Kindle Short Reads', '45 minutes (22-32 pages)', 'Science Fiction & Fantasy'], ['Kindle Store', 'Kindle eBooks', 'Science Fiction & Fantasy', 'Science Fiction']]\n",
      "[['Books', 'Literature & Fiction', 'Genre Fiction', 'Action & Adventure'], ['Kindle Store', 'Kindle eBooks', 'Literature & Fiction', 'Action & Adventure']]\n",
      "[['Books', \"Children's Books\", 'Action & Adventure'], ['Books', \"Children's Books\", 'Growing Up & Facts of Life', 'Friendship, Social Skills & School Life', 'Boys & Men'], ['Books', \"Children's Books\", 'Mysteries & Detectives'], ['Kindle Store', 'Kindle eBooks', \"Children's eBooks\", 'Action & Adventure'], ['Kindle Store', 'Kindle eBooks', \"Children's eBooks\", 'Growing Up & Facts of Life', 'Friendship, Social Skills & School Life', 'Boys & Men'], ['Kindle Store', 'Kindle eBooks', \"Children's eBooks\", 'Mysteries & Detectives', 'Detectives']]\n",
      "[['Books', 'Literature & Fiction', 'United States'], ['Books', 'Science Fiction & Fantasy', 'Science Fiction', 'Space Opera'], ['Kindle Store', 'Kindle eBooks', 'Science Fiction & Fantasy', 'Science Fiction', 'Space Opera'], ['Kindle Store', 'Kindle eBooks', 'Science Fiction & Fantasy', 'Science Fiction', 'TV, Movie, Video Game Adaptations', 'Star Trek']]\n",
      "[['Books', 'Literature & Fiction', 'Contemporary'], ['Books', 'Literature & Fiction', 'United States'], ['Books', 'Mystery, Thriller & Suspense', 'Thrillers & Suspense', 'Psychological Thrillers'], ['Books', 'Mystery, Thriller & Suspense', 'Thrillers & Suspense', 'Suspense'], ['Kindle Store', 'Kindle eBooks', 'Literature & Fiction', 'Contemporary Fiction', 'American'], ['Kindle Store', 'Kindle eBooks', 'Mystery, Thriller & Suspense', 'Suspense'], ['Kindle Store', 'Kindle eBooks', 'Mystery, Thriller & Suspense', 'Thrillers', 'Psychological']]\n",
      "[['Books', 'Literature & Fiction', 'Erotica'], ['Kindle Store', 'Kindle eBooks', 'Literature & Fiction', 'Erotica', 'Victorian']]\n",
      "[['Books', 'Business & Money', 'Business Life', 'Etiquette'], ['Books', 'Business & Money', 'Management & Leadership', 'Decision-Making & Problem Solving'], ['Books', 'Business & Money', 'Management & Leadership', 'Management'], ['Books', 'Business & Money', 'Small Business & Entrepreneurship', 'Entrepreneurship'], ['Kindle Store', 'Kindle eBooks', 'Business & Money', 'Business Life', 'Etiquette'], ['Kindle Store', 'Kindle eBooks', 'Business & Money', 'Entrepreneurship & Small Business', 'Entrepreneurship', 'Management'], ['Kindle Store', 'Kindle eBooks', 'Business & Money', 'Management & Leadership', 'Decision-Making & Problem Solving'], ['Kindle Store', 'Kindle eBooks', 'Business & Money', 'Management & Leadership', 'Management', 'Management Skills']]\n",
      "[['Books', 'Biographies & Memoirs', 'Arts & Literature', 'Authors'], ['Books', 'Biographies & Memoirs', 'Memoirs'], ['Books', 'Biographies & Memoirs', 'Specific Groups', 'Women'], ['Books', 'History'], ['Books', 'Literature & Fiction', 'History & Criticism', 'Movements & Periods'], ['Kindle Store', 'Kindle eBooks', 'Biographies & Memoirs', 'Arts & Literature', 'Authors'], ['Kindle Store', 'Kindle eBooks', 'Biographies & Memoirs', 'Memoirs'], ['Kindle Store', 'Kindle eBooks', 'Biographies & Memoirs', 'Specific Groups', 'Women']]\n",
      "[['Books', 'Literature & Fiction'], ['Books', 'Science Fiction & Fantasy', 'Science Fiction'], ['Kindle Store', 'Kindle eBooks', 'Science Fiction & Fantasy', 'Science Fiction', 'TV, Movie, Video Game Adaptations', 'Star Trek']]\n",
      "[['Books', \"Children's Books\", 'Growing Up & Facts of Life', 'Friendship, Social Skills & School Life', 'Girls & Women'], ['Books', \"Children's Books\", 'Mysteries & Detectives'], ['Kindle Store', 'Kindle eBooks', \"Children's eBooks\", 'Growing Up & Facts of Life', 'Friendship, Social Skills & School Life', 'Girls & Women'], ['Kindle Store', 'Kindle eBooks', \"Children's eBooks\", 'Literature & Fiction'], ['Kindle Store', 'Kindle eBooks', \"Children's eBooks\", 'Mysteries & Detectives', 'Detectives']]\n",
      "[['Books', 'Literature & Fiction'], ['Books', 'Mystery, Thriller & Suspense', 'Thrillers & Suspense', 'Suspense'], ['Books', 'Science Fiction & Fantasy', 'Science Fiction'], ['Kindle Store', 'Kindle eBooks', 'Science Fiction & Fantasy', 'Science Fiction']]\n",
      "[['Books', 'Literature & Fiction'], ['Books', 'Science Fiction & Fantasy', 'Science Fiction', 'Adventure'], ['Books', 'Science Fiction & Fantasy', 'Science Fiction', 'High Tech'], ['Kindle Store', 'Kindle eBooks', 'Science Fiction & Fantasy', 'Science Fiction', 'Adventure'], ['Kindle Store', 'Kindle eBooks', 'Science Fiction & Fantasy', 'Science Fiction', 'Hard Science Fiction'], ['Kindle Store', 'Kindle eBooks', 'Science Fiction & Fantasy', 'Science Fiction', 'TV, Movie, Video Game Adaptations', 'Star Trek']]\n",
      "[['Books', 'Literature & Fiction', 'United States'], ['Books', 'Science Fiction & Fantasy', 'Science Fiction'], ['Kindle Store', 'Kindle eBooks', 'Science Fiction & Fantasy', 'Science Fiction', 'TV, Movie, Video Game Adaptations', 'Star Trek']]\n",
      "[['Books', \"Children's Books\", 'Growing Up & Facts of Life', 'Family Life', 'Marriage & Divorce'], ['Books', \"Children's Books\", 'Growing Up & Facts of Life', 'Family Life', 'Parents'], ['Books', \"Children's Books\", 'Growing Up & Facts of Life', 'Family Life', 'Siblings'], ['Books', \"Children's Books\", 'Growing Up & Facts of Life', 'Friendship, Social Skills & School Life', 'Self-Esteem & Self-Respect'], ['Books', 'Teen & Young Adult'], ['Kindle Store', 'Kindle eBooks', 'Teen & Young Adult', 'Literature & Fiction']]\n",
      "[['Books', 'Biographies & Memoirs', 'Professionals & Academics', 'Law Enforcement'], ['Books', 'Biographies & Memoirs', 'True Crime', 'Murder & Mayhem'], ['Books', 'Law', 'Criminal Law', 'Law Enforcement'], ['Books', 'Literature & Fiction', 'History & Criticism', 'Movements & Periods'], ['Books', 'Politics & Social Sciences', 'Politics & Government', 'Specific Topics', 'Law Enforcement'], ['Books', 'Politics & Social Sciences', 'Social Sciences', 'Criminology'], ['Kindle Store', 'Kindle eBooks', 'Biographies & Memoirs', 'True Accounts', 'Murder & Mayhem'], ['Kindle Store', 'Kindle eBooks', 'Biographies & Memoirs', 'True Accounts', 'True Crime'], ['Kindle Store', 'Kindle eBooks', 'Literature & Fiction', 'History & Criticism', 'Criticism & Theory'], ['Kindle Store', 'Kindle eBooks', 'Politics & Social Sciences', 'Crime & Criminals', 'Criminology'], ['Kindle Store', 'Kindle eBooks', 'Professional & Technical', 'Law', 'Criminal Law', 'Law Enforcement']]\n",
      "[['Books', 'Literature & Fiction', 'Classics'], ['Books', 'Literature & Fiction', 'Contemporary'], ['Books', 'Literature & Fiction', 'Drama', 'United States'], ['Books', 'Literature & Fiction', 'Literary'], ['Books', 'Literature & Fiction', 'Short Stories', 'Single Author'], ['Books', 'Literature & Fiction', 'United States', 'Classics'], ['Kindle Store', 'Kindle eBooks', 'Arts & Photography', 'Theater'], ['Kindle Store', 'Kindle eBooks', 'Literature & Fiction', 'Classics', 'American'], ['Kindle Store', 'Kindle eBooks', 'Literature & Fiction', 'Classics', 'Short Stories'], ['Kindle Store', 'Kindle eBooks', 'Literature & Fiction', 'Contemporary Fiction', 'American'], ['Kindle Store', 'Kindle eBooks', 'Literature & Fiction', 'Contemporary Fiction', 'Literary'], ['Kindle Store', 'Kindle eBooks', 'Literature & Fiction', 'Contemporary Fiction', 'Short Stories'], ['Kindle Store', 'Kindle eBooks', 'Literature & Fiction', 'Drama & Plays'], ['Kindle Store', 'Kindle eBooks', 'Literature & Fiction', 'Literary Fiction', 'Classics'], ['Kindle Store', 'Kindle eBooks', 'Literature & Fiction', 'Literary Fiction', 'Short Stories'], ['Kindle Store', 'Kindle eBooks', 'Literature & Fiction', 'Short Stories', 'Single Authors'], ['Kindle Store', 'Kindle eBooks', 'Literature & Fiction', 'United States', 'Short Stories']]\n",
      "[['Books', 'Literature & Fiction'], ['Books', 'Science Fiction & Fantasy', 'Science Fiction', 'Adventure'], ['Books', 'Science Fiction & Fantasy', 'Science Fiction', 'High Tech'], ['Books', 'Science Fiction & Fantasy', 'Science Fiction', 'Space Opera'], ['Kindle Store', 'Kindle eBooks', 'Science Fiction & Fantasy', 'Science Fiction', 'Adventure'], ['Kindle Store', 'Kindle eBooks', 'Science Fiction & Fantasy', 'Science Fiction', 'Hard Science Fiction'], ['Kindle Store', 'Kindle eBooks', 'Science Fiction & Fantasy', 'Science Fiction', 'Space Opera'], ['Kindle Store', 'Kindle eBooks', 'Science Fiction & Fantasy', 'Science Fiction', 'TV, Movie, Video Game Adaptations', 'Star Trek']]\n",
      "[['Books', 'Literature & Fiction'], ['Books', 'Science Fiction & Fantasy', 'Science Fiction'], ['Kindle Store', 'Kindle eBooks', 'Science Fiction & Fantasy', 'Science Fiction', 'TV, Movie, Video Game Adaptations', 'Star Trek']]\n",
      "[['Books', 'Literature & Fiction', 'United States'], ['Books', 'Science Fiction & Fantasy', 'Science Fiction', 'Adventure'], ['Books', 'Science Fiction & Fantasy', 'Science Fiction', 'High Tech'], ['Books', 'Science Fiction & Fantasy', 'Science Fiction', 'Space Opera'], ['Kindle Store', 'Kindle eBooks', 'Science Fiction & Fantasy', 'Science Fiction', 'Adventure'], ['Kindle Store', 'Kindle eBooks', 'Science Fiction & Fantasy', 'Science Fiction', 'Hard Science Fiction'], ['Kindle Store', 'Kindle eBooks', 'Science Fiction & Fantasy', 'Science Fiction', 'Space Opera'], ['Kindle Store', 'Kindle eBooks', 'Science Fiction & Fantasy', 'Science Fiction', 'TV, Movie, Video Game Adaptations', 'Star Trek']]\n",
      "[['Books', 'Literature & Fiction'], ['Books', 'Science Fiction & Fantasy', 'Science Fiction', 'Adventure'], ['Books', 'Science Fiction & Fantasy', 'Science Fiction', 'High Tech'], ['Kindle Store', 'Kindle Short Reads', 'Two hours or more (65-100 pages)', 'Literature & Fiction'], ['Kindle Store', 'Kindle Short Reads', 'Two hours or more (65-100 pages)', 'Science Fiction & Fantasy'], ['Kindle Store', 'Kindle eBooks', 'Science Fiction & Fantasy', 'Science Fiction', 'Adventure'], ['Kindle Store', 'Kindle eBooks', 'Science Fiction & Fantasy', 'Science Fiction', 'Hard Science Fiction'], ['Kindle Store', 'Kindle eBooks', 'Science Fiction & Fantasy', 'Science Fiction', 'TV, Movie, Video Game Adaptations', 'Star Trek']]\n",
      "[['Books', 'History', 'Americas', 'United States', 'State & Local'], ['Books', 'Law', 'Constitutional Law', 'Civil Rights'], ['Books', 'Law', 'Criminal Law'], ['Books', 'Law', 'Legal History'], ['Books', 'Politics & Social Sciences', 'Social Sciences', 'Specific Demographics', 'African-American Studies'], ['Books', 'Reference'], ['Kindle Store', 'Kindle eBooks', 'History', 'Americas', 'United States', '20th Century'], ['Kindle Store', 'Kindle eBooks', 'History', 'Americas', 'United States', 'State & Local'], ['Kindle Store', 'Kindle eBooks', 'Politics & Social Sciences', 'Social Sciences', 'Special Groups', 'African-American Studies'], ['Kindle Store', 'Kindle eBooks', 'Professional & Technical', 'Law', 'Constitutional Law', 'Civil Rights'], ['Kindle Store', 'Kindle eBooks', 'Professional & Technical', 'Law', 'Criminal Law'], ['Kindle Store', 'Kindle eBooks', 'Professional & Technical', 'Law', 'Perspectives on Law', 'Legal History']]\n",
      "[['Books', \"Children's Books\", 'Literature & Fiction', 'Short Story Collections'], ['Books', \"Children's Books\", 'Science Fiction & Fantasy', 'Fantasy & Magic'], ['Books', 'Literature & Fiction'], ['Books', 'Science Fiction & Fantasy', 'Fantasy'], ['Kindle Store', 'Kindle eBooks', \"Children's eBooks\", 'Literature & Fiction', 'Short Story Collections'], ['Kindle Store', 'Kindle eBooks', \"Children's eBooks\", 'Science Fiction, Fantasy & Scary Stories', 'Fantasy & Magic'], ['Kindle Store', 'Kindle eBooks', 'Literature & Fiction', 'Short Stories'], ['Kindle Store', 'Kindle eBooks', 'Science Fiction & Fantasy', 'Fantasy']]\n",
      "[['Books', \"Children's Books\", 'Growing Up & Facts of Life'], ['Books', \"Children's Books\", 'Mysteries & Detectives'], ['Books', \"Children's Books\", 'Science Fiction & Fantasy', 'Spine-Chilling Horror'], ['Books', 'Literature & Fiction'], ['Kindle Store', 'Kindle eBooks', \"Children's eBooks\", 'Mysteries & Detectives'], ['Kindle Store', 'Kindle eBooks', \"Children's eBooks\", 'Science Fiction, Fantasy & Scary Stories', 'Scary Stories']]\n",
      "[['Books', 'Literature & Fiction'], ['Books', 'Mystery, Thriller & Suspense', 'Mystery'], ['Kindle Store', 'Kindle eBooks', 'Mystery, Thriller & Suspense', 'Mystery']]\n",
      "[['Books', 'Literature & Fiction', 'Contemporary'], ['Books', 'Romance', 'Contemporary'], ['Kindle Store', 'Kindle eBooks', 'Literature & Fiction', 'Contemporary Fiction', 'Romance'], ['Kindle Store', 'Kindle eBooks', 'Romance', 'Contemporary']]\n",
      "[['Books', 'Literature & Fiction'], ['Books', 'Science Fiction & Fantasy', 'Science Fiction'], ['Kindle Store', 'Kindle eBooks', 'Science Fiction & Fantasy', 'Science Fiction', 'TV, Movie, Video Game Adaptations', 'Star Trek']]\n",
      "[['Books', 'Literature & Fiction'], ['Books', 'Science Fiction & Fantasy', 'Science Fiction', 'Adventure'], ['Books', 'Science Fiction & Fantasy', 'Science Fiction', 'High Tech'], ['Books', 'Science Fiction & Fantasy', 'Science Fiction', 'Space Opera'], ['Kindle Store', 'Kindle Short Reads', 'Two hours or more (65-100 pages)', 'Literature & Fiction'], ['Kindle Store', 'Kindle Short Reads', 'Two hours or more (65-100 pages)', 'Science Fiction & Fantasy'], ['Kindle Store', 'Kindle eBooks', 'Science Fiction & Fantasy', 'Science Fiction', 'Adventure'], ['Kindle Store', 'Kindle eBooks', 'Science Fiction & Fantasy', 'Science Fiction', 'Hard Science Fiction'], ['Kindle Store', 'Kindle eBooks', 'Science Fiction & Fantasy', 'Science Fiction', 'Space Opera'], ['Kindle Store', 'Kindle eBooks', 'Science Fiction & Fantasy', 'Science Fiction', 'TV, Movie, Video Game Adaptations', 'Star Trek']]\n",
      "[['Books', 'Literature & Fiction', 'Contemporary'], ['Books', 'Literature & Fiction', 'Literary'], ['Books', 'Mystery, Thriller & Suspense', 'Thrillers & Suspense', 'Psychological Thrillers'], ['Books', 'Mystery, Thriller & Suspense', 'Thrillers & Suspense', 'Suspense'], ['Kindle Store', 'Kindle eBooks', 'Literature & Fiction', 'Contemporary Fiction'], ['Kindle Store', 'Kindle eBooks', 'Literature & Fiction', 'Literary Fiction', 'Mystery, Thriller & Suspense'], ['Kindle Store', 'Kindle eBooks', 'Literature & Fiction', 'Literary Fiction', 'Psychological'], ['Kindle Store', 'Kindle eBooks', 'Mystery, Thriller & Suspense', 'Suspense'], ['Kindle Store', 'Kindle eBooks', 'Mystery, Thriller & Suspense', 'Thrillers', 'Psychological']]\n",
      "[['Books', 'Literature & Fiction', 'United States'], ['Books', 'Science Fiction & Fantasy', 'Science Fiction', 'Space Opera'], ['Kindle Store', 'Kindle eBooks', 'Science Fiction & Fantasy', 'Science Fiction', 'Space Opera'], ['Kindle Store', 'Kindle eBooks', 'Science Fiction & Fantasy', 'Science Fiction', 'TV, Movie, Video Game Adaptations', 'Star Trek']]\n",
      "[['Books', 'Biographies & Memoirs'], ['Books', 'Sports & Outdoors', 'Biographies', 'Football'], ['Books', 'Sports & Outdoors', 'Football (American)'], ['Kindle Store', 'Kindle eBooks', 'Biographies & Memoirs'], ['Kindle Store', 'Kindle eBooks', 'Sports & Outdoors', 'Biographies'], ['Kindle Store', 'Kindle eBooks', 'Sports & Outdoors', 'Football (American)']]\n",
      "[['Books', 'Literature & Fiction', 'Classics'], ['Kindle Store', 'Kindle eBooks', 'Literature & Fiction', 'Classics']]\n",
      "[['Books', 'Parenting & Relationships'], ['Books', 'Self-Help', 'Relationships', 'Love & Romance'], ['Books', 'Self-Help', 'Relationships', 'Marriage'], ['Kindle Store', 'Kindle eBooks', 'Health, Fitness & Dieting', 'Relationships', 'Love & Romance'], ['Kindle Store', 'Kindle eBooks', 'Health, Fitness & Dieting', 'Relationships', 'Marriage'], ['Kindle Store', 'Kindle eBooks', 'Parenting & Relationships']]\n",
      "[['Books', 'Biographies & Memoirs', 'Specific Groups', 'Women'], ['Books', 'History', 'Military'], ['Books', 'Politics & Social Sciences', \"Women's Studies\"], ['Kindle Store', 'Kindle eBooks', 'Biographies & Memoirs', 'Specific Groups', 'Women'], ['Kindle Store', 'Kindle eBooks', 'History'], ['Kindle Store', 'Kindle eBooks', 'Politics & Social Sciences', \"Women's Studies\"]]\n",
      "[['Books', 'Literature & Fiction'], ['Books', 'Science Fiction & Fantasy', 'Science Fiction', 'Adventure'], ['Books', 'Science Fiction & Fantasy', 'Science Fiction', 'High Tech'], ['Kindle Store', 'Kindle Short Reads', 'One hour (33-43 pages)', 'Literature & Fiction'], ['Kindle Store', 'Kindle Short Reads', 'One hour (33-43 pages)', 'Science Fiction & Fantasy'], ['Kindle Store', 'Kindle eBooks', 'Science Fiction & Fantasy', 'Science Fiction', 'Adventure'], ['Kindle Store', 'Kindle eBooks', 'Science Fiction & Fantasy', 'Science Fiction', 'Hard Science Fiction'], ['Kindle Store', 'Kindle eBooks', 'Science Fiction & Fantasy', 'Science Fiction', 'TV, Movie, Video Game Adaptations', 'Star Trek']]\n",
      "[['Books', 'Literature & Fiction', 'United States'], ['Books', 'Mystery, Thriller & Suspense', 'Mystery', 'Women Sleuths'], ['Kindle Store', 'Kindle eBooks', 'Mystery, Thriller & Suspense', 'Mystery', 'Private Investigators']]\n",
      "[['Books', 'Literature & Fiction', 'United States'], ['Books', 'Science Fiction & Fantasy', 'Science Fiction', 'Adventure'], ['Books', 'Science Fiction & Fantasy', 'Science Fiction', 'Space Opera'], ['Kindle Store', 'Kindle eBooks', 'Science Fiction & Fantasy', 'Science Fiction', 'Adventure'], ['Kindle Store', 'Kindle eBooks', 'Science Fiction & Fantasy', 'Science Fiction', 'Space Opera'], ['Kindle Store', 'Kindle eBooks', 'Science Fiction & Fantasy', 'Science Fiction', 'TV, Movie, Video Game Adaptations', 'Star Trek']]\n",
      "[['Books', 'Literature & Fiction', 'Classics'], ['Books', 'Literature & Fiction', 'Contemporary'], ['Kindle Store', 'Kindle eBooks', 'Literature & Fiction', 'Classics'], ['Kindle Store', 'Kindle eBooks', 'Literature & Fiction', 'Contemporary Fiction', 'Literary']]\n",
      "[['Books', 'Arts & Photography', 'Performing Arts'], ['Books', 'Biographies & Memoirs', 'Arts & Literature', 'Dancers'], ['Books', 'Biographies & Memoirs', 'Ethnic & National', 'Australian'], ['Books', \"Children's Books\", 'Arts, Music & Photography', 'Performing Arts', 'Film'], ['Books', \"Children's Books\", 'Biographies', 'Performing Arts'], ['Books', 'Literature & Fiction', 'Contemporary'], ['Books', 'Literature & Fiction', 'Genre Fiction', 'Action & Adventure'], ['Books', 'Literature & Fiction', 'Genre Fiction', 'Historical', 'Biographical'], ['Books', 'Literature & Fiction', 'Genre Fiction', 'Horror', 'Occult'], ['Books', 'Teen & Young Adult'], ['Kindle Store', 'Kindle eBooks', 'Arts & Photography', 'Performing Arts'], ['Kindle Store', 'Kindle eBooks', 'Biographies & Memoirs'], ['Kindle Store', 'Kindle eBooks', 'Literature & Fiction', 'Action & Adventure'], ['Kindle Store', 'Kindle eBooks', 'Literature & Fiction', 'Contemporary Fiction'], ['Kindle Store', 'Kindle eBooks', 'Literature & Fiction', 'Historical Fiction', 'Australian & Oceanian'], ['Kindle Store', 'Kindle eBooks', 'Literature & Fiction', 'Horror', 'Occult'], ['Kindle Store', 'Kindle eBooks', 'Teen & Young Adult', 'Art, Music & Photography', 'Performing Arts'], ['Kindle Store', 'Kindle eBooks', 'Teen & Young Adult', 'Biography']]\n",
      "[['Books', 'Literature & Fiction'], ['Books', 'Science Fiction & Fantasy', 'Science Fiction', 'Adventure'], ['Books', 'Science Fiction & Fantasy', 'Science Fiction', 'Space Opera'], ['Kindle Store', 'Kindle eBooks', 'Science Fiction & Fantasy', 'Science Fiction', 'Adventure'], ['Kindle Store', 'Kindle eBooks', 'Science Fiction & Fantasy', 'Science Fiction', 'Space Opera'], ['Kindle Store', 'Kindle eBooks', 'Science Fiction & Fantasy', 'Science Fiction', 'TV, Movie, Video Game Adaptations', 'Star Trek']]\n",
      "[['Books', 'Business & Money', 'Accounting'], ['Books', 'Business & Money', 'Management & Leadership', 'Management'], ['Books', 'Business & Money', 'Marketing & Sales', 'Advertising'], ['Books', 'Business & Money', 'Marketing & Sales', 'Sales & Selling'], ['Books', 'Business & Money', 'Skills'], ['Books', 'Business & Money', 'Small Business & Entrepreneurship', 'Entrepreneurship'], ['Books', 'Reference'], ['Kindle Store', 'Kindle eBooks', 'Business & Money', 'Accounting'], ['Kindle Store', 'Kindle eBooks', 'Business & Money', 'Education & Reference', 'Business Skills'], ['Kindle Store', 'Kindle eBooks', 'Business & Money', 'Entrepreneurship & Small Business', 'Entrepreneurship', 'Advertising'], ['Kindle Store', 'Kindle eBooks', 'Business & Money', 'Entrepreneurship & Small Business', 'Entrepreneurship', 'Management'], ['Kindle Store', 'Kindle eBooks', 'Business & Money', 'Management & Leadership', 'Management', 'Management Skills'], ['Kindle Store', 'Kindle eBooks', 'Business & Money', 'Marketing & Sales', 'Advertising', 'Entrepreneurship & Small Business'], ['Kindle Store', 'Kindle eBooks', 'Business & Money', 'Marketing & Sales', 'Sales & Selling', 'Entrepreneurship & Small Business'], ['Kindle Store', 'Kindle eBooks', 'Business & Money', 'Marketing & Sales', 'Sales & Selling', 'Management'], ['Kindle Store', 'Kindle eBooks', 'Business & Money', 'Marketing & Sales', 'Sales & Selling', 'Skills & Techniques'], ['Kindle Store', 'Kindle eBooks', 'Business & Money', 'Skills']]\n",
      "[['Books', \"Children's Books\", 'Action & Adventure'], ['Books', \"Children's Books\", 'Animals', 'Apes & Monkeys'], ['Books', \"Children's Books\", 'Growing Up & Facts of Life', 'Family Life'], ['Books', \"Children's Books\", 'Science Fiction & Fantasy', 'Fantasy & Magic'], ['Books', \"Children's Books\", 'Science Fiction & Fantasy', 'Science Fiction'], ['Books', \"Children's Books\", 'Science, Nature & How It Works'], ['Kindle Store', 'Kindle eBooks', \"Children's eBooks\", 'Action & Adventure'], ['Kindle Store', 'Kindle eBooks', \"Children's eBooks\", 'Growing Up & Facts of Life', 'Family Life'], ['Kindle Store', 'Kindle eBooks', \"Children's eBooks\", 'Science Fiction, Fantasy & Scary Stories', 'Fantasy & Magic'], ['Kindle Store', 'Kindle eBooks', \"Children's eBooks\", 'Science Fiction, Fantasy & Scary Stories', 'Science Fiction', 'Action & Adventure'], ['Kindle Store', 'Kindle eBooks', \"Children's eBooks\", 'Science, Nature & How It Works']]\n",
      "[['Books', 'Literature & Fiction', 'Contemporary'], ['Books', 'Literature & Fiction', 'United States'], ['Books', 'Literature & Fiction', \"Women's Fiction\", 'Domestic Life'], ['Kindle Store', 'Kindle eBooks', 'Literature & Fiction', 'Contemporary Fiction', 'American'], ['Kindle Store', 'Kindle eBooks', 'Literature & Fiction', 'Genre Fiction', 'Family Life']]\n",
      "[['Books', 'Literature & Fiction'], ['Books', 'Science Fiction & Fantasy', 'Science Fiction', 'Adventure'], ['Books', 'Science Fiction & Fantasy', 'Science Fiction', 'Space Opera'], ['Kindle Store', 'Kindle eBooks', 'Science Fiction & Fantasy', 'Science Fiction', 'Adventure'], ['Kindle Store', 'Kindle eBooks', 'Science Fiction & Fantasy', 'Science Fiction', 'Space Opera'], ['Kindle Store', 'Kindle eBooks', 'Science Fiction & Fantasy', 'Science Fiction', 'TV, Movie, Video Game Adaptations', 'Star Trek']]\n",
      "[['Books', \"Children's Books\", 'Growing Up & Facts of Life', 'Friendship, Social Skills & School Life', 'Girls & Women'], ['Books', \"Children's Books\", 'Mysteries & Detectives'], ['Books', \"Children's Books\", 'Science Fiction & Fantasy', 'Spine-Chilling Horror'], ['Kindle Store', 'Kindle eBooks', \"Children's eBooks\", 'Growing Up & Facts of Life', 'Friendship, Social Skills & School Life', 'Girls & Women'], ['Kindle Store', 'Kindle eBooks', \"Children's eBooks\", 'Literature & Fiction'], ['Kindle Store', 'Kindle eBooks', \"Children's eBooks\", 'Mysteries & Detectives', 'Detectives'], ['Kindle Store', 'Kindle eBooks', \"Children's eBooks\", 'Science Fiction, Fantasy & Scary Stories', 'Scary Stories']]\n",
      "[['Books', 'Christian Books & Bibles', 'Literature & Fiction', 'Historical'], ['Books', 'Literature & Fiction', 'Classics'], ['Books', 'Religion & Spirituality', 'Fiction', 'Historical'], ['Kindle Store', 'Kindle eBooks', 'Literature & Fiction', 'Classics', 'Historical'], ['Kindle Store', 'Kindle eBooks', 'Literature & Fiction', 'Religious & Inspirational Fiction', 'Historical'], ['Kindle Store', 'Kindle eBooks', 'Religion & Spirituality', 'Christian Books & Bibles', 'Christian Fiction', 'Historical']]\n",
      "[['Books', 'Christian Books & Bibles', 'Literature & Fiction'], ['Books', 'Literature & Fiction', 'Classics'], ['Books', 'Religion & Spirituality', 'Fiction'], ['Kindle Store', 'Kindle eBooks', 'Literature & Fiction', 'Religious & Inspirational Fiction', 'Classics'], ['Kindle Store', 'Kindle eBooks', 'Religion & Spirituality', 'Christian Books & Bibles', 'Christian Fiction']]\n",
      "[['Books', \"Children's Books\", 'Action & Adventure'], ['Books', \"Children's Books\", 'Comics & Graphic Novels'], ['Books', \"Children's Books\", 'Humor'], ['Books', \"Children's Books\", 'Science Fiction & Fantasy', 'Fantasy & Magic'], ['Kindle Store', 'Kindle eBooks', \"Children's eBooks\", 'Action & Adventure'], ['Kindle Store', 'Kindle eBooks', \"Children's eBooks\", 'Comics & Graphic Novels'], ['Kindle Store', 'Kindle eBooks', \"Children's eBooks\", 'Literature & Fiction', 'Popular Culture'], ['Kindle Store', 'Kindle eBooks', \"Children's eBooks\", 'Science Fiction, Fantasy & Scary Stories', 'Fantasy & Magic'], ['Kindle Store', 'Kindle eBooks', \"Children's eBooks\", 'Science Fiction, Fantasy & Scary Stories', 'Science Fiction', 'Aliens']]\n",
      "[['Books', 'Literature & Fiction', 'Classics'], ['Kindle Store', 'Kindle eBooks', 'Literature & Fiction', 'Classics']]\n",
      "[['Books', 'Literature & Fiction', 'Contemporary'], ['Books', 'Literature & Fiction', 'Literary'], ['Books', 'Literature & Fiction', 'United States'], ['Books', 'Mystery, Thriller & Suspense', 'Mystery'], ['Books', 'Mystery, Thriller & Suspense', 'Thrillers & Suspense'], ['Kindle Store', 'Kindle eBooks', 'Literature & Fiction', 'Contemporary Fiction'], ['Kindle Store', 'Kindle eBooks', 'Literature & Fiction', 'Literary Fiction', 'Mystery, Thriller & Suspense'], ['Kindle Store', 'Kindle eBooks', 'Mystery, Thriller & Suspense', 'Mystery']]\n",
      "[['Books', 'Literature & Fiction', 'Contemporary'], ['Books', 'Mystery, Thriller & Suspense', 'Mystery', 'Women Sleuths'], ['Kindle Store', 'Kindle eBooks', 'Literature & Fiction', 'Contemporary Fiction'], ['Kindle Store', 'Kindle eBooks', 'Mystery, Thriller & Suspense', 'Mystery', 'Women Sleuths']]\n",
      "[['Books', 'Literature & Fiction', 'Classics'], ['Books', 'Literature & Fiction', 'Contemporary'], ['Books', 'Literature & Fiction', 'History & Criticism', 'Movements & Periods'], ['Books', 'Literature & Fiction', 'Literary'], ['Kindle Store', 'Kindle eBooks', 'Literature & Fiction', 'Classics', 'British & Irish'], ['Kindle Store', 'Kindle eBooks', 'Literature & Fiction', 'Classics', 'Coming of Age'], ['Kindle Store', 'Kindle eBooks', 'Literature & Fiction', 'Classics', 'Historical'], ['Kindle Store', 'Kindle eBooks', 'Literature & Fiction', 'Contemporary Fiction'], ['Kindle Store', 'Kindle eBooks', 'Literature & Fiction', 'History & Criticism', 'Movements & Periods', 'Victorian'], ['Kindle Store', 'Kindle eBooks', 'Literature & Fiction', 'Literary Fiction', 'Action & Adventure'], ['Kindle Store', 'Kindle eBooks', 'Literature & Fiction', 'Literary Fiction', 'British & Irish'], ['Kindle Store', 'Kindle eBooks', 'Literature & Fiction', 'Literary Fiction', 'Classics'], ['Kindle Store', 'Kindle eBooks', 'Literature & Fiction', 'Literary Fiction', 'Historical'], ['Kindle Store', 'Kindle eBooks', 'Teen & Young Adult']]\n",
      "[['Books', 'Health, Fitness & Dieting', 'Sexual Health', 'General'], ['Books', 'Parenting & Relationships'], ['Books', 'Self-Help', 'Sex'], ['Kindle Store', 'Kindle eBooks', 'Health, Fitness & Dieting', 'Sex'], ['Kindle Store', 'Kindle eBooks', 'Parenting & Relationships']]\n",
      "[['Books', 'Literature & Fiction', 'Contemporary'], ['Books', 'Science Fiction & Fantasy', 'Science Fiction', 'Space Opera'], ['Kindle Store', 'Kindle eBooks', 'Literature & Fiction', 'Contemporary Fiction', 'Literary'], ['Kindle Store', 'Kindle eBooks', 'Science Fiction & Fantasy', 'Science Fiction', 'Space Opera']]\n",
      "[['Books', 'Literature & Fiction', 'Classics'], ['Kindle Store', 'Kindle eBooks', 'Literature & Fiction', 'Classics']]\n",
      "[['Books', 'Arts & Photography', 'Performing Arts'], ['Books', 'Literature & Fiction', 'Classics'], ['Books', 'Literature & Fiction', 'Drama', 'British & Irish'], ['Kindle Store', 'Kindle eBooks', 'Arts & Photography', 'Performing Arts'], ['Kindle Store', 'Kindle eBooks', 'Literature & Fiction', 'Classics'], ['Kindle Store', 'Kindle eBooks', 'Literature & Fiction', 'World Literature', 'British', 'Shakespeare']]\n",
      "[['Books', 'Literature & Fiction', 'Classics'], ['Books', 'Literature & Fiction', 'Contemporary'], ['Kindle Store', 'Kindle eBooks', 'Literature & Fiction', 'Classics'], ['Kindle Store', 'Kindle eBooks', 'Literature & Fiction', 'Contemporary Fiction']]\n",
      "[['Books', 'Literature & Fiction'], ['Books', 'Romance', 'Paranormal'], ['Books', 'Science Fiction & Fantasy', 'Science Fiction'], ['Kindle Store', 'Kindle eBooks', 'Romance', 'Paranormal'], ['Kindle Store', 'Kindle eBooks', 'Science Fiction & Fantasy', 'Science Fiction']]\n",
      "[['Books', 'Religion & Spirituality', 'Spirituality'], ['Kindle Store', 'Kindle eBooks', 'Religion & Spirituality', 'Spirituality']]\n",
      "[['Books', 'Business & Money', 'Personal Finance', 'Budgeting & Money Management'], ['Books', 'Self-Help'], ['Kindle Store', 'Kindle eBooks', 'Business & Money', 'Personal Finance', 'Budgeting & Money Management', 'Money Management'], ['Kindle Store', 'Kindle eBooks', 'Health, Fitness & Dieting'], ['Kindle Store', 'Kindle eBooks', 'Self-Help']]\n",
      "[['Books', 'Literature & Fiction', 'Classics'], ['Books', 'Literature & Fiction', 'Poetry', 'American'], ['Books', 'Literature & Fiction', 'Poetry', 'Anthologies'], ['Books', 'Literature & Fiction', 'United States'], ['Kindle Store', 'Kindle eBooks', 'Literature & Fiction', 'Classics', 'American'], ['Kindle Store', 'Kindle eBooks', 'Literature & Fiction', 'Poetry', 'American']]\n",
      "[['Books', 'Self-Help', 'Dreams'], ['Kindle Store', 'Kindle eBooks', 'Health, Fitness & Dieting', 'Mental Health', 'Dreams'], ['Kindle Store', 'Kindle eBooks', 'Religion & Spirituality', 'New Age', 'Dreams']]\n",
      "[['Books', 'Self-Help', 'Happiness'], ['Books', 'Self-Help', 'Motivational'], ['Kindle Store', 'Kindle eBooks', 'Health, Fitness & Dieting'], ['Kindle Store', 'Kindle eBooks', 'Self-Help', 'Happiness'], ['Kindle Store', 'Kindle eBooks', 'Self-Help', 'Motivational']]\n",
      "[['Books', 'Literature & Fiction', 'United States'], ['Books', 'Mystery, Thriller & Suspense', 'Thrillers & Suspense', 'Suspense'], ['Kindle Store', 'Kindle eBooks', 'Mystery, Thriller & Suspense', 'Suspense']]\n",
      "[['Books', 'Literature & Fiction', 'Contemporary'], ['Books', 'Literature & Fiction', 'Literary'], ['Books', 'Literature & Fiction', 'Short Stories', 'Single Author'], ['Kindle Store', 'Kindle eBooks', 'Literature & Fiction', 'Contemporary Fiction'], ['Kindle Store', 'Kindle eBooks', 'Literature & Fiction', 'Literary Fiction']]\n",
      "[['Books', \"Children's Books\", 'Action & Adventure'], ['Books', \"Children's Books\", 'Growing Up & Facts of Life', 'Friendship, Social Skills & School Life', 'Girls & Women'], ['Books', \"Children's Books\", 'Mysteries & Detectives'], ['Kindle Store', 'Kindle eBooks', \"Children's eBooks\", 'Action & Adventure'], ['Kindle Store', 'Kindle eBooks', \"Children's eBooks\", 'Growing Up & Facts of Life', 'Friendship, Social Skills & School Life', 'Girls & Women'], ['Kindle Store', 'Kindle eBooks', \"Children's eBooks\", 'Mysteries & Detectives', 'Detectives']]\n",
      "[['Books', 'Literature & Fiction'], ['Books', 'Science Fiction & Fantasy', 'Science Fiction'], ['Kindle Store', 'Kindle eBooks', 'Science Fiction & Fantasy', 'Science Fiction']]\n",
      "[['Books', 'Literature & Fiction', 'Classics'], ['Books', 'Politics & Social Sciences', 'Philosophy', 'Greek & Roman'], ['Kindle Store', 'Kindle eBooks', 'Literature & Fiction', 'Classics'], ['Kindle Store', 'Kindle eBooks', 'Politics & Social Sciences', 'Philosophy', 'Greek & Roman']]\n",
      "[['Books', 'Literature & Fiction', 'Classics'], ['Books', 'Literature & Fiction', 'Contemporary'], ['Books', 'Literature & Fiction', 'Literary'], ['Books', 'Mystery, Thriller & Suspense', 'Mystery'], ['Kindle Store', 'Kindle eBooks', 'Literature & Fiction', 'Contemporary Fiction', 'Literary'], ['Kindle Store', 'Kindle eBooks', 'Literature & Fiction', 'Literary Fiction', 'Classics'], ['Kindle Store', 'Kindle eBooks', 'Literature & Fiction', 'Literary Fiction', 'Mystery, Thriller & Suspense'], ['Kindle Store', 'Kindle eBooks', 'Mystery, Thriller & Suspense', 'Mystery']]\n",
      "[['Books', 'Biographies & Memoirs', 'Historical', 'United States'], ['Books', 'Biographies & Memoirs', 'Leaders & Notable People', 'Political'], ['Books', 'Biographies & Memoirs', 'Specific Groups', 'Women'], ['Kindle Store', 'Kindle eBooks', 'Biographies & Memoirs', 'Historical', 'United States'], ['Kindle Store', 'Kindle eBooks', 'Biographies & Memoirs', 'Leaders & Notable People', 'Political'], ['Kindle Store', 'Kindle eBooks', 'Biographies & Memoirs', 'Specific Groups', 'Women']]\n",
      "[['Books', 'Literature & Fiction', 'Genre Fiction', 'Action & Adventure'], ['Books', 'Literature & Fiction', 'Genre Fiction', 'Historical'], ['Books', 'Literature & Fiction', 'Genre Fiction', 'Westerns'], ['Kindle Store', 'Kindle eBooks', 'Literature & Fiction', 'Action & Adventure'], ['Kindle Store', 'Kindle eBooks', 'Literature & Fiction', 'Genre Fiction', 'Westerns', 'Contemporary'], ['Kindle Store', 'Kindle eBooks', 'Literature & Fiction', 'Genre Fiction', 'Westerns', \"Louis L'Amour\"], ['Kindle Store', 'Kindle eBooks', 'Literature & Fiction', 'Historical Fiction']]\n",
      "[['Books', 'Literature & Fiction'], ['Books', 'Science Fiction & Fantasy', 'Science Fiction', 'Adventure'], ['Books', 'Science Fiction & Fantasy', 'Science Fiction', 'Space Opera'], ['Kindle Store', 'Kindle eBooks', 'Science Fiction & Fantasy', 'Science Fiction', 'Adventure'], ['Kindle Store', 'Kindle eBooks', 'Science Fiction & Fantasy', 'Science Fiction', 'Space Opera'], ['Kindle Store', 'Kindle eBooks', 'Science Fiction & Fantasy', 'Science Fiction', 'TV, Movie, Video Game Adaptations', 'Star Trek']]\n",
      "[['Books', 'Literature & Fiction'], ['Books', 'Mystery, Thriller & Suspense', 'Mystery'], ['Kindle Store', 'Kindle eBooks', 'Mystery, Thriller & Suspense', 'Mystery']]\n",
      "[['Books', 'Literature & Fiction', 'Classics'], ['Books', 'Literature & Fiction', 'Mythology & Folk Tales', 'Fairy Tales'], ['Books', 'Literature & Fiction', 'Mythology & Folk Tales', 'Folklore'], ['Books', 'Literature & Fiction', 'Poetry', 'Ancient, Classical & Medieval'], ['Kindle Store', 'Kindle eBooks', 'Science Fiction & Fantasy']]\n",
      "[['Books', 'Literature & Fiction'], ['Books', 'Science Fiction & Fantasy', 'Science Fiction'], ['Kindle Store', 'Kindle eBooks', 'Science Fiction & Fantasy', 'Science Fiction']]\n",
      "[['Books', \"Children's Books\", 'Growing Up & Facts of Life'], ['Books', \"Children's Books\", 'Mysteries & Detectives'], ['Books', \"Children's Books\", 'Science Fiction & Fantasy', 'Spine-Chilling Horror'], ['Books', 'Literature & Fiction'], ['Kindle Store', 'Kindle eBooks', \"Children's eBooks\", 'Mysteries & Detectives'], ['Kindle Store', 'Kindle eBooks', \"Children's eBooks\", 'Science Fiction, Fantasy & Scary Stories', 'Scary Stories']]\n",
      "[['Books', 'Literature & Fiction', 'Classics'], ['Kindle Store', 'Kindle eBooks', 'Literature & Fiction', 'Classics']]\n",
      "[['Books', \"Children's Books\"], ['Books', 'Literature & Fiction', 'Classics'], ['Books', 'Literature & Fiction', 'Contemporary'], ['Kindle Store', 'Kindle eBooks', \"Children's eBooks\"], ['Kindle Store', 'Kindle eBooks', 'Literature & Fiction', 'Classics'], ['Kindle Store', 'Kindle eBooks', 'Literature & Fiction', 'Contemporary Fiction', 'Literary']]\n",
      "[['Books', 'Literature & Fiction'], ['Books', 'Science Fiction & Fantasy', 'Fantasy'], ['Kindle Store', 'Kindle eBooks', 'Science Fiction & Fantasy', 'Fantasy']]\n",
      "[['Books', 'Literature & Fiction', 'Contemporary'], ['Books', 'Literature & Fiction', 'Humor'], ['Kindle Store', 'Kindle eBooks', 'Literature & Fiction', 'Contemporary Fiction'], ['Kindle Store', 'Kindle eBooks', 'Literature & Fiction', 'Humor & Satire', 'General Humor']]\n",
      "[['Books', 'Literature & Fiction', 'Genre Fiction', 'Action & Adventure'], ['Kindle Store', 'Kindle eBooks', 'Literature & Fiction', 'Action & Adventure']]\n",
      "[['Books', 'Religion & Spirituality', 'Religious Studies', 'Comparative Religion'], ['Books', 'Religion & Spirituality', 'Spirituality'], ['Kindle Store', 'Kindle eBooks', 'Religion & Spirituality', 'Religious Studies & Reference', 'Comparative Religion'], ['Kindle Store', 'Kindle eBooks', 'Religion & Spirituality', 'Spirituality']]\n",
      "[['Books', 'Literature & Fiction'], ['Books', 'Science Fiction & Fantasy', 'Science Fiction'], ['Kindle Store', 'Kindle eBooks', 'Science Fiction & Fantasy', 'Science Fiction']]\n",
      "[['Books', 'Literature & Fiction', 'Classics'], ['Kindle Store', 'Kindle eBooks', 'History', 'Europe', 'France'], ['Kindle Store', 'Kindle eBooks', 'History', 'Historical Study', 'Revolutionary'], ['Kindle Store', 'Kindle eBooks', 'Literature & Fiction', 'Classics']]\n",
      "[['Books', 'Literature & Fiction', 'Contemporary'], ['Books', 'Literature & Fiction', 'United States'], ['Books', 'Mystery, Thriller & Suspense', 'Mystery'], ['Books', 'Mystery, Thriller & Suspense', 'Thrillers & Suspense', 'Crime'], ['Kindle Store', 'Kindle eBooks', 'Literature & Fiction', 'Contemporary Fiction', 'American'], ['Kindle Store', 'Kindle eBooks', 'Mystery, Thriller & Suspense', 'Crime Fiction'], ['Kindle Store', 'Kindle eBooks', 'Mystery, Thriller & Suspense', 'Mystery']]\n",
      "[['Books', 'Literature & Fiction', 'Contemporary'], ['Books', 'Literature & Fiction', 'Genre Fiction', 'Family Saga'], ['Books', 'Literature & Fiction', 'Literary'], ['Books', 'Literature & Fiction', 'United States'], ['Books', 'Mystery, Thriller & Suspense', 'Thrillers & Suspense', 'Psychological Thrillers'], ['Kindle Store', 'Kindle eBooks', 'Literature & Fiction', 'Contemporary Fiction'], ['Kindle Store', 'Kindle eBooks', 'Literature & Fiction', 'Literary Fiction', 'Psychological'], ['Kindle Store', 'Kindle eBooks', 'Literature & Fiction', 'Literary Fiction', 'Sagas'], ['Kindle Store', 'Kindle eBooks', 'Mystery, Thriller & Suspense', 'Thrillers', 'Psychological']]\n",
      "[['Books', 'Literature & Fiction', 'Genre Fiction', 'Movie Tie-Ins'], ['Books', 'Science Fiction & Fantasy', 'Science Fiction', 'Adventure'], ['Books', 'Science Fiction & Fantasy', 'Science Fiction', 'Space Opera'], ['Kindle Store', 'Kindle eBooks', 'Literature & Fiction', 'Genre Fiction', 'Movie Tie-Ins'], ['Kindle Store', 'Kindle eBooks', 'Science Fiction & Fantasy', 'Science Fiction', 'Adventure'], ['Kindle Store', 'Kindle eBooks', 'Science Fiction & Fantasy', 'Science Fiction', 'Space Opera'], ['Kindle Store', 'Kindle eBooks', 'Science Fiction & Fantasy', 'Science Fiction', 'TV, Movie, Video Game Adaptations', 'Star Wars']]\n",
      "[['Books', 'Literature & Fiction', 'Contemporary'], ['Books', 'Literature & Fiction', 'Literary'], ['Books', 'Literature & Fiction', 'Short Stories', 'Single Author'], ['Kindle Store', 'Kindle eBooks', 'Literature & Fiction', 'Contemporary Fiction'], ['Kindle Store', 'Kindle eBooks', 'Literature & Fiction', 'Literary Fiction']]\n",
      "[['Books', 'Literature & Fiction', 'Genre Fiction', 'Horror', 'Dark Fantasy'], ['Books', 'Science Fiction & Fantasy', 'Fantasy', 'Sword & Sorcery'], ['Kindle Store', 'Kindle eBooks', 'Science Fiction & Fantasy', 'Fantasy', 'Sword & Sorcery']]\n",
      "[['Books', 'Literature & Fiction', 'Literary'], ['Books', 'Mystery, Thriller & Suspense', 'Thrillers & Suspense', 'Psychological Thrillers'], ['Kindle Store', 'Kindle eBooks', 'Literature & Fiction', 'Literary Fiction', 'British & Irish'], ['Kindle Store', 'Kindle eBooks', 'Literature & Fiction', 'Literary Fiction', 'Psychological'], ['Kindle Store', 'Kindle eBooks', 'Mystery, Thriller & Suspense', 'Thrillers', 'Psychological']]\n",
      "[['Books', 'Literature & Fiction', 'Classics'], ['Books', 'Literature & Fiction', 'Contemporary'], ['Books', 'Literature & Fiction', 'Genre Fiction', 'Historical'], ['Kindle Store', 'Kindle eBooks', 'Literature & Fiction', 'Classics', 'Historical']]\n",
      "[['Books', 'Literature & Fiction'], ['Books', 'Mystery, Thriller & Suspense', 'Mystery'], ['Kindle Store', 'Kindle eBooks', 'Mystery, Thriller & Suspense', 'Mystery']]\n",
      "[['Books', 'Literature & Fiction', 'Classics'], ['Kindle Store', 'Kindle eBooks', 'Literature & Fiction', 'Classics']]\n",
      "[['Books', 'Literature & Fiction', 'Classics'], ['Books', 'Literature & Fiction', 'Poetry', 'British'], ['Kindle Store', 'Kindle Short Reads', '90 minutes (44-64 pages)', 'Literature & Fiction'], ['Kindle Store', 'Kindle eBooks', 'Literature & Fiction', 'Classics', 'Anthologies & Collections'], ['Kindle Store', 'Kindle eBooks', 'Literature & Fiction', 'Classics', 'British & Irish'], ['Kindle Store', 'Kindle eBooks', 'Literature & Fiction', 'Poetry', 'British']]\n",
      "[['Books', 'Literature & Fiction', 'Classics'], ['Books', 'Literature & Fiction', 'Genre Fiction', 'Historical'], ['Kindle Store', 'Kindle eBooks', 'Literature & Fiction', 'Classics', 'Historical']]\n",
      "[['Books', 'Literature & Fiction', 'Classics'], ['Books', 'Travel', 'Asia', 'China', 'General'], ['Kindle Store', 'Kindle eBooks', 'Literature & Fiction', 'Classics'], ['Kindle Store', 'Kindle eBooks', 'Travel', 'Asia', 'China']]\n",
      "[['Books', 'Literature & Fiction', 'Classics'], ['Kindle Store', 'Kindle Short Reads', 'Two hours or more (65-100 pages)', 'Literature & Fiction'], ['Kindle Store', 'Kindle eBooks', 'Literature & Fiction', 'Classics'], ['Kindle Store', 'Kindle eBooks', 'Literature & Fiction', 'World Literature', 'British', 'Shakespeare']]\n",
      "[['Books', 'Literature & Fiction', 'Classics'], ['Books', 'Literature & Fiction', 'Genre Fiction', 'Action & Adventure'], ['Books', 'Literature & Fiction', 'Genre Fiction', 'Historical'], ['Books', 'Literature & Fiction', 'History & Criticism', 'Criticism & Theory'], ['Books', 'Literature & Fiction', 'World Literature'], ['Kindle Store', 'Kindle eBooks', 'Literature & Fiction', 'Action & Adventure'], ['Kindle Store', 'Kindle eBooks', 'Literature & Fiction', 'Classics', 'Historical'], ['Kindle Store', 'Kindle eBooks', 'Literature & Fiction', 'Historical Fiction', 'European'], ['Kindle Store', 'Kindle eBooks', 'Literature & Fiction', 'Historical Fiction', 'French'], ['Kindle Store', 'Kindle eBooks', 'Literature & Fiction', 'History & Criticism', 'Criticism & Theory']]\n",
      "[['Books', 'Literature & Fiction', 'Classics'], ['Books', 'Literature & Fiction', 'Genre Fiction', 'Action & Adventure'], ['Books', 'Science Fiction & Fantasy', 'Fantasy', 'Historical'], ['Kindle Store', 'Kindle eBooks', 'Literature & Fiction', 'Action & Adventure', 'Fantasy'], ['Kindle Store', 'Kindle eBooks', 'Literature & Fiction', 'Classics', 'Historical'], ['Kindle Store', 'Kindle eBooks', 'Literature & Fiction', 'Mythology & Folk Tales'], ['Kindle Store', 'Kindle eBooks', 'Science Fiction & Fantasy', 'Fantasy', 'Fairy Tales'], ['Kindle Store', 'Kindle eBooks', 'Science Fiction & Fantasy', 'Fantasy', 'Historical']]\n",
      "[['Books', 'Literature & Fiction'], ['Books', 'Science Fiction & Fantasy', 'Fantasy'], ['Kindle Store', 'Kindle eBooks', 'Science Fiction & Fantasy', 'Fantasy']]\n",
      "[['Books', 'Literature & Fiction'], ['Books', 'Science Fiction & Fantasy', 'Science Fiction', 'Adventure'], ['Books', 'Science Fiction & Fantasy', 'Science Fiction', 'Space Opera'], ['Kindle Store', 'Kindle eBooks', 'Science Fiction & Fantasy', 'Science Fiction', 'Adventure'], ['Kindle Store', 'Kindle eBooks', 'Science Fiction & Fantasy', 'Science Fiction', 'Space Opera'], ['Kindle Store', 'Kindle eBooks', 'Science Fiction & Fantasy', 'Science Fiction', 'TV, Movie, Video Game Adaptations', 'Star Trek']]\n",
      "[['Books', 'Literature & Fiction'], ['Books', 'Science Fiction & Fantasy', 'Science Fiction'], ['Kindle Store', 'Kindle eBooks', 'Science Fiction & Fantasy', 'Science Fiction']]\n",
      "[['Books', 'Literature & Fiction', 'Contemporary'], ['Books', 'Literature & Fiction', 'Genre Fiction', 'Action & Adventure'], ['Books', 'Mystery, Thriller & Suspense', 'Mystery'], ['Books', 'Mystery, Thriller & Suspense', 'Thrillers & Suspense', 'Suspense'], ['Kindle Store', 'Kindle eBooks', 'Literature & Fiction', 'Action & Adventure', 'Mystery, Thriller & Suspense', 'Mystery'], ['Kindle Store', 'Kindle eBooks', 'Literature & Fiction', 'Action & Adventure', 'Mystery, Thriller & Suspense', 'Suspense'], ['Kindle Store', 'Kindle eBooks', 'Literature & Fiction', 'Contemporary Fiction'], ['Kindle Store', 'Kindle eBooks', 'Mystery, Thriller & Suspense', 'Suspense']]\n",
      "[['Books', 'Literature & Fiction', 'Classics'], ['Books', 'Literature & Fiction', 'Contemporary'], ['Kindle Store', 'Kindle eBooks', 'Literature & Fiction', 'Classics'], ['Kindle Store', 'Kindle eBooks', 'Literature & Fiction', 'Contemporary Fiction', 'Literary']]\n",
      "[['Books', 'Literature & Fiction', 'Classics'], ['Books', 'Literature & Fiction', 'Genre Fiction', 'Family Saga'], ['Kindle Store', 'Kindle eBooks', 'Literature & Fiction', 'Classics', 'Romance'], ['Kindle Store', 'Kindle eBooks', 'Literature & Fiction', 'Genre Fiction', 'Sagas']]\n",
      "[['Books', 'Literature & Fiction', 'Classics'], ['Books', 'Literature & Fiction', 'Contemporary'], ['Books', 'Literature & Fiction', 'World Literature'], ['Kindle Store', 'Kindle eBooks', 'Literature & Fiction', 'Classics'], ['Kindle Store', 'Kindle eBooks', 'Literature & Fiction', 'Contemporary Fiction']]\n",
      "[['Books', \"Children's Books\", 'Action & Adventure'], ['Books', 'Literature & Fiction', 'Classics'], ['Kindle Store', 'Kindle eBooks', \"Children's eBooks\", 'Action & Adventure'], ['Kindle Store', 'Kindle eBooks', 'Literature & Fiction', 'Classics'], ['Kindle Store', 'Kindle eBooks', 'Nonfiction', \"Children's Nonfiction\"]]\n",
      "[['Books', 'Literature & Fiction', 'Classics'], ['Books', 'Literature & Fiction', 'Contemporary'], ['Kindle Store', 'Kindle eBooks', 'Literature & Fiction', 'Classics']]\n",
      "[['Books', 'Teen & Young Adult'], ['Kindle Store', 'Kindle eBooks', 'Teen & Young Adult', 'Literature & Fiction', 'Action & Adventure']]\n",
      "[['Books', 'Politics & Social Sciences', \"Women's Studies\"], ['Kindle Store', 'Kindle eBooks', 'Politics & Social Sciences', \"Women's Studies\"]]\n",
      "[['Books', \"Children's Books\", 'Growing Up & Facts of Life', 'Friendship, Social Skills & School Life', 'Girls & Women'], ['Books', \"Children's Books\", 'Mysteries & Detectives'], ['Kindle Store', 'Kindle eBooks', \"Children's eBooks\", 'Growing Up & Facts of Life', 'Friendship, Social Skills & School Life', 'Girls & Women'], ['Kindle Store', 'Kindle eBooks', \"Children's eBooks\", 'Literature & Fiction'], ['Kindle Store', 'Kindle eBooks', \"Children's eBooks\", 'Mysteries & Detectives', 'Detectives']]\n",
      "[['Books', 'Literature & Fiction'], ['Books', 'Mystery, Thriller & Suspense', 'Mystery', 'Hard-Boiled'], ['Kindle Store', 'Kindle eBooks', 'Mystery, Thriller & Suspense', 'Mystery']]\n",
      "[['Books', 'Literature & Fiction', 'Classics'], ['Books', 'Literature & Fiction', 'Literary'], ['Kindle Store', 'Kindle eBooks', 'Literature & Fiction', 'Literary Fiction', 'Classics']]\n",
      "[['Books', 'Literature & Fiction', 'Classics'], ['Books', 'Literature & Fiction', 'Literary'], ['Kindle Store', 'Kindle eBooks', 'History', 'World', 'Transportation', 'Ships'], ['Kindle Store', 'Kindle eBooks', 'Literature & Fiction', 'Classics', 'Anthologies & Collections'], ['Kindle Store', 'Kindle eBooks', 'Professional & Technical', 'Transportation', 'Ships', 'History']]\n",
      "[['Books', 'Literature & Fiction', 'Contemporary'], ['Books', 'Literature & Fiction', 'Genre Fiction', 'War'], ['Books', 'Literature & Fiction', 'United States'], ['Books', 'Mystery, Thriller & Suspense', 'Thrillers & Suspense', 'Military'], ['Books', 'Mystery, Thriller & Suspense', 'Thrillers & Suspense', 'Technothrillers'], ['Kindle Store', 'Kindle eBooks', 'Literature & Fiction', 'Contemporary Fiction'], ['Kindle Store', 'Kindle eBooks', 'Mystery, Thriller & Suspense', 'Thrillers', 'Technothrillers']]\n",
      "[['Books', 'Christian Books & Bibles'], ['Books', 'Literature & Fiction', 'Classics'], ['Books', 'Literature & Fiction', 'Essays & Correspondence', 'Essays'], ['Kindle Store', 'Kindle Short Reads', 'Two hours or more (65-100 pages)', 'Literature & Fiction'], ['Kindle Store', 'Kindle Short Reads', 'Two hours or more (65-100 pages)', 'Religion & Spirituality'], ['Kindle Store', 'Kindle eBooks', 'Literature & Fiction', 'Classics', 'Anthologies & Collections'], ['Kindle Store', 'Kindle eBooks', 'Literature & Fiction', 'Essays & Correspondence', 'Essays'], ['Kindle Store', 'Kindle eBooks', 'Religion & Spirituality', 'Christian Books & Bibles']]\n",
      "[['Books', 'Literature & Fiction', 'Poetry', 'British'], ['Kindle Store', 'Kindle eBooks', 'Literature & Fiction', 'Poetry', 'British'], ['Kindle Store', 'Kindle eBooks', 'Literature & Fiction', 'World Literature', 'British', 'Shakespeare']]\n",
      "[['Books', 'Literature & Fiction'], ['Books', 'Science Fiction & Fantasy', 'Science Fiction'], ['Kindle Store', 'Kindle eBooks', 'Science Fiction & Fantasy', 'Science Fiction']]\n",
      "[['Books', \"Children's Books\"], ['Books', 'Literature & Fiction', 'Classics'], ['Books', 'Literature & Fiction', 'Contemporary'], ['Kindle Store', 'Kindle eBooks', \"Children's eBooks\"], ['Kindle Store', 'Kindle eBooks', 'Literature & Fiction', 'Classics'], ['Kindle Store', 'Kindle eBooks', 'Literature & Fiction', 'Contemporary Fiction']]\n",
      "[['Books', 'Literature & Fiction', 'United States'], ['Books', 'Mystery, Thriller & Suspense', 'Mystery', 'Police Procedurals'], ['Kindle Store', 'Kindle eBooks', 'Mystery, Thriller & Suspense', 'Mystery', 'Police Procedurals']]\n",
      "[['Books', 'Law'], ['Books', 'Literature & Fiction', 'Classics'], ['Books', 'Literature & Fiction', 'Drama'], ['Kindle Store', 'Kindle eBooks', 'Arts & Photography', 'Theater'], ['Kindle Store', 'Kindle eBooks', 'Literature & Fiction', 'Classics'], ['Kindle Store', 'Kindle eBooks', 'Literature & Fiction', 'Drama & Plays'], ['Kindle Store', 'Kindle eBooks', 'Professional & Technical', 'Law']]\n",
      "[['Books', 'Literature & Fiction', 'Genre Fiction', 'Action & Adventure'], ['Books', 'Literature & Fiction', 'Genre Fiction', 'Historical'], ['Books', 'Literature & Fiction', 'Genre Fiction', 'Westerns'], ['Kindle Store', 'Kindle eBooks', 'Literature & Fiction', 'Action & Adventure'], ['Kindle Store', 'Kindle eBooks', 'Literature & Fiction', 'Genre Fiction', 'Westerns', 'Contemporary'], ['Kindle Store', 'Kindle eBooks', 'Literature & Fiction', 'Genre Fiction', 'Westerns', \"Louis L'Amour\"], ['Kindle Store', 'Kindle eBooks', 'Literature & Fiction', 'Historical Fiction']]\n",
      "[['Books', 'Literature & Fiction', 'Classics'], ['Books', 'Literature & Fiction', 'Drama'], ['Books', 'Literature & Fiction', 'Literary'], ['Kindle Store', 'Kindle Short Reads', 'Two hours or more (65-100 pages)', 'Literature & Fiction'], ['Kindle Store', 'Kindle eBooks', 'Arts & Photography', 'Theater'], ['Kindle Store', 'Kindle eBooks', 'Literature & Fiction', 'Classics', 'Anthologies & Collections'], ['Kindle Store', 'Kindle eBooks', 'Literature & Fiction', 'Drama & Plays']]\n",
      "[['Books', 'Literature & Fiction', 'Classics'], ['Books', 'Literature & Fiction', 'Contemporary'], ['Books', 'Literature & Fiction', 'United States', 'Classics'], ['Kindle Store', 'Kindle eBooks', 'Literature & Fiction', 'Classics'], ['Kindle Store', 'Kindle eBooks', 'Literature & Fiction', 'Contemporary Fiction', 'Literary']]\n",
      "[['Books', 'Teen & Young Adult'], ['Kindle Store', 'Kindle eBooks', 'Teen & Young Adult', 'Literature & Fiction', 'Action & Adventure'], ['Kindle Store', 'Kindle eBooks', 'Teen & Young Adult', 'Literature & Fiction', 'Comics & Graphic Novels']]\n",
      "[['Books', 'Literature & Fiction', 'Genre Fiction', 'Action & Adventure'], ['Books', 'Literature & Fiction', 'Genre Fiction', 'Historical'], ['Books', 'Literature & Fiction', 'Genre Fiction', 'Westerns'], ['Kindle Store', 'Kindle eBooks', 'Literature & Fiction', 'Action & Adventure'], ['Kindle Store', 'Kindle eBooks', 'Literature & Fiction', 'Genre Fiction', 'Westerns', 'Contemporary'], ['Kindle Store', 'Kindle eBooks', 'Literature & Fiction', 'Genre Fiction', 'Westerns', \"Louis L'Amour\"], ['Kindle Store', 'Kindle eBooks', 'Literature & Fiction', 'Historical Fiction']]\n",
      "[['Books', 'Literature & Fiction', 'Classics'], ['Books', 'Literature & Fiction', 'Poetry', 'American'], ['Books', 'Literature & Fiction', 'United States'], ['Kindle Store', 'Kindle eBooks', 'Literature & Fiction', 'Classics', 'American'], ['Kindle Store', 'Kindle eBooks', 'Literature & Fiction', 'Classics', 'Anthologies & Collections'], ['Kindle Store', 'Kindle eBooks', 'Literature & Fiction', 'Poetry', 'American']]\n",
      "[['Books', 'Comics & Graphic Novels', 'Graphic Novels'], ['Books', 'Literature & Fiction', 'Classics'], ['Kindle Store', 'Kindle eBooks', 'Comics & Graphic Novels', 'Graphic Novels'], ['Kindle Store', 'Kindle eBooks', 'Literature & Fiction', 'Classics']]\n",
      "[['Books', 'Literature & Fiction', 'Erotica'], ['Kindle Store', 'Kindle eBooks', 'Literature & Fiction', 'Erotica', 'BDSM'], ['Kindle Store', 'Kindle eBooks', 'Literature & Fiction', 'Erotica', 'Romantic Erotica']]\n",
      "[['Books', 'Literature & Fiction', 'Erotica'], ['Kindle Store', 'Kindle eBooks', 'Literature & Fiction', 'Erotica', 'BDSM']]\n",
      "[['Books', 'Literature & Fiction', 'Classics'], ['Books', 'Literature & Fiction', 'Drama', 'Continental European'], ['Kindle Store', 'Kindle eBooks', 'Literature & Fiction', 'Classics'], ['Kindle Store', 'Kindle eBooks', 'Literature & Fiction', 'Drama & Plays', 'Continental European']]\n",
      "[['Books', 'Christian Books & Bibles', 'Worship & Devotion', 'Catechisms'], ['Books', 'Literature & Fiction', 'Classics'], ['Books', 'Religion & Spirituality'], ['Kindle Store', 'Kindle Short Reads', '90 minutes (44-64 pages)', 'Literature & Fiction'], ['Kindle Store', 'Kindle Short Reads', '90 minutes (44-64 pages)', 'Religion & Spirituality'], ['Kindle Store', 'Kindle eBooks', 'Literature & Fiction', 'Classics'], ['Kindle Store', 'Kindle eBooks', 'Religion & Spirituality', 'Christian Books & Bibles', 'Worship & Devotion', 'Catechisms']]\n",
      "[['Books', 'Literature & Fiction', 'Classics'], ['Books', 'Literature & Fiction', 'Drama'], ['Kindle Store', 'Kindle Short Reads', 'Two hours or more (65-100 pages)', 'Literature & Fiction'], ['Kindle Store', 'Kindle eBooks', 'Arts & Photography', 'Theater'], ['Kindle Store', 'Kindle eBooks', 'Literature & Fiction', 'Classics'], ['Kindle Store', 'Kindle eBooks', 'Literature & Fiction', 'Drama & Plays']]\n",
      "[['Books', 'Biographies & Memoirs', 'Arts & Literature', 'Authors'], ['Books', 'Biographies & Memoirs', 'Memoirs'], ['Books', 'Biographies & Memoirs', 'Specific Groups', 'Women'], ['Kindle Store', 'Kindle eBooks', 'Biographies & Memoirs', 'Arts & Literature', 'Authors'], ['Kindle Store', 'Kindle eBooks', 'Biographies & Memoirs', 'Memoirs'], ['Kindle Store', 'Kindle eBooks', 'Biographies & Memoirs', 'Specific Groups', 'Women']]\n",
      "[['Books', 'Literature & Fiction', 'Classics'], ['Books', 'Literature & Fiction', 'Genre Fiction', 'Historical', 'Biographical'], ['Kindle Store', 'Kindle eBooks', 'Literature & Fiction', 'Classics', 'Historical']]\n",
      "[['Books', 'Literature & Fiction', 'Classics'], ['Books', 'Literature & Fiction', 'Contemporary'], ['Books', 'Literature & Fiction', 'Short Stories', 'Single Author'], ['Kindle Store', 'Kindle Short Reads', 'Two hours or more (65-100 pages)', 'Literature & Fiction'], ['Kindle Store', 'Kindle eBooks', 'Literature & Fiction', 'Classics', 'Short Stories'], ['Kindle Store', 'Kindle eBooks', 'Literature & Fiction', 'Contemporary Fiction', 'Literary'], ['Kindle Store', 'Kindle eBooks', 'Literature & Fiction', 'Contemporary Fiction', 'Short Stories'], ['Kindle Store', 'Kindle eBooks', 'Literature & Fiction', 'Short Stories', 'Single Authors']]\n",
      "[['Books', 'Literature & Fiction', 'Classics'], ['Books', 'Literature & Fiction', 'Contemporary'], ['Books', 'Science Fiction & Fantasy'], ['Kindle Store', 'Kindle eBooks', 'Literature & Fiction', 'Classics'], ['Kindle Store', 'Kindle eBooks', 'Literature & Fiction', 'Contemporary Fiction']]\n",
      "[['Books', \"Children's Books\"], ['Books', 'Literature & Fiction', 'Classics'], ['Books', 'Literature & Fiction', 'Literary'], ['Kindle Store', 'Kindle eBooks', \"Children's eBooks\"], ['Kindle Store', 'Kindle eBooks', 'Literature & Fiction', 'Classics', 'Anthologies & Collections']]\n",
      "[['Books', 'Literature & Fiction', 'Classics'], ['Books', 'Literature & Fiction', 'Literary'], ['Kindle Store', 'Kindle eBooks', 'Literature & Fiction', 'Contemporary Fiction', 'Literary'], ['Kindle Store', 'Kindle eBooks', 'Literature & Fiction', 'Literary Fiction', 'Classics']]\n",
      "[['Books', 'Literature & Fiction', 'Classics'], ['Kindle Store', 'Kindle Short Reads', 'Two hours or more (65-100 pages)', 'Literature & Fiction'], ['Kindle Store', 'Kindle eBooks', 'Literature & Fiction', 'Classics']]\n",
      "[['Books', 'Literature & Fiction', 'Genre Fiction', 'Action & Adventure'], ['Books', 'Literature & Fiction', 'Genre Fiction', 'Historical'], ['Books', 'Literature & Fiction', 'Genre Fiction', 'Westerns'], ['Kindle Store', 'Kindle eBooks', 'Literature & Fiction', 'Action & Adventure'], ['Kindle Store', 'Kindle eBooks', 'Literature & Fiction', 'Genre Fiction', 'Westerns', \"Louis L'Amour\"], ['Kindle Store', 'Kindle eBooks', 'Literature & Fiction', 'Historical Fiction']]\n",
      "[['Books', 'Literature & Fiction'], ['Books', 'Science Fiction & Fantasy', 'Fantasy', 'Sword & Sorcery'], ['Kindle Store', 'Kindle eBooks', 'Science Fiction & Fantasy', 'Fantasy', 'Sword & Sorcery']]\n",
      "[['Books', 'Literature & Fiction', 'Genre Fiction', 'Action & Adventure'], ['Kindle Store', 'Kindle eBooks', 'Literature & Fiction', 'Action & Adventure']]\n",
      "[['Books', 'Literature & Fiction'], ['Books', 'Science Fiction & Fantasy', 'Science Fiction'], ['Kindle Store', 'Kindle eBooks', 'Science Fiction & Fantasy', 'Science Fiction']]\n",
      "[['Books', 'Literature & Fiction', 'Classics'], ['Kindle Store', 'Kindle eBooks', 'History', 'Ancient', 'Greece'], ['Kindle Store', 'Kindle eBooks', 'Literature & Fiction', 'Classics']]\n",
      "[['Books', 'Literature & Fiction', 'Classics'], ['Books', 'Literature & Fiction', 'Contemporary'], ['Kindle Store', 'Kindle eBooks', 'Literature & Fiction', 'Classics'], ['Kindle Store', 'Kindle eBooks', 'Literature & Fiction', 'Contemporary Fiction', 'Literary']]\n",
      "[['Books', 'Literature & Fiction', 'Classics'], ['Kindle Store', 'Kindle eBooks', 'Literature & Fiction', 'Classics']]\n",
      "[['Books', 'Literature & Fiction', 'Classics'], ['Books', 'Literature & Fiction', 'Contemporary'], ['Kindle Store', 'Kindle eBooks', 'Literature & Fiction', 'Classics'], ['Kindle Store', 'Kindle eBooks', 'Literature & Fiction', 'Contemporary Fiction', 'Literary']]\n",
      "[['Books', 'Literature & Fiction', 'Classics'], ['Kindle Store', 'Kindle Short Reads', 'Two hours or more (65-100 pages)', 'Literature & Fiction'], ['Kindle Store', 'Kindle eBooks', 'Literature & Fiction', 'Classics']]\n",
      "[['Books', 'Literature & Fiction', 'Classics'], ['Books', 'Literature & Fiction', 'Genre Fiction', 'Action & Adventure'], ['Books', 'Science Fiction & Fantasy', 'Fantasy'], ['Kindle Store', 'Kindle eBooks', 'Literature & Fiction', 'Action & Adventure', 'Fantasy'], ['Kindle Store', 'Kindle eBooks', 'Literature & Fiction', 'Action & Adventure', 'Mystery, Thriller & Suspense', 'Crime'], ['Kindle Store', 'Kindle eBooks', 'Literature & Fiction', 'Action & Adventure', 'Mystery, Thriller & Suspense', 'Thriller'], ['Kindle Store', 'Kindle eBooks', 'Literature & Fiction', 'Classics'], ['Kindle Store', 'Kindle eBooks', 'Science Fiction & Fantasy', 'Fantasy']]\n",
      "[['Books', 'Literature & Fiction', 'Classics'], ['Books', 'Literature & Fiction', 'Contemporary'], ['Kindle Store', 'Kindle eBooks', 'Literature & Fiction', 'Classics'], ['Kindle Store', 'Kindle eBooks', 'Literature & Fiction', 'Contemporary Fiction', 'Literary']]\n",
      "[['Books', 'Literature & Fiction', 'Classics'], ['Books', 'Literature & Fiction', 'Contemporary'], ['Books', 'Literature & Fiction', 'Genre Fiction', 'Westerns'], ['Kindle Store', 'Kindle eBooks', 'Literature & Fiction', 'Contemporary Fiction'], ['Kindle Store', 'Kindle eBooks', 'Literature & Fiction', 'Genre Fiction', 'Westerns', 'Classic']]\n",
      "[['Books', 'Literature & Fiction', 'Classics'], ['Kindle Store', 'Kindle eBooks', 'Literature & Fiction', 'Classics']]\n",
      "[['Books', 'Literature & Fiction', 'Erotica'], ['Kindle Store', 'Kindle eBooks', 'Literature & Fiction', 'Erotica', 'BDSM'], ['Kindle Store', 'Kindle eBooks', 'Literature & Fiction', 'Erotica', 'LGBT', 'Lesbian']]\n",
      "[['Books', 'Literature & Fiction', 'Classics'], ['Kindle Store', 'Kindle Short Reads', 'Two hours or more (65-100 pages)', 'Literature & Fiction'], ['Kindle Store', 'Kindle eBooks', 'Literature & Fiction', 'Classics']]\n",
      "[['Books', 'Business & Money', 'Biography & History', 'Company Profiles'], ['Books', 'Business & Money', 'Management & Leadership', 'Management'], ['Books', 'Business & Money', 'Management & Leadership', 'Management Science'], ['Books', 'Business & Money', 'Management & Leadership', 'Strategy & Competition'], ['Books', 'Business & Money', 'Management & Leadership', 'Systems & Planning'], ['Kindle Store', 'Kindle eBooks', 'Business & Money', 'Biography & History', 'Company Histories'], ['Kindle Store', 'Kindle eBooks', 'Business & Money', 'Management & Leadership', 'Management', 'Strategic Management'], ['Kindle Store', 'Kindle eBooks', 'Business & Money', 'Management & Leadership', 'Management Science'], ['Kindle Store', 'Kindle eBooks', 'Business & Money', 'Management & Leadership', 'Systems & Planning']]\n",
      "[['Books', 'Literature & Fiction', 'Classics'], ['Books', 'Literature & Fiction', 'Contemporary'], ['Books', 'Literature & Fiction', 'Literary'], ['Kindle Store', 'Kindle eBooks', 'Literature & Fiction', 'Classics', 'Short Stories'], ['Kindle Store', 'Kindle eBooks', 'Literature & Fiction', 'Contemporary Fiction', 'Literary'], ['Kindle Store', 'Kindle eBooks', 'Literature & Fiction', 'Contemporary Fiction', 'Short Stories']]\n",
      "[['Books', \"Children's Books\", 'Literature & Fiction', 'Historical Fiction', 'Medieval'], ['Books', 'Literature & Fiction', 'Classics'], ['Kindle Store', 'Kindle eBooks', \"Children's eBooks\", 'Literature & Fiction', 'Historical Fiction', 'Medieval'], ['Kindle Store', 'Kindle eBooks', 'Literature & Fiction', 'Classics', 'Historical']]\n",
      "[['Books', 'Literature & Fiction', 'Classics'], ['Kindle Store', 'Kindle eBooks', 'Literature & Fiction', 'Classics']]\n",
      "[['Books', 'Literature & Fiction', 'Contemporary'], ['Books', 'Literature & Fiction', 'Genre Fiction', 'Action & Adventure'], ['Books', 'Literature & Fiction', 'Genre Fiction', 'Historical'], ['Books', 'Literature & Fiction', 'Genre Fiction', 'Horror', 'Occult'], ['Books', 'Literature & Fiction', 'Genre Fiction', 'Movie Tie-Ins'], ['Books', 'Teen & Young Adult'], ['Kindle Store', 'Kindle eBooks', 'Literature & Fiction', 'Action & Adventure', 'Sea Adventures'], ['Kindle Store', 'Kindle eBooks', 'Literature & Fiction', 'Contemporary Fiction'], ['Kindle Store', 'Kindle eBooks', 'Literature & Fiction', 'Genre Fiction', 'Movie Tie-Ins'], ['Kindle Store', 'Kindle eBooks', 'Literature & Fiction', 'Historical Fiction'], ['Kindle Store', 'Kindle eBooks', 'Literature & Fiction', 'Horror', 'Occult'], ['Kindle Store', 'Kindle eBooks', 'Teen & Young Adult', 'Literature & Fiction', 'Action & Adventure']]\n",
      "[['Books', 'Literature & Fiction', 'Classics'], ['Books', 'Literature & Fiction', 'Genre Fiction', 'Action & Adventure'], ['Books', 'Science Fiction & Fantasy', 'Fantasy', 'Historical'], ['Kindle Store', 'Kindle eBooks', 'Literature & Fiction', 'Action & Adventure', 'Fantasy'], ['Kindle Store', 'Kindle eBooks', 'Literature & Fiction', 'Classics', 'Historical'], ['Kindle Store', 'Kindle eBooks', 'Literature & Fiction', 'Mythology & Folk Tales'], ['Kindle Store', 'Kindle eBooks', 'Science Fiction & Fantasy', 'Fantasy', 'Fairy Tales'], ['Kindle Store', 'Kindle eBooks', 'Science Fiction & Fantasy', 'Fantasy', 'Historical']]\n",
      "[['Books', 'Biographies & Memoirs'], ['Books', 'Sports & Outdoors', 'Biographies', 'Golf'], ['Books', 'Sports & Outdoors', 'Golf'], ['Kindle Store', 'Kindle eBooks', 'Sports & Outdoors', 'Biographies'], ['Kindle Store', 'Kindle eBooks', 'Sports & Outdoors', 'Golf']]\n",
      "[['Books', 'Literature & Fiction', 'Classics'], ['Books', 'Literature & Fiction', 'Essays & Correspondence', 'Essays'], ['Kindle Store', 'Kindle eBooks', 'Literature & Fiction', 'Classics', 'Anthologies & Collections'], ['Kindle Store', 'Kindle eBooks', 'Literature & Fiction', 'Essays & Correspondence', 'Essays']]\n",
      "[['Books', 'Literature & Fiction'], ['Books', 'Mystery, Thriller & Suspense', 'Mystery'], ['Kindle Store', 'Kindle eBooks', 'Mystery, Thriller & Suspense', 'Mystery']]\n",
      "[['Books', 'Literature & Fiction', 'Classics'], ['Books', 'Literature & Fiction', 'Mythology & Folk Tales', 'Fairy Tales'], ['Books', 'Literature & Fiction', 'Mythology & Folk Tales', 'Folklore'], ['Books', 'Literature & Fiction', 'Short Stories', 'Anthologies'], ['Books', 'Literature & Fiction', 'World Literature'], ['Books', 'Politics & Social Sciences', 'Social Sciences', 'Folklore & Mythology'], ['Kindle Store', 'Kindle eBooks', 'Literature & Fiction', 'Classics', 'Anthologies & Collections'], ['Kindle Store', 'Kindle eBooks', 'Literature & Fiction', 'Classics', 'Short Stories'], ['Kindle Store', 'Kindle eBooks', 'Literature & Fiction', 'History & Criticism', 'Criticism & Theory'], ['Kindle Store', 'Kindle eBooks', 'Literature & Fiction', 'Short Stories', 'Translations'], ['Kindle Store', 'Kindle eBooks', 'Politics & Social Sciences', 'Social Sciences', 'Folklore & Mythology']]\n",
      "[['Books', 'Literature & Fiction', 'Classics'], ['Books', 'Literature & Fiction', 'Literary'], ['Books', 'Literature & Fiction', 'Short Stories', 'Anthologies'], ['Books', 'Literature & Fiction', 'Short Stories', 'Single Author'], ['Kindle Store', 'Kindle eBooks', 'Literature & Fiction', 'Classics', 'Anthologies & Collections'], ['Kindle Store', 'Kindle eBooks', 'Literature & Fiction', 'Classics', 'Short Stories'], ['Kindle Store', 'Kindle eBooks', 'Literature & Fiction', 'Contemporary Fiction', 'Literary'], ['Kindle Store', 'Kindle eBooks', 'Literature & Fiction', 'Contemporary Fiction', 'Short Stories'], ['Kindle Store', 'Kindle eBooks', 'Literature & Fiction', 'Literary Fiction', 'Classics'], ['Kindle Store', 'Kindle eBooks', 'Literature & Fiction', 'Literary Fiction', 'Short Stories'], ['Kindle Store', 'Kindle eBooks', 'Literature & Fiction', 'Short Stories', 'Single Authors']]\n",
      "[['Books', 'Christian Books & Bibles', 'Christian Living', 'Self Help'], ['Books', 'Self-Help', 'Personal Transformation'], ['Kindle Store', 'Kindle eBooks', 'Health, Fitness & Dieting'], ['Kindle Store', 'Kindle eBooks', 'Religion & Spirituality', 'Christian Books & Bibles', 'Christian Living', 'Self-Help'], ['Kindle Store', 'Kindle eBooks', 'Self-Help']]\n",
      "[['Books', 'Literature & Fiction', 'Classics'], ['Books', 'Mystery, Thriller & Suspense', 'Mystery'], ['Kindle Store', 'Kindle eBooks', 'Literature & Fiction', 'Classics'], ['Kindle Store', 'Kindle eBooks', 'Mystery, Thriller & Suspense', 'Mystery']]\n",
      "[['Books', 'Computers & Technology', 'Internet & Web Culture', 'Online Searching'], ['Books', 'Computers & Technology', 'Networking', 'Internet, Groupware, & Telecommunications'], ['Books', 'Humor & Entertainment', 'Humor', 'Computers & Internet'], ['Books', 'Politics & Social Sciences', 'Social Sciences', 'Popular Culture'], ['Books', 'Reference', 'Writing, Research & Publishing Guides', 'Research'], ['Kindle Store', 'Kindle eBooks', 'Computers & Technology'], ['Kindle Store', 'Kindle eBooks', 'Humor & Entertainment', 'Humor'], ['Kindle Store', 'Kindle eBooks', 'Politics & Social Sciences', 'Social Sciences', 'Popular Culture'], ['Kindle Store', 'Kindle eBooks', 'Reference', 'Writing, Research & Publishing Guides', 'Research']]\n",
      "[['Books', 'Literature & Fiction', 'Contemporary'], ['Books', 'Literature & Fiction', 'United States'], ['Books', 'Mystery, Thriller & Suspense', 'Thrillers & Suspense'], ['Kindle Store', 'Kindle eBooks', 'Literature & Fiction', 'Contemporary Fiction']]\n",
      "[['Books', \"Children's Books\", 'Growing Up & Facts of Life', 'Difficult Discussions', 'Death & Dying'], ['Books', \"Children's Books\", 'Growing Up & Facts of Life', 'Family Life', 'Multigenerational'], ['Books', \"Children's Books\", 'Growing Up & Facts of Life', 'Family Life', 'Siblings'], ['Books', 'Teen & Young Adult'], ['Kindle Store', 'Kindle eBooks', 'Teen & Young Adult', 'Literature & Fiction']]\n",
      "[['Books', 'Literature & Fiction', 'Classics'], ['Books', 'Politics & Social Sciences', 'Philosophy', 'Consciousness & Thought'], ['Books', 'Politics & Social Sciences', 'Philosophy', 'Eastern'], ['Kindle Store', 'Kindle eBooks', 'Literature & Fiction', 'Classics'], ['Kindle Store', 'Kindle eBooks', 'Politics & Social Sciences', 'Philosophy', 'Eastern'], ['Kindle Store', 'Kindle eBooks', 'Religion & Spirituality', 'Other Eastern Religions & Sacred Texts', 'Eastern Philosophy']]\n",
      "[['Books', 'Literature & Fiction', 'Classics'], ['Books', 'Literature & Fiction', 'United States'], ['Kindle Store', 'Kindle eBooks', 'History', 'Americas', 'United States', 'State & Local', 'West'], ['Kindle Store', 'Kindle eBooks', 'Literature & Fiction', 'Classics', 'American']]\n",
      "[['Books', 'Christian Books & Bibles', 'Bible Study & Reference', 'Bible Study'], ['Books', 'Christian Books & Bibles', 'Bibles'], ['Books', 'Literature & Fiction', 'Classics'], ['Books', 'Religion & Spirituality'], ['Kindle Store', 'Kindle eBooks', 'Literature & Fiction', 'Classics'], ['Kindle Store', 'Kindle eBooks', 'Religion & Spirituality', 'Christian Books & Bibles', 'Bible Study & Reference', 'Bible Study'], ['Kindle Store', 'Kindle eBooks', 'Religion & Spirituality', 'Christian Books & Bibles', 'Bibles', 'More Translations', 'New Revised Standard']]\n",
      "[['Books', 'Literature & Fiction', 'Classics'], ['Books', 'Literature & Fiction', 'Genre Fiction', 'Horror', 'Ghosts'], ['Kindle Store', 'Kindle eBooks', 'Literature & Fiction', 'Classics'], ['Kindle Store', 'Kindle eBooks', 'Literature & Fiction', 'Horror', 'Classics']]\n",
      "[['Books', 'Literature & Fiction', 'Classics'], ['Books', 'Literature & Fiction', 'Literary'], ['Kindle Store', 'Kindle eBooks', 'Literature & Fiction', 'Contemporary Fiction', 'Literary'], ['Kindle Store', 'Kindle eBooks', 'Literature & Fiction', 'Literary Fiction', 'Classics']]\n",
      "[['Books', 'Literature & Fiction', 'Genre Fiction', 'Action & Adventure'], ['Books', 'Mystery, Thriller & Suspense', 'Thrillers & Suspense', 'Suspense'], ['Books', 'Science Fiction & Fantasy', 'Science Fiction'], ['Kindle Store', 'Kindle eBooks', 'Science Fiction & Fantasy', 'Science Fiction']]\n",
      "[['Books', 'Literature & Fiction', 'Classics'], ['Books', 'Politics & Social Sciences', 'Philosophy', 'Eastern'], ['Books', 'Religion & Spirituality', 'Hinduism'], ['Books', 'Religion & Spirituality', 'New Age', 'Reincarnation'], ['Kindle Store', 'Kindle eBooks', 'Literature & Fiction', 'Classics'], ['Kindle Store', 'Kindle eBooks', 'Politics & Social Sciences', 'Philosophy', 'Eastern'], ['Kindle Store', 'Kindle eBooks', 'Religion & Spirituality', 'Hinduism'], ['Kindle Store', 'Kindle eBooks', 'Religion & Spirituality', 'New Age', 'Reincarnation'], ['Kindle Store', 'Kindle eBooks', 'Religion & Spirituality', 'Occult', 'Astral Projection'], ['Kindle Store', 'Kindle eBooks', 'Religion & Spirituality', 'Other Eastern Religions & Sacred Texts', 'Eastern Philosophy']]\n",
      "[['Books', 'Literature & Fiction', 'United States'], ['Books', 'Mystery, Thriller & Suspense', 'Mystery'], ['Kindle Store', 'Kindle eBooks', 'Mystery, Thriller & Suspense', 'Mystery']]\n",
      "[['Books', 'Literature & Fiction', 'Genre Fiction', 'Horror', 'Dark Fantasy'], ['Books', 'Science Fiction & Fantasy', 'Fantasy'], ['Kindle Store', 'Kindle eBooks', 'Science Fiction & Fantasy', 'Fantasy']]\n",
      "[['Books', 'Literature & Fiction', 'Short Stories', 'Anthologies'], ['Books', 'Literature & Fiction', 'Short Stories', 'Single Author'], ['Books', 'Literature & Fiction', 'United States'], ['Books', 'Mystery, Thriller & Suspense', 'Mystery', 'Anthologies'], ['Kindle Store', 'Kindle eBooks', 'Literature & Fiction', 'Short Stories', 'Single Authors'], ['Kindle Store', 'Kindle eBooks', 'Literature & Fiction', 'United States', 'Short Stories'], ['Kindle Store', 'Kindle eBooks', 'Mystery, Thriller & Suspense', 'Mystery', 'Collections & Anthologies']]\n",
      "[['Books', 'Literature & Fiction', 'Classics'], ['Books', 'Literature & Fiction', 'Contemporary'], ['Kindle Store', 'Kindle eBooks', 'Literature & Fiction', 'Classics'], ['Kindle Store', 'Kindle eBooks', 'Literature & Fiction', 'Contemporary Fiction', 'Literary']]\n",
      "[['Books', 'Literature & Fiction', 'Classics'], ['Kindle Store', 'Kindle eBooks', 'Literature & Fiction', 'Classics']]\n",
      "[['Books', 'Literature & Fiction'], ['Books', 'Science Fiction & Fantasy', 'Science Fiction', 'Adventure'], ['Books', 'Science Fiction & Fantasy', 'Science Fiction', 'Space Opera'], ['Kindle Store', 'Kindle eBooks', 'Science Fiction & Fantasy', 'Science Fiction', 'Adventure'], ['Kindle Store', 'Kindle eBooks', 'Science Fiction & Fantasy', 'Science Fiction', 'Space Opera'], ['Kindle Store', 'Kindle eBooks', 'Science Fiction & Fantasy', 'Science Fiction', 'TV, Movie, Video Game Adaptations', 'Star Trek']]\n",
      "[['Books', 'Literature & Fiction', 'Classics'], ['Books', 'Literature & Fiction', 'Poetry', 'British'], ['Books', 'Teen & Young Adult'], ['Kindle Store', 'Kindle Short Reads', 'Two hours or more (65-100 pages)', 'Literature & Fiction'], ['Kindle Store', 'Kindle Short Reads', 'Two hours or more (65-100 pages)', 'Teen & Young Adult'], ['Kindle Store', 'Kindle eBooks', 'Literature & Fiction', 'Classics', 'Anthologies & Collections'], ['Kindle Store', 'Kindle eBooks', 'Literature & Fiction', 'Classics', 'British & Irish'], ['Kindle Store', 'Kindle eBooks', 'Literature & Fiction', 'Poetry', 'British'], ['Kindle Store', 'Kindle eBooks', 'Teen & Young Adult']]\n",
      "[['Books', 'Literature & Fiction', 'Classics'], ['Books', 'Literature & Fiction', 'Essays & Correspondence', 'Essays'], ['Books', 'Politics & Social Sciences', 'Philosophy', 'Modern'], ['Kindle Store', 'Kindle eBooks', 'Literature & Fiction', 'Classics', 'Anthologies & Collections'], ['Kindle Store', 'Kindle eBooks', 'Literature & Fiction', 'Essays & Correspondence', 'Essays'], ['Kindle Store', 'Kindle eBooks', 'Politics & Social Sciences', 'Philosophy', 'Modern']]\n",
      "[['Books', 'Literature & Fiction', 'Genre Fiction', 'Action & Adventure'], ['Books', 'Science & Math'], ['Books', 'Science Fiction & Fantasy', 'Science Fiction'], ['Kindle Store', 'Kindle eBooks', 'Science Fiction & Fantasy', 'Science Fiction']]\n",
      "[['Books', 'Biographies & Memoirs', 'Historical'], ['Books', 'Biographies & Memoirs', 'Leaders & Notable People', 'Presidents & Heads of State'], ['Books', 'Biographies & Memoirs', 'Memoirs'], ['Books', 'Literature & Fiction', 'Classics'], ['Kindle Store', 'Kindle eBooks', 'Biographies & Memoirs', 'Historical'], ['Kindle Store', 'Kindle eBooks', 'Biographies & Memoirs', 'Leaders & Notable People', 'Presidents & Heads of State'], ['Kindle Store', 'Kindle eBooks', 'Biographies & Memoirs', 'Memoirs'], ['Kindle Store', 'Kindle eBooks', 'Literature & Fiction', 'Classics', 'Historical']]\n",
      "[['Books', 'Literature & Fiction', 'Classics'], ['Books', 'Literature & Fiction', 'Contemporary'], ['Kindle Store', 'Kindle eBooks', 'Literature & Fiction', 'Classics'], ['Kindle Store', 'Kindle eBooks', 'Literature & Fiction', 'Contemporary Fiction', 'Literary']]"
     ]
    }
   ],
   "source": [
    "categorie_list = categories.take(300)\n",
    "for i in categorie_list:\n",
    "    print(i)"
   ]
  },
  {
   "cell_type": "code",
   "execution_count": 41,
   "metadata": {},
   "outputs": [
    {
     "data": {
      "application/vnd.jupyter.widget-view+json": {
       "model_id": "4c95d7fbc28f46f48a9228053b1dfd28",
       "version_major": 2,
       "version_minor": 0
      },
      "text/plain": [
       "VBox()"
      ]
     },
     "metadata": {},
     "output_type": "display_data"
    },
    {
     "data": {
      "application/vnd.jupyter.widget-view+json": {
       "model_id": "",
       "version_major": 2,
       "version_minor": 0
      },
      "text/plain": [
       "FloatProgress(value=0.0, bar_style='info', description='Progress:', layout=Layout(height='25px', width='50%'),…"
      ]
     },
     "metadata": {},
     "output_type": "display_data"
    },
    {
     "name": "stdout",
     "output_type": "stream",
     "text": [
      "'Biographies & Memoirs'"
     ]
    }
   ],
   "source": [
    "import re\n",
    "def clean_string(string):\n",
    "    if not isinstance(string, str):\n",
    "        return string\n",
    "    string = re.sub('<[^<]+?>', '', string)\n",
    "    return html.unescape(string).strip()\n",
    "\n",
    "def get_desc(dictionary):\n",
    "    listOfList = list(dictionary.values())\n",
    "    flatList = [ item for elem in listOfList for item in elem]\n",
    "    return list(set(flatList))\n",
    "\n",
    "\n",
    "def get_cat(cat_list):\n",
    "    flatList = [cate for subcate in cat_list for cate in subcate]\n",
    "    if len(cat_list) == 0 or len(cat_list[0]) == 0:\n",
    "        return \"\"\n",
    "    if \"Kindle eBooks\" in flatList:\n",
    "        kindle_ebook_index = flatList.index(\"Kindle eBooks\")\n",
    "        if kindle_ebook_index < len(flatList) - 1:\n",
    "            return clean_string(flatList[kindle_ebook_index + 1])\n",
    "    elif \"Books\" in flatList:\n",
    "        book_index = flatList.index(\"Books\")\n",
    "        if book_index < len(flatList) - 1:\n",
    "            return clean_string(flatList[book_index + 1])\n",
    "    return \"\"\n",
    "    \n",
    "get_desc({\"a\": [1,2,3,4,5], \"b\":[2,3,4,1,6,7,5]})\n",
    "get_cat([['Books', 'Biographies & Memoirs', 'Historical'], ['Books', 'Biographies & Memoirs', 'Leaders & Notable People', 'Presidents & Heads of State'], ['Books', 'Biographies & Memoirs', 'Memoirs'], ['Books', 'Literature & Fiction', 'Classics'], ['Kindle Store', 'Kindle eBooks', 'Biographies & Memoirs', 'Historical'], ['Kindle Store', 'Kindle eBooks', 'Biographies & Memoirs', 'Leaders & Notable People', 'Presidents & Heads of State'], ['Kindle Store', 'Kindle eBooks', 'Biographies & Memoirs', 'Memoirs'], ['Kindle Store', 'Kindle eBooks', 'Literature & Fiction', 'Classics', 'Historical']])"
   ]
  },
  {
   "cell_type": "code",
   "execution_count": 42,
   "metadata": {},
   "outputs": [
    {
     "data": {
      "application/vnd.jupyter.widget-view+json": {
       "model_id": "1300da053ddc46efb25005db2698edb2",
       "version_major": 2,
       "version_minor": 0
      },
      "text/plain": [
       "VBox()"
      ]
     },
     "metadata": {},
     "output_type": "display_data"
    },
    {
     "data": {
      "application/vnd.jupyter.widget-view+json": {
       "model_id": "",
       "version_major": 2,
       "version_minor": 0
      },
      "text/plain": [
       "FloatProgress(value=0.0, bar_style='info', description='Progress:', layout=Layout(height='25px', width='50%'),…"
      ]
     },
     "metadata": {},
     "output_type": "display_data"
    },
    {
     "name": "stdout",
     "output_type": "stream",
     "text": [
      "[{'asin': '1603420304', 'price': 7.69, 'imUrl': 'http://ecx.images-amazon.com/images/I/51IEqPrF%2B9L._BO2,204,203,200_PIsitb-sticker-v3-big,TopRight,0,-55_SX278_SY278_PIkin4,BottomRight,1,22_AA300_SH20_OU01_.jpg', 'title_prof': '', 'author': '', 'cate': 'Cookbooks, Food & Wine', 'description': \"In less time and for less money than it takes to order pizza, you can make it yourself!Three harried but heatlh-conscious college students compiled and tested this collection of more than 200 tasty, hearty, inexpensive recipes anyone can cook -- yes, anyone!Whether you're short on cash, fearful of fat, counting your calories, or just miss home cooking, The Healthy College Cookbook offers everything you need to make good food yourself.\", 'related': ['B00JEOMV1E', 'B00A86JE3K', 'B004GTLKEQ', 'B00BS03W5Q', 'B008161J1O', 'B00DSVUVXY', 'B0089LOJH2', 'B001OLRKLQ', 'B00505UP8M', 'B00H24WT2E', 'B00DH410VY', 'B005KWMS8U', 'B00BS03TYU', 'B00CVS44OW', 'B004GTLFUK', 'B00C7C040U', 'B004J35JIC', 'B008EN3W6Y', 'B00CTVOVD0', 'B00ET594CC', 'B0041KKLNQ', 'B00CMVFW4O', 'B00HY0KTPK', 'B00BJ8IPJU', 'B00C89GS1Q', 'B00CVS2JYY', 'B0035FZJ9Y', 'B001MT5NXW', 'B00ENSBJYQ', 'B00C5W32QK', 'B00D694Y9U']}, {'asin': 'B0002IQ15S', 'price': 19.99, 'imUrl': 'http://ecx.images-amazon.com/images/I/21QFJM28NGL.jpg', 'title_prof': 'Mobility IGO AUTOPOWER 3000 SERIES ( PS0221-10 )', 'author': '', 'cate': '', 'description': \"This universal DC adapter powers/charges portable electronic devices such as mobile phones, handhelds/PDAs, digital cameras and MP3 players.  Utilizing interchangeable itips, iGo AutoPower powers/charges virtually all of your portable electronic devices from any standard auto power outlet eliminating the need to carry multiple power adapters when you're mobile.Main FeaturesManufacturer: Mobility Electronics, IncManufacturer Part Number: PS0221-10Manufacturer Website Address: www.mobilityelectronics.comProduct Type: Power AdapterInput Voltage: 11.5 V DC to 16 V DCOutput Power: 15WWeight: 3.6 ozStandard Warranty: 2 Year(s) Limited\", 'related': ['B00EOE6COQ', 'B00115PYGS', 'B000PI17MM', 'B006GWO5WK', 'B00EXIGQFS', 'B00BHJRYYS', 'B0012J52OC', 'B006BGZJJ4', 'B00F3HH2HY', 'B002GJQ7AU', 'B001007OUI', 'B001W1XT6I', 'B007HCCNJU', 'B001W1XT5O', 'B003YLMAC8', 'B0016L6OWK', 'B005DOKHLK', 'B00GA567M4', 'B002WCCQQA', 'B001W1TZTS', 'B001N2LHHO', 'B00CGIVV5C', 'B00511PS3C', 'B000QSPO3Y', 'B006GWO5NE']}, {'asin': 'B000F83SZQ', 'price': 0.0, 'imUrl': 'http://ecx.images-amazon.com/images/I/51yLqHe%2BFqL._BO2,204,203,200_PIsitb-sticker-v3-big,TopRight,0,-55_SX278_SY278_PIkin4,BottomRight,1,22_AA300_SH20_OU01_.jpg', 'title_prof': '', 'author': '', 'cate': 'Mystery, Thriller & Suspense', 'description': '', 'related': ['B00KL13WXK', 'B00LNLVQ9Y', 'B00CV9I2J4', 'B00FY54N72', 'B00D0IPCCK', 'B00HBGISE6', 'B005HAWAZG', 'B00DRLACCA', 'B00JRDGZN2', 'B00EZGSTD0', 'B00LG0HL00', 'B00LK4ZMYE', 'B006LABC8M', 'B0080H1C0W', 'B009PK83IC', 'B002G1ZY4S', 'B00J9SQW56', 'B00HF7J1P6', 'B00LDPMLVM', 'B00DVL2CVU', 'B00I9FJJWS', 'B00927CLFY', 'B00AL2AF8O', 'B009FZPMFO', 'B000FA5LAO', 'B00ITNWAVM', 'B0045UA6F0', 'B00ICXDRCU', 'B00H9WPHXM', 'B00H3J4L4M', 'B00FN9G0KM', 'B00JXRCPNG', 'B00IVC9IQG', 'B008GNGKIO', 'B008R8FPFW', 'B00K5V449C', 'B008AD8TFW', 'B00CEL5530', 'B00K39Q7ZK', 'B00K00LEOG', 'B00EH3R7WK', 'B00LK30NEY', 'B006HCTWVS', 'B00KUF0KCI', 'B00IJKQH96', 'B00A3N25HK', 'B0084MZWPO', 'B00H92XFA4', 'B00BEOZCJU', 'B00K6YZ4CY', 'B00JL62F48', 'B00EZVS8H2', 'B00H876DYU', 'B008RZQYN2', 'B00KBK4USC', 'B00HD5XVY2', 'B00E6EHFN6', 'B00KVMWJRY', 'B00F1MU458', 'B00L22GJVO', 'B00JZDM9CA', 'B00D1CPG5I', 'B00LK4ZKOG', 'B00L1HYMJQ', 'B00GZR2NZC', 'B0087KGSNI', 'B00IOYDAEW', 'B007GG9XEU', 'B00KCA0I96', 'B003XVYGWQ', 'B00K6H2D5W', 'B006LAAUHG', 'B00J16SQFU', 'B00H9ZM782', 'B00J7X007E', 'B00DDW57NW', 'B003XVYGVC', 'B00H4K59DW', 'B0036B955G', 'B00F1I0C40', 'B00KOYAQFG', 'B00DPBNP2Q', 'B00KBGI38E', 'B00AJ1VLOY', 'B003YDXMYG', 'B008CJ1R5S', 'B00ICP5JLK', 'B00KVOC68O', 'B000FA5PUK', 'B00JPFAXTY', 'B00DXO6HR0', 'B00KFOTI72', 'B006BE4OUG', 'B006GRNYFE', 'B00JX7UVFU', 'B00JZD2PU6', 'B004GXB2DG', 'B00EI3E0T2']}, {'asin': 'B000F83TEQ', 'price': '', 'imUrl': 'http://ecx.images-amazon.com/images/I/2136NBNV5FL._BO2,204,203,200_PIsitb-sticker-v3-xsmall,TopRight,2,-18_SX278_SY278_PIkin4,BottomRight,1,22_AA300_SH20_OU01_.jpg', 'title_prof': '', 'author': '', 'cate': 'Mystery, Thriller & Suspense', 'description': '', 'related': ['B00IS80K60', 'B00DIANILC', 'B004SOQ1XY', 'B00IS885V2', 'B00AQP7DLS', 'B00IS81LFO', 'B00B1MSJ4A', 'B00IS80K9W', 'B0044XVC8S', 'B00IS888QO', 'B008H76674', 'B000FA5L7M', 'B00IS885A8', 'B003V4BPSI', 'B005QBMQSC', 'B00IS887XI', 'B00IS811W2', 'B00IS7ZOG2', 'B004SOQ11G', 'B00IS823GA', 'B00IS81QVS', 'B00IS8824M', 'B00BMVVW4E', 'B008H767FK', 'B00F0QWBNS', 'B005QBMG8W', 'B00IS881AC', 'B003V4BPOC', 'B008H766TM', 'B00H8Y5EVG', 'B003V4BPG0', 'B00AQP7IVS', 'B00CQETPRM', 'B00AQP7IDQ', 'B000FA5T6A', 'B00IS88N1Y', 'B00IS819E2', 'B00IS80150', 'B00AB6BMTQ', 'B004SOQ0A8', 'B00B1MSINM', 'B005QBMQ1E', 'B005QBMS3A', 'B005QBMJUC', 'B00B1MSI2I', 'B00B1MSIY6', 'B00BVC1SSE', 'B00IS814T2', 'B00IS81UIM', 'B0085OTF4A']}, {'asin': 'B000F83STC', 'price': '', 'imUrl': 'http://g-ecx.images-amazon.com/images/G/01/x-site/icons/no-img-sm._V192198896_.gif', 'title_prof': '', 'author': '', 'cate': 'Literature & Fiction', 'description': '', 'related': []}]"
     ]
    }
   ],
   "source": [
    "books = original_books.map(lambda line: {\"asin\": line['asin'], \"price\": clean_string(line.get(\"price\", \"\")), \"imUrl\": line.get(\"imUrl\"), \n",
    "                                         \"title_prof\": clean_string(line.get(\"title\", \"\")), \"author\": clean_string(line.get(\"brand\", \"\")), \"cate\": get_cat(line.get(\"categories\", [[]])),\n",
    "                                         \"description\": clean_string(line.get(\"description\", \"\")), \"related\": get_desc(line.get(\"related\", {}))})\n",
    "books.count()\n",
    "books.take(5)"
   ]
  },
  {
   "cell_type": "code",
   "execution_count": null,
   "metadata": {},
   "outputs": [],
   "source": []
  },
  {
   "cell_type": "code",
   "execution_count": 43,
   "metadata": {},
   "outputs": [
    {
     "data": {
      "application/vnd.jupyter.widget-view+json": {
       "model_id": "c866a0e677a240698f6f14ff52dfd3d2",
       "version_major": 2,
       "version_minor": 0
      },
      "text/plain": [
       "VBox()"
      ]
     },
     "metadata": {},
     "output_type": "display_data"
    },
    {
     "data": {
      "application/vnd.jupyter.widget-view+json": {
       "model_id": "",
       "version_major": 2,
       "version_minor": 0
      },
      "text/plain": [
       "FloatProgress(value=0.0, bar_style='info', description='Progress:', layout=Layout(height='25px', width='50%'),…"
      ]
     },
     "metadata": {},
     "output_type": "display_data"
    },
    {
     "name": "stdout",
     "output_type": "stream",
     "text": [
      "+----------+-----+--------------------+--------------------+------+--------------------+--------------------+--------------------+\n",
      "|      asin|price|               imUrl|          title_prof|author|                cate|         description|             related|\n",
      "+----------+-----+--------------------+--------------------+------+--------------------+--------------------+--------------------+\n",
      "|1603420304| 7.69|http://ecx.images...|                    |      |Cookbooks, Food &...|In less time and ...|[B00JEOMV1E, B00A...|\n",
      "|B0002IQ15S|19.99|http://ecx.images...|Mobility IGO AUTO...|      |                    |This universal DC...|[B00EOE6COQ, B001...|\n",
      "|B000F83SZQ|  0.0|http://ecx.images...|                    |      |Mystery, Thriller...|                    |[B00KL13WXK, B00L...|\n",
      "|B000F83TEQ|     |http://ecx.images...|                    |      |Mystery, Thriller...|                    |[B00IS80K60, B00D...|\n",
      "|B000F83STC|     |http://g-ecx.imag...|                    |      |Literature & Fiction|                    |                  []|\n",
      "|B000FA5RE4| 1.99|http://ecx.images...|                    |      |           Reference|Updated 2003 vers...|[B000SEGJ5S, B005...|\n",
      "|B000FA5NSO|     |http://ecx.images...|                    |      |Science Fiction &...|                    |[B000FBF81K, B000...|\n",
      "|B000FA5UXC|     |http://ecx.images...|                    |      |Science Fiction &...|Madoc Tamlin is a...|[B00942QL3K, B004...|\n",
      "|B000FA5T4W|12.46|http://ecx.images...|                    |      |    Business & Money|                    |[B007JCNNGK, B004...|\n",
      "|B000FA5SHK|     |http://ecx.images...|                    |      |Health, Fitness &...|                    |                  []|\n",
      "|B000FA66LM| 0.99|http://ecx.images...|                    |      |Literature & Fiction|                    |[B004GNFV0Q, B004...|\n",
      "|B000FA5M6M|10.95|http://ecx.images...|                    |      |    Business & Money|Powerful Strategi...|[B00HT59IWA, B007...|\n",
      "|B000FA64QO| 5.99|http://ecx.images...|                    |      |Literature & Fiction|                    |[B00513D47M, B000...|\n",
      "|B000FA5PV4| 3.99|http://ecx.images...|                    |      |Literature & Fiction|                    |[B000FCK0H6, B000...|\n",
      "|B000FA5S98| 2.99|http://ecx.images...|                    |      |Mystery, Thriller...|Retired physicist...|[B003K154TS, B00I...|\n",
      "|B000FA5MQ2| 2.99|http://ecx.images...|                    |      |Professional & Te...|PreTest® is the m...|[B00B98WIOI, B005...|\n",
      "|B000FA5RY4|11.99|http://ecx.images...|                    |      |Health, Fitness &...|                    |[B004UH1FN0, B00F...|\n",
      "|B000FA5KJQ|     |http://g-ecx.imag...|                    |      |Biographies & Mem...|                    |                  []|\n",
      "|B000FA5M3K| 16.5|http://ecx.images...|                    |      |Professional & Te...|The only segment ...|[B00COKLT18, B00A...|\n",
      "|B000FA66XU| 0.99|http://ecx.images...|                    |      |Literature & Fiction|                    |[B004GNFV0Q, B004...|\n",
      "+----------+-----+--------------------+--------------------+------+--------------------+--------------------+--------------------+\n",
      "only showing top 20 rows"
     ]
    }
   ],
   "source": [
    "from pyspark.sql.types import StructType,StructField,StringType\n",
    "fields =['asin','price','imUrl',\"title_prof\",\"author\",\"cate\",'description','related']\n",
    "\n",
    "schema = StructType([\n",
    "StructField(field,StringType(),True) for field in fields\n",
    "])\n",
    "\n",
    "\n",
    "#rdd = sc.parallelize(js)\n",
    "profDF = spark.createDataFrame(books,schema)\n",
    "\n",
    "profDF.show()"
   ]
  },
  {
   "cell_type": "code",
   "execution_count": 44,
   "metadata": {},
   "outputs": [
    {
     "data": {
      "application/vnd.jupyter.widget-view+json": {
       "model_id": "3ea94158c4a84283b8ade4320456645d",
       "version_major": 2,
       "version_minor": 0
      },
      "text/plain": [
       "VBox()"
      ]
     },
     "metadata": {},
     "output_type": "display_data"
    },
    {
     "data": {
      "application/vnd.jupyter.widget-view+json": {
       "model_id": "",
       "version_major": 2,
       "version_minor": 0
      },
      "text/plain": [
       "FloatProgress(value=0.0, bar_style='info', description='Progress:', layout=Layout(height='25px', width='50%'),…"
      ]
     },
     "metadata": {},
     "output_type": "display_data"
    },
    {
     "name": "stdout",
     "output_type": "stream",
     "text": [
      "+----------------------------+------+\n",
      "|cate                        |count |\n",
      "+----------------------------+------+\n",
      "|Parenting & Relationships   |3316  |\n",
      "|Politics & Social Sciences  |4815  |\n",
      "|Biographies & Memoirs       |16973 |\n",
      "|Gay & Lesbian               |158   |\n",
      "|Romance                     |31154 |\n",
      "|Cookbooks, Food & Wine      |11044 |\n",
      "|Nonfiction                  |4970  |\n",
      "|Education & Teaching        |6951  |\n",
      "|History                     |11311 |\n",
      "|Self-Help                   |2629  |\n",
      "|                            |5696  |\n",
      "|Health, Fitness & Dieting   |24529 |\n",
      "|Comics & Graphic Novels     |2986  |\n",
      "|Travel                      |3571  |\n",
      "|Teen & Young Adult          |4040  |\n",
      "|Sports & Outdoors           |3727  |\n",
      "|Foreign Languages           |7267  |\n",
      "|Science & Math              |1280  |\n",
      "|Reference                   |5025  |\n",
      "|Science Fiction & Fantasy   |15554 |\n",
      "|Business & Money            |17883 |\n",
      "|Crafts, Hobbies & Home      |8048  |\n",
      "|Literature & Fiction        |144424|\n",
      "|Computers & Technology      |3697  |\n",
      "|Children's eBooks           |25463 |\n",
      "|Mystery, Thriller & Suspense|18649 |\n",
      "|Professional & Technical    |4960  |\n",
      "|Religion & Spirituality     |25012 |\n",
      "|Arts & Photography          |10656 |\n",
      "|Humor & Entertainment       |8914  |\n",
      "+----------------------------+------+"
     ]
    }
   ],
   "source": [
    "profDF.groupby('cate').count().show(100,False)"
   ]
  },
  {
   "cell_type": "code",
   "execution_count": 45,
   "metadata": {},
   "outputs": [
    {
     "data": {
      "application/vnd.jupyter.widget-view+json": {
       "model_id": "692ef354a045420db3fcda9ff90914a5",
       "version_major": 2,
       "version_minor": 0
      },
      "text/plain": [
       "VBox()"
      ]
     },
     "metadata": {},
     "output_type": "display_data"
    },
    {
     "data": {
      "application/vnd.jupyter.widget-view+json": {
       "model_id": "",
       "version_major": 2,
       "version_minor": 0
      },
      "text/plain": [
       "FloatProgress(value=0.0, bar_style='info', description='Progress:', layout=Layout(height='25px', width='50%'),…"
      ]
     },
     "metadata": {},
     "output_type": "display_data"
    },
    {
     "name": "stdout",
     "output_type": "stream",
     "text": [
      "+---------------------------------------------------------------------------------------------------------------------------------------------------------------------------------------------------------+------+\n",
      "|title_prof                                                                                                                                                                                               |count |\n",
      "+---------------------------------------------------------------------------------------------------------------------------------------------------------------------------------------------------------+------+\n",
      "|iGo Power Tip for Original Amazon Kindle and Select Sprint Smartphones                                                                                                                                   |1     |\n",
      "|OtterBox Defender Series for Kindle Fire HD 8.9                                                                                                                                                          |1     |\n",
      "|Faux Leather Kindle Sleeve Case for Kindle (Fits 9.7\" Display, Latest Generation Kindle DX) - Light Blue (Smooth finish)                                                                                 |1     |\n",
      "|Faux Leather Kindle Sleeve Case for Kindle (Fits 6\" Display, 2nd Generation Kindle) - Light Blue (Smooth finish)                                                                                         |1     |\n",
      "|Merge Sleeve for Kindle Touch (Black/Light Grey)                                                                                                                                                         |1     |\n",
      "|Car and Wall Charger Essential Kit for the Amazon Kindle (1st Generation) - uses Gomadic TipExchange Technology                                                                                          |1     |\n",
      "|AmazonBasics 2-Port USB Car Charger with 2.1 Amp Total Output (Black)                                                                                                                                    |1     |\n",
      "|High Capacity Rechargeable External Battery Pocket Charger for the Amazon Kindle / DX / Touch / Keyboard (WiFi and 3G) - uses Gomadic TipExchange Technology                                             |1     |\n",
      "|Bear Motion for Kindle ® Premium Wool Felt Sleeve Case for Kindle, Kindle Touch and Kindle Paperwhite                                                                                                    |1     |\n",
      "|Marware 3-Pack Ultra-Clear Screen Protector for Kindle Fire HD 7\" (Previous Generation) (will only fit Kindle Fire HD 7\", Previous Generation)                                                           |1     |\n",
      "|Car Charger for the Amazon Kindle 1 (1st Generation) - 1 Amp output for faster charging                                                                                                                  |1     |\n",
      "|International Essential Kit for the Amazon Latest Generation 6\" Kindle (US & International) includes a Car and International Home Charger w/ TipExchange Technology                                      |1     |\n",
      "|Amazon Kindle (1st Generation) compatible Powerful Lithium Polymer Rechargeable Gomadic Brand Battery Pack - High Capacity Portable Charger with upgradeable TipExchange Technology                      |1     |\n",
      "|                                                                                                                                                                                                         |434658|\n",
      "|gloHug: Tablet Case & Travel Pillow Case for Kids Use with iPad Mini,Nexus 7 Amazon Kindle Fire HD,Nook, any 7\" Tablet (Purple/Pink)                                                                     |1     |\n",
      "|FlipStands Kindle Fire HD 7\" - PREVIOUS GENERATION MODEL 1 - \"Tough Grade\" Shock Proof Case with Built in Stand and Stylus - Pink                                                                        |1     |\n",
      "|FlipStands Mini: Exclusive to Amazon - New, Compact Portable Black Aluminum Multi-Adjustable Stand for the Kindle, Kindle Fire, Kindle Fire HD 7\", 8.9\", Kindle Fire HDX 7\" and 8.9\" and Kindle E-Readers|1     |\n",
      "|Rapid Wall Home AC Charger for the Amazon Kindle (1st Generation) - uses Gomadic TipExchange Technology                                                                                                  |1     |\n",
      "|Marware Swurve for Kindle Fire HD 7                                                                                                                                                                      |1     |\n",
      "|Weave Kindle 2 Leather Cover with Hinge (Fits 6\" Display, 2nd Generation Kindle), Wine/Green                                                                                                             |1     |\n",
      "|Artisan Series Leather Elevate Case for Amazon Kindle Fire - Red                                                                                                                                         |1     |\n",
      "|FlipStands Kindle Fire HD 7\" PREVIOUS GENERATION MODEL 1 \"Tough Grade\" Shock Proof Case with Built in Stand and Stylus - Red                                                                             |1     |\n",
      "|Faux Leather Kindle Sleeve Case for Kindle (Fits 9.7\" Display, Latest Generation Kindle DX) - Yellow (Smooth finish)                                                                                     |1     |\n",
      "|Marware EcoVue for Kindle, Kindle Touch, & Kindle Paperwhite                                                                                                                                             |2     |\n",
      "|FlipStands Kindle Fire HDX 7\" \"Tough Grade\" Shock Proof Case with Built in Stand and Stylus - Purple                                                                                                     |1     |\n",
      "|Artisan Series Leather Elevate Case for Amazon Kindle & Kindle Touch - Black                                                                                                                             |1     |\n",
      "|iGo EverywhereUniversal Wall (AC) and Auto (DC) Charger with Retractable Cable (Charger Only, Tips Not Included)                                                                                         |1     |\n",
      "|iGrip Car Headrest Mount Tablet Kit (for all Kindle Fire Models)                                                                                                                                         |1     |\n",
      "|Car and Home 2 in 1 Combo Charger for the Amazon Kindle (1st Generation) - uses Gomadic TipExchange Technology                                                                                           |1     |\n",
      "|Vintage Leather Kindle DX Book Cover with Hinge (Fits 9.7\" Display, Latest Generation Kindle DX)                                                                                                         |1     |\n",
      "|LifeForm EON Pink Synthetic Leather Cover for Kindle (fits Kindle, Kindle Touch, Kindle Paperwhite)                                                                                                      |1     |\n",
      "|Mobility IGO AUTOPOWER 3000 SERIES ( PS0221-10 )                                                                                                                                                         |1     |\n",
      "|BUILT Slim Cover - For Kindle Touch (all models and latest generation Kindle)                                                                                                                            |3     |\n",
      "|Genuine Weave Leather Kindle 2 Cover with Hinge (Fits 6\" Display, 2nd Generation Kindle), Black/Brown                                                                                                    |1     |\n",
      "|Vintage Leather Kindle 2 Book Cover with Hinge                                                                                                                                                           |1     |\n",
      "|Dylan's Candy Bar \"Lollipop\" Cover for Kindle (will only fit Kindle, Kindle Touch, & Kindle Paperwhite)                                                                                                  |1     |\n",
      "|Faux Leather Kindle Sleeve (Fits 6\" Display, 2nd Generation Kindle) - Silver                                                                                                                             |1     |\n",
      "|Advanced Amazon Kindle (1st Generation) compatible International Wall AC 2A Charger - Powerful 10W charging, built with Gomadic Brand TipExchange Technology, for worldwide use                          |1     |\n",
      "|Essential Kit for the Amazon Kindle / DX / Touch / Keyboard (WiFi and 3G) includes a Car and Wall Charger                                                                                                |1     |\n",
      "|FlipStands Kindle Fire HD 7\" - PREVIOUS GENERATION MODEL 1 - \"Tough Grade\" Shock Proof Case with Built in Stand and Stylus - Black                                                                       |1     |\n",
      "|Faux Leather Kindle Sleeve Case for Kindle (Fits 9.7\" Display, Latest Generation Kindle DX) - Cool Pink (Smooth finish)                                                                                  |1     |\n",
      "|Faux Leather Kindle Sleeve Case for Kindle (Fits 6\" Display, 2nd Generation Kindle) - Yellow (Smooth finish)                                                                                             |1     |\n",
      "+---------------------------------------------------------------------------------------------------------------------------------------------------------------------------------------------------------+------+"
     ]
    }
   ],
   "source": [
    "profDF.groupby('title_prof').count().show(100,False)"
   ]
  },
  {
   "cell_type": "code",
   "execution_count": 48,
   "metadata": {},
   "outputs": [
    {
     "data": {
      "application/vnd.jupyter.widget-view+json": {
       "model_id": "feb7fb679af74e4f8c583216afe46482",
       "version_major": 2,
       "version_minor": 0
      },
      "text/plain": [
       "VBox()"
      ]
     },
     "metadata": {},
     "output_type": "display_data"
    },
    {
     "data": {
      "application/vnd.jupyter.widget-view+json": {
       "model_id": "",
       "version_major": 2,
       "version_minor": 0
      },
      "text/plain": [
       "FloatProgress(value=0.0, bar_style='info', description='Progress:', layout=Layout(height='25px', width='50%'),…"
      ]
     },
     "metadata": {},
     "output_type": "display_data"
    },
    {
     "name": "stdout",
     "output_type": "stream",
     "text": [
      "+------------------------------------------------------------------------------------------------------------------------------------------------------------------------------------------------------------------------------------------------------------------------------------------------------------------------------------------------------------------------------------------------------------------------------------------------------------------------------------------------------------------------------------------------------------------------------------------------------------------------------------------------------------+\n",
      "|description                                                                                                                                                                                                                                                                                                                                                                                                                                                                                                                                                                                                                                                 |\n",
      "+------------------------------------------------------------------------------------------------------------------------------------------------------------------------------------------------------------------------------------------------------------------------------------------------------------------------------------------------------------------------------------------------------------------------------------------------------------------------------------------------------------------------------------------------------------------------------------------------------------------------------------------------------------+\n",
      "|In less time and for less money than it takes to order pizza, you can make it yourself!Three harried but heatlh-conscious college students compiled and tested this collection of more than 200 tasty, hearty, inexpensive recipes anyone can cook -- yes, anyone!Whether you're short on cash, fearful of fat, counting your calories, or just miss home cooking, The Healthy College Cookbook offers everything you need to make good food yourself.                                                                                                                                                                                                      |\n",
      "|This universal DC adapter powers/charges portable electronic devices such as mobile phones, handhelds/PDAs, digital cameras and MP3 players.  Utilizing interchangeable itips, iGo AutoPower powers/charges virtually all of your portable electronic devices from any standard auto power outlet eliminating the need to carry multiple power adapters when you're mobile.Main FeaturesManufacturer: Mobility Electronics, IncManufacturer Part Number: PS0221-10Manufacturer Website Address: www.mobilityelectronics.comProduct Type: Power AdapterInput Voltage: 11.5 V DC to 16 V DCOutput Power: 15WWeight: 3.6 ozStandard Warranty: 2 Year(s) Limited|\n",
      "|                                                                                                                                                                                                                                                                                                                                                                                                                                                                                                                                                                                                                                                            |\n",
      "|                                                                                                                                                                                                                                                                                                                                                                                                                                                                                                                                                                                                                                                            |\n",
      "|                                                                                                                                                                                                                                                                                                                                                                                                                                                                                                                                                                                                                                                            |\n",
      "+------------------------------------------------------------------------------------------------------------------------------------------------------------------------------------------------------------------------------------------------------------------------------------------------------------------------------------------------------------------------------------------------------------------------------------------------------------------------------------------------------------------------------------------------------------------------------------------------------------------------------------------------------------+\n",
      "only showing top 5 rows"
     ]
    }
   ],
   "source": [
    "profDF.select('description').show(5,False)"
   ]
  },
  {
   "cell_type": "code",
   "execution_count": null,
   "metadata": {},
   "outputs": [],
   "source": []
  }
 ],
 "metadata": {
  "kernelspec": {
   "display_name": "PySpark",
   "language": "",
   "name": "pysparkkernel"
  },
  "language_info": {
   "codemirror_mode": {
    "name": "python",
    "version": 2
   },
   "mimetype": "text/x-python",
   "name": "pyspark",
   "pygments_lexer": "python2"
  }
 },
 "nbformat": 4,
 "nbformat_minor": 4
}
