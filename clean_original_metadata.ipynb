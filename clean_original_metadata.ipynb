{
 "cells": [
  {
   "cell_type": "code",
   "execution_count": 1,
   "metadata": {},
   "outputs": [
    {
     "data": {
      "text/html": [
       "Current session configs: <tt>{'conf': {'spark.pyspark.python': 'python3', 'spark.pyspark.virtualenv.enabled': 'true', 'spark.pyspark.virtualenv.type': 'native', 'spark.pyspark.virtualenv.bin.path': '/usr/bin/virtualenv'}, 'kind': 'pyspark'}</tt><br>"
      ],
      "text/plain": [
       "<IPython.core.display.HTML object>"
      ]
     },
     "metadata": {},
     "output_type": "display_data"
    },
    {
     "data": {
      "text/html": [
       "No active sessions."
      ],
      "text/plain": [
       "<IPython.core.display.HTML object>"
      ]
     },
     "metadata": {},
     "output_type": "display_data"
    }
   ],
   "source": [
    "%%info"
   ]
  },
  {
   "cell_type": "code",
   "execution_count": 1,
   "metadata": {},
   "outputs": [
    {
     "data": {
      "application/vnd.jupyter.widget-view+json": {
       "model_id": "6c86ab641eed45be99c6ed55b4922057",
       "version_major": 2,
       "version_minor": 0
      },
      "text/plain": [
       "VBox()"
      ]
     },
     "metadata": {},
     "output_type": "display_data"
    },
    {
     "name": "stdout",
     "output_type": "stream",
     "text": [
      "Starting Spark application\n"
     ]
    },
    {
     "data": {
      "text/html": [
       "<table>\n",
       "<tr><th>ID</th><th>YARN Application ID</th><th>Kind</th><th>State</th><th>Spark UI</th><th>Driver log</th><th>Current session?</th></tr><tr><td>7</td><td>application_1603723084707_0008</td><td>pyspark</td><td>idle</td><td></td><td></td><td>✔</td></tr></table>"
      ],
      "text/plain": [
       "<IPython.core.display.HTML object>"
      ]
     },
     "metadata": {},
     "output_type": "display_data"
    },
    {
     "data": {
      "application/vnd.jupyter.widget-view+json": {
       "model_id": "",
       "version_major": 2,
       "version_minor": 0
      },
      "text/plain": [
       "FloatProgress(value=0.0, bar_style='info', description='Progress:', layout=Layout(height='25px', width='50%'),…"
      ]
     },
     "metadata": {},
     "output_type": "display_data"
    },
    {
     "name": "stdout",
     "output_type": "stream",
     "text": [
      "SparkSession available as 'spark'.\n"
     ]
    },
    {
     "data": {
      "application/vnd.jupyter.widget-view+json": {
       "model_id": "",
       "version_major": 2,
       "version_minor": 0
      },
      "text/plain": [
       "FloatProgress(value=0.0, bar_style='info', description='Progress:', layout=Layout(height='25px', width='50%'),…"
      ]
     },
     "metadata": {},
     "output_type": "display_data"
    }
   ],
   "source": [
    "#importing necessary libaries\n",
    "from pyspark import SparkContext\n",
    "from pyspark.sql import SparkSession\n",
    "from pyspark.sql.functions import *\n",
    "from pyspark.sql.types import StringType\n",
    "from pyspark import SQLContext\n",
    "from itertools import islice\n",
    "from pyspark.sql.functions import col"
   ]
  },
  {
   "cell_type": "code",
   "execution_count": 2,
   "metadata": {},
   "outputs": [
    {
     "data": {
      "application/vnd.jupyter.widget-view+json": {
       "model_id": "1ef32d06b01d41e891f014c784ae23b4",
       "version_major": 2,
       "version_minor": 0
      },
      "text/plain": [
       "VBox()"
      ]
     },
     "metadata": {},
     "output_type": "display_data"
    },
    {
     "data": {
      "application/vnd.jupyter.widget-view+json": {
       "model_id": "",
       "version_major": 2,
       "version_minor": 0
      },
      "text/plain": [
       "FloatProgress(value=0.0, bar_style='info', description='Progress:', layout=Layout(height='25px', width='50%'),…"
      ]
     },
     "metadata": {},
     "output_type": "display_data"
    }
   ],
   "source": [
    "import json"
   ]
  },
  {
   "cell_type": "code",
   "execution_count": 3,
   "metadata": {},
   "outputs": [
    {
     "data": {
      "application/vnd.jupyter.widget-view+json": {
       "model_id": "9e530a103d3748efa5768a62292c606d",
       "version_major": 2,
       "version_minor": 0
      },
      "text/plain": [
       "VBox()"
      ]
     },
     "metadata": {},
     "output_type": "display_data"
    },
    {
     "data": {
      "application/vnd.jupyter.widget-view+json": {
       "model_id": "",
       "version_major": 2,
       "version_minor": 0
      },
      "text/plain": [
       "FloatProgress(value=0.0, bar_style='info', description='Progress:', layout=Layout(height='25px', width='50%'),…"
      ]
     },
     "metadata": {},
     "output_type": "display_data"
    }
   ],
   "source": [
    "#creating the context\n",
    "sqlContext = SQLContext(sc)"
   ]
  },
  {
   "cell_type": "code",
   "execution_count": 4,
   "metadata": {},
   "outputs": [
    {
     "data": {
      "application/vnd.jupyter.widget-view+json": {
       "model_id": "5c3ea33ac98c49a8a7cbe7b67547a567",
       "version_major": 2,
       "version_minor": 0
      },
      "text/plain": [
       "VBox()"
      ]
     },
     "metadata": {},
     "output_type": "display_data"
    },
    {
     "data": {
      "application/vnd.jupyter.widget-view+json": {
       "model_id": "",
       "version_major": 2,
       "version_minor": 0
      },
      "text/plain": [
       "FloatProgress(value=0.0, bar_style='info', description='Progress:', layout=Layout(height='25px', width='50%'),…"
      ]
     },
     "metadata": {},
     "output_type": "display_data"
    }
   ],
   "source": [
    "original_books = sc.textFile(\"s3n://analytics-50043/data/meta_Kindle_Store_original.json\")\\\n",
    "                    .map(lambda line: json.loads(line)).filter(lambda line: line['title'] != '')"
   ]
  },
  {
   "cell_type": "code",
   "execution_count": 28,
   "metadata": {},
   "outputs": [
    {
     "data": {
      "application/vnd.jupyter.widget-view+json": {
       "model_id": "292d9997dcd240a9b16be9ccba0e4981",
       "version_major": 2,
       "version_minor": 0
      },
      "text/plain": [
       "VBox()"
      ]
     },
     "metadata": {},
     "output_type": "display_data"
    },
    {
     "data": {
      "application/vnd.jupyter.widget-view+json": {
       "model_id": "",
       "version_major": 2,
       "version_minor": 0
      },
      "text/plain": [
       "FloatProgress(value=0.0, bar_style='info', description='Progress:', layout=Layout(height='25px', width='50%'),…"
      ]
     },
     "metadata": {},
     "output_type": "display_data"
    },
    {
     "name": "stdout",
     "output_type": "stream",
     "text": [
      "By Force of Instinct: A Pride & Prejudice Variation\n",
      "1716849\n",
      "Paul A. Craig\n",
      "['1', '3', '5', 7, 8, '8']\n",
      "i am a title & I am mom's good boy"
     ]
    }
   ],
   "source": [
    "\n",
    "import re\n",
    "import html\n",
    "\n",
    "def clean_string(string):\n",
    "    string = re.sub('<[^<]+?>', '', string)\n",
    "    return html.unescape(string).strip()\n",
    "\n",
    "def clean_rank(rank_string):\n",
    "    if not isinstance(rank_string, str):\n",
    "        return rank_string\n",
    "    return clean_string(rank_string.split(' ')[0].replace(',', ''))\n",
    "\n",
    "def clean_author(brand_string):\n",
    "    if not isinstance(brand_string, str):\n",
    "        return \"\"\n",
    "    if (len(brand_string) > 20 and brand_string[:14].lower() == \"visit amazon's\" and brand_string[-4:].lower() == 'page'):\n",
    "        return clean_string(brand_string[15: -5])\n",
    "    return clean_string(brand_string)\n",
    "    \n",
    "def merge_two_list(list1, list2):\n",
    "    list1.extend(x for x in list2 if x not in list1)\n",
    "    return list1\n",
    "\n",
    "def get_single_cate(cate_list):\n",
    "    return '' if len(cate_list) < 3 else clean_string(cate_list[2])\n",
    "\n",
    "def clean_title(string):\n",
    "    # not seperated\n",
    "    if len(string) >= 250 and len(string.split(',')) >= 4:\n",
    "        string = string.split(',')[2]\n",
    "    return clean_string(string.replace(' - Kindle edition', ''))\n",
    "\n",
    "print(clean_title('By Force of Instinct: A Pride &amp; Prejudice Variation - Kindle edition'))\n",
    "\n",
    "print(clean_rank('1,716,849 Paid in Kindle Store ('))\n",
    "print(clean_author(\"Visit Amazon's Paul A. Craig Page\"))\n",
    "(print(merge_two_list(['1','3','5'],['5','3', 7,8,'8'])))\n",
    "print(clean_string('<html>i am a title &amp; I am mom&#39;s good boy</html>'))"
   ]
  },
  {
   "cell_type": "code",
   "execution_count": null,
   "metadata": {},
   "outputs": [],
   "source": []
  },
  {
   "cell_type": "code",
   "execution_count": 21,
   "metadata": {},
   "outputs": [
    {
     "data": {
      "application/vnd.jupyter.widget-view+json": {
       "model_id": "901ad074819447aea87169babb0c55ae",
       "version_major": 2,
       "version_minor": 0
      },
      "text/plain": [
       "VBox()"
      ]
     },
     "metadata": {},
     "output_type": "display_data"
    },
    {
     "data": {
      "application/vnd.jupyter.widget-view+json": {
       "model_id": "",
       "version_major": 2,
       "version_minor": 0
      },
      "text/plain": [
       "FloatProgress(value=0.0, bar_style='info', description='Progress:', layout=Layout(height='25px', width='50%'),…"
      ]
     },
     "metadata": {},
     "output_type": "display_data"
    }
   ],
   "source": [
    "books = original_books.map(lambda line: {'ASIN': line['asin'], 'category': get_single_cate(line['category']), 'title': clean_title(line['title']), \n",
    "                                         'author': clean_author(line['brand']),\n",
    "                                       'image': line['image'], 'description': line['description'], 'rank': clean_rank(line['rank']),\n",
    "                                      'recommendation': line['also_view'], 'price': line['price']})"
   ]
  },
  {
   "cell_type": "code",
   "execution_count": 9,
   "metadata": {},
   "outputs": [
    {
     "data": {
      "application/vnd.jupyter.widget-view+json": {
       "model_id": "4dca9297219743dba2b98d5bcc999347",
       "version_major": 2,
       "version_minor": 0
      },
      "text/plain": [
       "VBox()"
      ]
     },
     "metadata": {},
     "output_type": "display_data"
    },
    {
     "data": {
      "application/vnd.jupyter.widget-view+json": {
       "model_id": "",
       "version_major": 2,
       "version_minor": 0
      },
      "text/plain": [
       "FloatProgress(value=0.0, bar_style='info', description='Progress:', layout=Layout(height='25px', width='50%'),…"
      ]
     },
     "metadata": {},
     "output_type": "display_data"
    },
    {
     "name": "stdout",
     "output_type": "stream",
     "text": [
      "488910"
     ]
    }
   ],
   "source": [
    "books.count()"
   ]
  },
  {
   "cell_type": "code",
   "execution_count": 10,
   "metadata": {},
   "outputs": [
    {
     "data": {
      "application/vnd.jupyter.widget-view+json": {
       "model_id": "069c599b64d94e27909b9f26c88816f1",
       "version_major": 2,
       "version_minor": 0
      },
      "text/plain": [
       "VBox()"
      ]
     },
     "metadata": {},
     "output_type": "display_data"
    },
    {
     "data": {
      "application/vnd.jupyter.widget-view+json": {
       "model_id": "",
       "version_major": 2,
       "version_minor": 0
      },
      "text/plain": [
       "FloatProgress(value=0.0, bar_style='info', description='Progress:', layout=Layout(height='25px', width='50%'),…"
      ]
     },
     "metadata": {},
     "output_type": "display_data"
    },
    {
     "name": "stdout",
     "output_type": "stream",
     "text": [
      "{'ASIN': 'B00128EFK0', 'category': 'Religion & Spirituality', 'title': \"Approaching the Holy-A Season in God's House\", 'author': 'Dennis G. Crump', 'image': [], 'description': [], 'rank': '4646191', 'recommendation': [], 'price': ''}"
     ]
    }
   ],
   "source": [
    "books.first()"
   ]
  },
  {
   "cell_type": "code",
   "execution_count": 11,
   "metadata": {},
   "outputs": [
    {
     "data": {
      "application/vnd.jupyter.widget-view+json": {
       "model_id": "7266d426db3c4ac4ac3079c03908ea86",
       "version_major": 2,
       "version_minor": 0
      },
      "text/plain": [
       "VBox()"
      ]
     },
     "metadata": {},
     "output_type": "display_data"
    },
    {
     "data": {
      "application/vnd.jupyter.widget-view+json": {
       "model_id": "",
       "version_major": 2,
       "version_minor": 0
      },
      "text/plain": [
       "FloatProgress(value=0.0, bar_style='info', description='Progress:', layout=Layout(height='25px', width='50%'),…"
      ]
     },
     "metadata": {},
     "output_type": "display_data"
    }
   ],
   "source": [
    "books_list = books.take(30)\n"
   ]
  },
  {
   "cell_type": "code",
   "execution_count": 12,
   "metadata": {},
   "outputs": [
    {
     "data": {
      "application/vnd.jupyter.widget-view+json": {
       "model_id": "e35c0de3cabb461ba9cdb7b319e4f990",
       "version_major": 2,
       "version_minor": 0
      },
      "text/plain": [
       "VBox()"
      ]
     },
     "metadata": {},
     "output_type": "display_data"
    },
    {
     "data": {
      "application/vnd.jupyter.widget-view+json": {
       "model_id": "",
       "version_major": 2,
       "version_minor": 0
      },
      "text/plain": [
       "FloatProgress(value=0.0, bar_style='info', description='Progress:', layout=Layout(height='25px', width='50%'),…"
      ]
     },
     "metadata": {},
     "output_type": "display_data"
    },
    {
     "name": "stdout",
     "output_type": "stream",
     "text": [
      "{'ASIN': 'B00128EFK0', 'category': 'Religion & Spirituality', 'title': \"Approaching the Holy-A Season in God's House\", 'author': 'Dennis G. Crump', 'image': [], 'description': [], 'rank': '4646191', 'recommendation': [], 'price': ''}\n",
      "{'ASIN': 'B00129LKMK', 'category': 'Arts & Photography', 'title': \"Bellini's I PURITANI Opera Journeys Mini Guide (Opera Journeys Mini Guide Series) eBook\", 'author': 'Burton D. Fisher', 'image': [], 'description': [], 'rank': '3489361', 'recommendation': [], 'price': ''}\n",
      "{'ASIN': 'B0012AXRXO', 'category': 'Mystery, Thriller & Suspense', 'title': 'Snowman', 'author': 'Dave Saari', 'image': [], 'description': [], 'rank': '2283726', 'recommendation': [], 'price': ''}\n",
      "{'ASIN': 'B0012BKPEW', 'category': 'Literature & Fiction', 'title': 'Crumbs and Crutons', 'author': 'David Greer', 'image': [], 'description': [], 'rank': '4741892', 'recommendation': [], 'price': ''}\n",
      "{'ASIN': 'B0012BS7UQ', 'category': 'Religion & Spirituality', 'title': 'Fast Track to Victory, A Christian Guidebook', 'author': 'Cheryl Rogers', 'image': [], 'description': [], 'rank': '3182718', 'recommendation': [], 'price': ''}\n",
      "{'ASIN': 'B0012BRQNK', 'category': 'Arts & Photography', 'title': 'To Roma! To Roma! (Italian Art Theft Adventures Book 1)', 'author': 'John Galavan', 'image': [], 'description': [], 'rank': '1853702', 'recommendation': [], 'price': ''}\n",
      "{'ASIN': 'B0012BTXPE', 'category': \"Children's eBooks\", 'title': 'How to Study Smarter Not Harder', 'author': 'Dr. Charlotte Garman', 'image': [], 'description': [], 'rank': '843165', 'recommendation': ['B00I3QS1XQ'], 'price': ''}\n",
      "{'ASIN': 'B0012BTFVQ', 'category': 'Parenting & Relationships', 'title': 'Building Self-Esteem in Childhood & Adolescence: A Guide for Parents, Teachers, Coaches & Youth Workers (Child Psychology & Mental Health Book 5)', 'author': 'Amy R. Vigilante', 'image': [], 'description': [], 'rank': '4429495', 'recommendation': [], 'price': ''}\n",
      "{'ASIN': 'B0012D4EJW', 'category': 'Sports & Outdoors', 'title': 'Hunting Gear You Can Build and Much More! eBook', 'author': 'Vernon A. Blackledge', 'image': [], 'description': [], 'rank': '2905868', 'recommendation': [], 'price': ''}\n",
      "{'ASIN': 'B0012DDSFS', 'category': 'Health, Fitness & Dieting', 'title': 'Anxiety Disorders in Childhood & Adolescence', 'author': 'Cyma J. Siegel', 'image': [], 'description': [], 'rank': '1005620', 'recommendation': [], 'price': ''}\n",
      "{'ASIN': 'B0012DHDVS', 'category': 'Biographies & Memoirs', 'title': 'Brother One Cell', 'author': 'Cullen Thomas', 'image': [], 'description': [], 'rank': '803943', 'recommendation': [], 'price': ''}\n",
      "{'ASIN': 'B0012DHDUO', 'category': 'Literature & Fiction', 'title': 'Longarm 352: Longarm and the Pine Box Payoff', 'author': 'Tabor Evans', 'image': [], 'description': [], 'rank': '965853', 'recommendation': [], 'price': ''}\n",
      "{'ASIN': 'B0012DHDPY', 'category': 'Foreign Languages', 'title': 'Dictionnaire Argot-francais (French Edition) eBook', 'author': 'Napoleon Hayard', 'image': [], 'description': [], 'rank': '5197120', 'recommendation': [], 'price': ''}\n",
      "{'ASIN': 'B0012DK2CK', 'category': 'Health, Fitness & Dieting', 'title': 'Juvenile Sex Offenders', 'author': 'Cynthia Godbey', 'image': [], 'description': [], 'rank': '1840052', 'recommendation': [], 'price': ''}\n",
      "{'ASIN': 'B0012E3JCO', 'category': 'Literature & Fiction', 'title': 'Bang Crunch (Vintage Contemporaries)', 'author': 'Neil Smith', 'image': [], 'description': [], 'rank': '1963136', 'recommendation': [], 'price': ''}\n",
      "{'ASIN': 'B0012FN0XG', 'category': 'Internet & Technology', 'title': 'Mashable', 'author': '', 'image': [], 'description': [], 'rank': '824089', 'recommendation': [], 'price': ''}\n",
      "{'ASIN': 'B0012FORDI', 'category': 'Education & Teaching', 'title': 'Developmentally Delayed Children: A Parent Guide to Early Identification & Treatment (Child Psychology & Mental Health Book 13)', 'author': 'Waln K. Brown', 'image': [], 'description': [], 'rank': '1783758', 'recommendation': ['B0082Q498I'], 'price': ''}\n",
      "{'ASIN': 'B0012G857G', 'category': 'Biographies & Memoirs', 'title': 'Steal This Hero', 'author': 'Jack Preston King', 'image': [], 'description': [], 'rank': '4205866', 'recommendation': [], 'price': ''}\n",
      "{'ASIN': 'B0012GTZCK', 'category': 'History', 'title': 'God in the White House', 'author': 'Randall Balmer', 'image': [], 'description': [], 'rank': '730369', 'recommendation': ['B0166JZZ0S', 'B0095XH344', 'B001FA0V1C', 'B00FJ313O0', 'B005C6HH9E', 'B0057WBESS', 'B004H0O2Z8'], 'price': ''}\n",
      "{'ASIN': 'B0012GU704', 'category': 'Religion & Spirituality', 'title': 'Understanding Revelation Made Easy (First)', 'author': 'Pastor Jerry L Mayers', 'image': [], 'description': [], 'rank': '2976046', 'recommendation': [], 'price': ''}\n",
      "{'ASIN': 'B0012IUJ5U', 'category': 'Parenting & Relationships', 'title': 'Stop it! Quit it! (Everyday Dad Kindle Series Book 3) eBook', 'author': 'Dale Alderman', 'image': [], 'description': [], 'rank': '2219992', 'recommendation': [], 'price': ''}\n",
      "{'ASIN': 'B0012IXN62', 'category': 'Literature & Fiction', 'title': \"Nobody's Home\", 'author': 'Cliff Fazzolari', 'image': [], 'description': [], 'rank': '3490285', 'recommendation': [], 'price': ''}\n",
      "{'ASIN': 'B0012JSIMU', 'category': 'Crafts, Hobbies & Home', 'title': 'Build a Backyard Natural Grass Putting Green', 'author': 'Brad Smith', 'image': [], 'description': [], 'rank': '1757878', 'recommendation': [], 'price': ''}\n",
      "{'ASIN': 'B0012KCM4E', 'category': 'Literature & Fiction', 'title': 'Quarter Moon Dues: Opening Qtr (The Books of Gem: 5)', 'author': 'Linda G. Shelnutt', 'image': [], 'description': [], 'rank': '4108696', 'recommendation': [], 'price': ''}\n",
      "{'ASIN': 'B0012KHNU2', 'category': 'Religion & Spirituality', 'title': 'Mahatma Letters to A. P. Sinnett from the Mahatmas M. and K. H. (edited for the Kindle)', 'author': 'A.P.  Sinnett', 'image': [], 'description': [], 'rank': '1043639', 'recommendation': ['B006K3J9JY'], 'price': ''}\n",
      "{'ASIN': 'B0012KW9U6', 'category': 'Religion & Spirituality', 'title': 'END OF DAYS - The Apocalyptic Writings', 'author': 'Joseph B. Lumpkin', 'image': [], 'description': [], 'rank': '1432946', 'recommendation': [], 'price': ''}\n",
      "{'ASIN': 'B0012KUAR0', 'category': 'History', 'title': 'Billy The Kid eBook', 'author': 'Chas A. Siringo', 'image': [], 'description': [], 'rank': '1986755', 'recommendation': [], 'price': ''}\n",
      "{'ASIN': 'B0012KUGW4', 'category': 'Literature & Fiction', 'title': 'Ghost Dancer', 'author': 'Allene Joyce', 'image': [], 'description': [], 'rank': '4583899', 'recommendation': [], 'price': ''}\n",
      "{'ASIN': 'B0012L10YQ', 'category': 'Religion & Spirituality', 'title': 'The Banquet', 'author': 'Arius of Caesarea', 'image': [], 'description': [], 'rank': '3027299', 'recommendation': [], 'price': ''}\n",
      "{'ASIN': 'B0012LHGJ4', 'category': 'Reference', 'title': 'Vingt Mille Lieues sous les mers (French Edition)', 'author': 'Jules Verne', 'image': [], 'description': [], 'rank': '2826053', 'recommendation': [], 'price': ''}"
     ]
    }
   ],
   "source": [
    "for i in books_list:\n",
    "    print(i)"
   ]
  },
  {
   "cell_type": "code",
   "execution_count": 13,
   "metadata": {},
   "outputs": [
    {
     "data": {
      "application/vnd.jupyter.widget-view+json": {
       "model_id": "bd6142373b204e0bbe4ef88d61e8f918",
       "version_major": 2,
       "version_minor": 0
      },
      "text/plain": [
       "VBox()"
      ]
     },
     "metadata": {},
     "output_type": "display_data"
    },
    {
     "data": {
      "application/vnd.jupyter.widget-view+json": {
       "model_id": "",
       "version_major": 2,
       "version_minor": 0
      },
      "text/plain": [
       "FloatProgress(value=0.0, bar_style='info', description='Progress:', layout=Layout(height='25px', width='50%'),…"
      ]
     },
     "metadata": {},
     "output_type": "display_data"
    },
    {
     "name": "stdout",
     "output_type": "stream",
     "text": [
      "with price number of books : 6\n",
      "with recommendation number of books : 130578\n",
      "with image number of books : 0\n",
      "with desc number of books : 0"
     ]
    }
   ],
   "source": [
    "with_price = books.filter(lambda line: line['price'] != '').count()\n",
    "with_recommendation = books.filter(lambda line: line['recommendation'] != []).count()\n",
    "with_image = books.filter(lambda line: line['image'] != []).count()\n",
    "with_desc = books.filter(lambda line: line['description'] != []).count()\n",
    "print(\"with price number of books : {}\".format(with_price))\n",
    "print(\"with recommendation number of books : {}\".format(with_recommendation))\n",
    "print(\"with image number of books : {}\".format(with_image))\n",
    "print(\"with desc number of books : {}\".format(with_desc))"
   ]
  },
  {
   "cell_type": "code",
   "execution_count": 14,
   "metadata": {},
   "outputs": [
    {
     "data": {
      "application/vnd.jupyter.widget-view+json": {
       "model_id": "a8734111d2f249ddb0452a7dc5794e66",
       "version_major": 2,
       "version_minor": 0
      },
      "text/plain": [
       "VBox()"
      ]
     },
     "metadata": {},
     "output_type": "display_data"
    },
    {
     "data": {
      "application/vnd.jupyter.widget-view+json": {
       "model_id": "",
       "version_major": 2,
       "version_minor": 0
      },
      "text/plain": [
       "FloatProgress(value=0.0, bar_style='info', description='Progress:', layout=Layout(height='25px', width='50%'),…"
      ]
     },
     "metadata": {},
     "output_type": "display_data"
    }
   ],
   "source": [
    "title_author = books.map(lambda line: (line['title'], line['author']))\n",
    "collected = title_author.take(300)"
   ]
  },
  {
   "cell_type": "code",
   "execution_count": 15,
   "metadata": {},
   "outputs": [
    {
     "data": {
      "application/vnd.jupyter.widget-view+json": {
       "model_id": "eefa568eaec74d348f003896f367c4dc",
       "version_major": 2,
       "version_minor": 0
      },
      "text/plain": [
       "VBox()"
      ]
     },
     "metadata": {},
     "output_type": "display_data"
    },
    {
     "data": {
      "application/vnd.jupyter.widget-view+json": {
       "model_id": "",
       "version_major": 2,
       "version_minor": 0
      },
      "text/plain": [
       "FloatProgress(value=0.0, bar_style='info', description='Progress:', layout=Layout(height='25px', width='50%'),…"
      ]
     },
     "metadata": {},
     "output_type": "display_data"
    },
    {
     "name": "stdout",
     "output_type": "stream",
     "text": [
      "(\"Approaching the Holy-A Season in God's House\", 'Dennis G. Crump')\n",
      "(\"Bellini's I PURITANI Opera Journeys Mini Guide (Opera Journeys Mini Guide Series) eBook\", 'Burton D. Fisher')\n",
      "('Snowman', 'Dave Saari')\n",
      "('Crumbs and Crutons', 'David Greer')\n",
      "('Fast Track to Victory, A Christian Guidebook', 'Cheryl Rogers')\n",
      "('To Roma! To Roma! (Italian Art Theft Adventures Book 1)', 'John Galavan')\n",
      "('How to Study Smarter Not Harder', 'Dr. Charlotte Garman')\n",
      "('Building Self-Esteem in Childhood & Adolescence: A Guide for Parents, Teachers, Coaches & Youth Workers (Child Psychology & Mental Health Book 5)', 'Amy R. Vigilante')\n",
      "('Hunting Gear You Can Build and Much More! eBook', 'Vernon A. Blackledge')\n",
      "('Anxiety Disorders in Childhood & Adolescence', 'Cyma J. Siegel')\n",
      "('Brother One Cell', 'Cullen Thomas')\n",
      "('Longarm 352: Longarm and the Pine Box Payoff', 'Tabor Evans')\n",
      "('Dictionnaire Argot-francais (French Edition) eBook', 'Napoleon Hayard')\n",
      "('Juvenile Sex Offenders', 'Cynthia Godbey')\n",
      "('Bang Crunch (Vintage Contemporaries)', 'Neil Smith')\n",
      "('Mashable', '')\n",
      "('Developmentally Delayed Children: A Parent Guide to Early Identification & Treatment (Child Psychology & Mental Health Book 13)', 'Waln K. Brown')\n",
      "('Steal This Hero', 'Jack Preston King')\n",
      "('God in the White House', 'Randall Balmer')\n",
      "('Understanding Revelation Made Easy (First)', 'Pastor Jerry L Mayers')\n",
      "('Stop it! Quit it! (Everyday Dad Kindle Series Book 3) eBook', 'Dale Alderman')\n",
      "(\"Nobody's Home\", 'Cliff Fazzolari')\n",
      "('Build a Backyard Natural Grass Putting Green', 'Brad Smith')\n",
      "('Quarter Moon Dues: Opening Qtr (The Books of Gem: 5)', 'Linda G. Shelnutt')\n",
      "('Mahatma Letters to A. P. Sinnett from the Mahatmas M. and K. H. (edited for the Kindle)', 'A.P.  Sinnett')\n",
      "('END OF DAYS - The Apocalyptic Writings', 'Joseph B. Lumpkin')\n",
      "('Billy The Kid eBook', 'Chas A. Siringo')\n",
      "('Ghost Dancer', 'Allene Joyce')\n",
      "('The Banquet', 'Arius of Caesarea')\n",
      "('Vingt Mille Lieues sous les mers (French Edition)', 'Jules Verne')\n",
      "('Paradox eBook', 'Chris Gage')\n",
      "('Angels Among Us eBook', 'CE Barrett')\n",
      "('Mine is Bigger than Yours (Everyday Dad Kindle Series Book 5)', 'Dale Alderman')\n",
      "('Echoes of Ellen', 'bf oswald')\n",
      "('Forgiveness: An Introduction to Freedom', 'Ann Oconnor Slimp')\n",
      "('Drumwall eBook', 'Lynden Rodriguez')\n",
      "('Chosen One eBook', 'Alan J. Garner')\n",
      "('The Thirteenth Apostle', 'Robert T. Littell')\n",
      "('Gnome (Sunset Investigations Book 2)', 'Sharon Kull')\n",
      "('Getting Past Almost: Gay Erotica', 'Donovan Lee')\n",
      "('Master of Capital eBook', 'Allen Johnson')\n",
      "('Texas Bluff: The Gamblers', 'Robert J. Randisi')\n",
      "('Sex Detox: Recharge Desire. Revitalize Intimacy. Rejuvenate Your Love Life.', 'Ian Kerner')\n",
      "(\"Don't Be Afraid of the Storm eBook\", 'Lynn Jeffcott')\n",
      "('Saturday Night Cowboy', 'Sharon Kull')\n",
      "('Exile eBook', 'Will Molinar')\n",
      "(\"You're Just Going to Feel a Little Pressure (Everyday Dad Kindle Series Book 6)\", 'Dale Alderman')\n",
      "('Some Day, Some Way', 'Ben DeWitt')\n",
      "('Wood-Carving Design and Workmanship', 'George Jack')\n",
      "(\"Delivering Doctor Amelia: The Story of a Gifted Young Obstetrician's Error and the Psychologist Who Helped Her\", 'Dan Shapiro')\n",
      "('How to Talk to Anyone, Anytime, Anywhere: The Secrets of Good Communication', 'Larry King')\n",
      "('Miss Black America: A Novel', 'Veronica Chambers')\n",
      "('Souls Night (The Vampire Pacts)', 'Kallysten')\n",
      "('Saucer Smear Magazine', 'James Moseley JS')\n",
      "('The Happy Hanger (Blossom Stories) eBook', 'George R. Droney')\n",
      "('The Misplaced Horse (1) eBook', 'Constance Downes')\n",
      "('Forget The Cures, Find The Cause, Book I', 'Rayna Gangi')\n",
      "('Like a Thief in the Night (Strangers in the Night)', 'Bettie Sharpe')\n",
      "('Hot Ticket (Serving Love)', 'K.A. Mitchell')\n",
      "('For Love and Country (Serving Love)', 'Mary Winter')\n",
      "(\"Should Barack Obama Be President? DREAMS FROM MY FATHER, AUDACITY OF HOPE, ... Obama in '08? (Paperback)\", 'W. Frederick Zimmerman')\n",
      "('Is That the Reason I Get Abused?: Learn How to Create and Maintain Healthy Boundaries in Your Relationships', 'LMFT Jef Gazley M.S.')\n",
      "(\"Alma's House: A Conditional Inheritance\", 'Suzanne Whitney Orehek')\n",
      "('ebook,Brent P. Newhall,Kindle Fan Guide,TECHNOLOGY / Electronics / General,TECHNOLOGY / General,REFERENCE / Consumer Guides\" />', 'Brent P. Newhall')\n",
      "('The Towers of Hanoi Puzzle (Illustrated)', 'Edouard Lucas')\n",
      "('The Spiritual Gifts: A Biblical Explanation of the Gifts of the Spirit', 'Roderick L. Evans')\n",
      "('101 Ways to Stop Eating After Dinner', 'Nancy Butcher')\n",
      "(\"Your Life is Waiting: The Average Joe's Guide to Overcoming Panic Attacks and Anxiety\", 'Rafe R. Martin')\n",
      "(\"A Parents' Guide To Dealing With A Child's Anger During Infancy, Toddlerhood & The Preschool Years: Causes & Cures at Different Stages of Development (Baby, Infant & Toddlers Books Book 13)\", 'Dr. Michael K. Meyerhoff')\n",
      "(\"A Parents' Guide to Raising Twins: The Special Family Dynamics Created\", 'Dr. Michael K. Meyerhoff')\n",
      "(\"A Parents' Guide To Enhancing Early Language Development: Language-Enhancing Ideas & Activities for Infants & Toddlers (Baby, Infant & Toddlers Books Book 6)\", 'Dr. Michael K. Meyerhoff')\n",
      "(\"A Parents' Guide to Nurturing the Roots of Emotional Security & Self-Esteem: Growth Stages & Methods of Development (Baby, Infant & Toddlers Books Book 15)\", 'Michael K. Meyerhoff')\n",
      "('The Tragedy of Julius Caesar eBook', 'William Shakespeare')\n",
      "('Libertarian Accounts of Free Will', 'Randolph Clarke')\n",
      "('Forbidden Touch', 'Paula Graves')\n",
      "('The Family Plan (Fatherhood)', 'Cathy McDavid')\n",
      "(\"The Wealthy Frenchman's Proposition (Sons of Privilege Book 1851)\", 'Katherine Garbera')\n",
      "('My Man Valentine', 'Jule McBride')\n",
      "('First-Time Valentine (The Wilder Family Book 2)', 'Mary J. Forbes')\n",
      "(\"The Sicilian's Virgin Bride (The Italian Husbands Book 28) eBook\", 'Sarah Morgan')\n",
      "('Blind Date from Hell', 'Anne Stuart')\n",
      "('Bedded for Diamonds (The Bennett Family Book 2) eBook', 'Kelly Hunter')\n",
      "(\"Caitlin's Cowboy (Home on the Ranch)\", 'Barbara McMahon')\n",
      "('Mom and Mr. Valentine', 'Judith Bowen')\n",
      "('Dark Jewel, A Riki Storm Vampire Mystery', 'Sharon Kilzer')\n",
      "('The Great Inventor', 'Jeff Biggers')\n",
      "('Five Fingered Firebugs', 'Chris Forman')\n",
      "('What Functions Explain: Functional Explanation and Self-Reproducing Systems (Cambridge Studies in Philosophy and Biology)', 'Peter McLaughlin')\n",
      "('The Country Singer', 'Jeff Biggers')\n",
      "('Still I Rise: The Biography of Maya Angelou (True Story Books for Kids & Teens Book 9)', 'Jeff Biggers')\n",
      "('Le Vicomte de Bragelonne - Tomes I & II (French Edition)', 'Alexandre Dumas')\n",
      "('Honest Religion in the 21st Century', 'Clark M. Thomas')\n",
      "('Lighthouse Marketing by Dave Sherwin and Dan Putnum eBook', 'Dave Sherwin ')\n",
      "('After Life - Novella eBook', 'Simon Funk')\n",
      "('The Circle in the Forest: A story for children, as re-told', 'Stephen Windwalker')\n",
      "('Flood: A Saga', 'bf oswald')\n",
      "('He Gave Gifts Unto Men', 'Roderick L. Evans')\n",
      "('The 3 Simples Secrets of Success after the Diploma', 'Janis Dietz')\n",
      "('King Alfred the Great of England [Illustrated] eBook', 'Jacob Abbott')\n",
      "('Prime Rib With a Side Order of Valium (Everyday Dad Kindle Series Book 8) eBook', 'Dale Alderman')\n",
      "('No, Seriously, My Training Starts Tomorrow', 'Roman Mica')\n",
      "('For the Love of Flight (N/A) eBook', 'Marc R. Williams')\n",
      "('The Wisdom Of Orison Swett Marden Vol. II', 'Orison Swett Marden')\n",
      "('Component-Based Development for Enterprise Systems', 'Paul Allen')\n",
      "('Eine Marchenwelt? (German Edition)', 'Pamela Lenz Sommer')\n",
      "('The Apostle Question', 'Roderick L. Evans')\n",
      "('The Master Key To This Mystical Life Of Ours', 'Ralph Waldo Trine')\n",
      "('Take This Bread', 'Sara Miles')\n",
      "('What is an Emotion?', 'William James')\n",
      "('Master the Guitar Fretboard - Chords Scales & Arpeggios Made Clear! Applied Theory for Guitarists', 'Joe Dochtermann')\n",
      "('Pro Techniques For Home Recording - The Digital Home Studio Bible', 'Joe Dochtermann')\n",
      "('Where Does the Money Go?: Your Guided Tour to the Federal Budget Crisis (Guided Tour of the Economy)', 'Scott Bittle')\n",
      "('A Necessary Bride (The Necessary Series Book 2)', 'Debra Mullins')\n",
      "('The World, The Flesh, and The Devil: Practical Insights to Living Victoriously in Christ', 'Roderick L. Evans')\n",
      "('Frankenstein [annotated] (Girlebooks Classics)', 'Mary Shelley')\n",
      "('How Was It For You?', 'Carmen Reid')\n",
      "('Embracing Unity as the Bride of Christ', 'Laura Smith')\n",
      "('The Magical Scarecrows - Book One', 'Auntie Lynn')\n",
      "('The Magical Scarecrows - Book Two', 'Auntie Lynn')\n",
      "('As A Man Thinketh: Three Perspectives', 'James Allen')\n",
      "('The Revolution Will Not Be Capitalized: Che Guevara', 'Charles Carreon')\n",
      "(\"Jack Abramoff's House of Cards (A White-Hat Lawyer Investigative Report)\", 'Charles Carreon')\n",
      "('Rude Awakening - A Review of Fierce Grace, A Movie About Ram Dass', 'Charles Carreon')\n",
      "('A Legend In His Own Mind -- Michael Ruppert Soldiers On eBook', 'Charles Carreon')\n",
      "('Destiny - A Journey of Discovery and Awakening', 'Robert C. Gallagher')\n",
      "('Two Adventures With Doctor Dolittle', 'Hugh Lofting')\n",
      "('TROS OF SAMOTHRACE - VOLUME ONE', 'Talbot Mundy')\n",
      "('An Atheist for Jesus: A Personal Journey of Discovery', 'Kenneth A. Schei')\n",
      "(\"My Boyfriend's Mother\", 'A.D. Wilson')\n",
      "('Wakan Man eBook', 'Fredrick W. Boling')\n",
      "('All Things Except Blood (The Vampire Pacts)', 'Kallysten')\n",
      "('&quot;Tales of Ratiocination&quot; The First Detective Stories', 'Edgar Allan Poe')\n",
      "('Forget Ever After: A vampire romance short story (On The Edge)', 'Kallysten')\n",
      "('Dare I?: A standalone romance short story (On The Edge)', 'Kallysten')\n",
      "('Throwback eBook', 'Dave Conifer')\n",
      "('The Medallion of Tiben (The Adventures of Princess Isabella)', 'Judy Levering Duff')\n",
      "('Antiquities of the Jews - a history of the Jewish people, eBook', 'Flavius Josephus')\n",
      "('SHE, JESUS (KEEPERS OF THE SECRET)', 'Barnaby Conrad')\n",
      "(\"My Forefather's Shoes\", 'CJ Grant')\n",
      "('What the Hell Happened?!! - Full Self-help Manuscript', 'Andrew Benjamin')\n",
      "('The Good Samaritan', 'CJ Grant')\n",
      "('The Graven Day: Suspenseful Short Story (Short Stories', 'CJ Grant')\n",
      "('Natchez eBook', 'Deb Crockett')\n",
      "('Reunions of the Heart: Romantic Short Story (Short Stories', 'CJ Grant')\n",
      "(\"The Muphere's: Suspenseful Short Story (Short Stories\", 'CJ Grant')\n",
      "('The Mighty Flynn (Siren Publishing Menage & More)', 'Sierra Dafoe')\n",
      "(\"Lucia's Lessons of Love\", 'Lucia')\n",
      "('The Characters of Theophrastus', 'Theophrastus')\n",
      "('A Bundle Of Christmas Babies: An Anthology', 'Lucy Monroe')\n",
      "('East of the Sun and West of the Moon', 'Nancy Madore')\n",
      "('One-Click Buy: December Harlequin Presents', 'Robyn Donald')\n",
      "('Men Of Steele Bundle: An Anthology', 'Caroline Cross')\n",
      "('Secret Babies Bundle: An Anthology', 'Carole Mortimer')\n",
      "('Hot-Blooded Husbands Bundle: An Anthology', 'Michelle Reid')\n",
      "('Wings in the Night Part 2: An Anthology', 'Maggie Shayne')\n",
      "('One-Click Buy: November Harlequin Presents (The Royal House of Niroli)', 'Susan Stephens')\n",
      "('The Invitation', 'Lacy Danes')\n",
      "('The Natural', 'Abby Gaines')\n",
      "('Taking Control', 'Ken Casper')\n",
      "('One-Click Buy: February Harlequin Presents', 'Penny Jordan')\n",
      "('Cherokee Christmas (Harlequin Mini # 27)', 'Sheri Whitefeather')\n",
      "(\"The Millionaire's Mistress Bundle: An Anthology\", 'Harlequin')\n",
      "('Feisty Firefighters Bundle: An Anthology', 'Jill Shalvis')\n",
      "(\"The Mistress's Secret (Harlequin Mini #20) eBook\", 'Julia James')\n",
      "('The Pack Collection: One Eye Open\\\\One Eye Closed\\\\Secrets of the Wolf', 'Karen Whiddon')\n",
      "('A Bundle of Valentines!: An Anthology', 'Kate Hoffmann')\n",
      "('Winged Warfare - In World War I eBook', 'Billy Bishop')\n",
      "('Bulgaria (Oxford History of Modern Europe) eBook', 'R.J. Crampton')\n",
      "('That Sleep of Death', 'Terri Osborne')\n",
      "('The Prophecies - (Les Propheties) of Nostradamus', 'Michel de Nostredame')\n",
      "('Biological Nutrient Removal (BNR) Operation in Wastewater Treatment Plants: WEF Manual of Practice No. 30 (Asce Manual and Reports on Engineering Practice Book 29)', 'Water Environment Federation')\n",
      "('Saints in Exile: The Holiness-Pentecostal Experience in African American Religion and Culture (Religion in America)', 'Cheryl J. Sanders')\n",
      "(\"Divine Moments for Leaders: Everyday Inspiration from God's Word\", 'Ronald A. Beers')\n",
      "('Edward the Second (Edward II) of England', 'Christopher Marlowe')\n",
      "('The Fourth Domain eBook', 'Patrick T. Newell')\n",
      "('War and Peace (by Leo Tolstoy)', 'Leo Tolstoy')\n",
      "('Quarter Moon Dues', 'Linda G. Shelnutt')\n",
      "('The Practice of the Presence of God', 'Brother Lawrence')\n",
      "('Famous Men of the Middle Ages [Illustrated] eBook', 'John H. Haaren')\n",
      "('Personal Transformation: 5 Ways to Diminish Failure Almost Instantly (Personal Transformation series Book 1)', 'Dennis E. Bradford Ph.D.')\n",
      "('Hungry Girl: Recipes and Survival Strategies for Guilt-Free Eating in the Real World', 'Lisa Lillien')\n",
      "('No Place For Magic (Tales of the Frog Princess Book 4)', 'E. D. Baker')\n",
      "('A Convenient Marriage (An Inconvenient Marriage Book 5)', 'Maggie Cox')\n",
      "('A Master Class in Gremlin-Taming(R): The Absolutely Indispensable Next Step for Freeing Yourself from the Monster of the Mind', 'Rick Carson')\n",
      "('Frost Bites (Edgar & Ellen Nodyssey Book 2)', 'Charles Ogden')\n",
      "('Mastery in 7 Steps: Understanding Mastery, Success, and Mind (Personal Transformation series Book 5)', 'Dennis E. Bradford Ph.D.')\n",
      "('Mistress of Convenience eBook', 'Penny Jordan')\n",
      "(\"The Italian Billionaire's Pregnant Bride\", 'Lynne Graham')\n",
      "('Seven Nights of Sin', 'Lacey Alexander')\n",
      "('Sermon + Bible Study Notes: The Most Contagious Disease... (The Seven Deadly Sins)', 'Brian W. Evans')\n",
      "('M.I.T. Can Be Murder (None)', 'Frank Michael Weyer')\n",
      "('Lola Ray', 'Elaine Waldron')\n",
      "('The Seer (Bretwalda Book 1)', 'Robert Brueckner')\n",
      "('The Adventure Collection', 'Muriel A. Pollexfen')\n",
      "('The Lord of Sommonee - The Nord Chronicles eBook', 'Rex A. Horne')\n",
      "('Growing Up on Route 66', 'Michael Lund')\n",
      "('Making Living From Home eBook', 'Christopher Dixon')\n",
      "('Take My Hand', 'Angie Willis')\n",
      "('surging eBook', 'louis gallo')\n",
      "('One Hot Texas Night', 'Judith Rochelle')\n",
      "(\"Chicken: The Dangerous Transformation of America's Favorite Food (Yale Agrarian Studies Series)\", 'Mr. Steve Striffler')\n",
      "('Warships of the World to 1900', 'Lincoln P. Paine')\n",
      "(\"Pemberley's Promise\", 'Kara Louise')\n",
      "('Mystery of the Kingdom: On the Gospel of Matthew (Kingdom Studies)', 'Edward P. Sri')\n",
      "('Perceptions', 'Desiree B. Cunin')\n",
      "('CHRISTIANS IN SOCIETY LUTHER, THE BIBLE, AND SOCIAL ETHICS: Luther, the Bible and Social Ethics', 'WILLIAM LAZARETH')\n",
      "('Rehearsing Enlightenment: A Retreat in the Buddhist Himalayas', 'David Ross Komito')\n",
      "('Of Pilgrims John and Elizabeth Howland eBook', 'Dale W Adams')\n",
      "('The Philosophy of Social Science: An Introduction (Cambridge Introductions to Philosophy)', 'Martin Hollis')\n",
      "('The Lust Of The Vampire: Collection (Gay Male Erotica Book 1)', 'Xavier Chance')\n",
      "('Taking the Stairs: My Journal of Healing and Self-Discovery', 'Julie Scipioni')\n",
      "('The Fairy Mythology eBook', 'Thomas Keightley')\n",
      "('Drive and Determination', 'Kara Louise')\n",
      "('The Epic of Gilgamesh eBook', 'Rob Simone')\n",
      "('The Poetic Edda [Illustrated]', 'Snorri Sturluson')\n",
      "('On The Edge: A short menage story in the On The Edge vampire series', 'Kallysten')\n",
      "('365 Great Affirmations', 'Keith Johnson')\n",
      "('Introduction to the Metaphysic of Morals', 'Immanuel Kant')\n",
      "('Mark Kac', 'Luis A. Santal&oacute;')\n",
      "('By Force of Instinct: A Pride & Prejudice Variation', 'Abigail Reynolds')\n",
      "('Killing Trade (The Executioner Book 352)', 'Don Pendleton')\n",
      "('Broken Lullaby', 'Pamela Tracy')\n",
      "('Patriot Play (Superbolan Book 119)', 'Don Pendleton')\n",
      "('One-Night Love Child (Mistress to a Millionaire) eBook', 'Anne McAllister')\n",
      "('Coming Soon (Do Not Disturb Book 7)', 'Jo Leigh')\n",
      "('Island Heat (Mediterranean Nights Book 10)', 'Sarah Mayberry')\n",
      "(\"The Italian Boss's Mistress (Brides of L'Amour Book 2) eBook\", 'Lynne Graham')\n",
      "('Mysterious Millionaire', 'Cassie Miles')\n",
      "(\"Bedded for the Italian's Pleasure (Queens of Romance Book 2) eBook\", 'Anne Mather')\n",
      "(\"CEO's Marriage Seduction (Harlequin Desire Book 1859)\", 'Anna DePalo')\n",
      "(\"A Doctor's Secret (The Doctors Pulaski Book 4)\", 'Marie Ferrarella')\n",
      "('Precipitation: Theory', 'Ian Strangeways')\n",
      "('Linus Pauling', 'Tom Hager')\n",
      "('51 Ways to Pick Up Women', 'Nathan Anderson')\n",
      "('The White Ibis eBook', \"Michelle Ende'\")\n",
      "('The Aztec Image in Western Thought', 'Benjamin Keen')\n",
      "('Evidence-Based Educational Methods (Educational Psychology)', 'Daniel J. Moran')\n",
      "('Victory through Coalition', 'Elizabeth Greenhalgh')\n",
      "('Essays on Conrad eBook', 'Ian Watt')\n",
      "('The Morphology of Chinese: A Linguistic and Cognitive Approach', 'Jerome L. Packard')\n",
      "('Converting California', 'Professor James A. Sandos')\n",
      "('Raffles Gentleman Thief - The Complete Omnibus', 'E.W. Hornung')\n",
      "('Financial Management in Health Services (Understanding Public Health)', 'Reinhold Gruen')\n",
      "('Adolescent Risk Behaviors: Why Teens Experiment and Strategies to Keep Them Safe (Current Perspectives in Psychology)', 'Professor David A. Wolfe')\n",
      "('Measuring Stress in Humans: A Practical Guide for the Field (Cambridge Studies in Biological and Evolutionary Anthropology Book 49)', 'Gillian H. Ice')\n",
      "('Assumed Engagement', 'Kara Louise')\n",
      "(\"The cheap book promotional tips you've never heard of - and should eBook\", 'Tamara Wilhite')\n",
      "('Consulting on the Side', 'Mary F. Cook')\n",
      "('The Succession (Bretwalda Book 5)', 'Robert Brueckner')\n",
      "('Treasure Hunters eBook', 'Robert E. Bleier')\n",
      "('One, Going Down (Gay Male Erotica Book 1)', 'Xavier Chance')\n",
      "('The World War II Quiz & Fact Book, Volume 1', 'TIMOTHY B. BENFORD')\n",
      "('From Poor Law to Welfare State, 6th Edition: A History of Social Welfare in America', 'Walter I. Trattner')\n",
      "('The Art of War and other Laws of Power (mobi) eBook', 'Tzu Sun')\n",
      "('The Sixth Book of Moses', 'Johann Scheibel')\n",
      "('The Seventh Book of Moses', 'Johann Schiebel')\n",
      "('The Wailing Asteroid eBook', 'Murray Leinster')\n",
      "('A Bird Named Enza eBook', 'Dawn Meier')\n",
      "('These Honored Dead', 'Jamie Krontz')\n",
      "('The God Strategy: How Religion Became a Political Weapon in America', 'David Domke')\n",
      "('The Trailsman #317: Mountain Mystery', 'Jon Sharpe')\n",
      "('Tracking and Kalman Filtering Made Easy', 'Eli Brookner')\n",
      "('The Wit & Wisdom of FDR eBook', 'James C. Humes')\n",
      "('Obsession: An Erotic Tale', 'Gloria Vanderbilt')\n",
      "('Pomo Timmy: 1 Timothy for a Postmodern World', 'Michael Ferber')\n",
      "('The May Carousel', 'Leslie Wooddavis')\n",
      "(\"Home Style Lovin'\", 'Elizabeth Palmer')\n",
      "('Prepared to Answer - Christian Apologetics', 'Rob VandeWeghe')\n",
      "('The Mormon Menace', 'John Doyle Lee')\n",
      "('Forgotten Sins', 'John Walters')\n",
      "('A Very Strange Land (Merryvale Adventures Book 1)', 'Steven Fisher')\n",
      "('100 Essential Steps to Less Stress & Anxiety', 'Angela Coldwell')\n",
      "('Love is the Answer (Excellent Life Book 4) eBook', 'Blythe Ayne Ph.D.')\n",
      "('UNSTUCK - A Career Guide eBook', 'Mark Runta')\n",
      "('Lessons in Trust', 'Kate Davies')\n",
      "('Jesse James, The Outlaw', 'W.B. Lawson')\n",
      "('The Constitution, Bill of Rights, all of the Amendments; The Declaration of Independence, and The Articles of Confederation', 'Thomas Jefferson')\n",
      "('Modeling and Simulation-Based Data Engineering', 'Bernard P. Zeigler')\n",
      "(\"UnGodly: The Life and Murder of Atheist Madalyn Murray O'Hair\", 'Ted Dracos')\n",
      "('The Adventures of Sherlock Holmes (Illustrated)', 'Arthur Conan Doyle')\n",
      "('Working with Molecular Genetics', 'Ross C. Hardison')\n",
      "('The Aeneid (Annotated) (Illustrated) eBook', 'Virgil')\n",
      "(\"Foolish Undertaking (Buryin' Barry Series Book 3)\", 'Mark de Castrique')\n",
      "('Service Dress Blues: A Rep & Melissa Pennyworth Mystery (Rep & Melissa Pennyworth Series Book 5)', 'Michael Bowen')\n",
      "('Molasses Moon (Book of Life: 1) (Nonfiction)', 'Linda G. Shelnutt')\n",
      "('Ancient Nahuatl Poetry eBook', 'Daniel G. Brinton')\n",
      "('The Injustice of Depression Misdiagnosis', 'S. H. Mikelatos M.D.')\n",
      "('On Political Equality', 'Robert A. Dahl')\n",
      "('Mistaken Identity: Two Families, One Survivor, Unwavering Hope', 'Dan & Susie Van Ryan')\n",
      "('Living Dead Girl eBook', 'Elizabeth Scott')\n",
      "('Desert King, Pregnant Mistress (Bought for Her Baby Book 3) eBook', 'Susan Stephens')\n",
      "('Supernatural: Bone Key', 'Keith R.A. DeCandido')\n",
      "('The Gift of Rain: A Novel', 'Tan Twan Eng')\n",
      "('Letter to a New President: Commonsense Lessons for Our Next Leader', 'Robert C. Byrd')\n",
      "(\"Dr. Beach's Survival Guide: What You Need to Know about Sharks\", 'Professor Stephen P. Leatherman')\n",
      "('30 Days of Night: Eternal Damnation: Book 3', 'Steve Niles')\n",
      "('Outback Assault (Executioner Book 355)', 'Don Pendleton')\n",
      "('Act of War (StonyMan Book 94)', 'Don Pendleton')\n",
      "('Longarm 356: Longarm and the Diamond Sisters', 'Tabor Evans')\n",
      "(\"Under the Italian's Command (Kept for His Pleasure) eBook\", 'Susan Stephens')"
     ]
    }
   ],
   "source": [
    "for i in collected:\n",
    "    print(i)"
   ]
  },
  {
   "cell_type": "code",
   "execution_count": 23,
   "metadata": {},
   "outputs": [
    {
     "data": {
      "application/vnd.jupyter.widget-view+json": {
       "model_id": "d5f864eac039411fa47d9fda0244fa22",
       "version_major": 2,
       "version_minor": 0
      },
      "text/plain": [
       "VBox()"
      ]
     },
     "metadata": {},
     "output_type": "display_data"
    },
    {
     "data": {
      "application/vnd.jupyter.widget-view+json": {
       "model_id": "",
       "version_major": 2,
       "version_minor": 0
      },
      "text/plain": [
       "FloatProgress(value=0.0, bar_style='info', description='Progress:', layout=Layout(height='25px', width='50%'),…"
      ]
     },
     "metadata": {},
     "output_type": "display_data"
    },
    {
     "name": "stdout",
     "output_type": "stream",
     "text": [
      "+----+--------------------+--------------------+--------------------+-------+--------------------+\n",
      "|asin|            category|               title|              author|   rank|      recommendation|\n",
      "+----+--------------------+--------------------+--------------------+-------+--------------------+\n",
      "|null|Religion & Spirit...|Approaching the H...|     Dennis G. Crump|4646191|                  []|\n",
      "|null|  Arts & Photography|Bellini's I PURIT...|    Burton D. Fisher|3489361|                  []|\n",
      "|null|Mystery, Thriller...|             Snowman|          Dave Saari|2283726|                  []|\n",
      "|null|Literature & Fiction|  Crumbs and Crutons|         David Greer|4741892|                  []|\n",
      "|null|Religion & Spirit...|Fast Track to Vic...|       Cheryl Rogers|3182718|                  []|\n",
      "|null|  Arts & Photography|To Roma! To Roma!...|        John Galavan|1853702|                  []|\n",
      "|null|   Children's eBooks|How to Study Smar...|Dr. Charlotte Garman| 843165|        [B00I3QS1XQ]|\n",
      "|null|Parenting & Relat...|Building Self-Est...|    Amy R. Vigilante|4429495|                  []|\n",
      "|null|   Sports & Outdoors|Hunting Gear You ...|Vernon A. Blackledge|2905868|                  []|\n",
      "|null|Health, Fitness &...|Anxiety Disorders...|      Cyma J. Siegel|1005620|                  []|\n",
      "|null|Biographies & Mem...|    Brother One Cell|       Cullen Thomas| 803943|                  []|\n",
      "|null|Literature & Fiction|Longarm 352: Long...|         Tabor Evans| 965853|                  []|\n",
      "|null|   Foreign Languages|Dictionnaire Argo...|     Napoleon Hayard|5197120|                  []|\n",
      "|null|Health, Fitness &...|Juvenile Sex Offe...|      Cynthia Godbey|1840052|                  []|\n",
      "|null|Literature & Fiction|Bang Crunch (Vint...|          Neil Smith|1963136|                  []|\n",
      "|null|Internet & Techno...|            Mashable|                    | 824089|                  []|\n",
      "|null|Education & Teaching|Developmentally D...|       Waln K. Brown|1783758|        [B0082Q498I]|\n",
      "|null|Biographies & Mem...|     Steal This Hero|   Jack Preston King|4205866|                  []|\n",
      "|null|             History|God in the White ...|      Randall Balmer| 730369|[B0166JZZ0S, B009...|\n",
      "|null|Religion & Spirit...|Understanding Rev...|Pastor Jerry L Ma...|2976046|                  []|\n",
      "+----+--------------------+--------------------+--------------------+-------+--------------------+\n",
      "only showing top 20 rows"
     ]
    }
   ],
   "source": [
    "from pyspark.sql.types import StructType,StructField,StringType\n",
    "fields =['asin','category','title','author','rank','recommendation']\n",
    "\n",
    "schema = StructType([\n",
    "StructField(field,StringType(),True) for field in fields\n",
    "])\n",
    "\n",
    "\n",
    "#rdd = sc.parallelize(js)\n",
    "jsDF = spark.createDataFrame(books,schema)\n",
    "\n",
    "jsDF.show()"
   ]
  },
  {
   "cell_type": "code",
   "execution_count": 25,
   "metadata": {},
   "outputs": [
    {
     "data": {
      "application/vnd.jupyter.widget-view+json": {
       "model_id": "23149eb39cc64121b7d9015ca00fa922",
       "version_major": 2,
       "version_minor": 0
      },
      "text/plain": [
       "VBox()"
      ]
     },
     "metadata": {},
     "output_type": "display_data"
    },
    {
     "data": {
      "application/vnd.jupyter.widget-view+json": {
       "model_id": "",
       "version_major": 2,
       "version_minor": 0
      },
      "text/plain": [
       "FloatProgress(value=0.0, bar_style='info', description='Progress:', layout=Layout(height='25px', width='50%'),…"
      ]
     },
     "metadata": {},
     "output_type": "display_data"
    },
    {
     "name": "stdout",
     "output_type": "stream",
     "text": [
      "+-------------------------------------------+------+\n",
      "|category                                   |count |\n",
      "+-------------------------------------------+------+\n",
      "|Lesbian, Gay, Bisexual & Transgender eBooks|26    |\n",
      "|Sports                                     |13    |\n",
      "|Parenting & Relationships                  |4919  |\n",
      "|Politics & Social Sciences                 |8702  |\n",
      "|Biographies & Memoirs                      |11696 |\n",
      "|Engineering & Transportation               |2073  |\n",
      "|Romance                                    |34267 |\n",
      "|Cookbooks, Food & Wine                     |10784 |\n",
      "|45 minutes (22-32 pages)                   |559   |\n",
      "|Nonfiction                                 |1829  |\n",
      "|30 minutes (12-21 pages)                   |432   |\n",
      "|Education & Teaching                       |8649  |\n",
      "|History                                    |13384 |\n",
      "|Kindle Keyboard                            |6     |\n",
      "|Self-Help                                  |4460  |\n",
      "|Industry Focus                             |11    |\n",
      "|Kindle (5th Generation)                    |413   |\n",
      "|                                           |1020  |\n",
      "|Health, Fitness & Dieting                  |18934 |\n",
      "|One hour (33-43 pages)                     |439   |\n",
      "|Science                                    |4     |\n",
      "|Medical eBooks                             |1948  |\n",
      "|Travel                                     |4002  |\n",
      "|Teen & Young Adult                         |8738  |\n",
      "|Sports & Outdoors                          |7328  |\n",
      "|Foreign Languages                          |5366  |\n",
      "|Science & Math                             |4664  |\n",
      "|Reference                                  |5231  |\n",
      "|Science Fiction & Fantasy                  |29204 |\n",
      "|News, Politics & Opinion                   |16    |\n",
      "|Regional & Travel                          |11    |\n",
      "|90 minutes (44-64 pages)                   |615   |\n",
      "|Business & Money                           |24861 |\n",
      "|Crafts, Hobbies & Home                     |6032  |\n",
      "|15 minutes (1-11 pages)                    |259   |\n",
      "|Literature & Fiction                       |148751|\n",
      "|Computers & Technology                     |4623  |\n",
      "|Law                                        |1016  |\n",
      "|Internet & Technology                      |23    |\n",
      "|Two hours or more (65-100 pages)           |827   |\n",
      "|Children's eBooks                          |27348 |\n",
      "|Mystery, Thriller & Suspense               |14868 |\n",
      "|Arts & Entertainment                       |202   |\n",
      "|Religion & Spirituality                    |48755 |\n",
      "|Arts & Photography                         |7590  |\n",
      "|Humor & Entertainment                      |7870  |\n",
      "|Lifestyle & Culture                        |92    |\n",
      "|Comics, Manga & Graphic Novels             |5936  |\n",
      "|Humor & Satire                             |52    |\n",
      "|Business & Investing                       |62    |\n",
      "+-------------------------------------------+------+\n",
      "\n",
      "50"
     ]
    }
   ],
   "source": [
    "categories = jsDF.groupBy('category').count()\n",
    "categories.show(150, False)\n",
    "categories.count()"
   ]
  },
  {
   "cell_type": "code",
   "execution_count": 26,
   "metadata": {},
   "outputs": [
    {
     "data": {
      "application/vnd.jupyter.widget-view+json": {
       "model_id": "13b23cc5a47341c0a3cab84bd4fbd1ab",
       "version_major": 2,
       "version_minor": 0
      },
      "text/plain": [
       "VBox()"
      ]
     },
     "metadata": {},
     "output_type": "display_data"
    },
    {
     "data": {
      "application/vnd.jupyter.widget-view+json": {
       "model_id": "",
       "version_major": 2,
       "version_minor": 0
      },
      "text/plain": [
       "FloatProgress(value=0.0, bar_style='info', description='Progress:', layout=Layout(height='25px', width='50%'),…"
      ]
     },
     "metadata": {},
     "output_type": "display_data"
    },
    {
     "name": "stdout",
     "output_type": "stream",
     "text": [
      "251498"
     ]
    }
   ],
   "source": [
    "authors = jsDF.select('author').distinct().count()\n",
    "print(authors)"
   ]
  },
  {
   "cell_type": "code",
   "execution_count": null,
   "metadata": {},
   "outputs": [],
   "source": []
  }
 ],
 "metadata": {
  "kernelspec": {
   "display_name": "PySpark",
   "language": "",
   "name": "pysparkkernel"
  },
  "language_info": {
   "codemirror_mode": {
    "name": "python",
    "version": 2
   },
   "mimetype": "text/x-python",
   "name": "pyspark",
   "pygments_lexer": "python2"
  }
 },
 "nbformat": 4,
 "nbformat_minor": 4
}
